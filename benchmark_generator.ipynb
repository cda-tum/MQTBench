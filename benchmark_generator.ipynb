{
 "cells": [
  {
   "cell_type": "code",
   "execution_count": 1,
   "id": "beaa99e7",
   "metadata": {},
   "outputs": [],
   "source": [
    "from qiskit import QuantumCircuit, QuantumRegister, ClassicalRegister, AncillaRegister, IBMQ, Aer, __qiskit_version__\n",
    "from qiskit.circuit.library import QFT, GraphState, GroverOperator\n",
    "from qiskit.qasm import pi\n",
    "from qiskit_nature.drivers import Molecule\n",
    "\n",
    "import numpy as np\n",
    "import matplotlib.pyplot as plt\n",
    "import os.path\n",
    "import time\n",
    "\n",
    "from src.utils import *\n",
    "from src.benchmarks import grover, qaoa, ghz, qft, qftentangled, shor, wstate, qpeinexact, qpeexact, graphstate, vqe, dj, hhl, ae, qwalk\n",
    "from src.benchmarks.qiskit_application_optimization import routing, tsp\n",
    "from src.benchmarks.qiskit_application_finance import portfolioqaoa, portfoliovqe, pricingcall, pricingput\n",
    "from src.benchmarks.qiskit_application_ml import qgan\n",
    "from src.benchmarks.qiskit_application_nature import groundstate, excitedstate"
   ]
  },
  {
   "cell_type": "code",
   "execution_count": 2,
   "id": "0c626676",
   "metadata": {},
   "outputs": [],
   "source": [
    "ibm_native_gates = FakeMontreal().configuration().basis_gates\n",
    "rigetti_native_gates = ['rx','rz','cz']"
   ]
  },
  {
   "cell_type": "code",
   "execution_count": 3,
   "id": "e5a7f0b4",
   "metadata": {},
   "outputs": [],
   "source": [
    "benchmarks = [graphstate, ghz, qft, wstate, qpeinexact, qpeexact, dj, qftentangled, ae]# graphstate, ghz, qft, wstate, qpeinexact, qpeexact, dj, qftentangled, ae, shor,  qaoa, vqe,grover, qwalk, hhl] \n",
    "benchmarks_application = [portfolioqaoa, portfoliovqe] #pricingcall,pricingput,qgan,\n",
    "benchmarks = []"
   ]
  },
  {
   "cell_type": "code",
   "execution_count": 4,
   "id": "682cf615",
   "metadata": {},
   "outputs": [],
   "source": [
    "n_min = 4\n",
    "n_max = 80\n",
    "stepsize = 2\n",
    "\n",
    "save_hist = False\n",
    "save_png = False\n",
    "\n",
    "ancillary_mode =\"v-chain\""
   ]
  },
  {
   "cell_type": "code",
   "execution_count": 5,
   "id": "e673c80d",
   "metadata": {},
   "outputs": [],
   "source": [
    "def create_shor_benchmarks():\n",
    "    small = [15,4] #18 qubits\n",
    "    medium = [821, 4] #42 qubits\n",
    "    large = [11777, 4] #58 qubits\n",
    "    xlarge = [201209, 4] # 74 qubits\n",
    "    benchmark_list = [small, medium, large]#, medium, large, xlarge]\n",
    "    for n, a in benchmark_list:        \n",
    "        try:\n",
    "            # Creating the circuit on Algorithmic Description Layer\n",
    "            qc = shor.create_circuit(n,a)\n",
    "            num_qubits = len(qc.qubits)\n",
    "\n",
    "            #filename_algo, depth = handle_algorithm_layer(qc, num_qubits, save_png, save_hist)\n",
    "            #characteristics.append([filename_algo, num_qubits, depth]) \n",
    "\n",
    "            # Creating the circuit on target-independent Description Layer        \n",
    "            filename_indep, depth = get_indep_layer(qc, num_qubits, save_png, save_hist, file_precheck=False)\n",
    "            characteristics.append([filename_indep, num_qubits, depth]) \n",
    "\n",
    "            for gate_set, gate_set_name in gate_sets:\n",
    "                try:          \n",
    "\n",
    "                    for opt_level in range(4):                    \n",
    "\n",
    "                        # Creating the circuit on target-dependent: native gates layer                \n",
    "                        filename_transpiled, depth, n_actual=get_transpiled_layer(qc, gate_set, gate_set_name, \n",
    "                                                                                  opt_level, num_qubits, save_png, save_hist, \n",
    "                                                                                  file_precheck=False)\n",
    "                        characteristics.append([filename_transpiled, n_actual, depth]) \n",
    "\n",
    "                        # Creating the circuit on target-dependent: mapped layer for both mapping schemes\n",
    "                        filename_mapped, depth = get_mapped_layer(qc, gate_set, gate_set_name, opt_level, n_actual,\n",
    "                             False, save_png, save_hist, file_precheck=False)\n",
    "                        characteristics.append([filename_mapped, n_actual, depth])\n",
    "\n",
    "                        filename_mapped, depth = get_mapped_layer(qc, gate_set, gate_set_name, opt_level, n_actual,\n",
    "                             True, save_png, save_hist, file_precheck=False)\n",
    "                        characteristics.append([filename_mapped, n_actual, depth])\n",
    "                except Exception as e:\n",
    "                    print(\"\\n Problem occured in inner loop: \", \"create_shor_benchmarks\", n, gate_set_name, e)\n",
    "        except Exception as e:\n",
    "            print(\"\\n Problem occured in outer loop: \", \"create_shor_benchmarks\", n, e)\n",
    "            continue"
   ]
  },
  {
   "cell_type": "code",
   "execution_count": 6,
   "id": "3df29386",
   "metadata": {},
   "outputs": [],
   "source": [
    "def create_hhl_benchmarks(max_index:int):\n",
    "    # n is not the number of qubits in this case\n",
    "    for n in range(1,max_index):  \n",
    "        try:\n",
    "            # Creating the circuit on Algorithmic Description Layer\n",
    "            qc = hhl.create_circuit(n)\n",
    "            num_qubits = len(qc.qubits)\n",
    "\n",
    "            #filename_algo, depth = handle_algorithm_layer(qc, num_qubits, save_png, save_hist)\n",
    "            #characteristics.append([filename_algo, num_qubits, depth]) \n",
    "\n",
    "            # Creating the circuit on target-independent Description Layer        \n",
    "            filename_indep, depth = get_indep_layer(qc, num_qubits, save_png, save_hist, file_precheck=False)\n",
    "            characteristics.append([filename_indep, num_qubits, depth]) \n",
    "\n",
    "            for gate_set, gate_set_name in gate_sets:\n",
    "                try:          \n",
    "\n",
    "                    for opt_level in range(4):                    \n",
    "\n",
    "                        # Creating the circuit on target-dependent: native gates layer                \n",
    "                        filename_transpiled, depth, n_actual=get_transpiled_layer(qc, gate_set, gate_set_name, \n",
    "                                                                                  opt_level, num_qubits, save_png, save_hist, \n",
    "                                                                                  file_precheck=False)\n",
    "                        characteristics.append([filename_transpiled, n_actual, depth]) \n",
    "\n",
    "                        # Creating the circuit on target-dependent: mapped layer\n",
    "                        # Creating the circuit on target-dependent: mapped layer for both mapping schemes\n",
    "                        filename_mapped, depth = get_mapped_layer(qc, gate_set, gate_set_name, opt_level, n_actual,\n",
    "                             False, save_png, save_hist, file_precheck=False)\n",
    "                        characteristics.append([filename_mapped, n_actual, depth])\n",
    "\n",
    "                        filename_mapped, depth = get_mapped_layer(qc, gate_set, gate_set_name, opt_level, n_actual,\n",
    "                             True, save_png, save_hist, file_precheck=False)\n",
    "                        characteristics.append([filename_mapped, n_actual, depth])\n",
    "                except Exception as e:\n",
    "                    print(\"\\n Problem occured in inner loop: \", \"create_hhl_benchmarks\", n, gate_set_name, e)\n",
    "        except Exception as e:\n",
    "            print(\"\\n Problem occured in outer loop: \", \"create_hhl_benchmarks\", n, e)\n",
    "            continue"
   ]
  },
  {
   "cell_type": "code",
   "execution_count": 7,
   "id": "f73305ea",
   "metadata": {},
   "outputs": [],
   "source": [
    "def create_routing_benchmarks(max_index:int):\n",
    "    # n is not the number of qubits in this case\n",
    "    for n in range(2,max_index): \n",
    "        try:\n",
    "            # Creating the circuit on Algorithmic Description Layer\n",
    "            qc = routing.create_circuit(n,2)\n",
    "            num_qubits = (len(qc.qubits))\n",
    "\n",
    "            #filename_algo, depth = handle_algorithm_layer(qc, num_qubits, save_png, save_hist)\n",
    "            #characteristics.append([filename_algo, num_qubits, depth]) \n",
    "\n",
    "            # Creating the circuit on target-independent Description Layer        \n",
    "            filename_indep, depth = get_indep_layer(qc, num_qubits, save_png, save_hist, file_precheck=False)\n",
    "            characteristics.append([filename_indep, num_qubits, depth]) \n",
    "\n",
    "            for gate_set, gate_set_name in gate_sets:\n",
    "                try:          \n",
    "\n",
    "                    for opt_level in range(4):                    \n",
    "\n",
    "                        # Creating the circuit on target-dependent: native gates layer                \n",
    "                        filename_transpiled, depth, n_actual=get_transpiled_layer(qc, gate_set, gate_set_name, \n",
    "                                                                                  opt_level, num_qubits, save_png, save_hist, \n",
    "                                                                                  file_precheck=False)\n",
    "                        characteristics.append([filename_transpiled, n_actual, depth]) \n",
    "\n",
    "                        # Creating the circuit on target-dependent: mapped layer for both mapping schemes\n",
    "                        filename_mapped, depth = get_mapped_layer(qc, gate_set, gate_set_name, opt_level, n_actual,\n",
    "                             False, save_png, save_hist, file_precheck=False)\n",
    "                        characteristics.append([filename_mapped, n_actual, depth])\n",
    "\n",
    "                        filename_mapped, depth = get_mapped_layer(qc, gate_set, gate_set_name, opt_level, n_actual,\n",
    "                             True, save_png, save_hist, file_precheck=False)\n",
    "                        characteristics.append([filename_mapped, n_actual, depth])\n",
    "                except Exception as e:\n",
    "                    print(\"\\n Problem occured in inner loop: \", \"create_routing_benchmarks\", n, gate_set_name, e)\n",
    "        except Exception as e:\n",
    "            print(\"\\n Problem occured in outer loop: \", \"create_routing_benchmarks\", n, e)\n",
    "            continue"
   ]
  },
  {
   "cell_type": "code",
   "execution_count": 8,
   "id": "37ae6fb7",
   "metadata": {},
   "outputs": [],
   "source": [
    "def create_tsp_benchmarks(max_index:int):\n",
    "    # n is not the number of qubits in this case\n",
    "    for n in range(3,max_index):    \n",
    "        try:\n",
    "            # Creating the circuit on Algorithmic Description Layer\n",
    "            qc = tsp.create_circuit(n)\n",
    "            num_qubits = (len(qc.qubits))\n",
    "\n",
    "            #filename_algo, depth = handle_algorithm_layer(qc, num_qubits, save_png, save_hist)\n",
    "            #characteristics.append([filename_algo, num_qubits, depth]) \n",
    "\n",
    "            # Creating the circuit on target-independent Description Layer        \n",
    "            filename_indep, depth = get_indep_layer(qc, num_qubits, save_png, save_hist, file_precheck=False)\n",
    "            characteristics.append([filename_indep, num_qubits, depth]) \n",
    "\n",
    "            for gate_set, gate_set_name in gate_sets:\n",
    "                try:          \n",
    "\n",
    "                    for opt_level in range(4):                    \n",
    "\n",
    "                        # Creating the circuit on target-dependent: native gates layer                \n",
    "                        filename_transpiled, depth, n_actual=get_transpiled_layer(qc, gate_set, gate_set_name, \n",
    "                                                                                  opt_level, num_qubits, save_png, save_hist, \n",
    "                                                                                  file_precheck=False)\n",
    "                        characteristics.append([filename_transpiled, n_actual, depth]) \n",
    "\n",
    "                        # Creating the circuit on target-dependent: mapped layer for both mapping schemes\n",
    "                        filename_mapped, depth = get_mapped_layer(qc, gate_set, gate_set_name, opt_level, n_actual,\n",
    "                             False, save_png, save_hist, file_precheck=False)\n",
    "                        characteristics.append([filename_mapped, n_actual, depth])\n",
    "\n",
    "                        filename_mapped, depth = get_mapped_layer(qc, gate_set, gate_set_name, opt_level, n_actual,\n",
    "                             True, save_png, save_hist, file_precheck=False)\n",
    "                        characteristics.append([filename_mapped, n_actual, depth])\n",
    "                except Exception as e:\n",
    "                    print(\"\\n Problem occured in inner loop: \", \"create_tsp_benchmarks\", n, gate_set_name, e)\n",
    "        except Exception as e:\n",
    "            print(\"\\n Problem occured in outer loop: \", \"create_tsp_benchmarks\", n, e)\n",
    "            continue"
   ]
  },
  {
   "cell_type": "code",
   "execution_count": 9,
   "id": "0db019c7",
   "metadata": {},
   "outputs": [],
   "source": [
    "def create_groundstate_benchmarks():\n",
    "    \n",
    "    m_1 = Molecule(geometry=[[\"Li\", [0.0, 0.0, 0.0]], [\"H\", [0.0, 0.0, 2.5]]], charge=0, multiplicity=1)\n",
    "    m_2 = Molecule(geometry=[[\"H\", [0.0, 0.0, 0.0]], [\"H\", [0.0, 0.0, 0.735]]], charge=0, multiplicity=1)\n",
    "    #m_3 = Molecule(geometry=[[\"O\", [0.0, 0.0, 0.0]], [\"H\", [0.586, 0.757, .0]], [\"H\", [0.586, -0.757, .0]]], charge=0, multiplicity=1)\n",
    "    \n",
    "    molecules = [m_1, m_2]\n",
    "    \n",
    "    for count, molecule in enumerate(molecules):\n",
    "        try:\n",
    "\n",
    "            qc = groundstate.create_circuit(molecule)\n",
    "            qc.name = qc.name + \"-\" + str(count)\n",
    "            num_qubits = (len(qc.qubits))\n",
    "\n",
    "            #filename_algo, depth = handle_algorithm_layer(qc, num_qubits, save_png, save_hist)\n",
    "            #characteristics.append([filename_algo, num_qubits, depth]) \n",
    "\n",
    "            # Creating the circuit on target-independent Description Layer        \n",
    "            filename_indep, depth = get_indep_layer(qc, num_qubits, save_png, save_hist, file_precheck=False)\n",
    "            characteristics.append([filename_indep, num_qubits, depth]) \n",
    "\n",
    "            for gate_set, gate_set_name in gate_sets:\n",
    "                try:          \n",
    "\n",
    "                    for opt_level in range(4):\n",
    "                        # Creating the circuit on target-dependent: native gates layer                \n",
    "                        filename_transpiled, depth, n_actual=get_transpiled_layer(qc, gate_set, gate_set_name, \n",
    "                                                                                  opt_level, num_qubits, save_png, save_hist, \n",
    "                                                                                  file_precheck=False)\n",
    "                        characteristics.append([filename_transpiled, n_actual, depth]) \n",
    "\n",
    "                        # Creating the circuit on target-dependent: mapped layer for both mapping schemes\n",
    "                        filename_mapped, depth = get_mapped_layer(qc, gate_set, gate_set_name, opt_level, n_actual,\n",
    "                             False, save_png, save_hist, file_precheck=False)\n",
    "                        characteristics.append([filename_mapped, n_actual, depth])\n",
    "\n",
    "                        filename_mapped, depth = get_mapped_layer(qc, gate_set, gate_set_name, opt_level, n_actual,\n",
    "                             True, save_png, save_hist, file_precheck=False)\n",
    "                        characteristics.append([filename_mapped, n_actual, depth])\n",
    "                except Exception as e:\n",
    "                    print(\"\\n Problem occured in inner loop: \", \"create_groundstate_benchmarks\", molecule, gate_set_name, e)\n",
    "        except Exception as e:\n",
    "            print(\"\\n Problem occured in outer loop: \", \"create_groundstate_benchmarks\", molecule, e)\n",
    "            continue"
   ]
  },
  {
   "cell_type": "code",
   "execution_count": 10,
   "id": "c6b7fab8",
   "metadata": {},
   "outputs": [],
   "source": [
    "def create_excitedstate_benchmarks():\n",
    "    \n",
    "    \n",
    "    m_1 = Molecule(geometry=[[\"Li\", [0.0, 0.0, 0.0]], [\"H\", [0.0, 0.0, 2.5]]], charge=0, multiplicity=1)\n",
    "    m_2 = Molecule(geometry=[[\"H\", [0.0, 0.0, 0.0]], [\"H\", [0.0, 0.0, 0.735]]], charge=0, multiplicity=1)\n",
    "    #m_3 = Molecule(geometry=[[\"O\", [0.0, 0.0, 0.0]], [\"H\", [0.586, 0.757, .0]], [\"H\", [0.586, -0.757, .0]]], charge=0, multiplicity=1)\n",
    "    \n",
    "    molecules = [m_1, m_2]\n",
    "    \n",
    "    for count, molecule in enumerate(molecules):\n",
    "        try:\n",
    "            qc = excitedstate.create_circuit(molecule)\n",
    "            qc.name = qc.name + \"-\" + str(count)\n",
    "            num_qubits = (len(qc.qubits))\n",
    "\n",
    "            #filename_algo, depth = handle_algorithm_layer(qc, num_qubits, save_png, save_hist)\n",
    "            #characteristics.append([filename_algo, num_qubits, depth]) \n",
    "\n",
    "            # Creating the circuit on target-independent Description Layer        \n",
    "            filename_indep, depth = get_indep_layer(qc, num_qubits, save_png, save_hist, file_precheck=False)\n",
    "            characteristics.append([filename_indep, num_qubits, depth]) \n",
    "\n",
    "            for gate_set, gate_set_name in gate_sets:\n",
    "                try:          \n",
    "\n",
    "                    for opt_level in range(4):                    \n",
    "\n",
    "                        # Creating the circuit on target-dependent: native gates layer                \n",
    "                        filename_transpiled, depth, n_actual=get_transpiled_layer(qc, gate_set, gate_set_name, \n",
    "                                                                                  opt_level, num_qubits, save_png, save_hist, \n",
    "                                                                                  file_precheck=False)\n",
    "                        characteristics.append([filename_transpiled, n_actual, depth]) \n",
    "\n",
    "                        # Creating the circuit on target-dependent: mapped layer for both mapping schemes\n",
    "                        filename_mapped, depth = get_mapped_layer(qc, gate_set, gate_set_name, opt_level, n_actual,\n",
    "                             False, save_png, save_hist, file_precheck=False)\n",
    "                        characteristics.append([filename_mapped, n_actual, depth])\n",
    "\n",
    "                        filename_mapped, depth = get_mapped_layer(qc, gate_set, gate_set_name, opt_level, n_actual,\n",
    "                             True, save_png, save_hist, file_precheck=False)\n",
    "                        characteristics.append([filename_mapped, n_actual, depth])\n",
    "                except Exception as e:\n",
    "                    print(\"\\n Problem occured in inner loop: \", \"create_excitedstate_benchmarks\", molecule, gate_set_name, e)\n",
    "        except Exception as e:\n",
    "            print(\"\\n Problem occured in outer loop: \", \"create_excitedstate_benchmarks\", molecule, e)\n",
    "            continue"
   ]
  },
  {
   "cell_type": "code",
   "execution_count": 11,
   "id": "420ab88e",
   "metadata": {},
   "outputs": [],
   "source": [
    "def create_pricingcall_benchmarks(max_index:int):\n",
    "    # n is not the number of qubits in this case\n",
    "    for n in range(3,max_index):   \n",
    "        try:\n",
    "            # Creating the circuit on Algorithmic Description Layer\n",
    "            qc = pricingcall.create_circuit(n)\n",
    "            num_qubits = str(len(qc.qubits))\n",
    "\n",
    "            #filename_algo, depth = handle_algorithm_layer(qc, num_qubits, save_png, save_hist)\n",
    "            #characteristics.append([filename_algo, num_qubits, depth]) \n",
    "\n",
    "            # Creating the circuit on target-independent Description Layer        \n",
    "            filename_indep, depth = get_indep_layer(qc, num_qubits, save_png, save_hist, file_precheck=False)\n",
    "            characteristics.append([filename_indep, num_qubits, depth]) \n",
    "\n",
    "            for gate_set, gate_set_name in gate_sets:\n",
    "                try:          \n",
    "\n",
    "                    for opt_level in range(4):                    \n",
    "\n",
    "                        # Creating the circuit on target-dependent: native gates layer                \n",
    "                        filename_transpiled, depth, n_actual=get_transpiled_layer(qc, gate_set, gate_set_name, \n",
    "                                                                                  opt_level, num_qubits, save_png, save_hist, \n",
    "                                                                                  file_precheck=False)\n",
    "                        characteristics.append([filename_transpiled, n_actual, depth]) \n",
    "\n",
    "                        # Creating the circuit on target-dependent: mapped layer for both mapping schemes\n",
    "                        filename_mapped, depth = get_mapped_layer(qc, gate_set, gate_set_name, opt_level, n_actual,\n",
    "                             False, save_png, save_hist, file_precheck=False)\n",
    "                        characteristics.append([filename_mapped, n_actual, depth])\n",
    "\n",
    "                        filename_mapped, depth = get_mapped_layer(qc, gate_set, gate_set_name, opt_level, n_actual,\n",
    "                             True, save_png, save_hist, file_precheck=False)\n",
    "                        characteristics.append([filename_mapped, n_actual, depth])\n",
    "                except Exception as e:\n",
    "                    print(\"\\n Problem occured in inner loop: \", \"create_pricingcall_benchmarks\", n, gate_set_name, e)\n",
    "        except Exception as e:\n",
    "            print(\"\\n Problem occured in outer loop: \", \"create_pricingcall_benchmarks\", n, e)\n",
    "            continue"
   ]
  },
  {
   "cell_type": "code",
   "execution_count": 12,
   "id": "4df0b012",
   "metadata": {},
   "outputs": [],
   "source": [
    "def create_pricingput_benchmarks(max_index:int):\n",
    "    # n is not the number of qubits in this case\n",
    "    for n in range(3,max_index): \n",
    "        try:\n",
    "            # Creating the circuit on Algorithmic Description Layer\n",
    "            qc = pricingput.create_circuit(n)\n",
    "            num_qubits = str(len(qc.qubits))\n",
    "\n",
    "            #filename_algo, depth = handle_algorithm_layer(qc, num_qubits, save_png, save_hist)\n",
    "            #characteristics.append([filename_algo, num_qubits, depth]) \n",
    "\n",
    "            # Creating the circuit on target-independent Description Layer        \n",
    "            filename_indep, depth = get_indep_layer(qc, num_qubits, save_png, save_hist, file_precheck=False)\n",
    "            characteristics.append([filename_indep, num_qubits, depth]) \n",
    "\n",
    "            for gate_set, gate_set_name in gate_sets:        \n",
    "                try:             \n",
    "                    for opt_level in range(4):    \n",
    "\n",
    "\n",
    "                        # Creating the circuit on target-dependent: native gates layer                \n",
    "                        filename_transpiled, depth, n_actual=get_transpiled_layer(qc, gate_set, gate_set_name, \n",
    "                                                                                  opt_level, num_qubits, save_png, save_hist, \n",
    "                                                                                  file_precheck=False)\n",
    "                        characteristics.append([filename_transpiled, n_actual, depth]) \n",
    "\n",
    "                        # Creating the circuit on target-dependent: mapped layer for both mapping schemes\n",
    "                        filename_mapped, depth = get_mapped_layer(qc, gate_set, gate_set_name, opt_level, n_actual,\n",
    "                             False, save_png, save_hist, file_precheck=False)\n",
    "                        characteristics.append([filename_mapped, n_actual, depth])\n",
    "\n",
    "                        filename_mapped, depth = get_mapped_layer(qc, gate_set, gate_set_name, opt_level, n_actual,\n",
    "                             True, save_png, save_hist, file_precheck=False)\n",
    "                        characteristics.append([filename_mapped, n_actual, depth])\n",
    "                except Exception as e:\n",
    "                    print(\"\\n Problem occured in inner loop: \", \"create_pricingput_benchmarks\", n, gate_set_name, e)\n",
    "        except Exception as e:\n",
    "            print(\"\\n Problem occured in outer loop: \", \"create_pricingput_benchmarks\", n, e)\n",
    "            continue"
   ]
  },
  {
   "cell_type": "code",
   "execution_count": null,
   "id": "39cec9c1",
   "metadata": {},
   "outputs": [
    {
     "name": "stdout",
     "output_type": "stream",
     "text": [
      "<module 'src.benchmarks.qiskit_application_finance.portfolioqaoa' from '/Users/nils/Documents/repos/MQTbench/src/benchmarks/qiskit_application_finance/portfolioqaoa.py'>\n",
      "portfolioqaoa14 took too long\n",
      " time_diff:  1360.7056682109833\n",
      "<module 'src.benchmarks.qiskit_application_finance.portfoliovqe' from '/Users/nils/Documents/repos/MQTbench/src/benchmarks/qiskit_application_finance/portfoliovqe.py'>\n"
     ]
    }
   ],
   "source": [
    "characteristics = []\n",
    "gate_sets = [(ibm_native_gates, \"ibm\"), (rigetti_native_gates, \"rigetti\")]\n",
    "\n",
    "for benchmark in benchmarks+benchmarks_application:\n",
    "    file_precheck = True\n",
    "    print(benchmark)    \n",
    "    \n",
    "    # First treat all \"special\" benchmarks with n != num qubits or different constructor parameters    \n",
    "    if benchmark == shor: \n",
    "        #create_shor_benchmarks()\n",
    "        continue\n",
    "    elif benchmark == hhl:  # 5 is max number which fits my RAM\n",
    "        create_hhl_benchmarks(4)\n",
    "        continue\n",
    "    elif benchmark == pricingcall: \n",
    "        create_pricingcall_benchmarks(12) # max val is not tested yet, but indep layer generation fails\n",
    "        continue\n",
    "    elif benchmark == pricingput:\n",
    "        create_pricingput_benchmarks(12) # max val is not tested yet, but indep layer generation fails\n",
    "        continue\n",
    "    elif benchmark == groundstate: \n",
    "        create_groundstate_benchmarks()\n",
    "        continue\n",
    "    elif benchmark == excitedstate: \n",
    "        create_excitedstate_benchmarks()\n",
    "        continue\n",
    "    elif benchmark == tsp: \n",
    "        create_tsp_benchmarks(4) # 5 is max number which fits my RAM\n",
    "        continue\n",
    "    elif benchmark == routing: \n",
    "        create_routing_benchmarks(4) # for a higher parameters than 5 it takes forever on my laptop\n",
    "        continue\n",
    "    \n",
    "    for n in range(n_min, n_max, stepsize):  \n",
    "        try:\n",
    "            start = time.time()\n",
    "            # Creating the circuit on Algorithmic Description Layer\n",
    "            if (benchmark == grover or benchmark == qwalk):                \n",
    "                qc = benchmark.create_circuit(n, ancillary_mode=ancillary_mode)\n",
    "                qc.name = qc.name + \"-\" + ancillary_mode\n",
    "                file_precheck = False\n",
    "                n = qc.num_qubits\n",
    "\n",
    "            else:\n",
    "                qc = benchmark.create_circuit(n)\n",
    "\n",
    "            \n",
    "\n",
    "            #filename_algo, depth = handle_algorithm_layer(qc, n, save_png, save_hist)\n",
    "            #characteristics.append([filename_algo, n, depth]) \n",
    "\n",
    "            end = time.time()\n",
    "            time_diff = end-start\n",
    "            if (time_diff > 60):\n",
    "                print(qc.name + str(n) + \" took too long\")\n",
    "                print(\" time_diff: \", time_diff)\n",
    "                break\n",
    "\n",
    "            # Creating the circuit on target-independent Description Layer   \n",
    "            start = time.time()\n",
    "\n",
    "            filename_indep, depth = get_indep_layer(qc, n, save_png, save_hist, file_precheck)\n",
    "            characteristics.append([filename_indep, n, depth]) \n",
    "\n",
    "            end = time.time()\n",
    "            time_diff = end-start\n",
    "            if (time_diff > 60 or depth>1000000):\n",
    "                print(filename_indep + \" took too long or depth to large\")\n",
    "                print(\"depth: \", depth, \" time_diff: \", time_diff)\n",
    "                break\n",
    "\n",
    "            for gate_set, gate_set_name in gate_sets:\n",
    "                try:      \n",
    "\n",
    "                    for opt_level in range(4):                    \n",
    "\n",
    "                        # Creating the circuit on target-dependent: native gates layer      \n",
    "\n",
    "                        start = time.time()\n",
    "\n",
    "                        filename_transpiled, depth, n_actual=get_transpiled_layer(qc, gate_set, gate_set_name, \n",
    "                                                                                  opt_level, n, save_png, save_hist, \n",
    "                                                                                  file_precheck=file_precheck)\n",
    "                        characteristics.append([filename_transpiled, n_actual, depth]) \n",
    "\n",
    "                        end = time.time()\n",
    "                        time_diff = end-start\n",
    "                        if (time_diff > 60 or depth>1000000):\n",
    "                            print(filename_transpiled + \" took too long or depth to large\")\n",
    "                            print(\"depth: \", depth, \" time_diff: \", time_diff)\n",
    "                            break\n",
    "\n",
    "                        start = time.time()\n",
    "                        # Creating the circuit on target-dependent: mapped layer for both mapping schemes\n",
    "                        filename_mapped, depth = get_mapped_layer(qc, gate_set, gate_set_name, opt_level, n_actual,\n",
    "                             False, save_png, save_hist, file_precheck=file_precheck)\n",
    "                        characteristics.append([filename_mapped, n_actual, depth])\n",
    "\n",
    "                        end = time.time()\n",
    "                        time_diff = end-start\n",
    "                        if (time_diff > 60 or depth>1000000):\n",
    "                            print(filename_mapped + \" took too long or depth to large\")\n",
    "                            print(\"depth: \", depth, \" time_diff: \", time_diff)\n",
    "                            break\n",
    "                        \n",
    "                        start = time.time()\n",
    "                        \n",
    "                        filename_mapped, depth = get_mapped_layer(qc, gate_set, gate_set_name, opt_level, n_actual,\n",
    "                             True, save_png, save_hist, file_precheck=file_precheck)\n",
    "                        characteristics.append([filename_mapped, n_actual, depth])\n",
    "                        \n",
    "                        end = time.time()\n",
    "                        time_diff = end-start\n",
    "                        if (time_diff > 60 or depth>1000000):\n",
    "                            print(filename_mapped + \" took too long or depth to large\")\n",
    "                            print(\"depth: \", depth, \" time_diff: \", time_diff)\n",
    "                            break\n",
    "\n",
    "                except Exception as e:\n",
    "                    print(\"\\n Problem occured in inner loop: \", benchmark, n, gate_set_name, e)\n",
    "        except Exception as e:\n",
    "            print(\"\\n Problem occured in outer loop: \", benchmark, n, e)\n",
    "            continue\n",
    "\n",
    "            "
   ]
  },
  {
   "cell_type": "code",
   "execution_count": null,
   "id": "7d428e10",
   "metadata": {
    "scrolled": true
   },
   "outputs": [],
   "source": [
    "characteristics = np.array(characteristics)\n",
    "plt.scatter(x=characteristics[:,1].astype(int), y=characteristics[:,2].astype(int))\n",
    "plt.yscale('log')\n",
    "plt.title('Depth and Width of generated Benchmarks')\n",
    "plt.xlabel('# of Qubits')\n",
    "plt.ylabel('Circuit Depth');\n",
    "plt.savefig(\"test\")"
   ]
  },
  {
   "cell_type": "code",
   "execution_count": null,
   "id": "42406353",
   "metadata": {},
   "outputs": [],
   "source": [
    "len(characteristics)"
   ]
  },
  {
   "cell_type": "code",
   "execution_count": null,
   "id": "141cf84a",
   "metadata": {},
   "outputs": [],
   "source": [
    "width_depth_0=[]\n",
    "width_depth_1=[]\n",
    "width_depth_2=[]\n",
    "width_depth_3=[]\n",
    "\n",
    "for f in characteristics:\n",
    "    if \"algorithm\" in f[0]:\n",
    "        width_depth_0.append([f[1], f[2]])       \n",
    "\n",
    "    elif \"t-indep\" in f[0]:\n",
    "        width_depth_1.append([f[1], f[2]])  \n",
    "\n",
    "    elif \"transpiled\" in f[0]:\n",
    "        width_depth_2.append([f[1], f[2]])  \n",
    "        \n",
    "    elif \"mapped\" in f[0]:\n",
    "        width_depth_3.append([f[1], f[2]])   \n"
   ]
  },
  {
   "cell_type": "code",
   "execution_count": null,
   "id": "8dbb8581",
   "metadata": {},
   "outputs": [],
   "source": [
    "import random\n",
    "import numpy\n",
    "from matplotlib import pyplot\n",
    "\n",
    "\n",
    "\n",
    "width_depth_0 = np.array(width_depth_0)\n",
    "width_depth_1 = np.array(width_depth_1)\n",
    "width_depth_2 = np.array(width_depth_2)\n",
    "width_depth_3 = np.array(width_depth_3)\n",
    "\n",
    "plt.scatter(x=width_depth_0[:,0].astype(int), y=width_depth_0[:,1].astype(int), label=\"0\")\n",
    "plt.yscale('log')\n",
    "plt.title('Algorithm Layer')\n",
    "plt.xlabel('# of Qubits')\n",
    "plt.ylabel('Circuit Depth')\n",
    "plt.xlim([0, 200])\n",
    "plt.ylim([0, 10200])\n",
    "plt.savefig(\"layer_0.pdf\")\n",
    "pyplot.show();\n",
    "plt.scatter(x=width_depth_1[:,0].astype(int), y=width_depth_1[:,1].astype(int), label=\"1\")\n",
    "plt.yscale('log')\n",
    "plt.title('Target-independent Layer')\n",
    "plt.xlabel('# of Qubits')\n",
    "plt.ylabel('Circuit Depth')\n",
    "plt.xlim([0, 200])\n",
    "plt.ylim([0, 10200])\n",
    "plt.savefig(\"layer_1.pdf\")\n",
    "pyplot.show();\n",
    "plt.scatter(x=width_depth_2[:,0].astype(int), y=width_depth_2[:,1].astype(int), label=\"2\")\n",
    "plt.yscale('log')\n",
    "plt.title('Target-dependent Layer with native gates')\n",
    "plt.xlabel('# of Qubits')\n",
    "plt.ylabel('Circuit Depth')\n",
    "plt.xlim([0, 200])\n",
    "plt.ylim([0, 10200])\n",
    "plt.savefig(\"layer_2.pdf\")\n",
    "pyplot.show();\n",
    "plt.scatter(x=width_depth_3[:,0].astype(int), y=width_depth_3[:,1].astype(int), label=\"3\")\n",
    "plt.yscale('log')\n",
    "plt.title('Target-independent Layer with native gates and mapping')\n",
    "plt.xlabel('# of Qubits')\n",
    "plt.ylabel('Circuit Depth')\n",
    "plt.xlim([0, 200])\n",
    "plt.ylim([0, 10200])\n",
    "plt.savefig(\"layer_3.pdf\")\n",
    "pyplot.show();\n"
   ]
  },
  {
   "cell_type": "markdown",
   "id": "a250eb12",
   "metadata": {},
   "source": [
    "Qiskit Finance Test"
   ]
  },
  {
   "cell_type": "code",
   "execution_count": null,
   "id": "08af7622",
   "metadata": {
    "scrolled": true
   },
   "outputs": [],
   "source": [
    "\n",
    "from src.benchmarks.qiskit_application_finance import portfolio_optimization_qaoa, portfolio_optimization_vqe, pricing_eur_call_opt, pricing_eur_put_opt\n",
    "num_qubits_test = 5\n",
    "a = pricing_eur_put_opt.create_circuit(num_qubits_test)\n",
    "b = get_compiled_circuit(a, opt_level=2, basis_gates=basis_gates)\n",
    "save_as_qasm(b, num_qubits_test, basis_gates)\n",
    "c = get_compiled_circuit(b, opt_level=2, basis_gates=basis_gates, c_map=c_map)\n",
    "save_as_qasm(c, num_qubits_test, basis_gates, True, c_map, backend.name() if backend.name() else \"\")"
   ]
  },
  {
   "cell_type": "markdown",
   "id": "8cc96b30",
   "metadata": {},
   "source": [
    "Qiskit Optimization Test"
   ]
  },
  {
   "cell_type": "code",
   "execution_count": null,
   "id": "1dd73b28",
   "metadata": {},
   "outputs": [],
   "source": [
    "\n",
    "from src.benchmarks.qiskit_application_optimization import vehicle_routing\n",
    "num_qubits_test = 5\n",
    "a = vehicle_routing.create_circuit(3,3)\n",
    "#b = get_compiled_circuit(a, opt_level=2)\n",
    "#save_as_qasm(b, num_qubits_test)\n",
    "#c = get_compiled_circuit(b, opt_level=2, c_map=c_map)\n",
    "#save_as_qasm(c, num_qubits_test, True)"
   ]
  },
  {
   "cell_type": "markdown",
   "id": "f865ea59",
   "metadata": {},
   "source": [
    "Qiskit Machine Learning Test"
   ]
  },
  {
   "cell_type": "code",
   "execution_count": null,
   "id": "54900741",
   "metadata": {},
   "outputs": [],
   "source": [
    "import numpy as np\n",
    "seed = 71\n",
    "np.random.seed = seed\n",
    "\n",
    "import matplotlib.pyplot as plt\n",
    "%matplotlib inline\n",
    "\n",
    "from qiskit import QuantumRegister, QuantumCircuit, BasicAer\n",
    "from qiskit.circuit.library import TwoLocal, UniformDistribution\n",
    "\n",
    "from qiskit.utils import QuantumInstance, algorithm_globals\n",
    "from qiskit_machine_learning.algorithms import NumPyDiscriminator, QGAN\n",
    "\n",
    "algorithm_globals.random_seed = seed\n",
    "\n",
    "# Number training data samples\n",
    "N = 1000\n",
    "\n",
    "# Load data samples from log-normal distribution with mean=1 and standard deviation=1\n",
    "mu = 1\n",
    "sigma = 1\n",
    "real_data = np.random.lognormal(mean=mu, sigma=sigma, size=N)\n",
    "\n",
    "# Set the data resolution\n",
    "# Set upper and lower data values as list of k min/max data values [[min_0,max_0],...,[min_k-1,max_k-1]]\n",
    "bounds = np.array([0., 3.])\n",
    "# Set number of qubits per data dimension as list of k qubit values[#q_0,...,#q_k-1]\n",
    "num_qubits = [3]\n",
    "k = len(num_qubits)"
   ]
  },
  {
   "cell_type": "code",
   "execution_count": null,
   "id": "3b48c545",
   "metadata": {},
   "outputs": [],
   "source": [
    "# Set number of training epochs\n",
    "# Note: The algorithm's runtime can be shortened by reducing the number of training epochs.\n",
    "num_epochs = 10\n",
    "# Batch size\n",
    "batch_size = 100\n",
    "\n",
    "# Initialize qGAN\n",
    "qgan = QGAN(real_data, bounds, num_qubits, batch_size, num_epochs, snapshot_dir=None)\n",
    "qgan.seed = 1\n",
    "# Set quantum instance to run the quantum generator\n",
    "quantum_instance = QuantumInstance(\n",
    "    backend=BasicAer.get_backend(\"statevector_simulator\"), seed_transpiler=seed, seed_simulator=seed\n",
    ")\n",
    "\n",
    "# Set entangler map\n",
    "#entangler_map = [[0, 1]]\n",
    "\n",
    "\n",
    "# Set an initial state for the generator circuit\n",
    "init_dist = UniformDistribution(sum(num_qubits))\n",
    "\n",
    "# Set the ansatz circuit\n",
    "ansatz = TwoLocal(int(np.sum(num_qubits)), \"ry\", \"cz\",  reps=1) #entanglement=entangler_map,\n",
    "\n",
    "# Set generator's initial parameters - in order to reduce the training time and hence the\n",
    "# total running time for this notebook\n",
    "#init_params = [3.0, 1.0, 0.6, 1.6]\n",
    "\n",
    "# You can increase the number of training epochs and use random initial parameters.\n",
    "init_params = np.random.rand(ansatz.num_parameters_settable) * 2 * np.pi\n",
    "\n",
    "# Set generator circuit by adding the initial distribution infront of the ansatz\n",
    "g_circuit = ansatz.compose(init_dist, front=True)\n",
    "\n",
    "# Set quantum generator\n",
    "qgan.set_generator(generator_circuit=g_circuit, generator_init_params=init_params)\n",
    "# The parameters have an order issue that following is a temp. workaround\n",
    "qgan._generator._free_parameters = sorted(g_circuit.parameters, key=lambda p: p.name)\n",
    "# Set classical discriminator neural network\n",
    "discriminator = NumPyDiscriminator(len(num_qubits))\n",
    "qgan.set_discriminator(discriminator)"
   ]
  },
  {
   "cell_type": "code",
   "execution_count": null,
   "id": "725e64a3",
   "metadata": {},
   "outputs": [],
   "source": [
    "# Run qGAN\n",
    "result = qgan.run(quantum_instance)"
   ]
  },
  {
   "cell_type": "code",
   "execution_count": null,
   "id": "a8e53a40",
   "metadata": {},
   "outputs": [],
   "source": [
    "params = qgan.generator.parameter_values"
   ]
  },
  {
   "cell_type": "code",
   "execution_count": null,
   "id": "e48d1af2",
   "metadata": {},
   "outputs": [],
   "source": [
    "params = qgan.generator.parameter_values\n",
    "qc = qgan.generator.construct_circuit(params=params)\n",
    "qc.draw()"
   ]
  },
  {
   "cell_type": "code",
   "execution_count": null,
   "id": "e965cd42",
   "metadata": {
    "scrolled": true
   },
   "outputs": [],
   "source": [
    "qgan.generator.generator_circuit.draw()"
   ]
  },
  {
   "cell_type": "code",
   "execution_count": null,
   "id": "cbca6d03",
   "metadata": {},
   "outputs": [],
   "source": [
    "#Plot the CDF of the resulting distribution against the target distribution, i.e. log-normal\n",
    "log_normal = np.random.lognormal(mean=1, sigma=1, size=100000)\n",
    "log_normal = np.round(log_normal)\n",
    "log_normal = log_normal[log_normal <= bounds[1]]\n",
    "temp = []\n",
    "for i in range(int(bounds[1] + 1)):\n",
    "    temp += [np.sum(log_normal==i)]\n",
    "log_normal = np.array(temp / sum(temp))\n",
    "\n",
    "plt.figure(figsize=(6,5))\n",
    "plt.title('CDF (Cumulative Distribution Function)')\n",
    "samples_g, prob_g = qgan.generator.get_output(qgan.quantum_instance, shots=10000)\n",
    "samples_g = np.array(samples_g)\n",
    "samples_g = samples_g.flatten()\n",
    "num_bins = len(prob_g)\n",
    "plt.bar(samples_g,  np.cumsum(prob_g), color='royalblue', width= 0.8, label='simulation')\n",
    "plt.plot( np.cumsum(log_normal),'-o', label='log-normal', color='deepskyblue', linewidth=4, markersize=12)\n",
    "plt.xticks(np.arange(min(samples_g), max(samples_g)+1, 1.0))\n",
    "plt.grid()\n",
    "plt.xlabel('x')\n",
    "plt.ylabel('p(x)')\n",
    "plt.legend(loc='best')\n",
    "plt.show()"
   ]
  },
  {
   "cell_type": "markdown",
   "id": "4e60df76",
   "metadata": {},
   "source": [
    "Qiskit Application Optimization: TSP and vehicle routing Test"
   ]
  },
  {
   "cell_type": "code",
   "execution_count": null,
   "id": "0afd8158",
   "metadata": {},
   "outputs": [],
   "source": [
    "from src.benchmarks.qiskit_application_optimization import travelling_salesman, vehicle_routing"
   ]
  },
  {
   "cell_type": "code",
   "execution_count": null,
   "id": "3fc4cfc9",
   "metadata": {},
   "outputs": [],
   "source": [
    "qc = vehicle_routing.create_circuit(4,1)"
   ]
  },
  {
   "cell_type": "code",
   "execution_count": null,
   "id": "54aeb731",
   "metadata": {},
   "outputs": [],
   "source": [
    "qc1, qp1 = vehicle_routing.create_circuit(4,2)"
   ]
  },
  {
   "cell_type": "code",
   "execution_count": null,
   "id": "dc02ea7e",
   "metadata": {},
   "outputs": [],
   "source": [
    "qc2, qp2  = vehicle_routing.create_circuit(4,3)"
   ]
  },
  {
   "cell_type": "code",
   "execution_count": null,
   "id": "ca90a248",
   "metadata": {},
   "outputs": [],
   "source": [
    "qc3, qp3  = vehicle_routing.create_circuit(4,4)"
   ]
  },
  {
   "cell_type": "code",
   "execution_count": null,
   "id": "09f738a3",
   "metadata": {},
   "outputs": [],
   "source": [
    "from qiskit.quantum_info import Statevector\n",
    "print(Statevector.from_instruction(qc1).equiv(Statevector.from_instruction(qc2)),\n",
    "Statevector.from_instruction(qc1).equiv(Statevector.from_instruction(qc3)),\n",
    "Statevector.from_instruction(qc3).equiv(Statevector.from_instruction(qc2)))"
   ]
  },
  {
   "cell_type": "markdown",
   "id": "07ab2726",
   "metadata": {},
   "source": [
    "QGAN Test"
   ]
  },
  {
   "cell_type": "code",
   "execution_count": null,
   "id": "a3243d32",
   "metadata": {},
   "outputs": [],
   "source": [
    "from src.benchmarks.qiskit_application_ml import qgan"
   ]
  },
  {
   "cell_type": "code",
   "execution_count": null,
   "id": "ccda1827",
   "metadata": {},
   "outputs": [],
   "source": [
    "a = qgan.create_circuit(4)"
   ]
  },
  {
   "cell_type": "code",
   "execution_count": null,
   "id": "b2585afa",
   "metadata": {},
   "outputs": [],
   "source": [
    "a.decompose().draw()"
   ]
  },
  {
   "cell_type": "code",
   "execution_count": null,
   "id": "ab7b191b",
   "metadata": {},
   "outputs": [],
   "source": [
    "qc.draw()"
   ]
  },
  {
   "cell_type": "markdown",
   "id": "fd85ec7e",
   "metadata": {},
   "source": [
    "Qiskit Application Finance Test"
   ]
  },
  {
   "cell_type": "code",
   "execution_count": null,
   "id": "bc9ae0ba",
   "metadata": {},
   "outputs": [],
   "source": [
    "from src.benchmarks.qiskit_application_finance import portfolio_optimization_qaoa, portfolio_optimization_vqe, pricing_eur_call_opt, pricing_eur_put_opt"
   ]
  },
  {
   "cell_type": "code",
   "execution_count": null,
   "id": "da205b5e",
   "metadata": {},
   "outputs": [],
   "source": [
    "b = portfolio_optimization_qaoa.create_circuit(5)"
   ]
  },
  {
   "cell_type": "code",
   "execution_count": null,
   "id": "5a70da6b",
   "metadata": {},
   "outputs": [],
   "source": [
    "b.draw()"
   ]
  },
  {
   "cell_type": "code",
   "execution_count": null,
   "id": "799ceea1",
   "metadata": {},
   "outputs": [],
   "source": [
    "c = portfolio_optimization_vqe.create_circuit(4)\n",
    "c.draw()"
   ]
  },
  {
   "cell_type": "code",
   "execution_count": null,
   "id": "b9c81f95",
   "metadata": {},
   "outputs": [],
   "source": [
    "d = pricing_eur_call_opt.create_circuit(4)\n",
    "d.draw()"
   ]
  },
  {
   "cell_type": "code",
   "execution_count": null,
   "id": "358357e7",
   "metadata": {},
   "outputs": [],
   "source": [
    "e, iae = pricing_eur_put_opt.create_circuit(2)\n",
    "e.draw()"
   ]
  },
  {
   "cell_type": "code",
   "execution_count": null,
   "id": "0540ab4c",
   "metadata": {},
   "outputs": [],
   "source": [
    "test1 = iae.construct_circuit(1)\n",
    "test1.decompose().decompose().decompose().draw()"
   ]
  },
  {
   "cell_type": "code",
   "execution_count": null,
   "id": "775ad88d",
   "metadata": {},
   "outputs": [],
   "source": [
    "test2 = iae.construct_circuit(2)\n",
    "test2.decompose().decompose().decompose().draw()"
   ]
  },
  {
   "cell_type": "code",
   "execution_count": null,
   "id": "c05a417d",
   "metadata": {},
   "outputs": [],
   "source": [
    "test1 == test2"
   ]
  },
  {
   "cell_type": "markdown",
   "id": "b73c47f4",
   "metadata": {},
   "source": [
    "Qiskit Application Nature Test"
   ]
  },
  {
   "cell_type": "markdown",
   "id": "437eb787",
   "metadata": {},
   "source": [
    "Random debugging"
   ]
  },
  {
   "cell_type": "code",
   "execution_count": null,
   "id": "a0053cff",
   "metadata": {},
   "outputs": [],
   "source": [
    "from qiskit import QuantumCircuit, QuantumRegister, ClassicalRegister, AncillaRegister\n",
    "\n",
    "n=5\n",
    "ancillary_mode = \"v-chain\"\n",
    "coin_state_preparation = None\n",
    "n = n-1 # because one qubit is needed for the coin\n",
    "coin = QuantumRegister(1, 'coin')\n",
    "node = QuantumRegister(n, 'node')\n",
    "\n",
    "n_anc = 0\n",
    "if ancillary_mode == 'recursion' and n > 3:\n",
    "    n_anc = 1\n",
    "if (ancillary_mode == 'v-chain' or ancillary_mode == 'v-chain-dirty') and n > 2:\n",
    "    n_anc = n - 2\n",
    "\n",
    "if n_anc == 0:\n",
    "    qc = QuantumCircuit(node, coin, name='qwalk')\n",
    "\n",
    "    # coin state preparation\n",
    "    if coin_state_preparation is not None:\n",
    "        qc.append(coin_state_preparation, coin[:])\n",
    "\n",
    "    for _ in range(depth):\n",
    "        # Hadamard coin operator\n",
    "        qc.h(coin)\n",
    "\n",
    "        # controlled increment\n",
    "        for i in range(0, n - 1):\n",
    "            qc.mcx(coin[:] + node[i + 1:], node[i], mode=ancillary_mode)\n",
    "        qc.cx(coin, node[n - 1])\n",
    "\n",
    "        # controlled decrement\n",
    "        qc.x(coin)\n",
    "        qc.x(node[1:])\n",
    "        for i in range(0, n - 1):\n",
    "            qc.mcx(coin[:] + node[i + 1:], node[i], mode=ancillary_mode)\n",
    "        qc.cx(coin, node[n - 1])\n",
    "        qc.x(node[1:])\n",
    "        qc.x(coin)\n",
    "else:\n",
    "    anc = AncillaRegister(n_anc, 'anc')\n",
    "    qc = QuantumCircuit(node, coin, anc, name='qwalk')\n",
    "\n",
    "    # coin state preparation\n",
    "    if coin_state_preparation is not None:\n",
    "        qc.append(coin_state_preparation, coin[:])\n",
    "\n",
    "    for _ in range(depth):\n",
    "        # Hadamard coin operator\n",
    "        qc.h(coin)\n",
    "\n",
    "        # controlled increment\n",
    "        for i in range(0, n - 1):\n",
    "            qc.mcx(coin[:] + node[i + 1:], node[i], mode=ancillary_mode, ancilla_qubits=anc[:])\n",
    "        qc.cx(coin, node[n - 1])\n",
    "\n",
    "        # controlled decrement\n",
    "        qc.x(coin)\n",
    "        qc.x(node[1:])\n",
    "        for i in range(0, n - 1):\n",
    "            qc.mcx(coin[:] + node[i + 1:], node[i], mode=ancillary_mode, ancilla_qubits=anc[:])\n",
    "        qc.cx(coin, node[n - 1])\n",
    "        qc.x(node[1:])\n",
    "        qc.x(coin)\n",
    "\n",
    "qc.measure_all()\n",
    "qc.draw()"
   ]
  },
  {
   "cell_type": "code",
   "execution_count": null,
   "id": "983f3ec0",
   "metadata": {},
   "outputs": [],
   "source": [
    "qc"
   ]
  },
  {
   "cell_type": "code",
   "execution_count": null,
   "id": "a2212708",
   "metadata": {},
   "outputs": [],
   "source": [
    "qc1 = transpile(qc, optimization_level=1)"
   ]
  },
  {
   "cell_type": "code",
   "execution_count": null,
   "id": "c2eb3ee1",
   "metadata": {},
   "outputs": [],
   "source": [
    "a =qc1.decompose().qasm()"
   ]
  },
  {
   "cell_type": "code",
   "execution_count": null,
   "id": "fc29737e",
   "metadata": {},
   "outputs": [],
   "source": [
    "b = QuantumCircuit.from_qasm_str(a)"
   ]
  },
  {
   "cell_type": "code",
   "execution_count": null,
   "id": "d078f959",
   "metadata": {},
   "outputs": [],
   "source": [
    "qc1.draw()"
   ]
  },
  {
   "cell_type": "code",
   "execution_count": null,
   "id": "6a4972c1",
   "metadata": {},
   "outputs": [],
   "source": [
    "b.draw()"
   ]
  },
  {
   "cell_type": "code",
   "execution_count": null,
   "id": "7d525277",
   "metadata": {},
   "outputs": [],
   "source": [
    "a = grover.create_circuit(10, ancillary_mode=\"v-chain\")"
   ]
  },
  {
   "cell_type": "code",
   "execution_count": null,
   "id": "d461f163",
   "metadata": {},
   "outputs": [],
   "source": [
    "a.draw()"
   ]
  },
  {
   "cell_type": "code",
   "execution_count": null,
   "id": "b6e5a1cc",
   "metadata": {},
   "outputs": [],
   "source": [
    "b = grover.create_circuit(10, ancillary_mode=\"noancilla\")"
   ]
  },
  {
   "cell_type": "code",
   "execution_count": null,
   "id": "2c447de7",
   "metadata": {},
   "outputs": [],
   "source": [
    "b.draw()"
   ]
  },
  {
   "cell_type": "code",
   "execution_count": null,
   "id": "ba522714",
   "metadata": {},
   "outputs": [],
   "source": [
    "a.num_qubits"
   ]
  },
  {
   "cell_type": "code",
   "execution_count": null,
   "id": "886a1f43",
   "metadata": {},
   "outputs": [],
   "source": [
    "m = Molecule(\n",
    "    geometry=[[\"Li\", [0.0, 0.0, 0.0]], [\"H\", [0.0, 0.0, 2.5]]], charge=0, multiplicity=1\n",
    ")"
   ]
  },
  {
   "cell_type": "code",
   "execution_count": null,
   "id": "0852a7d3",
   "metadata": {},
   "outputs": [],
   "source": [
    "a = excitedstate.create_circuit(m)\n",
    "a.draw()"
   ]
  },
  {
   "cell_type": "code",
   "execution_count": null,
   "id": "5d952a96",
   "metadata": {},
   "outputs": [],
   "source": [
    "m= Molecule(geometry=[[\"H\", [0.0, 0.0, 0.0]], [\"H\", [0.0, 0.0, 0.735]]], charge=0, multiplicity=1)"
   ]
  },
  {
   "cell_type": "code",
   "execution_count": null,
   "id": "e0776780",
   "metadata": {},
   "outputs": [],
   "source": [
    "b = groundstate.create_circuit(m)\n",
    "b.draw()"
   ]
  },
  {
   "cell_type": "code",
   "execution_count": null,
   "id": "b07230b1",
   "metadata": {},
   "outputs": [],
   "source": [
    "m = Molecule(geometry=[[\"H\", [0.0, 0.0, 0.0]], [\"Be\", [0.0, 0.0, 0.355]], [\"H\", [0.0, 0.0, 0.735]]], charge=0, multiplicity=1)\n",
    "c = groundstate.create_circuit(m)\n",
    "c.draw()"
   ]
  },
  {
   "cell_type": "code",
   "execution_count": null,
   "id": "51015f5c",
   "metadata": {},
   "outputs": [],
   "source": [
    "m = Molecule(geometry=[[\"O\", [0.0, 0.0, 0.0]], [\"H\", [0.586, 0.757, .0]], [\"H\", [0.586, -0.757, .0]]], charge=0, multiplicity=1)\n",
    "c = groundstate.create_circuit(m, basis=\"sto6g\")\n",
    "c.draw()"
   ]
  },
  {
   "cell_type": "code",
   "execution_count": null,
   "id": "e5e58446",
   "metadata": {},
   "outputs": [],
   "source": [
    "help(dj.create_circuit)"
   ]
  },
  {
   "cell_type": "code",
   "execution_count": null,
   "id": "df002971",
   "metadata": {},
   "outputs": [],
   "source": [
    "m_1 = Molecule(geometry=[[\"Li\", [0.0, 0.0, 0.0]], [\"H\", [0.0, 0.0, 2.5]]], charge=0, multiplicity=1)\n",
    "m_2 = Molecule(geometry=[[\"H\", [0.0, 0.0, 0.0]], [\"H\", [0.0, 0.0, 0.735]]], charge=0, multiplicity=1)\n",
    "m_3 = Molecule(geometry=[[\"O\", [0.0, 0.0, 0.0]], [\"H\", [0.586, 0.757, .0]], [\"H\", [0.586, -0.757, .0]]], charge=0, multiplicity=1)"
   ]
  },
  {
   "cell_type": "code",
   "execution_count": null,
   "id": "3e25dc79",
   "metadata": {},
   "outputs": [],
   "source": [
    "for _ in range(100):\n",
    "    b = np.random.randint(0, 2)\n",
    "    print(b)"
   ]
  },
  {
   "cell_type": "code",
   "execution_count": null,
   "id": "a7c0157f",
   "metadata": {},
   "outputs": [],
   "source": [
    "print(b_str)"
   ]
  },
  {
   "cell_type": "code",
   "execution_count": null,
   "id": "c12eb75d",
   "metadata": {},
   "outputs": [],
   "source": [
    "print(b)"
   ]
  },
  {
   "cell_type": "code",
   "execution_count": null,
   "id": "fff6b52b",
   "metadata": {},
   "outputs": [],
   "source": [
    "dj.create_circuit(5).draw()"
   ]
  },
  {
   "cell_type": "code",
   "execution_count": null,
   "id": "72062857",
   "metadata": {},
   "outputs": [],
   "source": [
    "a = shor.create_circuit(15,2)"
   ]
  },
  {
   "cell_type": "code",
   "execution_count": null,
   "id": "8ee04e95",
   "metadata": {},
   "outputs": [],
   "source": [
    "a.draw()"
   ]
  },
  {
   "cell_type": "code",
   "execution_count": null,
   "id": "e86238c2",
   "metadata": {},
   "outputs": [],
   "source": [
    "qc = QuantumCircuit(3)"
   ]
  },
  {
   "cell_type": "code",
   "execution_count": null,
   "id": "ada836f3",
   "metadata": {},
   "outputs": [],
   "source": [
    "tsp.create_circuit(3).draw()"
   ]
  },
  {
   "cell_type": "code",
   "execution_count": null,
   "id": "c253872e",
   "metadata": {},
   "outputs": [],
   "source": [
    "qc = QuantumCircuit(3)\n",
    "qc.h(0)\n",
    "qc.cx(0,1)\n",
    "qc.h(1)\n",
    "qc.cx(0,2)\n",
    "qc.h(2)\n",
    "qc.measure_all()\n",
    "qc.draw()"
   ]
  },
  {
   "cell_type": "code",
   "execution_count": null,
   "id": "4113caa9",
   "metadata": {},
   "outputs": [],
   "source": [
    "simulator = Aer.get_backend('aer_simulator')\n",
    "result = simulator.run(qc, shots=1024).result()\n",
    "counts = result.get_counts()"
   ]
  },
  {
   "cell_type": "code",
   "execution_count": null,
   "id": "0ad1a984",
   "metadata": {},
   "outputs": [],
   "source": [
    "plot_histogram(counts)"
   ]
  },
  {
   "cell_type": "code",
   "execution_count": null,
   "id": "876e494e",
   "metadata": {},
   "outputs": [],
   "source": [
    "m_1 = Molecule(geometry=[[\"Li\", [0.0, 0.0, 0.0]], [\"H\", [0.0, 0.0, 2.5]]], charge=0, multiplicity=1)\n",
    "a = excitedstate.create_circuit(m_1)"
   ]
  },
  {
   "cell_type": "code",
   "execution_count": 2,
   "id": "ce588724",
   "metadata": {},
   "outputs": [],
   "source": []
  },
  {
   "cell_type": "code",
   "execution_count": 65,
   "id": "8d5a11e3",
   "metadata": {},
   "outputs": [
    {
     "data": {
      "image/png": "[encoded data removed]",
      "text/plain": [
       "<Figure size 432x288 with 1 Axes>"
      ]
     },
     "metadata": {},
     "output_type": "display_data"
    }
   ],
   "source": [
    "from src import utils\n",
    "import networkx as nx\n",
    "from networkx.drawing.nx_agraph import graphviz_layout\n",
    "a = utils.get_rigetti_c_map(10)\n",
    "G = nx.Graph(a)\n",
    "nx.draw(G)"
   ]
  },
  {
   "cell_type": "code",
   "execution_count": 66,
   "id": "57e688d1",
   "metadata": {},
   "outputs": [
    {
     "data": {
      "text/plain": [
       "212"
      ]
     },
     "execution_count": 66,
     "metadata": {},
     "output_type": "execute_result"
    }
   ],
   "source": [
    "len(a)"
   ]
  },
  {
   "cell_type": "code",
   "execution_count": null,
   "id": "5b75747f",
   "metadata": {},
   "outputs": [],
   "source": []
  }
 ],
 "metadata": {
  "kernelspec": {
   "display_name": "Python 3 (ipykernel)",
   "language": "python",
   "name": "python3"
  },
  "language_info": {
   "codemirror_mode": {
    "name": "ipython",
    "version": 3
   },
   "file_extension": ".py",
   "mimetype": "text/x-python",
   "name": "python",
   "nbconvert_exporter": "python",
   "pygments_lexer": "ipython3",
   "version": "3.9.7"
  }
 },
 "nbformat": 4,
 "nbformat_minor": 5
}
