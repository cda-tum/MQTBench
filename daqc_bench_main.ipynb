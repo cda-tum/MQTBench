{
 "cells": [
  {
   "cell_type": "code",
   "execution_count": 1,
   "id": "beaa99e7",
   "metadata": {},
   "outputs": [],
   "source": [
    "from qiskit import QuantumCircuit, QuantumRegister, ClassicalRegister, AncillaRegister, IBMQ, Aer, __qiskit_version__\n",
    "from qiskit.circuit.library import QFT, GraphState, GroverOperator\n",
    "from qiskit.qasm import pi\n",
    "\n",
    "import numpy as np\n",
    "import matplotlib.pyplot as plt\n",
    "import os.path\n",
    "\n",
    "from src.utils import *\n",
    "from src.benchmarks import grover, qaoa, ghz, qft, qftentangled, shor, wstate, qpeinexact, qpeexact, graphstate, vqe, deutschjozsa, hhl, ae, qwalk\n",
    "from src.benchmarks.qiskit_application_optimization import routing, tsp\n",
    "from src.benchmarks.qiskit_application_finance import portfolioqaoa, portfoliovqe, pricingcall, pricingput\n",
    "from src.benchmarks.qiskit_application_ml import qgan\n",
    "from src.benchmarks.qiskit_application_nature import groundstate, excitedstate"
   ]
  },
  {
   "cell_type": "code",
   "execution_count": 2,
   "id": "0c626676",
   "metadata": {},
   "outputs": [],
   "source": [
    "ibm_native_gates = FakeMontreal().configuration().basis_gates\n",
    "rigetti_native_gates = ['rx','rz','cz']"
   ]
  },
  {
   "cell_type": "code",
   "execution_count": 3,
   "id": "e5a7f0b4",
   "metadata": {},
   "outputs": [],
   "source": [
    "benchmarks = [graphstate, grover, qaoa, ghz, qft, wstate, qpeinexact, qpeexact, vqe, deutschjozsa, hhl, shor, ae, qwalk, qftentangled]\n",
    "benchmarks_application = [portfolioqaoa, portfoliovqe, qgan, qwalk] \n",
    "#benchmarks = []\n",
    "benchmarks_application = []"
   ]
  },
  {
   "cell_type": "code",
   "execution_count": 4,
   "id": "682cf615",
   "metadata": {},
   "outputs": [],
   "source": [
    "n_min = 3\n",
    "n_max = 10\n",
    "stepsize = 4\n",
    "\n",
    "save_hist = False\n",
    "save_png = False\n",
    "\n",
    "ibm_smallest_fitting = True #smallest fitting architecture-> True, biggest architecture-> False\n",
    "ancillary_mode=\"noancilla\""
   ]
  },
  {
   "cell_type": "code",
   "execution_count": 5,
   "id": "e673c80d",
   "metadata": {},
   "outputs": [],
   "source": [
    "def create_shor_benchmarks():\n",
    "    small = [15,4] #18 qubits\n",
    "    medium = [821, 4] #42 qubits\n",
    "    large = [11777, 4] #58 qubits\n",
    "    xlarge = [201209, 4] # 74 qubits\n",
    "    benchmark_list = [small]#, medium, large, xlarge]\n",
    "    for n, a in benchmark_list:        \n",
    "        \n",
    "        # Creating the circuit on Algorithmic Description Layer\n",
    "        qc = shor.create_circuit(n,a)\n",
    "        num_qubits = str(len(qc.qubits))\n",
    "                   \n",
    "        filename_algo, depth = handle_algorithm_layer(qc, num_qubits, save_png, save_hist)\n",
    "        characteristics.append([filename_algo, num_qubits, depth]) \n",
    "\n",
    "        # Creating the circuit on target-independent Description Layer        \n",
    "        filename_indep, depth = get_indep_layer(qc, num_qubits, save_png, save_hist)\n",
    "        characteristics.append([filename_indep, num_qubits, depth]) \n",
    "    \n",
    "        for gate_set, gate_set_name in gate_sets:\n",
    "            #try:          \n",
    "\n",
    "            for opt_level in range(4):                    \n",
    "                \n",
    "                # Creating the circuit on target-dependent: native gates layer                \n",
    "                filename_transpiled, depth, n_actual=get_transpiled_layer(qc, gate_set, gate_set_name, \n",
    "                                                                          opt_level, num_qubits, save_png, save_hist, \n",
    "                                                                          file_precheck=True)\n",
    "                characteristics.append([filename_transpiled, n_actual, depth]) \n",
    "                \n",
    "                # Creating the circuit on target-dependent: mapped layer\n",
    "                filename_mapped, depth = get_mapped_layer(qc, gate_set, gate_set_name, opt_level, n_actual,\n",
    "                     ibm_smallest_fitting, save_png, save_hist, file_precheck=True)\n",
    "                characteristics.append([filename_mapped, n_actual, depth])"
   ]
  },
  {
   "cell_type": "code",
   "execution_count": 6,
   "id": "3df29386",
   "metadata": {},
   "outputs": [],
   "source": [
    "def create_hhl_benchmarks(max_index:int):\n",
    "    # n is not the number of qubits in this case\n",
    "    for n in range(1,max_index):                \n",
    "        # Creating the circuit on Algorithmic Description Layer\n",
    "        qc = hhl.create_circuit(n)\n",
    "        num_qubits = str(len(qc.qubits))\n",
    "                   \n",
    "        filename_algo, depth = handle_algorithm_layer(qc, num_qubits, save_png, save_hist)\n",
    "        characteristics.append([filename_algo, num_qubits, depth]) \n",
    "\n",
    "        # Creating the circuit on target-independent Description Layer        \n",
    "        filename_indep, depth = get_indep_layer(qc, num_qubits, save_png, save_hist)\n",
    "        characteristics.append([filename_indep, num_qubits, depth]) \n",
    "    \n",
    "        for gate_set, gate_set_name in gate_sets:\n",
    "            #try:          \n",
    "\n",
    "            for opt_level in range(4):                    \n",
    "                \n",
    "                # Creating the circuit on target-dependent: native gates layer                \n",
    "                filename_transpiled, depth, n_actual=get_transpiled_layer(qc, gate_set, gate_set_name, \n",
    "                                                                          opt_level, num_qubits, save_png, save_hist, \n",
    "                                                                          file_precheck=True)\n",
    "                characteristics.append([filename_transpiled, n_actual, depth]) \n",
    "                \n",
    "                # Creating the circuit on target-dependent: mapped layer\n",
    "                filename_mapped, depth = get_mapped_layer(qc, gate_set, gate_set_name, opt_level, n_actual,\n",
    "                     ibm_smallest_fitting, save_png, save_hist, file_precheck=True)\n",
    "                characteristics.append([filename_mapped, n_actual, depth])"
   ]
  },
  {
   "cell_type": "code",
   "execution_count": 13,
   "id": "39cec9c1",
   "metadata": {},
   "outputs": [
    {
     "name": "stdout",
     "output_type": "stream",
     "text": [
      "<module 'src.benchmarks.graphstate' from '/Users/nils/Documents/repos/DAQCBench/src/benchmarks/graphstate.py'>\n",
      "<module 'src.benchmarks.grover' from '/Users/nils/Documents/repos/DAQCBench/src/benchmarks/grover.py'>\n",
      "<module 'src.benchmarks.qaoa' from '/Users/nils/Documents/repos/DAQCBench/src/benchmarks/qaoa.py'>\n",
      "<module 'src.benchmarks.ghz' from '/Users/nils/Documents/repos/DAQCBench/src/benchmarks/ghz.py'>\n",
      "<module 'src.benchmarks.qft' from '/Users/nils/Documents/repos/DAQCBench/src/benchmarks/qft.py'>\n",
      "<module 'src.benchmarks.wstate' from '/Users/nils/Documents/repos/DAQCBench/src/benchmarks/wstate.py'>\n",
      "<module 'src.benchmarks.qpeinexact' from '/Users/nils/Documents/repos/DAQCBench/src/benchmarks/qpeinexact.py'>\n",
      "<module 'src.benchmarks.qpeexact' from '/Users/nils/Documents/repos/DAQCBench/src/benchmarks/qpeexact.py'>\n",
      "<module 'src.benchmarks.vqe' from '/Users/nils/Documents/repos/DAQCBench/src/benchmarks/vqe.py'>\n",
      "<module 'src.benchmarks.deutschjozsa' from '/Users/nils/Documents/repos/DAQCBench/src/benchmarks/deutschjozsa.py'>\n",
      "<module 'src.benchmarks.hhl' from '/Users/nils/Documents/repos/DAQCBench/src/benchmarks/hhl.py'>\n",
      "<module 'src.benchmarks.shor' from '/Users/nils/Documents/repos/DAQCBench/src/benchmarks/shor.py'>\n",
      "<module 'src.benchmarks.ae' from '/Users/nils/Documents/repos/DAQCBench/src/benchmarks/ae.py'>\n",
      "<module 'src.benchmarks.qwalk' from '/Users/nils/Documents/repos/DAQCBench/src/benchmarks/qwalk.py'>\n",
      "<module 'src.benchmarks.qftentangled' from '/Users/nils/Documents/repos/DAQCBench/src/benchmarks/qftentangled.py'>\n"
     ]
    }
   ],
   "source": [
    "characteristics = []\n",
    "gate_sets = [(ibm_native_gates, \"ibm\"), (rigetti_native_gates, \"rigetti\")]\n",
    "\n",
    "for benchmark in benchmarks+benchmarks_application:\n",
    "    \n",
    "    print(benchmark)    \n",
    "    if benchmark == shor: \n",
    "        #create_shor_benchmarks()\n",
    "        continue\n",
    "    elif benchmark == hhl: \n",
    "        create_hhl_benchmarks(4)\n",
    "        continue\n",
    "    elif benchmark == pricingcall: continue\n",
    "    elif benchmark == pricingput: continue\n",
    "    elif benchmark == groundstate: continue\n",
    "    elif benchmark == excitedstate: continue\n",
    "    elif benchmark == tsp: continue\n",
    "    elif benchmark == routing: continue\n",
    "    continue    \n",
    "    for n in range(n_min, n_max, stepsize):  \n",
    "        \n",
    "        # Creating the circuit on Algorithmic Description Layer\n",
    "        if (benchmark == grover or benchmark == qwalk):\n",
    "            qc = benchmark.create_circuit(n, ancillary_mode=ancillary_mode)\n",
    "            qc.name = qc.name + \"-\" + ancillary_mode\n",
    "        else:\n",
    "            qc = benchmark.create_circuit(n)\n",
    "            \n",
    "        filename_algo, depth = handle_algorithm_layer(qc, n, save_png, save_hist)\n",
    "        characteristics.append([filename_algo, n, depth]) \n",
    "\n",
    "        # Creating the circuit on target-independent Description Layer        \n",
    "        filename_indep, depth = get_indep_layer(qc, n, save_png, save_hist)\n",
    "        characteristics.append([filename_indep, n, depth]) \n",
    "    \n",
    "        for gate_set, gate_set_name in gate_sets:\n",
    "            #try:          \n",
    "\n",
    "            for opt_level in range(4):                    \n",
    "                \n",
    "                # Creating the circuit on target-dependent: native gates layer                \n",
    "                filename_transpiled, depth, n_actual=get_transpiled_layer(qc, gate_set, gate_set_name, \n",
    "                                                                          opt_level, n, save_png, save_hist, \n",
    "                                                                          file_precheck=True)\n",
    "                characteristics.append([filename_transpiled, n_actual, depth]) \n",
    "                \n",
    "                # Creating the circuit on target-dependent: mapped layer\n",
    "                filename_mapped, depth = get_mapped_layer(qc, gate_set, gate_set_name, opt_level, n_actual,\n",
    "                     ibm_smallest_fitting, save_png, save_hist, file_precheck=True)\n",
    "                characteristics.append([filename_mapped, n_actual, depth])\n",
    "\n",
    "            #except:\n",
    "                #print(\"\\n Problem occured: \", benchmark, n, gate_set_name, index)\n",
    "                #pass\n",
    "\n",
    "            \n",
    "# to be implemented:\n",
    "#application: optimization, nature, partly finance (pricingcall, pricingput)"
   ]
  },
  {
   "cell_type": "code",
   "execution_count": null,
   "id": "7d428e10",
   "metadata": {
    "scrolled": true
   },
   "outputs": [],
   "source": [
    "characteristics = np.array(characteristics)\n",
    "plt.scatter(x=characteristics[:,1].astype(int), y=characteristics[:,2].astype(int))\n",
    "plt.yscale('log')\n",
    "plt.title('Depth and Width of generated Benchmarks')\n",
    "plt.xlabel('# of Qubits')\n",
    "plt.ylabel('Circuit Depth');"
   ]
  },
  {
   "cell_type": "markdown",
   "id": "e50f9ad1",
   "metadata": {},
   "source": [
    "Grover Test"
   ]
  },
  {
   "cell_type": "code",
   "execution_count": null,
   "id": "693d26bf",
   "metadata": {
    "scrolled": true
   },
   "outputs": [],
   "source": [
    "qc = grover.create_circuit(3)\n",
    "qc.decompose().decompose().draw()\n"
   ]
  },
  {
   "cell_type": "code",
   "execution_count": null,
   "id": "946fd8e6",
   "metadata": {},
   "outputs": [],
   "source": [
    "with open('bell.qpy', 'wb') as fd:\n",
    "    qpy_serialization.dump(qc, fd)\n",
    "\n",
    "with open('bell.qpy', 'rb') as fd:\n",
    "    new_qc = qpy_serialization.load(fd)[0]"
   ]
  },
  {
   "cell_type": "markdown",
   "id": "a250eb12",
   "metadata": {},
   "source": [
    "Qiskit Finance Test"
   ]
  },
  {
   "cell_type": "code",
   "execution_count": null,
   "id": "08af7622",
   "metadata": {
    "scrolled": true
   },
   "outputs": [],
   "source": [
    "\n",
    "from src.benchmarks.qiskit_application_finance import portfolio_optimization_qaoa, portfolio_optimization_vqe, pricing_eur_call_opt, pricing_eur_put_opt\n",
    "num_qubits_test = 5\n",
    "a = pricing_eur_put_opt.create_circuit(num_qubits_test)\n",
    "b = get_compiled_circuit(a, opt_level=2, basis_gates=basis_gates)\n",
    "save_as_qasm(b, num_qubits_test, basis_gates)\n",
    "c = get_compiled_circuit(b, opt_level=2, basis_gates=basis_gates, c_map=c_map)\n",
    "save_as_qasm(c, num_qubits_test, basis_gates, True, c_map, backend.name() if backend.name() else \"\")"
   ]
  },
  {
   "cell_type": "markdown",
   "id": "8cc96b30",
   "metadata": {},
   "source": [
    "Qiskit Optimization Test"
   ]
  },
  {
   "cell_type": "code",
   "execution_count": null,
   "id": "1dd73b28",
   "metadata": {},
   "outputs": [],
   "source": [
    "\n",
    "from src.benchmarks.qiskit_application_optimization import vehicle_routing\n",
    "num_qubits_test = 5\n",
    "a = vehicle_routing.create_circuit(3,3)\n",
    "#b = get_compiled_circuit(a, opt_level=2)\n",
    "#save_as_qasm(b, num_qubits_test)\n",
    "#c = get_compiled_circuit(b, opt_level=2, c_map=c_map)\n",
    "#save_as_qasm(c, num_qubits_test, True)"
   ]
  },
  {
   "cell_type": "markdown",
   "id": "f865ea59",
   "metadata": {},
   "source": [
    "Qiskit Machine Learning Test"
   ]
  },
  {
   "cell_type": "code",
   "execution_count": null,
   "id": "54900741",
   "metadata": {},
   "outputs": [],
   "source": [
    "import numpy as np\n",
    "seed = 71\n",
    "np.random.seed = seed\n",
    "\n",
    "import matplotlib.pyplot as plt\n",
    "%matplotlib inline\n",
    "\n",
    "from qiskit import QuantumRegister, QuantumCircuit, BasicAer\n",
    "from qiskit.circuit.library import TwoLocal, UniformDistribution\n",
    "\n",
    "from qiskit.utils import QuantumInstance, algorithm_globals\n",
    "from qiskit_machine_learning.algorithms import NumPyDiscriminator, QGAN\n",
    "\n",
    "algorithm_globals.random_seed = seed\n",
    "\n",
    "# Number training data samples\n",
    "N = 1000\n",
    "\n",
    "# Load data samples from log-normal distribution with mean=1 and standard deviation=1\n",
    "mu = 1\n",
    "sigma = 1\n",
    "real_data = np.random.lognormal(mean=mu, sigma=sigma, size=N)\n",
    "\n",
    "# Set the data resolution\n",
    "# Set upper and lower data values as list of k min/max data values [[min_0,max_0],...,[min_k-1,max_k-1]]\n",
    "bounds = np.array([0., 3.])\n",
    "# Set number of qubits per data dimension as list of k qubit values[#q_0,...,#q_k-1]\n",
    "num_qubits = [3]\n",
    "k = len(num_qubits)"
   ]
  },
  {
   "cell_type": "code",
   "execution_count": null,
   "id": "3b48c545",
   "metadata": {},
   "outputs": [],
   "source": [
    "# Set number of training epochs\n",
    "# Note: The algorithm's runtime can be shortened by reducing the number of training epochs.\n",
    "num_epochs = 10\n",
    "# Batch size\n",
    "batch_size = 100\n",
    "\n",
    "# Initialize qGAN\n",
    "qgan = QGAN(real_data, bounds, num_qubits, batch_size, num_epochs, snapshot_dir=None)\n",
    "qgan.seed = 1\n",
    "# Set quantum instance to run the quantum generator\n",
    "quantum_instance = QuantumInstance(\n",
    "    backend=BasicAer.get_backend(\"statevector_simulator\"), seed_transpiler=seed, seed_simulator=seed\n",
    ")\n",
    "\n",
    "# Set entangler map\n",
    "#entangler_map = [[0, 1]]\n",
    "\n",
    "\n",
    "# Set an initial state for the generator circuit\n",
    "init_dist = UniformDistribution(sum(num_qubits))\n",
    "\n",
    "# Set the ansatz circuit\n",
    "ansatz = TwoLocal(int(np.sum(num_qubits)), \"ry\", \"cz\",  reps=1) #entanglement=entangler_map,\n",
    "\n",
    "# Set generator's initial parameters - in order to reduce the training time and hence the\n",
    "# total running time for this notebook\n",
    "#init_params = [3.0, 1.0, 0.6, 1.6]\n",
    "\n",
    "# You can increase the number of training epochs and use random initial parameters.\n",
    "init_params = np.random.rand(ansatz.num_parameters_settable) * 2 * np.pi\n",
    "\n",
    "# Set generator circuit by adding the initial distribution infront of the ansatz\n",
    "g_circuit = ansatz.compose(init_dist, front=True)\n",
    "\n",
    "# Set quantum generator\n",
    "qgan.set_generator(generator_circuit=g_circuit, generator_init_params=init_params)\n",
    "# The parameters have an order issue that following is a temp. workaround\n",
    "qgan._generator._free_parameters = sorted(g_circuit.parameters, key=lambda p: p.name)\n",
    "# Set classical discriminator neural network\n",
    "discriminator = NumPyDiscriminator(len(num_qubits))\n",
    "qgan.set_discriminator(discriminator)"
   ]
  },
  {
   "cell_type": "code",
   "execution_count": null,
   "id": "725e64a3",
   "metadata": {},
   "outputs": [],
   "source": [
    "# Run qGAN\n",
    "result = qgan.run(quantum_instance)"
   ]
  },
  {
   "cell_type": "code",
   "execution_count": null,
   "id": "a8e53a40",
   "metadata": {},
   "outputs": [],
   "source": [
    "params = qgan.generator.parameter_values"
   ]
  },
  {
   "cell_type": "code",
   "execution_count": null,
   "id": "e48d1af2",
   "metadata": {},
   "outputs": [],
   "source": [
    "params = qgan.generator.parameter_values\n",
    "qc = qgan.generator.construct_circuit(params=params)\n",
    "qc.draw()"
   ]
  },
  {
   "cell_type": "code",
   "execution_count": null,
   "id": "e965cd42",
   "metadata": {
    "scrolled": true
   },
   "outputs": [],
   "source": [
    "qgan.generator.generator_circuit.draw()"
   ]
  },
  {
   "cell_type": "code",
   "execution_count": null,
   "id": "cbca6d03",
   "metadata": {},
   "outputs": [],
   "source": [
    "#Plot the CDF of the resulting distribution against the target distribution, i.e. log-normal\n",
    "log_normal = np.random.lognormal(mean=1, sigma=1, size=100000)\n",
    "log_normal = np.round(log_normal)\n",
    "log_normal = log_normal[log_normal <= bounds[1]]\n",
    "temp = []\n",
    "for i in range(int(bounds[1] + 1)):\n",
    "    temp += [np.sum(log_normal==i)]\n",
    "log_normal = np.array(temp / sum(temp))\n",
    "\n",
    "plt.figure(figsize=(6,5))\n",
    "plt.title('CDF (Cumulative Distribution Function)')\n",
    "samples_g, prob_g = qgan.generator.get_output(qgan.quantum_instance, shots=10000)\n",
    "samples_g = np.array(samples_g)\n",
    "samples_g = samples_g.flatten()\n",
    "num_bins = len(prob_g)\n",
    "plt.bar(samples_g,  np.cumsum(prob_g), color='royalblue', width= 0.8, label='simulation')\n",
    "plt.plot( np.cumsum(log_normal),'-o', label='log-normal', color='deepskyblue', linewidth=4, markersize=12)\n",
    "plt.xticks(np.arange(min(samples_g), max(samples_g)+1, 1.0))\n",
    "plt.grid()\n",
    "plt.xlabel('x')\n",
    "plt.ylabel('p(x)')\n",
    "plt.legend(loc='best')\n",
    "plt.show()"
   ]
  },
  {
   "cell_type": "markdown",
   "id": "4e60df76",
   "metadata": {},
   "source": [
    "Qiskit Application Optimization: TSP and vehicle routing Test"
   ]
  },
  {
   "cell_type": "code",
   "execution_count": null,
   "id": "0afd8158",
   "metadata": {},
   "outputs": [],
   "source": [
    "from src.benchmarks.qiskit_application_optimization import travelling_salesman, vehicle_routing"
   ]
  },
  {
   "cell_type": "code",
   "execution_count": null,
   "id": "3fc4cfc9",
   "metadata": {},
   "outputs": [],
   "source": [
    "qc = vehicle_routing.create_circuit(4,1)"
   ]
  },
  {
   "cell_type": "code",
   "execution_count": null,
   "id": "54aeb731",
   "metadata": {},
   "outputs": [],
   "source": [
    "qc1, qp1 = vehicle_routing.create_circuit(4,2)"
   ]
  },
  {
   "cell_type": "code",
   "execution_count": null,
   "id": "dc02ea7e",
   "metadata": {},
   "outputs": [],
   "source": [
    "qc2, qp2  = vehicle_routing.create_circuit(4,3)"
   ]
  },
  {
   "cell_type": "code",
   "execution_count": null,
   "id": "ca90a248",
   "metadata": {},
   "outputs": [],
   "source": [
    "qc3, qp3  = vehicle_routing.create_circuit(4,4)"
   ]
  },
  {
   "cell_type": "code",
   "execution_count": null,
   "id": "09f738a3",
   "metadata": {},
   "outputs": [],
   "source": [
    "from qiskit.quantum_info import Statevector\n",
    "print(Statevector.from_instruction(qc1).equiv(Statevector.from_instruction(qc2)),\n",
    "Statevector.from_instruction(qc1).equiv(Statevector.from_instruction(qc3)),\n",
    "Statevector.from_instruction(qc3).equiv(Statevector.from_instruction(qc2)))"
   ]
  },
  {
   "cell_type": "markdown",
   "id": "07ab2726",
   "metadata": {},
   "source": [
    "QGAN Test"
   ]
  },
  {
   "cell_type": "code",
   "execution_count": null,
   "id": "a3243d32",
   "metadata": {},
   "outputs": [],
   "source": [
    "from src.benchmarks.qiskit_application_ml import qgan"
   ]
  },
  {
   "cell_type": "code",
   "execution_count": null,
   "id": "ccda1827",
   "metadata": {},
   "outputs": [],
   "source": [
    "a = qgan.create_circuit(4)"
   ]
  },
  {
   "cell_type": "code",
   "execution_count": null,
   "id": "b2585afa",
   "metadata": {},
   "outputs": [],
   "source": [
    "a.decompose().draw()"
   ]
  },
  {
   "cell_type": "code",
   "execution_count": null,
   "id": "ab7b191b",
   "metadata": {},
   "outputs": [],
   "source": [
    "qc.draw()"
   ]
  },
  {
   "cell_type": "markdown",
   "id": "fd85ec7e",
   "metadata": {},
   "source": [
    "Qiskit Application Finance Test"
   ]
  },
  {
   "cell_type": "code",
   "execution_count": null,
   "id": "bc9ae0ba",
   "metadata": {},
   "outputs": [],
   "source": [
    "from src.benchmarks.qiskit_application_finance import portfolio_optimization_qaoa, portfolio_optimization_vqe, pricing_eur_call_opt, pricing_eur_put_opt"
   ]
  },
  {
   "cell_type": "code",
   "execution_count": null,
   "id": "da205b5e",
   "metadata": {},
   "outputs": [],
   "source": [
    "b = portfolio_optimization_qaoa.create_circuit(5)"
   ]
  },
  {
   "cell_type": "code",
   "execution_count": null,
   "id": "5a70da6b",
   "metadata": {},
   "outputs": [],
   "source": [
    "b.draw()"
   ]
  },
  {
   "cell_type": "code",
   "execution_count": null,
   "id": "799ceea1",
   "metadata": {},
   "outputs": [],
   "source": [
    "c = portfolio_optimization_vqe.create_circuit(4)\n",
    "c.draw()"
   ]
  },
  {
   "cell_type": "code",
   "execution_count": null,
   "id": "b9c81f95",
   "metadata": {},
   "outputs": [],
   "source": [
    "d = pricing_eur_call_opt.create_circuit(4)\n",
    "d.draw()"
   ]
  },
  {
   "cell_type": "code",
   "execution_count": null,
   "id": "358357e7",
   "metadata": {},
   "outputs": [],
   "source": [
    "e, iae = pricing_eur_put_opt.create_circuit(2)\n",
    "e.draw()"
   ]
  },
  {
   "cell_type": "code",
   "execution_count": null,
   "id": "0540ab4c",
   "metadata": {},
   "outputs": [],
   "source": [
    "test1 = iae.construct_circuit(1)\n",
    "test1.decompose().decompose().decompose().draw()"
   ]
  },
  {
   "cell_type": "code",
   "execution_count": null,
   "id": "775ad88d",
   "metadata": {},
   "outputs": [],
   "source": [
    "test2 = iae.construct_circuit(2)\n",
    "test2.decompose().decompose().decompose().draw()"
   ]
  },
  {
   "cell_type": "code",
   "execution_count": null,
   "id": "c05a417d",
   "metadata": {},
   "outputs": [],
   "source": [
    "test1 == test2"
   ]
  },
  {
   "cell_type": "markdown",
   "id": "b73c47f4",
   "metadata": {},
   "source": [
    "Qiskit Application Nature Test"
   ]
  },
  {
   "cell_type": "markdown",
   "id": "437eb787",
   "metadata": {},
   "source": [
    "Random debugging"
   ]
  },
  {
   "cell_type": "code",
   "execution_count": 12,
   "id": "e6b5ec0a",
   "metadata": {},
   "outputs": [
    {
     "ename": "ValueError",
     "evalue": "'to_matrix' will return an exponentially large vector, in this case '131072' elements. Set algorithm_globals.massive=True or the method argument massive=True if you want to proceed.",
     "output_type": "error",
     "traceback": [
      "\u001b[0;31m---------------------------------------------------------------------------\u001b[0m",
      "\u001b[0;31mValueError\u001b[0m                                Traceback (most recent call last)",
      "\u001b[0;32m/var/folders/f4/n3_mnvbd6q50h0gtzy84vyn40000gn/T/ipykernel_64259/575087529.py\u001b[0m in \u001b[0;36m<module>\u001b[0;34m\u001b[0m\n\u001b[0;32m----> 1\u001b[0;31m \u001b[0mqc\u001b[0m \u001b[0;34m=\u001b[0m \u001b[0mhhl\u001b[0m\u001b[0;34m.\u001b[0m\u001b[0mcreate_circuit\u001b[0m\u001b[0;34m(\u001b[0m\u001b[0;36m5\u001b[0m\u001b[0;34m)\u001b[0m\u001b[0;34m\u001b[0m\u001b[0;34m\u001b[0m\u001b[0m\n\u001b[0m\u001b[1;32m      2\u001b[0m \u001b[0mqc\u001b[0m\u001b[0;34m.\u001b[0m\u001b[0mnum_qubits\u001b[0m\u001b[0;34m\u001b[0m\u001b[0;34m\u001b[0m\u001b[0m\n",
      "\u001b[0;32m~/Documents/repos/DAQCBench/src/benchmarks/hhl.py\u001b[0m in \u001b[0;36mcreate_circuit\u001b[0;34m(n)\u001b[0m\n\u001b[1;32m     13\u001b[0m     \u001b[0mvector\u001b[0m \u001b[0;34m=\u001b[0m \u001b[0mnp\u001b[0m\u001b[0;34m.\u001b[0m\u001b[0marray\u001b[0m\u001b[0;34m(\u001b[0m\u001b[0;34m[\u001b[0m\u001b[0;36m1\u001b[0m\u001b[0;34m]\u001b[0m \u001b[0;34m+\u001b[0m \u001b[0;34m[\u001b[0m\u001b[0;36m0\u001b[0m\u001b[0;34m]\u001b[0m \u001b[0;34m*\u001b[0m \u001b[0;34m(\u001b[0m\u001b[0;36m2\u001b[0m \u001b[0;34m**\u001b[0m \u001b[0mn\u001b[0m \u001b[0;34m-\u001b[0m \u001b[0;36m1\u001b[0m\u001b[0;34m)\u001b[0m\u001b[0;34m)\u001b[0m\u001b[0;34m\u001b[0m\u001b[0;34m\u001b[0m\u001b[0m\n\u001b[1;32m     14\u001b[0m     \u001b[0mtridi_matrix\u001b[0m \u001b[0;34m=\u001b[0m \u001b[0mTridiagonalToeplitz\u001b[0m\u001b[0;34m(\u001b[0m\u001b[0mn\u001b[0m\u001b[0;34m,\u001b[0m \u001b[0ma\u001b[0m\u001b[0;34m,\u001b[0m \u001b[0mb\u001b[0m\u001b[0;34m)\u001b[0m\u001b[0;34m\u001b[0m\u001b[0;34m\u001b[0m\u001b[0m\n\u001b[0;32m---> 15\u001b[0;31m     \u001b[0mqc\u001b[0m \u001b[0;34m=\u001b[0m \u001b[0mHHL\u001b[0m\u001b[0;34m(\u001b[0m\u001b[0;34m)\u001b[0m\u001b[0;34m.\u001b[0m\u001b[0msolve\u001b[0m\u001b[0;34m(\u001b[0m\u001b[0mtridi_matrix\u001b[0m\u001b[0;34m,\u001b[0m \u001b[0mvector\u001b[0m\u001b[0;34m)\u001b[0m\u001b[0;34m.\u001b[0m\u001b[0mstate\u001b[0m\u001b[0;34m\u001b[0m\u001b[0;34m\u001b[0m\u001b[0m\n\u001b[0m\u001b[1;32m     16\u001b[0m \u001b[0;34m\u001b[0m\u001b[0m\n\u001b[1;32m     17\u001b[0m     \u001b[0mqc\u001b[0m\u001b[0;34m.\u001b[0m\u001b[0mname\u001b[0m \u001b[0;34m=\u001b[0m \u001b[0;34m\"HHL\"\u001b[0m\u001b[0;34m\u001b[0m\u001b[0;34m\u001b[0m\u001b[0m\n",
      "\u001b[0;32m~/opt/anaconda3/envs/quantum/lib/python3.9/site-packages/qiskit/algorithms/linear_solvers/hhl.py\u001b[0m in \u001b[0;36msolve\u001b[0;34m(self, matrix, vector, observable, observable_circuit, post_processing)\u001b[0m\n\u001b[1;32m    525\u001b[0m         \u001b[0msolution\u001b[0m \u001b[0;34m=\u001b[0m \u001b[0mLinearSolverResult\u001b[0m\u001b[0;34m(\u001b[0m\u001b[0;34m)\u001b[0m\u001b[0;34m\u001b[0m\u001b[0;34m\u001b[0m\u001b[0m\n\u001b[1;32m    526\u001b[0m         \u001b[0msolution\u001b[0m\u001b[0;34m.\u001b[0m\u001b[0mstate\u001b[0m \u001b[0;34m=\u001b[0m \u001b[0mself\u001b[0m\u001b[0;34m.\u001b[0m\u001b[0mconstruct_circuit\u001b[0m\u001b[0;34m(\u001b[0m\u001b[0mmatrix\u001b[0m\u001b[0;34m,\u001b[0m \u001b[0mvector\u001b[0m\u001b[0;34m)\u001b[0m\u001b[0;34m\u001b[0m\u001b[0;34m\u001b[0m\u001b[0m\n\u001b[0;32m--> 527\u001b[0;31m         \u001b[0msolution\u001b[0m\u001b[0;34m.\u001b[0m\u001b[0meuclidean_norm\u001b[0m \u001b[0;34m=\u001b[0m \u001b[0mself\u001b[0m\u001b[0;34m.\u001b[0m\u001b[0m_calculate_norm\u001b[0m\u001b[0;34m(\u001b[0m\u001b[0msolution\u001b[0m\u001b[0;34m.\u001b[0m\u001b[0mstate\u001b[0m\u001b[0;34m)\u001b[0m\u001b[0;34m\u001b[0m\u001b[0;34m\u001b[0m\u001b[0m\n\u001b[0m\u001b[1;32m    528\u001b[0m \u001b[0;34m\u001b[0m\u001b[0m\n\u001b[1;32m    529\u001b[0m         \u001b[0;32mif\u001b[0m \u001b[0mobservable\u001b[0m \u001b[0;32mis\u001b[0m \u001b[0;32mnot\u001b[0m \u001b[0;32mNone\u001b[0m \u001b[0;32mor\u001b[0m \u001b[0mobservable_circuit\u001b[0m \u001b[0;32mis\u001b[0m \u001b[0;32mnot\u001b[0m \u001b[0;32mNone\u001b[0m\u001b[0;34m:\u001b[0m\u001b[0;34m\u001b[0m\u001b[0;34m\u001b[0m\u001b[0m\n",
      "\u001b[0;32m~/opt/anaconda3/envs/quantum/lib/python3.9/site-packages/qiskit/algorithms/linear_solvers/hhl.py\u001b[0m in \u001b[0;36m_calculate_norm\u001b[0;34m(self, qc)\u001b[0m\n\u001b[1;32m    220\u001b[0m         \u001b[0;31m# Norm observable\u001b[0m\u001b[0;34m\u001b[0m\u001b[0;34m\u001b[0m\u001b[0m\n\u001b[1;32m    221\u001b[0m         \u001b[0mobservable\u001b[0m \u001b[0;34m=\u001b[0m \u001b[0mone_op\u001b[0m \u001b[0;34m^\u001b[0m \u001b[0mTensoredOp\u001b[0m\u001b[0;34m(\u001b[0m\u001b[0;34m(\u001b[0m\u001b[0mnl\u001b[0m \u001b[0;34m+\u001b[0m \u001b[0mna\u001b[0m\u001b[0;34m)\u001b[0m \u001b[0;34m*\u001b[0m \u001b[0;34m[\u001b[0m\u001b[0mzero_op\u001b[0m\u001b[0;34m]\u001b[0m\u001b[0;34m)\u001b[0m \u001b[0;34m^\u001b[0m \u001b[0;34m(\u001b[0m\u001b[0mI\u001b[0m \u001b[0;34m^\u001b[0m \u001b[0mnb\u001b[0m\u001b[0;34m)\u001b[0m\u001b[0;34m\u001b[0m\u001b[0;34m\u001b[0m\u001b[0m\n\u001b[0;32m--> 222\u001b[0;31m         \u001b[0mnorm_2\u001b[0m \u001b[0;34m=\u001b[0m \u001b[0;34m(\u001b[0m\u001b[0;34m~\u001b[0m\u001b[0mStateFn\u001b[0m\u001b[0;34m(\u001b[0m\u001b[0mobservable\u001b[0m\u001b[0;34m)\u001b[0m \u001b[0;34m@\u001b[0m \u001b[0mStateFn\u001b[0m\u001b[0;34m(\u001b[0m\u001b[0mqc\u001b[0m\u001b[0;34m)\u001b[0m\u001b[0;34m)\u001b[0m\u001b[0;34m.\u001b[0m\u001b[0meval\u001b[0m\u001b[0;34m(\u001b[0m\u001b[0;34m)\u001b[0m\u001b[0;34m\u001b[0m\u001b[0;34m\u001b[0m\u001b[0m\n\u001b[0m\u001b[1;32m    223\u001b[0m \u001b[0;34m\u001b[0m\u001b[0m\n\u001b[1;32m    224\u001b[0m         \u001b[0;32mreturn\u001b[0m \u001b[0mnp\u001b[0m\u001b[0;34m.\u001b[0m\u001b[0mreal\u001b[0m\u001b[0;34m(\u001b[0m\u001b[0mnp\u001b[0m\u001b[0;34m.\u001b[0m\u001b[0msqrt\u001b[0m\u001b[0;34m(\u001b[0m\u001b[0mnorm_2\u001b[0m\u001b[0;34m)\u001b[0m \u001b[0;34m/\u001b[0m \u001b[0mself\u001b[0m\u001b[0;34m.\u001b[0m\u001b[0mscaling\u001b[0m\u001b[0;34m)\u001b[0m\u001b[0;34m\u001b[0m\u001b[0;34m\u001b[0m\u001b[0m\n",
      "\u001b[0;32m~/opt/anaconda3/envs/quantum/lib/python3.9/site-packages/qiskit/opflow/list_ops/composed_op.py\u001b[0m in \u001b[0;36meval\u001b[0;34m(self, front)\u001b[0m\n\u001b[1;32m    139\u001b[0m             \u001b[0meval_list\u001b[0m \u001b[0;34m=\u001b[0m \u001b[0;34m[\u001b[0m\u001b[0mStateFn\u001b[0m\u001b[0;34m(\u001b[0m\u001b[0mfront\u001b[0m\u001b[0;34m,\u001b[0m \u001b[0mis_measurement\u001b[0m\u001b[0;34m=\u001b[0m\u001b[0;32mTrue\u001b[0m\u001b[0;34m)\u001b[0m\u001b[0;34m]\u001b[0m \u001b[0;34m+\u001b[0m \u001b[0meval_list\u001b[0m  \u001b[0;31m# type: ignore\u001b[0m\u001b[0;34m\u001b[0m\u001b[0;34m\u001b[0m\u001b[0m\n\u001b[1;32m    140\u001b[0m \u001b[0;34m\u001b[0m\u001b[0m\n\u001b[0;32m--> 141\u001b[0;31m         \u001b[0;32mreturn\u001b[0m \u001b[0mreduce\u001b[0m\u001b[0;34m(\u001b[0m\u001b[0mtree_recursive_eval\u001b[0m\u001b[0;34m,\u001b[0m \u001b[0mreversed\u001b[0m\u001b[0;34m(\u001b[0m\u001b[0meval_list\u001b[0m\u001b[0;34m)\u001b[0m\u001b[0;34m)\u001b[0m\u001b[0;34m\u001b[0m\u001b[0;34m\u001b[0m\u001b[0m\n\u001b[0m\u001b[1;32m    142\u001b[0m \u001b[0;34m\u001b[0m\u001b[0m\n\u001b[1;32m    143\u001b[0m     \u001b[0;31m# Try collapsing list or trees of compositions into a single <Measurement | Op | State>.\u001b[0m\u001b[0;34m\u001b[0m\u001b[0;34m\u001b[0m\u001b[0m\n",
      "\u001b[0;32m~/opt/anaconda3/envs/quantum/lib/python3.9/site-packages/qiskit/opflow/list_ops/composed_op.py\u001b[0m in \u001b[0;36mtree_recursive_eval\u001b[0;34m(r, l_arg)\u001b[0m\n\u001b[1;32m    129\u001b[0m                 \u001b[0;32mreturn\u001b[0m \u001b[0;34m[\u001b[0m\u001b[0mtree_recursive_eval\u001b[0m\u001b[0;34m(\u001b[0m\u001b[0mr_op\u001b[0m\u001b[0;34m,\u001b[0m \u001b[0ml_arg\u001b[0m\u001b[0;34m)\u001b[0m \u001b[0;32mfor\u001b[0m \u001b[0mr_op\u001b[0m \u001b[0;32min\u001b[0m \u001b[0mr\u001b[0m\u001b[0;34m]\u001b[0m\u001b[0;34m\u001b[0m\u001b[0;34m\u001b[0m\u001b[0m\n\u001b[1;32m    130\u001b[0m             \u001b[0;32melse\u001b[0m\u001b[0;34m:\u001b[0m\u001b[0;34m\u001b[0m\u001b[0;34m\u001b[0m\u001b[0m\n\u001b[0;32m--> 131\u001b[0;31m                 \u001b[0;32mreturn\u001b[0m \u001b[0ml_arg\u001b[0m\u001b[0;34m.\u001b[0m\u001b[0meval\u001b[0m\u001b[0;34m(\u001b[0m\u001b[0mr\u001b[0m\u001b[0;34m)\u001b[0m\u001b[0;34m\u001b[0m\u001b[0;34m\u001b[0m\u001b[0m\n\u001b[0m\u001b[1;32m    132\u001b[0m \u001b[0;34m\u001b[0m\u001b[0m\n\u001b[1;32m    133\u001b[0m         \u001b[0meval_list\u001b[0m \u001b[0;34m=\u001b[0m \u001b[0mself\u001b[0m\u001b[0;34m.\u001b[0m\u001b[0moplist\u001b[0m\u001b[0;34m.\u001b[0m\u001b[0mcopy\u001b[0m\u001b[0;34m(\u001b[0m\u001b[0;34m)\u001b[0m\u001b[0;34m\u001b[0m\u001b[0;34m\u001b[0m\u001b[0m\n",
      "\u001b[0;32m~/opt/anaconda3/envs/quantum/lib/python3.9/site-packages/qiskit/opflow/state_fns/operator_state_fn.py\u001b[0m in \u001b[0;36meval\u001b[0;34m(self, front)\u001b[0m\n\u001b[1;32m    247\u001b[0m         \u001b[0;31m# make sure to only do the expensive circuit simulation once\u001b[0m\u001b[0;34m\u001b[0m\u001b[0;34m\u001b[0m\u001b[0m\n\u001b[1;32m    248\u001b[0m         \u001b[0;32mif\u001b[0m \u001b[0misinstance\u001b[0m\u001b[0;34m(\u001b[0m\u001b[0mfront\u001b[0m\u001b[0;34m,\u001b[0m \u001b[0mCircuitStateFn\u001b[0m\u001b[0;34m)\u001b[0m\u001b[0;34m:\u001b[0m\u001b[0;34m\u001b[0m\u001b[0;34m\u001b[0m\u001b[0m\n\u001b[0;32m--> 249\u001b[0;31m             \u001b[0mfront\u001b[0m \u001b[0;34m=\u001b[0m \u001b[0mfront\u001b[0m\u001b[0;34m.\u001b[0m\u001b[0meval\u001b[0m\u001b[0;34m(\u001b[0m\u001b[0;34m)\u001b[0m\u001b[0;34m\u001b[0m\u001b[0;34m\u001b[0m\u001b[0m\n\u001b[0m\u001b[1;32m    250\u001b[0m \u001b[0;34m\u001b[0m\u001b[0m\n\u001b[1;32m    251\u001b[0m         \u001b[0;32mreturn\u001b[0m \u001b[0mfront\u001b[0m\u001b[0;34m.\u001b[0m\u001b[0madjoint\u001b[0m\u001b[0;34m(\u001b[0m\u001b[0;34m)\u001b[0m\u001b[0;34m.\u001b[0m\u001b[0meval\u001b[0m\u001b[0;34m(\u001b[0m\u001b[0mcast\u001b[0m\u001b[0;34m(\u001b[0m\u001b[0mOperatorBase\u001b[0m\u001b[0;34m,\u001b[0m \u001b[0mself\u001b[0m\u001b[0;34m.\u001b[0m\u001b[0mprimitive\u001b[0m\u001b[0;34m.\u001b[0m\u001b[0meval\u001b[0m\u001b[0;34m(\u001b[0m\u001b[0mfront\u001b[0m\u001b[0;34m)\u001b[0m\u001b[0;34m)\u001b[0m\u001b[0;34m)\u001b[0m \u001b[0;34m*\u001b[0m \u001b[0mself\u001b[0m\u001b[0;34m.\u001b[0m\u001b[0mcoeff\u001b[0m\u001b[0;34m\u001b[0m\u001b[0;34m\u001b[0m\u001b[0m\n",
      "\u001b[0;32m~/opt/anaconda3/envs/quantum/lib/python3.9/site-packages/qiskit/opflow/state_fns/circuit_state_fn.py\u001b[0m in \u001b[0;36meval\u001b[0;34m(self, front)\u001b[0m\n\u001b[1;32m    307\u001b[0m     ) -> Union[OperatorBase, complex]:\n\u001b[1;32m    308\u001b[0m         \u001b[0;32mif\u001b[0m \u001b[0mfront\u001b[0m \u001b[0;32mis\u001b[0m \u001b[0;32mNone\u001b[0m\u001b[0;34m:\u001b[0m\u001b[0;34m\u001b[0m\u001b[0;34m\u001b[0m\u001b[0m\n\u001b[0;32m--> 309\u001b[0;31m             \u001b[0mvector_state_fn\u001b[0m \u001b[0;34m=\u001b[0m \u001b[0mself\u001b[0m\u001b[0;34m.\u001b[0m\u001b[0mto_matrix_op\u001b[0m\u001b[0;34m(\u001b[0m\u001b[0;34m)\u001b[0m\u001b[0;34m.\u001b[0m\u001b[0meval\u001b[0m\u001b[0;34m(\u001b[0m\u001b[0;34m)\u001b[0m\u001b[0;34m\u001b[0m\u001b[0;34m\u001b[0m\u001b[0m\n\u001b[0m\u001b[1;32m    310\u001b[0m             \u001b[0;32mreturn\u001b[0m \u001b[0mvector_state_fn\u001b[0m\u001b[0;34m\u001b[0m\u001b[0;34m\u001b[0m\u001b[0m\n\u001b[1;32m    311\u001b[0m \u001b[0;34m\u001b[0m\u001b[0m\n",
      "\u001b[0;32m~/opt/anaconda3/envs/quantum/lib/python3.9/site-packages/qiskit/opflow/state_fns/state_fn.py\u001b[0m in \u001b[0;36mto_matrix_op\u001b[0;34m(self, massive)\u001b[0m\n\u001b[1;32m    427\u001b[0m         \u001b[0;32mfrom\u001b[0m \u001b[0;34m.\u001b[0m\u001b[0mvector_state_fn\u001b[0m \u001b[0;32mimport\u001b[0m \u001b[0mVectorStateFn\u001b[0m\u001b[0;34m\u001b[0m\u001b[0;34m\u001b[0m\u001b[0m\n\u001b[1;32m    428\u001b[0m \u001b[0;34m\u001b[0m\u001b[0m\n\u001b[0;32m--> 429\u001b[0;31m         \u001b[0;32mreturn\u001b[0m \u001b[0mVectorStateFn\u001b[0m\u001b[0;34m(\u001b[0m\u001b[0mself\u001b[0m\u001b[0;34m.\u001b[0m\u001b[0mto_matrix\u001b[0m\u001b[0;34m(\u001b[0m\u001b[0mmassive\u001b[0m\u001b[0;34m=\u001b[0m\u001b[0mmassive\u001b[0m\u001b[0;34m)\u001b[0m\u001b[0;34m,\u001b[0m \u001b[0mis_measurement\u001b[0m\u001b[0;34m=\u001b[0m\u001b[0mself\u001b[0m\u001b[0;34m.\u001b[0m\u001b[0mis_measurement\u001b[0m\u001b[0;34m)\u001b[0m\u001b[0;34m\u001b[0m\u001b[0;34m\u001b[0m\u001b[0m\n\u001b[0m\u001b[1;32m    430\u001b[0m \u001b[0;34m\u001b[0m\u001b[0m\n\u001b[1;32m    431\u001b[0m     \u001b[0;32mdef\u001b[0m \u001b[0mto_circuit_op\u001b[0m\u001b[0;34m(\u001b[0m\u001b[0mself\u001b[0m\u001b[0;34m)\u001b[0m \u001b[0;34m->\u001b[0m \u001b[0mOperatorBase\u001b[0m\u001b[0;34m:\u001b[0m\u001b[0;34m\u001b[0m\u001b[0;34m\u001b[0m\u001b[0m\n",
      "\u001b[0;32m~/opt/anaconda3/envs/quantum/lib/python3.9/site-packages/qiskit/opflow/state_fns/circuit_state_fn.py\u001b[0m in \u001b[0;36mto_matrix\u001b[0;34m(self, massive)\u001b[0m\n\u001b[1;32m    251\u001b[0m \u001b[0;34m\u001b[0m\u001b[0m\n\u001b[1;32m    252\u001b[0m     \u001b[0;32mdef\u001b[0m \u001b[0mto_matrix\u001b[0m\u001b[0;34m(\u001b[0m\u001b[0mself\u001b[0m\u001b[0;34m,\u001b[0m \u001b[0mmassive\u001b[0m\u001b[0;34m:\u001b[0m \u001b[0mbool\u001b[0m \u001b[0;34m=\u001b[0m \u001b[0;32mFalse\u001b[0m\u001b[0;34m)\u001b[0m \u001b[0;34m->\u001b[0m \u001b[0mnp\u001b[0m\u001b[0;34m.\u001b[0m\u001b[0mndarray\u001b[0m\u001b[0;34m:\u001b[0m\u001b[0;34m\u001b[0m\u001b[0;34m\u001b[0m\u001b[0m\n\u001b[0;32m--> 253\u001b[0;31m         \u001b[0mOperatorBase\u001b[0m\u001b[0;34m.\u001b[0m\u001b[0m_check_massive\u001b[0m\u001b[0;34m(\u001b[0m\u001b[0;34m\"to_matrix\"\u001b[0m\u001b[0;34m,\u001b[0m \u001b[0;32mFalse\u001b[0m\u001b[0;34m,\u001b[0m \u001b[0mself\u001b[0m\u001b[0;34m.\u001b[0m\u001b[0mnum_qubits\u001b[0m\u001b[0;34m,\u001b[0m \u001b[0mmassive\u001b[0m\u001b[0;34m)\u001b[0m\u001b[0;34m\u001b[0m\u001b[0;34m\u001b[0m\u001b[0m\n\u001b[0m\u001b[1;32m    254\u001b[0m \u001b[0;34m\u001b[0m\u001b[0m\n\u001b[1;32m    255\u001b[0m         \u001b[0;31m# Need to adjoint to get forward statevector and then reverse\u001b[0m\u001b[0;34m\u001b[0m\u001b[0;34m\u001b[0m\u001b[0m\n",
      "\u001b[0;32m~/opt/anaconda3/envs/quantum/lib/python3.9/site-packages/qiskit/opflow/operator_base.py\u001b[0m in \u001b[0;36m_check_massive\u001b[0;34m(method, matrix, num_qubits, massive)\u001b[0m\n\u001b[1;32m    495\u001b[0m                 \u001b[0mobj_type\u001b[0m \u001b[0;34m=\u001b[0m \u001b[0;34m\"vector\"\u001b[0m\u001b[0;34m\u001b[0m\u001b[0;34m\u001b[0m\u001b[0m\n\u001b[1;32m    496\u001b[0m                 \u001b[0mdimensions\u001b[0m \u001b[0;34m=\u001b[0m \u001b[0;34mf\"{dim}\"\u001b[0m\u001b[0;34m\u001b[0m\u001b[0;34m\u001b[0m\u001b[0m\n\u001b[0;32m--> 497\u001b[0;31m             raise ValueError(\n\u001b[0m\u001b[1;32m    498\u001b[0m                 \u001b[0;34mf\"'{method}' will return an exponentially large {obj_type}, \"\u001b[0m\u001b[0;34m\u001b[0m\u001b[0;34m\u001b[0m\u001b[0m\n\u001b[1;32m    499\u001b[0m                 \u001b[0;34mf\"in this case '{dimensions}' elements. \"\u001b[0m\u001b[0;34m\u001b[0m\u001b[0;34m\u001b[0m\u001b[0m\n",
      "\u001b[0;31mValueError\u001b[0m: 'to_matrix' will return an exponentially large vector, in this case '131072' elements. Set algorithm_globals.massive=True or the method argument massive=True if you want to proceed."
     ]
    }
   ],
   "source": [
    "qc = hhl.create_circuit(5)\n",
    "qc.num_qubits"
   ]
  },
  {
   "cell_type": "code",
   "execution_count": null,
   "id": "bc64da6f",
   "metadata": {},
   "outputs": [],
   "source": []
  }
 ],
 "metadata": {
  "kernelspec": {
   "display_name": "Python 3 (ipykernel)",
   "language": "python",
   "name": "python3"
  },
  "language_info": {
   "codemirror_mode": {
    "name": "ipython",
    "version": 3
   },
   "file_extension": ".py",
   "mimetype": "text/x-python",
   "name": "python",
   "nbconvert_exporter": "python",
   "pygments_lexer": "ipython3",
   "version": "3.9.7"
  }
 },
 "nbformat": 4,
 "nbformat_minor": 5
}
