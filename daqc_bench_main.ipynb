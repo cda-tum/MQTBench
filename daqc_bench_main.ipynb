{
 "cells": [
  {
   "cell_type": "code",
   "execution_count": 1,
   "id": "beaa99e7",
   "metadata": {},
   "outputs": [],
   "source": [
    "from qiskit import QuantumCircuit, QuantumRegister, ClassicalRegister, AncillaRegister, IBMQ, Aer, __qiskit_version__\n",
    "from qiskit.circuit.library import QFT, GraphState, GroverOperator\n",
    "from qiskit.qasm import pi\n",
    "\n",
    "import numpy as np\n",
    "import matplotlib.pyplot as plt\n",
    "import os.path\n",
    "\n",
    "from src.utils import *\n",
    "from src.benchmarks import grover, qaoa, ghz, qft, qftentangled, shor, wstate, qpeinexact, qpeexact, graphstate, vqe, deutschjozsa, hhl, ae, qwalk\n",
    "from src.benchmarks.qiskit_application_optimization import routing, tsp\n",
    "from src.benchmarks.qiskit_application_finance import portfolioqaoa, portfoliovqe, pricingcall, pricingput\n",
    "from src.benchmarks.qiskit_application_ml import qgan\n",
    "from src.benchmarks.qiskit_application_nature import groundstate, excitedstate\n",
    "\n",
    "from qiskit_nature.drivers import Molecule"
   ]
  },
  {
   "cell_type": "code",
   "execution_count": 2,
   "id": "0c626676",
   "metadata": {},
   "outputs": [],
   "source": [
    "ibm_native_gates = FakeMontreal().configuration().basis_gates\n",
    "rigetti_native_gates = ['rx','rz','cz']"
   ]
  },
  {
   "cell_type": "code",
   "execution_count": 77,
   "id": "e5a7f0b4",
   "metadata": {},
   "outputs": [],
   "source": [
    "benchmarks = []#hhl, grover, qaoa, vqe, qwalk] \n",
    "good_benchmarks = [graphstate, ghz, qft, wstate, qpeinexact, qpeexact, deutschjozsa,  shor, ae,  qftentangled]\n",
    "benchmarks_application = [portfolioqaoa, portfoliovqe, groundstate, excitedstate, routing, tsp] #pricingcall,pricingput,qgan,\n",
    "#benchmarks = [shor]\n",
    "benchmarks_application = [tsp]"
   ]
  },
  {
   "cell_type": "code",
   "execution_count": 78,
   "id": "682cf615",
   "metadata": {},
   "outputs": [],
   "source": [
    "n_min = 5\n",
    "n_max = 26\n",
    "stepsize = 10\n",
    "\n",
    "save_hist = False\n",
    "save_png = False\n",
    "\n",
    "ancillary_mode =\"noancilla\""
   ]
  },
  {
   "cell_type": "code",
   "execution_count": 79,
   "id": "e673c80d",
   "metadata": {},
   "outputs": [],
   "source": [
    "def create_shor_benchmarks():\n",
    "    small = [15,4] #18 qubits\n",
    "    medium = [821, 4] #42 qubits\n",
    "    large = [11777, 4] #58 qubits\n",
    "    xlarge = [201209, 4] # 74 qubits\n",
    "    benchmark_list = [small]#, medium, large, xlarge]\n",
    "    for n, a in benchmark_list:        \n",
    "        \n",
    "        # Creating the circuit on Algorithmic Description Layer\n",
    "        qc = shor.create_circuit(n,a)\n",
    "        num_qubits = len(qc.qubits)\n",
    "                   \n",
    "        filename_algo, depth = handle_algorithm_layer(qc, num_qubits, save_png, save_hist)\n",
    "        characteristics.append([filename_algo, num_qubits, depth]) \n",
    "\n",
    "        # Creating the circuit on target-independent Description Layer        \n",
    "        filename_indep, depth = get_indep_layer(qc, num_qubits, save_png, save_hist)\n",
    "        characteristics.append([filename_indep, num_qubits, depth]) \n",
    "    \n",
    "        for gate_set, gate_set_name in gate_sets:\n",
    "            #try:          \n",
    "\n",
    "            for opt_level in range(4):                    \n",
    "                \n",
    "                # Creating the circuit on target-dependent: native gates layer                \n",
    "                filename_transpiled, depth, n_actual=get_transpiled_layer(qc, gate_set, gate_set_name, \n",
    "                                                                          opt_level, num_qubits, save_png, save_hist, \n",
    "                                                                          file_precheck=False)\n",
    "                characteristics.append([filename_transpiled, n_actual, depth]) \n",
    "                \n",
    "                # Creating the circuit on target-dependent: mapped layer for both mapping schemes\n",
    "                filename_mapped, depth = get_mapped_layer(qc, gate_set, gate_set_name, opt_level, n_actual,\n",
    "                     False, save_png, save_hist, file_precheck=False)\n",
    "                characteristics.append([filename_mapped, n_actual, depth])\n",
    "                \n",
    "                filename_mapped, depth = get_mapped_layer(qc, gate_set, gate_set_name, opt_level, n_actual,\n",
    "                     True, save_png, save_hist, file_precheck=False)\n",
    "                characteristics.append([filename_mapped, n_actual, depth])"
   ]
  },
  {
   "cell_type": "code",
   "execution_count": 80,
   "id": "3df29386",
   "metadata": {},
   "outputs": [],
   "source": [
    "def create_hhl_benchmarks(max_index:int):\n",
    "    # n is not the number of qubits in this case\n",
    "    for n in range(1,max_index):                \n",
    "        # Creating the circuit on Algorithmic Description Layer\n",
    "        qc = hhl.create_circuit(n)\n",
    "        num_qubits = len(qc.qubits)\n",
    "                   \n",
    "        filename_algo, depth = handle_algorithm_layer(qc, num_qubits, save_png, save_hist)\n",
    "        characteristics.append([filename_algo, num_qubits, depth]) \n",
    "\n",
    "        # Creating the circuit on target-independent Description Layer        \n",
    "        filename_indep, depth = get_indep_layer(qc, num_qubits, save_png, save_hist)\n",
    "        characteristics.append([filename_indep, num_qubits, depth]) \n",
    "    \n",
    "        for gate_set, gate_set_name in gate_sets:\n",
    "            #try:          \n",
    "\n",
    "            for opt_level in range(4):                    \n",
    "                \n",
    "                # Creating the circuit on target-dependent: native gates layer                \n",
    "                filename_transpiled, depth, n_actual=get_transpiled_layer(qc, gate_set, gate_set_name, \n",
    "                                                                          opt_level, num_qubits, save_png, save_hist, \n",
    "                                                                          file_precheck=False)\n",
    "                characteristics.append([filename_transpiled, n_actual, depth]) \n",
    "                \n",
    "                # Creating the circuit on target-dependent: mapped layer\n",
    "                # Creating the circuit on target-dependent: mapped layer for both mapping schemes\n",
    "                filename_mapped, depth = get_mapped_layer(qc, gate_set, gate_set_name, opt_level, n_actual,\n",
    "                     False, save_png, save_hist, file_precheck=False)\n",
    "                characteristics.append([filename_mapped, n_actual, depth])\n",
    "                \n",
    "                filename_mapped, depth = get_mapped_layer(qc, gate_set, gate_set_name, opt_level, n_actual,\n",
    "                     True, save_png, save_hist, file_precheck=False)\n",
    "                characteristics.append([filename_mapped, n_actual, depth])"
   ]
  },
  {
   "cell_type": "code",
   "execution_count": 81,
   "id": "f73305ea",
   "metadata": {},
   "outputs": [],
   "source": [
    "def create_routing_benchmarks(max_index:int):\n",
    "    # n is not the number of qubits in this case\n",
    "    for n in range(2,max_index):                \n",
    "        # Creating the circuit on Algorithmic Description Layer\n",
    "        qc = routing.create_circuit(n,2)\n",
    "        num_qubits = (len(qc.qubits))\n",
    "                   \n",
    "        filename_algo, depth = handle_algorithm_layer(qc, num_qubits, save_png, save_hist)\n",
    "        characteristics.append([filename_algo, num_qubits, depth]) \n",
    "\n",
    "        # Creating the circuit on target-independent Description Layer        \n",
    "        filename_indep, depth = get_indep_layer(qc, num_qubits, save_png, save_hist)\n",
    "        characteristics.append([filename_indep, num_qubits, depth]) \n",
    "    \n",
    "        for gate_set, gate_set_name in gate_sets:\n",
    "            #try:          \n",
    "\n",
    "            for opt_level in range(4):                    \n",
    "                \n",
    "                # Creating the circuit on target-dependent: native gates layer                \n",
    "                filename_transpiled, depth, n_actual=get_transpiled_layer(qc, gate_set, gate_set_name, \n",
    "                                                                          opt_level, num_qubits, save_png, save_hist, \n",
    "                                                                          file_precheck=False)\n",
    "                characteristics.append([filename_transpiled, n_actual, depth]) \n",
    "                \n",
    "                # Creating the circuit on target-dependent: mapped layer for both mapping schemes\n",
    "                filename_mapped, depth = get_mapped_layer(qc, gate_set, gate_set_name, opt_level, n_actual,\n",
    "                     False, save_png, save_hist, file_precheck=False)\n",
    "                characteristics.append([filename_mapped, n_actual, depth])\n",
    "                \n",
    "                filename_mapped, depth = get_mapped_layer(qc, gate_set, gate_set_name, opt_level, n_actual,\n",
    "                     True, save_png, save_hist, file_precheck=False)\n",
    "                characteristics.append([filename_mapped, n_actual, depth])"
   ]
  },
  {
   "cell_type": "code",
   "execution_count": 82,
   "id": "37ae6fb7",
   "metadata": {},
   "outputs": [],
   "source": [
    "def create_tsp_benchmarks(max_index:int):\n",
    "    # n is not the number of qubits in this case\n",
    "    for n in range(3,max_index):                \n",
    "        # Creating the circuit on Algorithmic Description Layer\n",
    "        qc = tsp.create_circuit(n)\n",
    "        num_qubits = (len(qc.qubits))\n",
    "                   \n",
    "        filename_algo, depth = handle_algorithm_layer(qc, num_qubits, save_png, save_hist)\n",
    "        characteristics.append([filename_algo, num_qubits, depth]) \n",
    "\n",
    "        # Creating the circuit on target-independent Description Layer        \n",
    "        filename_indep, depth = get_indep_layer(qc, num_qubits, save_png, save_hist)\n",
    "        characteristics.append([filename_indep, num_qubits, depth]) \n",
    "    \n",
    "        for gate_set, gate_set_name in gate_sets:\n",
    "            #try:          \n",
    "\n",
    "            for opt_level in range(4):                    \n",
    "                \n",
    "                # Creating the circuit on target-dependent: native gates layer                \n",
    "                filename_transpiled, depth, n_actual=get_transpiled_layer(qc, gate_set, gate_set_name, \n",
    "                                                                          opt_level, num_qubits, save_png, save_hist, \n",
    "                                                                          file_precheck=False)\n",
    "                characteristics.append([filename_transpiled, n_actual, depth]) \n",
    "                \n",
    "                # Creating the circuit on target-dependent: mapped layer for both mapping schemes\n",
    "                filename_mapped, depth = get_mapped_layer(qc, gate_set, gate_set_name, opt_level, n_actual,\n",
    "                     False, save_png, save_hist, file_precheck=False)\n",
    "                characteristics.append([filename_mapped, n_actual, depth])\n",
    "                \n",
    "                filename_mapped, depth = get_mapped_layer(qc, gate_set, gate_set_name, opt_level, n_actual,\n",
    "                     True, save_png, save_hist, file_precheck=False)\n",
    "                characteristics.append([filename_mapped, n_actual, depth])"
   ]
  },
  {
   "cell_type": "code",
   "execution_count": 72,
   "id": "0db019c7",
   "metadata": {},
   "outputs": [],
   "source": [
    "def create_groundstate_benchmarks():\n",
    "    \n",
    "    molecule = Molecule(\n",
    "        geometry=[[\"H\", [0.0, 0.0, 0.0]], [\"H\", [0.0, 0.0, 0.735]]], charge=0, multiplicity=1\n",
    "    )\n",
    "\n",
    "    qc = groundstate.create_circuit(molecule)\n",
    "    num_qubits = (len(qc.qubits))\n",
    "\n",
    "    filename_algo, depth = handle_algorithm_layer(qc, num_qubits, save_png, save_hist)\n",
    "    characteristics.append([filename_algo, num_qubits, depth]) \n",
    "\n",
    "    # Creating the circuit on target-independent Description Layer        \n",
    "    filename_indep, depth = get_indep_layer(qc, num_qubits, save_png, save_hist)\n",
    "    characteristics.append([filename_indep, num_qubits, depth]) \n",
    "\n",
    "    for gate_set, gate_set_name in gate_sets:\n",
    "        #try:          \n",
    "\n",
    "        for opt_level in range(4):                    \n",
    "\n",
    "            # Creating the circuit on target-dependent: native gates layer                \n",
    "            filename_transpiled, depth, n_actual=get_transpiled_layer(qc, gate_set, gate_set_name, \n",
    "                                                                      opt_level, num_qubits, save_png, save_hist, \n",
    "                                                                      file_precheck=False)\n",
    "            characteristics.append([filename_transpiled, n_actual, depth]) \n",
    "\n",
    "            # Creating the circuit on target-dependent: mapped layer for both mapping schemes\n",
    "            filename_mapped, depth = get_mapped_layer(qc, gate_set, gate_set_name, opt_level, n_actual,\n",
    "                 False, save_png, save_hist, file_precheck=False)\n",
    "            characteristics.append([filename_mapped, n_actual, depth])\n",
    "\n",
    "            filename_mapped, depth = get_mapped_layer(qc, gate_set, gate_set_name, opt_level, n_actual,\n",
    "                 True, save_png, save_hist, file_precheck=False)\n",
    "            characteristics.append([filename_mapped, n_actual, depth])"
   ]
  },
  {
   "cell_type": "code",
   "execution_count": 73,
   "id": "c6b7fab8",
   "metadata": {},
   "outputs": [],
   "source": [
    "def create_excitedstate_benchmarks():\n",
    "    \n",
    "    molecule = Molecule(\n",
    "        geometry=[[\"H\", [0.0, 0.0, 0.0]], [\"H\", [0.0, 0.0, 0.735]]], charge=0, multiplicity=1\n",
    "    )\n",
    "    qc = excitedstate.create_circuit(molecule)\n",
    "    num_qubits = (len(qc.qubits))\n",
    "\n",
    "    filename_algo, depth = handle_algorithm_layer(qc, num_qubits, save_png, save_hist)\n",
    "    characteristics.append([filename_algo, num_qubits, depth]) \n",
    "\n",
    "    # Creating the circuit on target-independent Description Layer        \n",
    "    filename_indep, depth = get_indep_layer(qc, num_qubits, save_png, save_hist)\n",
    "    characteristics.append([filename_indep, num_qubits, depth]) \n",
    "\n",
    "    for gate_set, gate_set_name in gate_sets:\n",
    "        #try:          \n",
    "\n",
    "        for opt_level in range(4):                    \n",
    "\n",
    "            # Creating the circuit on target-dependent: native gates layer                \n",
    "            filename_transpiled, depth, n_actual=get_transpiled_layer(qc, gate_set, gate_set_name, \n",
    "                                                                      opt_level, num_qubits, save_png, save_hist, \n",
    "                                                                      file_precheck=False)\n",
    "            characteristics.append([filename_transpiled, n_actual, depth]) \n",
    "\n",
    "            # Creating the circuit on target-dependent: mapped layer for both mapping schemes\n",
    "            filename_mapped, depth = get_mapped_layer(qc, gate_set, gate_set_name, opt_level, n_actual,\n",
    "                 False, save_png, save_hist, file_precheck=False)\n",
    "            characteristics.append([filename_mapped, n_actual, depth])\n",
    "\n",
    "            filename_mapped, depth = get_mapped_layer(qc, gate_set, gate_set_name, opt_level, n_actual,\n",
    "                 True, save_png, save_hist, file_precheck=False)\n",
    "            characteristics.append([filename_mapped, n_actual, depth])"
   ]
  },
  {
   "cell_type": "code",
   "execution_count": 74,
   "id": "420ab88e",
   "metadata": {},
   "outputs": [],
   "source": [
    "def create_pricingcall_benchmarks(max_index:int):\n",
    "    # n is not the number of qubits in this case\n",
    "    for n in range(3,max_index):                \n",
    "        # Creating the circuit on Algorithmic Description Layer\n",
    "        qc = pricingcall.create_circuit(n)\n",
    "        num_qubits = str(len(qc.qubits))\n",
    "                   \n",
    "        filename_algo, depth = handle_algorithm_layer(qc, num_qubits, save_png, save_hist)\n",
    "        characteristics.append([filename_algo, num_qubits, depth]) \n",
    "\n",
    "        # Creating the circuit on target-independent Description Layer        \n",
    "        filename_indep, depth = get_indep_layer(qc, num_qubits, save_png, save_hist)\n",
    "        characteristics.append([filename_indep, num_qubits, depth]) \n",
    "    \n",
    "        for gate_set, gate_set_name in gate_sets:\n",
    "            #try:          \n",
    "\n",
    "            for opt_level in range(4):                    \n",
    "                \n",
    "                # Creating the circuit on target-dependent: native gates layer                \n",
    "                filename_transpiled, depth, n_actual=get_transpiled_layer(qc, gate_set, gate_set_name, \n",
    "                                                                          opt_level, num_qubits, save_png, save_hist, \n",
    "                                                                          file_precheck=False)\n",
    "                characteristics.append([filename_transpiled, n_actual, depth]) \n",
    "                \n",
    "                # Creating the circuit on target-dependent: mapped layer for both mapping schemes\n",
    "                filename_mapped, depth = get_mapped_layer(qc, gate_set, gate_set_name, opt_level, n_actual,\n",
    "                     False, save_png, save_hist, file_precheck=False)\n",
    "                characteristics.append([filename_mapped, n_actual, depth])\n",
    "\n",
    "                filename_mapped, depth = get_mapped_layer(qc, gate_set, gate_set_name, opt_level, n_actual,\n",
    "                     True, save_png, save_hist, file_precheck=False)\n",
    "                characteristics.append([filename_mapped, n_actual, depth])"
   ]
  },
  {
   "cell_type": "code",
   "execution_count": 75,
   "id": "4df0b012",
   "metadata": {},
   "outputs": [],
   "source": [
    "def create_pricingput_benchmarks(max_index:int):\n",
    "    # n is not the number of qubits in this case\n",
    "    for n in range(3,max_index):                \n",
    "        # Creating the circuit on Algorithmic Description Layer\n",
    "        qc = pricingput.create_circuit(n)\n",
    "        num_qubits = str(len(qc.qubits))\n",
    "                   \n",
    "        filename_algo, depth = handle_algorithm_layer(qc, num_qubits, save_png, save_hist)\n",
    "        characteristics.append([filename_algo, num_qubits, depth]) \n",
    "\n",
    "        # Creating the circuit on target-independent Description Layer        \n",
    "        filename_indep, depth = get_indep_layer(qc, num_qubits, save_png, save_hist)\n",
    "        characteristics.append([filename_indep, num_qubits, depth]) \n",
    "    \n",
    "        for gate_set, gate_set_name in gate_sets:\n",
    "            #try:          \n",
    "\n",
    "            for opt_level in range(4):                    \n",
    "                \n",
    "                # Creating the circuit on target-dependent: native gates layer                \n",
    "                filename_transpiled, depth, n_actual=get_transpiled_layer(qc, gate_set, gate_set_name, \n",
    "                                                                          opt_level, num_qubits, save_png, save_hist, \n",
    "                                                                          file_precheck=False)\n",
    "                characteristics.append([filename_transpiled, n_actual, depth]) \n",
    "                \n",
    "                # Creating the circuit on target-dependent: mapped layer for both mapping schemes\n",
    "                filename_mapped, depth = get_mapped_layer(qc, gate_set, gate_set_name, opt_level, n_actual,\n",
    "                     False, save_png, save_hist, file_precheck=False)\n",
    "                characteristics.append([filename_mapped, n_actual, depth])\n",
    "                \n",
    "                filename_mapped, depth = get_mapped_layer(qc, gate_set, gate_set_name, opt_level, n_actual,\n",
    "                     True, save_png, save_hist, file_precheck=False)\n",
    "                characteristics.append([filename_mapped, n_actual, depth])"
   ]
  },
  {
   "cell_type": "code",
   "execution_count": 84,
   "id": "39cec9c1",
   "metadata": {},
   "outputs": [
    {
     "name": "stdout",
     "output_type": "stream",
     "text": [
      "<module 'src.benchmarks.qiskit_application_optimization.tsp' from '/Users/nils/Documents/repos/DAQCBench/src/benchmarks/qiskit_application_optimization/tsp.py'>\n",
      "qpy_output/tsp_algorithm_9.qpy already existed\n",
      "qasm_output/tsp_t-indep_9.qasm already existed\n"
     ]
    },
    {
     "ename": "KeyboardInterrupt",
     "evalue": "",
     "output_type": "error",
     "traceback": [
      "\u001b[0;31m---------------------------------------------------------------------------\u001b[0m",
      "\u001b[0;31mKeyboardInterrupt\u001b[0m                         Traceback (most recent call last)",
      "\u001b[0;32m/var/folders/f4/n3_mnvbd6q50h0gtzy84vyn40000gn/T/ipykernel_4678/3743547874.py\u001b[0m in \u001b[0;36m<module>\u001b[0;34m\u001b[0m\n\u001b[1;32m     28\u001b[0m         \u001b[0;32mcontinue\u001b[0m\u001b[0;34m\u001b[0m\u001b[0;34m\u001b[0m\u001b[0m\n\u001b[1;32m     29\u001b[0m     \u001b[0;32melif\u001b[0m \u001b[0mbenchmark\u001b[0m \u001b[0;34m==\u001b[0m \u001b[0mtsp\u001b[0m\u001b[0;34m:\u001b[0m\u001b[0;34m\u001b[0m\u001b[0;34m\u001b[0m\u001b[0m\n\u001b[0;32m---> 30\u001b[0;31m         \u001b[0mcreate_tsp_benchmarks\u001b[0m\u001b[0;34m(\u001b[0m\u001b[0;36m4\u001b[0m\u001b[0;34m)\u001b[0m \u001b[0;31m# 5 is max number which fits my RAM\u001b[0m\u001b[0;34m\u001b[0m\u001b[0;34m\u001b[0m\u001b[0m\n\u001b[0m\u001b[1;32m     31\u001b[0m         \u001b[0;32mcontinue\u001b[0m\u001b[0;34m\u001b[0m\u001b[0;34m\u001b[0m\u001b[0m\n\u001b[1;32m     32\u001b[0m     \u001b[0;32melif\u001b[0m \u001b[0mbenchmark\u001b[0m \u001b[0;34m==\u001b[0m \u001b[0mrouting\u001b[0m\u001b[0;34m:\u001b[0m\u001b[0;34m\u001b[0m\u001b[0;34m\u001b[0m\u001b[0m\n",
      "\u001b[0;32m/var/folders/f4/n3_mnvbd6q50h0gtzy84vyn40000gn/T/ipykernel_4678/2827501183.py\u001b[0m in \u001b[0;36mcreate_tsp_benchmarks\u001b[0;34m(max_index)\u001b[0m\n\u001b[1;32m     29\u001b[0m                 \u001b[0mcharacteristics\u001b[0m\u001b[0;34m.\u001b[0m\u001b[0mappend\u001b[0m\u001b[0;34m(\u001b[0m\u001b[0;34m[\u001b[0m\u001b[0mfilename_mapped\u001b[0m\u001b[0;34m,\u001b[0m \u001b[0mn_actual\u001b[0m\u001b[0;34m,\u001b[0m \u001b[0mdepth\u001b[0m\u001b[0;34m]\u001b[0m\u001b[0;34m)\u001b[0m\u001b[0;34m\u001b[0m\u001b[0;34m\u001b[0m\u001b[0m\n\u001b[1;32m     30\u001b[0m \u001b[0;34m\u001b[0m\u001b[0m\n\u001b[0;32m---> 31\u001b[0;31m                 filename_mapped, depth = get_mapped_layer(qc, gate_set, gate_set_name, opt_level, n_actual,\n\u001b[0m\u001b[1;32m     32\u001b[0m                      True, save_png, save_hist, file_precheck=False)\n\u001b[1;32m     33\u001b[0m                 \u001b[0mcharacteristics\u001b[0m\u001b[0;34m.\u001b[0m\u001b[0mappend\u001b[0m\u001b[0;34m(\u001b[0m\u001b[0;34m[\u001b[0m\u001b[0mfilename_mapped\u001b[0m\u001b[0;34m,\u001b[0m \u001b[0mn_actual\u001b[0m\u001b[0;34m,\u001b[0m \u001b[0mdepth\u001b[0m\u001b[0;34m]\u001b[0m\u001b[0;34m)\u001b[0m\u001b[0;34m\u001b[0m\u001b[0;34m\u001b[0m\u001b[0m\n",
      "\u001b[0;32m~/Documents/repos/DAQCBench/src/utils.py\u001b[0m in \u001b[0;36mget_mapped_layer\u001b[0;34m(qc, gate_set, gate_set_name, opt_level, n_actual, smallest_fitting_arch, save_png, save_hist, file_precheck)\u001b[0m\n\u001b[1;32m    216\u001b[0m             compiled_with_architecture = get_compiled_circuit(qc=qc, opt_level=opt_level,\n\u001b[1;32m    217\u001b[0m                                                               basis_gates=gate_set, c_map=c_map)\n\u001b[0;32m--> 218\u001b[0;31m             save_as_qasm(compiled_with_architecture, filename_mapped, gate_set,\n\u001b[0m\u001b[1;32m    219\u001b[0m                          opt_level, True, c_map, gate_set_name_mapped + \"-\" + backend_name)\n\u001b[1;32m    220\u001b[0m \u001b[0;34m\u001b[0m\u001b[0m\n",
      "\u001b[0;32m~/Documents/repos/DAQCBench/src/utils.py\u001b[0m in \u001b[0;36msave_as_qasm\u001b[0;34m(qc, filename, gate_set, opt_level, mapped, c_map, arch_name)\u001b[0m\n\u001b[1;32m     36\u001b[0m                 \u001b[0mf\u001b[0m\u001b[0;34m.\u001b[0m\u001b[0mwrite\u001b[0m\u001b[0;34m(\u001b[0m\u001b[0;34m\"// Compiled for architecture: \"\u001b[0m \u001b[0;34m+\u001b[0m \u001b[0march_name\u001b[0m \u001b[0;34m+\u001b[0m \u001b[0;34m\"\\n\"\u001b[0m\u001b[0;34m)\u001b[0m\u001b[0;34m\u001b[0m\u001b[0;34m\u001b[0m\u001b[0m\n\u001b[1;32m     37\u001b[0m         \u001b[0mf\u001b[0m\u001b[0;34m.\u001b[0m\u001b[0mwrite\u001b[0m\u001b[0;34m(\u001b[0m\u001b[0;34m\"\\n\"\u001b[0m\u001b[0;34m)\u001b[0m\u001b[0;34m\u001b[0m\u001b[0;34m\u001b[0m\u001b[0m\n\u001b[0;32m---> 38\u001b[0;31m         \u001b[0mf\u001b[0m\u001b[0;34m.\u001b[0m\u001b[0mwrite\u001b[0m\u001b[0;34m(\u001b[0m\u001b[0mqc\u001b[0m\u001b[0;34m.\u001b[0m\u001b[0mqasm\u001b[0m\u001b[0;34m(\u001b[0m\u001b[0;34m)\u001b[0m\u001b[0;34m)\u001b[0m\u001b[0;34m\u001b[0m\u001b[0;34m\u001b[0m\u001b[0m\n\u001b[0m\u001b[1;32m     39\u001b[0m     \u001b[0mf\u001b[0m\u001b[0;34m.\u001b[0m\u001b[0mclose\u001b[0m\u001b[0;34m(\u001b[0m\u001b[0;34m)\u001b[0m\u001b[0;34m\u001b[0m\u001b[0;34m\u001b[0m\u001b[0m\n\u001b[1;32m     40\u001b[0m \u001b[0;34m\u001b[0m\u001b[0m\n",
      "\u001b[0;32m~/opt/anaconda3/envs/quantum/lib/python3.9/site-packages/qiskit/circuit/quantumcircuit.py\u001b[0m in \u001b[0;36mqasm\u001b[0;34m(self, formatted, filename, encoding)\u001b[0m\n\u001b[1;32m   1700\u001b[0m                 \u001b[0;31m# Insert qasm representation of the original instruction\u001b[0m\u001b[0;34m\u001b[0m\u001b[0;34m\u001b[0m\u001b[0m\n\u001b[1;32m   1701\u001b[0m                 string_temp += \"{} {};\\n\".format(\n\u001b[0;32m-> 1702\u001b[0;31m                     \u001b[0minstruction\u001b[0m\u001b[0;34m.\u001b[0m\u001b[0mqasm\u001b[0m\u001b[0;34m(\u001b[0m\u001b[0;34m)\u001b[0m\u001b[0;34m,\u001b[0m\u001b[0;34m\u001b[0m\u001b[0;34m\u001b[0m\u001b[0m\n\u001b[0m\u001b[1;32m   1703\u001b[0m                     \u001b[0;34m\",\"\u001b[0m\u001b[0;34m.\u001b[0m\u001b[0mjoin\u001b[0m\u001b[0;34m(\u001b[0m\u001b[0;34m[\u001b[0m\u001b[0mbit_labels\u001b[0m\u001b[0;34m[\u001b[0m\u001b[0mj\u001b[0m\u001b[0;34m]\u001b[0m \u001b[0;32mfor\u001b[0m \u001b[0mj\u001b[0m \u001b[0;32min\u001b[0m \u001b[0mqargs\u001b[0m \u001b[0;34m+\u001b[0m \u001b[0mcargs\u001b[0m\u001b[0;34m]\u001b[0m\u001b[0;34m)\u001b[0m\u001b[0;34m,\u001b[0m\u001b[0;34m\u001b[0m\u001b[0;34m\u001b[0m\u001b[0m\n\u001b[1;32m   1704\u001b[0m                 )\n",
      "\u001b[0;32m~/opt/anaconda3/envs/quantum/lib/python3.9/site-packages/qiskit/circuit/instruction.py\u001b[0m in \u001b[0;36mqasm\u001b[0;34m(self)\u001b[0m\n\u001b[1;32m    465\u001b[0m             name_param = \"{}({})\".format(\n\u001b[1;32m    466\u001b[0m                 \u001b[0mname_param\u001b[0m\u001b[0;34m,\u001b[0m\u001b[0;34m\u001b[0m\u001b[0;34m\u001b[0m\u001b[0m\n\u001b[0;32m--> 467\u001b[0;31m                 \u001b[0;34m\",\"\u001b[0m\u001b[0;34m.\u001b[0m\u001b[0mjoin\u001b[0m\u001b[0;34m(\u001b[0m\u001b[0;34m[\u001b[0m\u001b[0mpi_check\u001b[0m\u001b[0;34m(\u001b[0m\u001b[0mi\u001b[0m\u001b[0;34m,\u001b[0m \u001b[0mndigits\u001b[0m\u001b[0;34m=\u001b[0m\u001b[0;36m8\u001b[0m\u001b[0;34m,\u001b[0m \u001b[0moutput\u001b[0m\u001b[0;34m=\u001b[0m\u001b[0;34m\"qasm\"\u001b[0m\u001b[0;34m)\u001b[0m \u001b[0;32mfor\u001b[0m \u001b[0mi\u001b[0m \u001b[0;32min\u001b[0m \u001b[0mself\u001b[0m\u001b[0;34m.\u001b[0m\u001b[0mparams\u001b[0m\u001b[0;34m]\u001b[0m\u001b[0;34m)\u001b[0m\u001b[0;34m,\u001b[0m\u001b[0;34m\u001b[0m\u001b[0;34m\u001b[0m\u001b[0m\n\u001b[0m\u001b[1;32m    468\u001b[0m             )\n\u001b[1;32m    469\u001b[0m \u001b[0;34m\u001b[0m\u001b[0m\n",
      "\u001b[0;32m~/opt/anaconda3/envs/quantum/lib/python3.9/site-packages/qiskit/circuit/instruction.py\u001b[0m in \u001b[0;36m<listcomp>\u001b[0;34m(.0)\u001b[0m\n\u001b[1;32m    465\u001b[0m             name_param = \"{}({})\".format(\n\u001b[1;32m    466\u001b[0m                 \u001b[0mname_param\u001b[0m\u001b[0;34m,\u001b[0m\u001b[0;34m\u001b[0m\u001b[0;34m\u001b[0m\u001b[0m\n\u001b[0;32m--> 467\u001b[0;31m                 \u001b[0;34m\",\"\u001b[0m\u001b[0;34m.\u001b[0m\u001b[0mjoin\u001b[0m\u001b[0;34m(\u001b[0m\u001b[0;34m[\u001b[0m\u001b[0mpi_check\u001b[0m\u001b[0;34m(\u001b[0m\u001b[0mi\u001b[0m\u001b[0;34m,\u001b[0m \u001b[0mndigits\u001b[0m\u001b[0;34m=\u001b[0m\u001b[0;36m8\u001b[0m\u001b[0;34m,\u001b[0m \u001b[0moutput\u001b[0m\u001b[0;34m=\u001b[0m\u001b[0;34m\"qasm\"\u001b[0m\u001b[0;34m)\u001b[0m \u001b[0;32mfor\u001b[0m \u001b[0mi\u001b[0m \u001b[0;32min\u001b[0m \u001b[0mself\u001b[0m\u001b[0;34m.\u001b[0m\u001b[0mparams\u001b[0m\u001b[0;34m]\u001b[0m\u001b[0;34m)\u001b[0m\u001b[0;34m,\u001b[0m\u001b[0;34m\u001b[0m\u001b[0;34m\u001b[0m\u001b[0m\n\u001b[0m\u001b[1;32m    468\u001b[0m             )\n\u001b[1;32m    469\u001b[0m \u001b[0;34m\u001b[0m\u001b[0m\n",
      "\u001b[0;32m~/opt/anaconda3/envs/quantum/lib/python3.9/site-packages/qiskit/circuit/tools/pi_check.py\u001b[0m in \u001b[0;36mpi_check\u001b[0;34m(inpt, eps, output, ndigits)\u001b[0m\n\u001b[1;32m    164\u001b[0m         \u001b[0;32mreturn\u001b[0m \u001b[0mstr_out\u001b[0m\u001b[0;34m\u001b[0m\u001b[0;34m\u001b[0m\u001b[0m\n\u001b[1;32m    165\u001b[0m \u001b[0;34m\u001b[0m\u001b[0m\n\u001b[0;32m--> 166\u001b[0;31m     \u001b[0mcomplex_inpt\u001b[0m \u001b[0;34m=\u001b[0m \u001b[0mcomplex\u001b[0m\u001b[0;34m(\u001b[0m\u001b[0minpt\u001b[0m\u001b[0;34m)\u001b[0m\u001b[0;34m\u001b[0m\u001b[0;34m\u001b[0m\u001b[0m\n\u001b[0m\u001b[1;32m    167\u001b[0m     \u001b[0mreal\u001b[0m\u001b[0;34m,\u001b[0m \u001b[0mimag\u001b[0m \u001b[0;34m=\u001b[0m \u001b[0mmap\u001b[0m\u001b[0;34m(\u001b[0m\u001b[0mnormalize\u001b[0m\u001b[0;34m,\u001b[0m \u001b[0;34m[\u001b[0m\u001b[0mcomplex_inpt\u001b[0m\u001b[0;34m.\u001b[0m\u001b[0mreal\u001b[0m\u001b[0;34m,\u001b[0m \u001b[0mcomplex_inpt\u001b[0m\u001b[0;34m.\u001b[0m\u001b[0mimag\u001b[0m\u001b[0;34m]\u001b[0m\u001b[0;34m)\u001b[0m\u001b[0;34m\u001b[0m\u001b[0;34m\u001b[0m\u001b[0m\n\u001b[1;32m    168\u001b[0m \u001b[0;34m\u001b[0m\u001b[0m\n",
      "\u001b[0;31mKeyboardInterrupt\u001b[0m: "
     ]
    }
   ],
   "source": [
    "characteristics = []\n",
    "gate_sets = [(ibm_native_gates, \"ibm\"), (rigetti_native_gates, \"rigetti\")]\n",
    "\n",
    "for benchmark in benchmarks+benchmarks_application:\n",
    "    file_precheck = True\n",
    "    print(benchmark)    \n",
    "    \n",
    "    # First treat all \"special\" benchmarks with n != num qubits or different constructor parameters    \n",
    "    if benchmark == shor: \n",
    "        #create_shor_benchmarks()\n",
    "        continue\n",
    "    elif benchmark == hhl:  # 5 is max number which fits my RAM\n",
    "        create_hhl_benchmarks(2)\n",
    "        create_hhl_benchmarks(3)\n",
    "        create_hhl_benchmarks(4)\n",
    "        continue\n",
    "    elif benchmark == pricingcall: \n",
    "        create_pricingcall_benchmarks(5) # max val is not tested yet, but indep layer generation fails\n",
    "        continue\n",
    "    elif benchmark == pricingput:\n",
    "        create_pricingput_benchmarks(5) # max val is not tested yet, but indep layer generation fails\n",
    "        continue\n",
    "    elif benchmark == groundstate: \n",
    "        create_groundstate_benchmarks()\n",
    "        continue\n",
    "    elif benchmark == excitedstate: \n",
    "        create_excitedstate_benchmarks()\n",
    "        continue\n",
    "    elif benchmark == tsp: \n",
    "        create_tsp_benchmarks(4) # 5 is max number which fits my RAM\n",
    "        continue\n",
    "    elif benchmark == routing: \n",
    "        create_routing_benchmarks(4) # for a higher parameters than 5 it takes forever on my laptop\n",
    "        continue\n",
    "    \n",
    "    for n in range(n_min, n_max, stepsize):  \n",
    "        #try:\n",
    "        # Creating the circuit on Algorithmic Description Layer\n",
    "        if (benchmark == grover or benchmark == qwalk):\n",
    "            qc = benchmark.create_circuit(n, ancillary_mode=ancillary_mode)\n",
    "            qc.name = qc.name + \"-\" + ancillary_mode\n",
    "            file_precheck = False\n",
    "        else:\n",
    "            qc = benchmark.create_circuit(n)\n",
    "\n",
    "        filename_algo, depth = handle_algorithm_layer(qc, n, save_png, save_hist)\n",
    "        characteristics.append([filename_algo, n, depth]) \n",
    "\n",
    "        # Creating the circuit on target-independent Description Layer        \n",
    "        filename_indep, depth = get_indep_layer(qc, n, save_png, save_hist)\n",
    "        characteristics.append([filename_indep, n, depth]) \n",
    "\n",
    "        for gate_set, gate_set_name in gate_sets:\n",
    "            #try:          \n",
    "\n",
    "            for opt_level in range(4):                    \n",
    "\n",
    "                # Creating the circuit on target-dependent: native gates layer                \n",
    "                filename_transpiled, depth, n_actual=get_transpiled_layer(qc, gate_set, gate_set_name, \n",
    "                                                                          opt_level, n, save_png, save_hist, \n",
    "                                                                          file_precheck=file_precheck)\n",
    "                characteristics.append([filename_transpiled, n_actual, depth]) \n",
    "\n",
    "                # Creating the circuit on target-dependent: mapped layer for both mapping schemes\n",
    "                filename_mapped, depth = get_mapped_layer(qc, gate_set, gate_set_name, opt_level, n_actual,\n",
    "                     False, save_png, save_hist, file_precheck=file_precheck)\n",
    "                characteristics.append([filename_mapped, n_actual, depth])\n",
    "\n",
    "                filename_mapped, depth = get_mapped_layer(qc, gate_set, gate_set_name, opt_level, n_actual,\n",
    "                     True, save_png, save_hist, file_precheck=file_precheck)\n",
    "                characteristics.append([filename_mapped, n_actual, depth])\n",
    "                        \n",
    "                #except Exception as e:\n",
    "                    #print(\"\\n Problem occured in inner loop: \", benchmark, n, gate_set_name, e)\n",
    "        #except Exception as e:\n",
    "            #print(\"\\n Problem occured in outer loop: \", benchmark, n, gate_set_name, e)\n",
    "            #continue\n",
    "\n",
    "            "
   ]
  },
  {
   "cell_type": "code",
   "execution_count": null,
   "id": "7d428e10",
   "metadata": {
    "scrolled": true
   },
   "outputs": [],
   "source": [
    "characteristics = np.array(characteristics)\n",
    "plt.scatter(x=characteristics[:,1].astype(int), y=characteristics[:,2].astype(int))\n",
    "plt.yscale('log')\n",
    "plt.title('Depth and Width of generated Benchmarks')\n",
    "plt.xlabel('# of Qubits')\n",
    "plt.ylabel('Circuit Depth');\n",
    "plt.savefig(\"test\")"
   ]
  },
  {
   "cell_type": "code",
   "execution_count": null,
   "id": "42406353",
   "metadata": {},
   "outputs": [],
   "source": [
    "len(characteristics)"
   ]
  },
  {
   "cell_type": "code",
   "execution_count": null,
   "id": "141cf84a",
   "metadata": {},
   "outputs": [],
   "source": [
    "width_depth_0=[]\n",
    "width_depth_1=[]\n",
    "width_depth_2=[]\n",
    "width_depth_3=[]\n",
    "\n",
    "for f in characteristics:\n",
    "    if \"algorithm\" in f[0]:\n",
    "        width_depth_0.append([f[1], f[2]])       \n",
    "\n",
    "    elif \"t-indep\" in f[0]:\n",
    "        width_depth_1.append([f[1], f[2]])  \n",
    "\n",
    "    elif \"transpiled\" in f[0]:\n",
    "        width_depth_2.append([f[1], f[2]])  \n",
    "        \n",
    "    elif \"mapped\" in f[0]:\n",
    "        width_depth_3.append([f[1], f[2]])   \n"
   ]
  },
  {
   "cell_type": "code",
   "execution_count": null,
   "id": "8dbb8581",
   "metadata": {},
   "outputs": [],
   "source": [
    "import random\n",
    "import numpy\n",
    "from matplotlib import pyplot\n",
    "\n",
    "\n",
    "\n",
    "width_depth_0 = np.array(width_depth_0)\n",
    "width_depth_1 = np.array(width_depth_1)\n",
    "width_depth_2 = np.array(width_depth_2)\n",
    "width_depth_3 = np.array(width_depth_3)\n",
    "\n",
    "plt.scatter(x=width_depth_0[:,0].astype(int), y=width_depth_0[:,1].astype(int), label=\"0\")\n",
    "plt.yscale('log')\n",
    "plt.title('Algorithm Layer')\n",
    "plt.xlabel('# of Qubits')\n",
    "plt.ylabel('Circuit Depth')\n",
    "plt.xlim([0, 80])\n",
    "plt.ylim([0, 10200])\n",
    "plt.savefig(\"layer_0.pdf\")\n",
    "pyplot.show();\n",
    "plt.scatter(x=width_depth_1[:,0].astype(int), y=width_depth_1[:,1].astype(int), label=\"1\")\n",
    "plt.yscale('log')\n",
    "plt.title('Target-independent Layer')\n",
    "plt.xlabel('# of Qubits')\n",
    "plt.ylabel('Circuit Depth')\n",
    "plt.xlim([0, 80])\n",
    "plt.ylim([0, 10200])\n",
    "plt.savefig(\"layer_1.pdf\")\n",
    "pyplot.show();\n",
    "plt.scatter(x=width_depth_2[:,0].astype(int), y=width_depth_2[:,1].astype(int), label=\"2\")\n",
    "plt.yscale('log')\n",
    "plt.title('Target-dependent Layer with native gates')\n",
    "plt.xlabel('# of Qubits')\n",
    "plt.ylabel('Circuit Depth')\n",
    "plt.xlim([0, 80])\n",
    "plt.ylim([0, 10200])\n",
    "plt.savefig(\"layer_2.pdf\")\n",
    "pyplot.show();\n",
    "plt.scatter(x=width_depth_3[:,0].astype(int), y=width_depth_3[:,1].astype(int), label=\"3\")\n",
    "plt.yscale('log')\n",
    "plt.title('Target-independent Layer with native gates and mapping')\n",
    "plt.xlabel('# of Qubits')\n",
    "plt.ylabel('Circuit Depth')\n",
    "plt.xlim([0, 80])\n",
    "plt.ylim([0, 10200])\n",
    "plt.savefig(\"layer_3.pdf\")\n",
    "pyplot.show();\n"
   ]
  },
  {
   "cell_type": "markdown",
   "id": "e50f9ad1",
   "metadata": {},
   "source": [
    "Grover Test"
   ]
  },
  {
   "cell_type": "code",
   "execution_count": null,
   "id": "08fd0a9f",
   "metadata": {},
   "outputs": [],
   "source": [
    "from qiskit import QuantumCircuit, QuantumRegister, AncillaRegister\n",
    "from qiskit.circuit.library import GroverOperator\n",
    "from qiskit.qasm import pi\n",
    "from qiskit.algorithms import Grover\n",
    "\n",
    "# checked\n",
    "\n",
    "def create_circuit(n: int, ancillary_mode: str = 'noancilla'):\n",
    "    n = n - 1  # magic number due to the flag qubit\n",
    "    q = QuantumRegister(n, 'q')\n",
    "    flag = AncillaRegister(1, 'flag')\n",
    "\n",
    "    state_preparation = QuantumCircuit(q, flag)\n",
    "    state_preparation.h(q)\n",
    "    state_preparation.x(flag)\n",
    "\n",
    "    oracle = QuantumCircuit(q, flag)\n",
    "    oracle.mct(q, flag)\n",
    "\n",
    "    operator = GroverOperator(oracle, mcx_mode=ancillary_mode)\n",
    "    iterations = Grover.optimal_num_iterations(1, n)\n",
    "\n",
    "    num_qubits = operator.num_qubits - 1 #-1 because last qubit is \"flag\" qubit and already taken care of\n",
    "\n",
    "    # num_qubits may differe now depending on the mcx_mode\n",
    "\n",
    "    q2 = QuantumRegister(num_qubits, 'q')\n",
    "    qc = QuantumCircuit(q2, flag, name='grover')\n",
    "    qc.compose(state_preparation, inplace=True)\n",
    "\n",
    "    qc.compose(operator.power(iterations), inplace=True)\n",
    "    qc.measure_all()\n",
    "\n",
    "    return qc\n",
    "\n",
    "\n"
   ]
  },
  {
   "cell_type": "code",
   "execution_count": null,
   "id": "693d26bf",
   "metadata": {
    "scrolled": true
   },
   "outputs": [],
   "source": [
    "qc = create_circuit(9)\n",
    "qc.draw()\n"
   ]
  },
  {
   "cell_type": "code",
   "execution_count": null,
   "id": "cb61e96c",
   "metadata": {},
   "outputs": [],
   "source": [
    "import numpy as np\n",
    "from qiskit.algorithms.linear_solvers.matrices.tridiagonal_toeplitz import TridiagonalToeplitz\n",
    "from qiskit.algorithms.linear_solvers.hhl import HHL\n",
    "\n",
    "def create_circuit(n: int):\n",
    "    a = 1\n",
    "    b = -1 / 3\n",
    "\n",
    "    vector = np.array([1] + [0] * (2 ** n - 1))\n",
    "    tridi_matrix = TridiagonalToeplitz(n, a, b)\n",
    "    qc = HHL().solve(tridi_matrix, vector).state\n",
    "\n",
    "    qc.name = \"HHL\"\n",
    "    qc.measure_all()\n",
    "\n",
    "    return qc"
   ]
  },
  {
   "cell_type": "code",
   "execution_count": null,
   "id": "6149df51",
   "metadata": {},
   "outputs": [],
   "source": [
    "qc = create_circuit(1).decompose().decompose().decompose()\n",
    "qc.draw()"
   ]
  },
  {
   "cell_type": "code",
   "execution_count": null,
   "id": "946fd8e6",
   "metadata": {},
   "outputs": [],
   "source": [
    "with open('bell.qpy', 'wb') as fd:\n",
    "    qpy_serialization.dump(qc, fd)\n",
    "\n",
    "with open('bell.qpy', 'rb') as fd:\n",
    "    new_qc = qpy_serialization.load(fd)[0]\n",
    "new_qc.draw()"
   ]
  },
  {
   "cell_type": "code",
   "execution_count": null,
   "id": "a4c2dc8a",
   "metadata": {},
   "outputs": [],
   "source": [
    "from qiskit_textbook.problems import grover_problem_oracle\n",
    "## Example Usage\n",
    "n = 4\n",
    "oracle = grover_problem_oracle(n, variant=1)  # 0th variant of oracle, with n qubits\n",
    "qc = QuantumCircuit(n)\n",
    "qc.append(oracle, [0,1,2,3])\n",
    "qc.draw()"
   ]
  },
  {
   "cell_type": "markdown",
   "id": "a250eb12",
   "metadata": {},
   "source": [
    "Qiskit Finance Test"
   ]
  },
  {
   "cell_type": "code",
   "execution_count": null,
   "id": "08af7622",
   "metadata": {
    "scrolled": true
   },
   "outputs": [],
   "source": [
    "\n",
    "from src.benchmarks.qiskit_application_finance import portfolio_optimization_qaoa, portfolio_optimization_vqe, pricing_eur_call_opt, pricing_eur_put_opt\n",
    "num_qubits_test = 5\n",
    "a = pricing_eur_put_opt.create_circuit(num_qubits_test)\n",
    "b = get_compiled_circuit(a, opt_level=2, basis_gates=basis_gates)\n",
    "save_as_qasm(b, num_qubits_test, basis_gates)\n",
    "c = get_compiled_circuit(b, opt_level=2, basis_gates=basis_gates, c_map=c_map)\n",
    "save_as_qasm(c, num_qubits_test, basis_gates, True, c_map, backend.name() if backend.name() else \"\")"
   ]
  },
  {
   "cell_type": "markdown",
   "id": "8cc96b30",
   "metadata": {},
   "source": [
    "Qiskit Optimization Test"
   ]
  },
  {
   "cell_type": "code",
   "execution_count": null,
   "id": "1dd73b28",
   "metadata": {},
   "outputs": [],
   "source": [
    "\n",
    "from src.benchmarks.qiskit_application_optimization import vehicle_routing\n",
    "num_qubits_test = 5\n",
    "a = vehicle_routing.create_circuit(3,3)\n",
    "#b = get_compiled_circuit(a, opt_level=2)\n",
    "#save_as_qasm(b, num_qubits_test)\n",
    "#c = get_compiled_circuit(b, opt_level=2, c_map=c_map)\n",
    "#save_as_qasm(c, num_qubits_test, True)"
   ]
  },
  {
   "cell_type": "markdown",
   "id": "f865ea59",
   "metadata": {},
   "source": [
    "Qiskit Machine Learning Test"
   ]
  },
  {
   "cell_type": "code",
   "execution_count": null,
   "id": "54900741",
   "metadata": {},
   "outputs": [],
   "source": [
    "import numpy as np\n",
    "seed = 71\n",
    "np.random.seed = seed\n",
    "\n",
    "import matplotlib.pyplot as plt\n",
    "%matplotlib inline\n",
    "\n",
    "from qiskit import QuantumRegister, QuantumCircuit, BasicAer\n",
    "from qiskit.circuit.library import TwoLocal, UniformDistribution\n",
    "\n",
    "from qiskit.utils import QuantumInstance, algorithm_globals\n",
    "from qiskit_machine_learning.algorithms import NumPyDiscriminator, QGAN\n",
    "\n",
    "algorithm_globals.random_seed = seed\n",
    "\n",
    "# Number training data samples\n",
    "N = 1000\n",
    "\n",
    "# Load data samples from log-normal distribution with mean=1 and standard deviation=1\n",
    "mu = 1\n",
    "sigma = 1\n",
    "real_data = np.random.lognormal(mean=mu, sigma=sigma, size=N)\n",
    "\n",
    "# Set the data resolution\n",
    "# Set upper and lower data values as list of k min/max data values [[min_0,max_0],...,[min_k-1,max_k-1]]\n",
    "bounds = np.array([0., 3.])\n",
    "# Set number of qubits per data dimension as list of k qubit values[#q_0,...,#q_k-1]\n",
    "num_qubits = [3]\n",
    "k = len(num_qubits)"
   ]
  },
  {
   "cell_type": "code",
   "execution_count": null,
   "id": "3b48c545",
   "metadata": {},
   "outputs": [],
   "source": [
    "# Set number of training epochs\n",
    "# Note: The algorithm's runtime can be shortened by reducing the number of training epochs.\n",
    "num_epochs = 10\n",
    "# Batch size\n",
    "batch_size = 100\n",
    "\n",
    "# Initialize qGAN\n",
    "qgan = QGAN(real_data, bounds, num_qubits, batch_size, num_epochs, snapshot_dir=None)\n",
    "qgan.seed = 1\n",
    "# Set quantum instance to run the quantum generator\n",
    "quantum_instance = QuantumInstance(\n",
    "    backend=BasicAer.get_backend(\"statevector_simulator\"), seed_transpiler=seed, seed_simulator=seed\n",
    ")\n",
    "\n",
    "# Set entangler map\n",
    "#entangler_map = [[0, 1]]\n",
    "\n",
    "\n",
    "# Set an initial state for the generator circuit\n",
    "init_dist = UniformDistribution(sum(num_qubits))\n",
    "\n",
    "# Set the ansatz circuit\n",
    "ansatz = TwoLocal(int(np.sum(num_qubits)), \"ry\", \"cz\",  reps=1) #entanglement=entangler_map,\n",
    "\n",
    "# Set generator's initial parameters - in order to reduce the training time and hence the\n",
    "# total running time for this notebook\n",
    "#init_params = [3.0, 1.0, 0.6, 1.6]\n",
    "\n",
    "# You can increase the number of training epochs and use random initial parameters.\n",
    "init_params = np.random.rand(ansatz.num_parameters_settable) * 2 * np.pi\n",
    "\n",
    "# Set generator circuit by adding the initial distribution infront of the ansatz\n",
    "g_circuit = ansatz.compose(init_dist, front=True)\n",
    "\n",
    "# Set quantum generator\n",
    "qgan.set_generator(generator_circuit=g_circuit, generator_init_params=init_params)\n",
    "# The parameters have an order issue that following is a temp. workaround\n",
    "qgan._generator._free_parameters = sorted(g_circuit.parameters, key=lambda p: p.name)\n",
    "# Set classical discriminator neural network\n",
    "discriminator = NumPyDiscriminator(len(num_qubits))\n",
    "qgan.set_discriminator(discriminator)"
   ]
  },
  {
   "cell_type": "code",
   "execution_count": null,
   "id": "725e64a3",
   "metadata": {},
   "outputs": [],
   "source": [
    "# Run qGAN\n",
    "result = qgan.run(quantum_instance)"
   ]
  },
  {
   "cell_type": "code",
   "execution_count": null,
   "id": "a8e53a40",
   "metadata": {},
   "outputs": [],
   "source": [
    "params = qgan.generator.parameter_values"
   ]
  },
  {
   "cell_type": "code",
   "execution_count": null,
   "id": "e48d1af2",
   "metadata": {},
   "outputs": [],
   "source": [
    "params = qgan.generator.parameter_values\n",
    "qc = qgan.generator.construct_circuit(params=params)\n",
    "qc.draw()"
   ]
  },
  {
   "cell_type": "code",
   "execution_count": null,
   "id": "e965cd42",
   "metadata": {
    "scrolled": true
   },
   "outputs": [],
   "source": [
    "qgan.generator.generator_circuit.draw()"
   ]
  },
  {
   "cell_type": "code",
   "execution_count": null,
   "id": "cbca6d03",
   "metadata": {},
   "outputs": [],
   "source": [
    "#Plot the CDF of the resulting distribution against the target distribution, i.e. log-normal\n",
    "log_normal = np.random.lognormal(mean=1, sigma=1, size=100000)\n",
    "log_normal = np.round(log_normal)\n",
    "log_normal = log_normal[log_normal <= bounds[1]]\n",
    "temp = []\n",
    "for i in range(int(bounds[1] + 1)):\n",
    "    temp += [np.sum(log_normal==i)]\n",
    "log_normal = np.array(temp / sum(temp))\n",
    "\n",
    "plt.figure(figsize=(6,5))\n",
    "plt.title('CDF (Cumulative Distribution Function)')\n",
    "samples_g, prob_g = qgan.generator.get_output(qgan.quantum_instance, shots=10000)\n",
    "samples_g = np.array(samples_g)\n",
    "samples_g = samples_g.flatten()\n",
    "num_bins = len(prob_g)\n",
    "plt.bar(samples_g,  np.cumsum(prob_g), color='royalblue', width= 0.8, label='simulation')\n",
    "plt.plot( np.cumsum(log_normal),'-o', label='log-normal', color='deepskyblue', linewidth=4, markersize=12)\n",
    "plt.xticks(np.arange(min(samples_g), max(samples_g)+1, 1.0))\n",
    "plt.grid()\n",
    "plt.xlabel('x')\n",
    "plt.ylabel('p(x)')\n",
    "plt.legend(loc='best')\n",
    "plt.show()"
   ]
  },
  {
   "cell_type": "markdown",
   "id": "4e60df76",
   "metadata": {},
   "source": [
    "Qiskit Application Optimization: TSP and vehicle routing Test"
   ]
  },
  {
   "cell_type": "code",
   "execution_count": null,
   "id": "0afd8158",
   "metadata": {},
   "outputs": [],
   "source": [
    "from src.benchmarks.qiskit_application_optimization import travelling_salesman, vehicle_routing"
   ]
  },
  {
   "cell_type": "code",
   "execution_count": null,
   "id": "3fc4cfc9",
   "metadata": {},
   "outputs": [],
   "source": [
    "qc = vehicle_routing.create_circuit(4,1)"
   ]
  },
  {
   "cell_type": "code",
   "execution_count": null,
   "id": "54aeb731",
   "metadata": {},
   "outputs": [],
   "source": [
    "qc1, qp1 = vehicle_routing.create_circuit(4,2)"
   ]
  },
  {
   "cell_type": "code",
   "execution_count": null,
   "id": "dc02ea7e",
   "metadata": {},
   "outputs": [],
   "source": [
    "qc2, qp2  = vehicle_routing.create_circuit(4,3)"
   ]
  },
  {
   "cell_type": "code",
   "execution_count": null,
   "id": "ca90a248",
   "metadata": {},
   "outputs": [],
   "source": [
    "qc3, qp3  = vehicle_routing.create_circuit(4,4)"
   ]
  },
  {
   "cell_type": "code",
   "execution_count": null,
   "id": "09f738a3",
   "metadata": {},
   "outputs": [],
   "source": [
    "from qiskit.quantum_info import Statevector\n",
    "print(Statevector.from_instruction(qc1).equiv(Statevector.from_instruction(qc2)),\n",
    "Statevector.from_instruction(qc1).equiv(Statevector.from_instruction(qc3)),\n",
    "Statevector.from_instruction(qc3).equiv(Statevector.from_instruction(qc2)))"
   ]
  },
  {
   "cell_type": "markdown",
   "id": "07ab2726",
   "metadata": {},
   "source": [
    "QGAN Test"
   ]
  },
  {
   "cell_type": "code",
   "execution_count": null,
   "id": "a3243d32",
   "metadata": {},
   "outputs": [],
   "source": [
    "from src.benchmarks.qiskit_application_ml import qgan"
   ]
  },
  {
   "cell_type": "code",
   "execution_count": null,
   "id": "ccda1827",
   "metadata": {},
   "outputs": [],
   "source": [
    "a = qgan.create_circuit(4)"
   ]
  },
  {
   "cell_type": "code",
   "execution_count": null,
   "id": "b2585afa",
   "metadata": {},
   "outputs": [],
   "source": [
    "a.decompose().draw()"
   ]
  },
  {
   "cell_type": "code",
   "execution_count": null,
   "id": "ab7b191b",
   "metadata": {},
   "outputs": [],
   "source": [
    "qc.draw()"
   ]
  },
  {
   "cell_type": "markdown",
   "id": "fd85ec7e",
   "metadata": {},
   "source": [
    "Qiskit Application Finance Test"
   ]
  },
  {
   "cell_type": "code",
   "execution_count": null,
   "id": "bc9ae0ba",
   "metadata": {},
   "outputs": [],
   "source": [
    "from src.benchmarks.qiskit_application_finance import portfolio_optimization_qaoa, portfolio_optimization_vqe, pricing_eur_call_opt, pricing_eur_put_opt"
   ]
  },
  {
   "cell_type": "code",
   "execution_count": null,
   "id": "da205b5e",
   "metadata": {},
   "outputs": [],
   "source": [
    "b = portfolio_optimization_qaoa.create_circuit(5)"
   ]
  },
  {
   "cell_type": "code",
   "execution_count": null,
   "id": "5a70da6b",
   "metadata": {},
   "outputs": [],
   "source": [
    "b.draw()"
   ]
  },
  {
   "cell_type": "code",
   "execution_count": null,
   "id": "799ceea1",
   "metadata": {},
   "outputs": [],
   "source": [
    "c = portfolio_optimization_vqe.create_circuit(4)\n",
    "c.draw()"
   ]
  },
  {
   "cell_type": "code",
   "execution_count": null,
   "id": "b9c81f95",
   "metadata": {},
   "outputs": [],
   "source": [
    "d = pricing_eur_call_opt.create_circuit(4)\n",
    "d.draw()"
   ]
  },
  {
   "cell_type": "code",
   "execution_count": null,
   "id": "358357e7",
   "metadata": {},
   "outputs": [],
   "source": [
    "e, iae = pricing_eur_put_opt.create_circuit(2)\n",
    "e.draw()"
   ]
  },
  {
   "cell_type": "code",
   "execution_count": null,
   "id": "0540ab4c",
   "metadata": {},
   "outputs": [],
   "source": [
    "test1 = iae.construct_circuit(1)\n",
    "test1.decompose().decompose().decompose().draw()"
   ]
  },
  {
   "cell_type": "code",
   "execution_count": null,
   "id": "775ad88d",
   "metadata": {},
   "outputs": [],
   "source": [
    "test2 = iae.construct_circuit(2)\n",
    "test2.decompose().decompose().decompose().draw()"
   ]
  },
  {
   "cell_type": "code",
   "execution_count": null,
   "id": "c05a417d",
   "metadata": {},
   "outputs": [],
   "source": [
    "test1 == test2"
   ]
  },
  {
   "cell_type": "markdown",
   "id": "b73c47f4",
   "metadata": {},
   "source": [
    "Qiskit Application Nature Test"
   ]
  },
  {
   "cell_type": "markdown",
   "id": "437eb787",
   "metadata": {},
   "source": [
    "Random debugging"
   ]
  },
  {
   "cell_type": "code",
   "execution_count": null,
   "id": "e8fb7038",
   "metadata": {},
   "outputs": [],
   "source": [
    "qc = routing.create_circuit(5,2)"
   ]
  },
  {
   "cell_type": "code",
   "execution_count": null,
   "id": "b46e1098",
   "metadata": {},
   "outputs": [],
   "source": [
    "qc.num_qubits"
   ]
  },
  {
   "cell_type": "code",
   "execution_count": null,
   "id": "5762a527",
   "metadata": {},
   "outputs": [],
   "source": [
    "qc = routing.create_circuit(5,2)\n",
    "qc.num_qubits"
   ]
  },
  {
   "cell_type": "code",
   "execution_count": null,
   "id": "c1e36d13",
   "metadata": {},
   "outputs": [],
   "source": [
    "qc = tsp.create_circuit(3)\n",
    "qc.num_qubits"
   ]
  },
  {
   "cell_type": "code",
   "execution_count": null,
   "id": "4aefa948",
   "metadata": {},
   "outputs": [],
   "source": [
    "qc = tsp.create_circuit(4)\n",
    "qc.num_qubits"
   ]
  },
  {
   "cell_type": "code",
   "execution_count": null,
   "id": "c7302cc3",
   "metadata": {},
   "outputs": [],
   "source": [
    "from qiskit_nature.mappers.second_quantization import JordanWignerMapper\n",
    "from qiskit_nature.drivers import Molecule\n",
    "from qiskit_nature.drivers.second_quantization import (\n",
    "    ElectronicStructureDriverType,\n",
    "    ElectronicStructureMoleculeDriver,\n",
    ")\n",
    "from qiskit_nature.problems.second_quantization import ElectronicStructureProblem\n",
    "from qiskit_nature.converters.second_quantization import QubitConverter\n",
    "from qiskit_nature.mappers.second_quantization import JordanWignerMapper\n",
    "from qiskit import Aer\n",
    "from qiskit.utils import QuantumInstance\n",
    "from qiskit_nature.algorithms import VQEUCCFactory\n",
    "from qiskit_nature.algorithms import GroundStateEigensolver\n",
    "from qiskit.circuit.library import TwoLocal\n",
    "from qiskit.algorithms import VQE\n",
    "\n",
    "def create_circuit(molecule:Molecule):\n",
    "    driver = ElectronicStructureMoleculeDriver(\n",
    "        molecule, basis=\"sto3g\", driver_type=ElectronicStructureDriverType.PYSCF\n",
    "    )\n",
    "\n",
    "    es_problem = ElectronicStructureProblem(driver)\n",
    "    qubit_converter = QubitConverter(JordanWignerMapper())\n",
    "\n",
    "    quantum_instance = QuantumInstance(backend=Aer.get_backend(\"aer_simulator_statevector\"))\n",
    "    #vqe_solver = VQEUCCFactory(quantum_instance)\n",
    "\n",
    "    tl_circuit = TwoLocal(\n",
    "        rotation_blocks=[\"h\", \"rx\"],\n",
    "        entanglement_blocks=\"cz\",\n",
    "        entanglement=\"full\",\n",
    "        reps=2,\n",
    "        parameter_prefix=\"y\",\n",
    "    )\n",
    "\n",
    "    another_solver = VQE(\n",
    "        ansatz=tl_circuit,\n",
    "        quantum_instance=QuantumInstance(Aer.get_backend(\"aer_simulator_statevector\")),\n",
    "    )\n",
    "\n",
    "\n",
    "    calc = GroundStateEigensolver(qubit_converter, another_solver)\n",
    "    res = calc.solve(es_problem)\n",
    "\n",
    "    qc = another_solver.get_optimal_circuit()\n",
    "    qc.name = \"groundstate\"\n",
    "    qc.measure_all()\n",
    "\n",
    "    return qc"
   ]
  },
  {
   "cell_type": "code",
   "execution_count": null,
   "id": "39d44159",
   "metadata": {},
   "outputs": [],
   "source": [
    "molecule = Molecule(\n",
    "    geometry=[[\"H\", [0.0, 0.0, 0.0]], [\"H\", [0.0, 0.0, 0.735]]], charge=0, multiplicity=1\n",
    ")\n",
    "qc = create_circuit(molecule)"
   ]
  },
  {
   "cell_type": "code",
   "execution_count": null,
   "id": "b3019f48",
   "metadata": {},
   "outputs": [],
   "source": [
    "simulator = Aer.get_backend('qasm_simulator')\n",
    "result = simulator.run(qc, shots=1024).result()\n",
    "qc.draw()\n"
   ]
  },
  {
   "cell_type": "code",
   "execution_count": null,
   "id": "f628a087",
   "metadata": {},
   "outputs": [],
   "source": [
    "counts = result.get_counts()\n",
    "#plot = plot_histogram(counts)"
   ]
  },
  {
   "cell_type": "code",
   "execution_count": null,
   "id": "f8394c0e",
   "metadata": {},
   "outputs": [],
   "source": [
    "qc = vqe.create_circuit(3)\n",
    "qc.draw()\n"
   ]
  },
  {
   "cell_type": "code",
   "execution_count": null,
   "id": "68b8ec25",
   "metadata": {},
   "outputs": [],
   "source": [
    "simulator = Aer.get_backend('qasm_simulator')\n",
    "result = simulator.run(qc, shots=1024).result()"
   ]
  },
  {
   "cell_type": "code",
   "execution_count": null,
   "id": "77beb464",
   "metadata": {},
   "outputs": [],
   "source": [
    "import numpy as np\n",
    "from qiskit.algorithms.linear_solvers.matrices.tridiagonal_toeplitz import TridiagonalToeplitz\n",
    "from qiskit.algorithms.linear_solvers.hhl import HHL\n",
    "n=2\n",
    "a = 1\n",
    "b = -1 / 3\n",
    "\n",
    "vector = np.array([1] + [0] * (2 ** n - 1))\n",
    "tridi_matrix = TridiagonalToeplitz(n, a, b)\n",
    "qc = HHL().solve(tridi_matrix, vector).state\n",
    "\n",
    "qc.name = \"HHL\"\n",
    "qc.measure_all()"
   ]
  },
  {
   "cell_type": "code",
   "execution_count": null,
   "id": "12623a51",
   "metadata": {},
   "outputs": [],
   "source": [
    "qc.qasm()"
   ]
  },
  {
   "cell_type": "code",
   "execution_count": null,
   "id": "4f8aa262",
   "metadata": {},
   "outputs": [],
   "source": []
  }
 ],
 "metadata": {
  "kernelspec": {
   "display_name": "Python 3 (ipykernel)",
   "language": "python",
   "name": "python3"
  },
  "language_info": {
   "codemirror_mode": {
    "name": "ipython",
    "version": 3
   },
   "file_extension": ".py",
   "mimetype": "text/x-python",
   "name": "python",
   "nbconvert_exporter": "python",
   "pygments_lexer": "ipython3",
   "version": "3.9.7"
  }
 },
 "nbformat": 4,
 "nbformat_minor": 5
}
