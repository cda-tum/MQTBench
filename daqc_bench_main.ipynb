{
 "cells": [
  {
   "cell_type": "code",
   "execution_count": 2,
   "id": "beaa99e7",
   "metadata": {},
   "outputs": [],
   "source": [
    "from qiskit import QuantumCircuit, QuantumRegister, ClassicalRegister, AncillaRegister, IBMQ, Aer, __qiskit_version__\n",
    "from qiskit.circuit.library import QFT, GraphState, GroverOperator\n",
    "from qiskit.qasm import pi\n",
    "\n",
    "import numpy as np\n",
    "import matplotlib.pyplot as plt\n",
    "\n",
    "from src.utils import *\n",
    "from src.benchmarks import grover, qaoa, ghz, qft, qftentangled, shor, wstate, qpeinexact, qpeexact, graphstate, vqe, deutschjozsa, hhl, ae, qwalk"
   ]
  },
  {
   "cell_type": "code",
   "execution_count": 3,
   "id": "b44a65ca",
   "metadata": {},
   "outputs": [],
   "source": [
    "provider = IBMQ.load_account()\n",
    "backend = provider.backend.ibmq_santiago\n",
    "c_map = backend.configuration().coupling_map\n",
    "\n",
    "#from qiskit.test.mock import FakeMontreal\n",
    "#fake_backend = FakeMontreal()\n",
    "#c_map = fake_backend.configuration().coupling_map\n",
    "\n",
    "max_n_arch = max(max(c_map))"
   ]
  },
  {
   "cell_type": "code",
   "execution_count": 4,
   "id": "0c626676",
   "metadata": {},
   "outputs": [],
   "source": [
    "ibm_native_gates = backend.configuration().basis_gates\n",
    "rigetti_native_gates = ['rx','rz','cz']"
   ]
  },
  {
   "cell_type": "code",
   "execution_count": 5,
   "id": "e5a7f0b4",
   "metadata": {},
   "outputs": [],
   "source": [
    "benchmarks = [graphstate, grover, qaoa, ghz, qft, wstate, qpeinexact, qpeexact, vqe, deutschjozsa, hhl, shor, ae, qwalk]"
   ]
  },
  {
   "cell_type": "code",
   "execution_count": 6,
   "id": "682cf615",
   "metadata": {},
   "outputs": [],
   "source": [
    "n_min = 3\n",
    "n_max = 6\n",
    "opt_level = 2\n",
    "num_qubits_test = 5\n",
    "save_hist = True\n",
    "simulator = Aer.get_backend('qasm_simulator')\n",
    "gate_set_name = \"ibm\""
   ]
  },
  {
   "cell_type": "code",
   "execution_count": null,
   "id": "39cec9c1",
   "metadata": {},
   "outputs": [],
   "source": [
    "characteristics = []\n",
    "\n",
    "if (gate_set_name == \"ibm\"):\n",
    "    basis_gates = ibm_native_gates\n",
    "elif (gate_set_name == \"rigetti\"):\n",
    "    basis_gates = rigetti_native_gates\n",
    "else:\n",
    "    raise ValueError(\"Gate Set Error\")\n",
    "\n",
    "for benchmark in benchmarks:\n",
    "    if benchmark == shor or benchmark == (hhl):\n",
    "        continue\n",
    "    for n in range(n_min, n_max):  \n",
    "        qc = benchmark.create_circuit(n)\n",
    "        \n",
    "        filename = qc.name + \"_algorithm_\" + str(n) \n",
    "        \n",
    "        serialize_qc(qc, n, filename)          \n",
    "        save_circ(qc, filename)\n",
    "        \n",
    "        compiled_without_architecure = get_compiled_circuit(qc = qc, opt_level=opt_level, basis_gates=basis_gates)\n",
    "        filename_transpiled = qc.name + \"_transpiled_\" + gate_set_name + \"_opt\" + str(opt_level) + \"_\"+ str(n) \n",
    "        save_as_qasm(compiled_without_architecure, n, filename_transpiled , basis_gates, opt_level)       \n",
    "        \n",
    "        depth = compiled_without_architecure.depth()\n",
    "        \n",
    "        characteristics.append([filename_transpiled, n, depth]) \n",
    "        save_circ(compiled_without_architecure, filename_transpiled)   \n",
    "        \n",
    "        if save_hist:\n",
    "            sim_and_print_hist(compiled_without_architecure, simulator, filename_transpiled)\n",
    "        \n",
    "        if (len(compiled_without_architecure.qubits) < max_n_arch):\n",
    "            compiled_with_architecture = get_compiled_circuit(qc = qc, opt_level=opt_level, \n",
    "                                                              basis_gates=basis_gates, c_map=c_map)\n",
    "            filename_mapped = qc.name + \"_mapped_\" + gate_set_name + \"_opt\" + str(opt_level) + \"_\"+ str(n) \n",
    "            save_as_qasm(compiled_with_architecture, n, filename_mapped, basis_gates, \n",
    "                         opt_level, True, c_map, backend.name() if backend.name() else \"\")\n",
    "            \n",
    "            depth = compiled_with_architecture.depth()\n",
    "            characteristics.append([filename_mapped, n, depth])\n",
    "            save_circ(compiled_with_architecture, filename_mapped)\n",
    "\n",
    "            if save_hist:\n",
    "                sim_and_print_hist(compiled_with_architecture, simulator, filename_mapped)\n",
    "                \n",
    "                \n",
    "## !Todo: both shor and hhl scripts needs to be adjusted to chances to this cell\n",
    "#create_shor_benchmarks()\n",
    "#create_hhl_benchmarks()"
   ]
  },
  {
   "cell_type": "code",
   "execution_count": null,
   "id": "7d428e10",
   "metadata": {
    "scrolled": true
   },
   "outputs": [],
   "source": [
    "characteristics = np.array(characteristics)\n",
    "plt.scatter(x=characteristics[:,1].astype(int), y=characteristics[:,2].astype(int))\n",
    "plt.yscale('log')\n",
    "plt.title('Depth and Width of generated Benchmarks')\n",
    "plt.xlabel('# of Qubits')\n",
    "plt.ylabel('Circuit Depth');"
   ]
  },
  {
   "cell_type": "code",
   "execution_count": null,
   "id": "e673c80d",
   "metadata": {},
   "outputs": [],
   "source": [
    "def create_shor_benchmarks():\n",
    "    small = [15,4] #18 qubits\n",
    "    medium = [821, 4] #42 qubits\n",
    "    large = [11777, 4] #58 qubits\n",
    "    xlarge = [201209, 4] # 74 qubits\n",
    "    benchmark_list = [small]#, medium, large, xlarge]\n",
    "    for n, a in benchmark_list:         \n",
    "        qc = shor.create_circuit(n,a)\n",
    "        num_qubits = len(qc.qubits)\n",
    "        \n",
    "        serialize_qc(qc, num_qubits) \n",
    "        \n",
    "        filename = qc.name + str(n) \n",
    "        save_circ(qc, filename)\n",
    "        \n",
    "        compiled_without_architecure = get_compiled_circuit(qc = qc, opt_level=opt_level, basis_gates=basis_gates)\n",
    "        num_qubits = len(compiled_without_architecure.qubits)\n",
    "        save_as_qasm(compiled_without_architecure, num_qubits, basis_gates) \n",
    "        \n",
    "        filename = qc.name + \"_transpiled_\" + str(num_qubits)\n",
    "        depth = compiled_without_architecure.depth()        \n",
    "        characteristics.append([filename, num_qubits, depth])\n",
    "        save_circ(compiled_without_architecure, filename)   \n",
    "        \n",
    "        if save_hist:\n",
    "            sim_and_print_hist(compiled_without_architecure, simulator, filename)\n",
    "        \n",
    "        if (num_qubits < max_n_arch):\n",
    "            compiled_with_architecture = get_compiled_circuit(qc = qc, opt_level=opt_level,\n",
    "                                                              basis_gates=basis_gates, c_map=c_map)\n",
    "            save_as_qasm(compiled_with_architecture, num_qubits, basis_gates, True, c_map, \n",
    "                         backend.name() if backend.name() else \"\")\n",
    "            \n",
    "            filename = qc.name + \"_transpiled_mapped_\" + str(num_qubits)\n",
    "            depth = compiled_with_architecture.depth()\n",
    "            characteristics.append([filename, num_qubits, depth])\n",
    "            save_circ(compiled_with_architecture, filename)\n",
    "            \n",
    "            if save_hist:\n",
    "                sim_and_print_hist(compiled_with_architecture, simulator, filename)"
   ]
  },
  {
   "cell_type": "code",
   "execution_count": null,
   "id": "3df29386",
   "metadata": {},
   "outputs": [],
   "source": [
    "def create_hhl_benchmarks():\n",
    "    # n is not the number of qubits in this case\n",
    "    for n in range(1,4):         \n",
    "        qc = hhl.create_circuit(n)\n",
    "        \n",
    "        num_qubits = len(qc.qubits)\n",
    "        \n",
    "        serialize_qc(qc, num_qubits) \n",
    "        compiled_without_architecure = get_compiled_circuit(qc = qc, opt_level=opt_level, basis_gates=basis_gates)\n",
    "        num_qubits = len(compiled_without_architecure.qubits)\n",
    "        save_as_qasm(compiled_without_architecure, num_qubits)        \n",
    "        \n",
    "        filename = qc.name + \"_transpiled_\" + str(num_qubits)\n",
    "        depth = compiled_without_architecure.depth()        \n",
    "        characteristics.append([filename, num_qubits, depth])\n",
    "        \n",
    "        if print_hist:\n",
    "            sim_and_print_hist(compiled_without_architecure, simulator, filename)\n",
    "        \n",
    "        if (num_qubits < max_n_arch):\n",
    "            compiled_with_architecture = get_compiled_circuit(qc = qc, opt_level=opt_level, \n",
    "                                                              basis_gates=basis_gates, c_map=c_map)\n",
    "            save_as_qasm(compiled_with_architecture, num_qubits, True)\n",
    "            \n",
    "            filename = qc.name + \"_transpiled_mapped_\" + str(num_qubits)\n",
    "            depth = compiled_with_architecture.depth()\n",
    "            characteristics.append([filename, num_qubits, depth])\n",
    "            \n",
    "            if print_hist:\n",
    "                sim_and_print_hist(compiled_with_architecture, simulator, filename)"
   ]
  },
  {
   "cell_type": "markdown",
   "id": "e50f9ad1",
   "metadata": {},
   "source": [
    "Grover Test"
   ]
  },
  {
   "cell_type": "code",
   "execution_count": null,
   "id": "693d26bf",
   "metadata": {
    "scrolled": true
   },
   "outputs": [],
   "source": [
    "a = grover.create_circuit(num_qubits_test)\n",
    "b = get_compiled_circuit(a, opt_level=2, basis_gates=basis_gates)\n",
    "save_as_qasm(b, num_qubits_test, basis_gates)\n",
    "c = get_compiled_circuit(b, opt_level=2, basis_gates=basis_gates, c_map=c_map)\n",
    "save_as_qasm(c, num_qubits_test, basis_gates, True, c_map, backend.name() if backend.name() else \"\")"
   ]
  },
  {
   "cell_type": "markdown",
   "id": "e22aa20a",
   "metadata": {},
   "source": [
    "QAOA Test"
   ]
  },
  {
   "cell_type": "code",
   "execution_count": null,
   "id": "4519c621",
   "metadata": {},
   "outputs": [],
   "source": [
    "a = qaoa.create_circuit(num_qubits_test)\n",
    "b = get_compiled_circuit(a, opt_level=2, basis_gates=basis_gates)\n",
    "save_as_qasm(b, num_qubits_test, basis_gates)\n",
    "c = get_compiled_circuit(b, opt_level=2, basis_gates=basis_gates, c_map=c_map)\n",
    "save_as_qasm(c, num_qubits_test, basis_gates, True, c_map, backend.name() if backend.name() else \"\")"
   ]
  },
  {
   "cell_type": "markdown",
   "id": "9bfe5941",
   "metadata": {},
   "source": [
    "GHZ Test"
   ]
  },
  {
   "cell_type": "code",
   "execution_count": null,
   "id": "1223017a",
   "metadata": {},
   "outputs": [],
   "source": [
    "a = ghz.create_circuit(num_qubits_test)\n",
    "b = get_compiled_circuit(a, opt_level=2, basis_gates=basis_gates)\n",
    "save_as_qasm(b, num_qubits_test, basis_gates)\n",
    "c = get_compiled_circuit(b, opt_level=2, basis_gates=basis_gates, c_map=c_map)\n",
    "save_as_qasm(c, num_qubits_test, basis_gates, True, c_map, backend.name() if backend.name() else \"\")"
   ]
  },
  {
   "cell_type": "markdown",
   "id": "abbdc9b6",
   "metadata": {},
   "source": [
    "QFT Test"
   ]
  },
  {
   "cell_type": "code",
   "execution_count": null,
   "id": "dc3a8d76",
   "metadata": {},
   "outputs": [],
   "source": [
    "a = qft.create_circuit(num_qubits_test)\n",
    "b = get_compiled_circuit(a, opt_level=2, basis_gates=basis_gates)\n",
    "save_as_qasm(b, num_qubits_test, basis_gates)\n",
    "c = get_compiled_circuit(b, opt_level=2, basis_gates=basis_gates, c_map=c_map)\n",
    "save_as_qasm(c, num_qubits_test, basis_gates, True, c_map, backend.name() if backend.name() else \"\")"
   ]
  },
  {
   "cell_type": "markdown",
   "id": "d9f9b65e",
   "metadata": {},
   "source": [
    "QFT Entangled Test"
   ]
  },
  {
   "cell_type": "code",
   "execution_count": null,
   "id": "90dad9c3",
   "metadata": {},
   "outputs": [],
   "source": [
    "a = qft_entangled.create_circuit(num_qubits_test)\n",
    "b = get_compiled_circuit(a, opt_level=2, basis_gates=basis_gates)\n",
    "save_as_qasm(b, num_qubits_test, basis_gates)\n",
    "c = get_compiled_circuit(b, opt_level=2, basis_gates=basis_gates, c_map=c_map)\n",
    "save_as_qasm(c, num_qubits_test, basis_gates, True, c_map, backend.name() if backend.name() else \"\")"
   ]
  },
  {
   "cell_type": "markdown",
   "id": "b6fbfd51",
   "metadata": {},
   "source": [
    "W-State Test"
   ]
  },
  {
   "cell_type": "code",
   "execution_count": null,
   "id": "28c0fda2",
   "metadata": {},
   "outputs": [],
   "source": [
    "a = w_state.create_circuit(num_qubits_test)\n",
    "b = get_compiled_circuit(a, opt_level=2, basis_gates=basis_gates)\n",
    "save_as_qasm(b, num_qubits_test, basis_gates)\n",
    "c = get_compiled_circuit(b, opt_level=2, basis_gates=basis_gates, c_map=c_map)\n",
    "save_as_qasm(c, num_qubits_test, basis_gates, True, c_map, backend.name() if backend.name() else \"\")"
   ]
  },
  {
   "cell_type": "markdown",
   "id": "63e5e278",
   "metadata": {},
   "source": [
    "QPE Exact and QPE Inexact Test"
   ]
  },
  {
   "cell_type": "code",
   "execution_count": null,
   "id": "0912cc93",
   "metadata": {},
   "outputs": [],
   "source": [
    "a = qpe_exact.create_circuit(num_qubits_test)\n",
    "b = get_compiled_circuit(a, opt_level=2, basis_gates=basis_gates)\n",
    "save_as_qasm(b, num_qubits_test, basis_gates)\n",
    "c = get_compiled_circuit(b, opt_level=2, basis_gates=basis_gates, c_map=c_map)\n",
    "save_as_qasm(c, num_qubits_test, basis_gates, True, c_map, backend.name() if backend.name() else \"\")\n",
    "\n",
    "a = qpe_inexact.create_circuit(num_qubits_test)\n",
    "b = get_compiled_circuit(a, opt_level=2, basis_gates=basis_gates)\n",
    "save_as_qasm(b, num_qubits_test, basis_gates)\n",
    "c = get_compiled_circuit(b, opt_level=2, basis_gates=basis_gates, c_map=c_map)\n",
    "save_as_qasm(c, num_qubits_test, basis_gates, True, c_map, backend.name() if backend.name() else \"\")"
   ]
  },
  {
   "cell_type": "markdown",
   "id": "112cd7a1",
   "metadata": {},
   "source": [
    "Graph State Test"
   ]
  },
  {
   "cell_type": "code",
   "execution_count": null,
   "id": "45c821f1",
   "metadata": {},
   "outputs": [],
   "source": [
    "a = graph_state.create_circuit(num_qubits_test)\n",
    "b = get_compiled_circuit(a, opt_level=2, basis_gates=basis_gates)\n",
    "save_as_qasm(b, num_qubits_test, basis_gates)\n",
    "c = get_compiled_circuit(b, opt_level=2, basis_gates=basis_gates, c_map=c_map)\n",
    "save_as_qasm(c, num_qubits_test, basis_gates, True, c_map, backend.name() if backend.name() else \"\")\n"
   ]
  },
  {
   "cell_type": "markdown",
   "id": "d2eab757",
   "metadata": {},
   "source": [
    "Shor Test"
   ]
  },
  {
   "cell_type": "code",
   "execution_count": null,
   "id": "e63157be",
   "metadata": {},
   "outputs": [],
   "source": [
    "a = shor.create_circuit(15)\n",
    "b = get_compiled_circuit(a, opt_level=2, basis_gates=basis_gates)\n",
    "save_as_qasm(b, None, basis_gates)\n",
    "#c = get_compiled_circuit(b, opt_level=2, c_map=c_map)\n",
    "#save_as_qasm(c, None, True)"
   ]
  },
  {
   "cell_type": "markdown",
   "id": "13f5ad08",
   "metadata": {},
   "source": [
    "AE Test"
   ]
  },
  {
   "cell_type": "code",
   "execution_count": null,
   "id": "ca6920f6",
   "metadata": {},
   "outputs": [],
   "source": [
    "a = ae.create_circuit(num_qubits_test)\n",
    "b = get_compiled_circuit(a, opt_level=2, basis_gates=basis_gates)\n",
    "save_as_qasm(b, num_qubits_test, basis_gates)\n",
    "c = get_compiled_circuit(b, opt_level=2, basis_gates=basis_gates, c_map=c_map)\n",
    "save_as_qasm(c, num_qubits_test, basis_gates, True, c_map, backend.name() if backend.name() else \"\")"
   ]
  },
  {
   "cell_type": "markdown",
   "id": "a474df0e",
   "metadata": {},
   "source": [
    "DJ Test"
   ]
  },
  {
   "cell_type": "code",
   "execution_count": null,
   "id": "cdd038af",
   "metadata": {},
   "outputs": [],
   "source": [
    "num_qubits_test = 5\n",
    "a = deutsch_jozsa.create_circuit(num_qubits_test)\n",
    "b = get_compiled_circuit(a, opt_level=2, basis_gates=basis_gates)\n",
    "save_as_qasm(b, num_qubits_test, basis_gates)\n",
    "c = get_compiled_circuit(b, opt_level=2, basis_gates=basis_gates, c_map=c_map)\n",
    "save_as_qasm(c, num_qubits_test, basis_gates, True, c_map, backend.name() if backend.name() else \"\")"
   ]
  },
  {
   "cell_type": "markdown",
   "id": "9b10a478",
   "metadata": {},
   "source": [
    "HHL Test"
   ]
  },
  {
   "cell_type": "code",
   "execution_count": null,
   "id": "d26c7bf6",
   "metadata": {
    "scrolled": false
   },
   "outputs": [],
   "source": [
    "import src.benchmarks.hhl\n",
    "num_qubits_test = 3\n",
    "a = hhl.create_circuit(num_qubits_test)\n",
    "b = get_compiled_circuit(a, opt_level=2, basis_gates=basis_gates)\n",
    "save_as_qasm(b, num_qubits_test, basis_gates)\n",
    "c = get_compiled_circuit(b, opt_level=2, basis_gates=basis_gates, c_map=c_map)\n",
    "save_as_qasm(c, num_qubits_test, basis_gates, True, c_map, backend.name() if backend.name() else \"\")"
   ]
  },
  {
   "cell_type": "markdown",
   "id": "5afb01ad",
   "metadata": {},
   "source": [
    "Example Generation for a figure in the paper"
   ]
  },
  {
   "cell_type": "code",
   "execution_count": null,
   "id": "284ec186",
   "metadata": {},
   "outputs": [],
   "source": [
    "#from qiskit.circuit.library import RealAmplitudes\n",
    "#from qiskit.visualization import plot_histogram, plot_gate_map, plot_circuit_layout\n",
    "#plot_gate_map(backend).savefig(\"layout_santiago.png\")\n",
    "#ansatz = RealAmplitudes(3, reps=1)\n",
    "#qc = ansatz.decompose()\n",
    "#qc.draw(output=\"mpl\", filename=\"paper_example_1_1\")\n",
    "#b = get_compiled_circuit(qc, opt_level=0, basis_gates=basis_gates)\n",
    "#b.draw(output=\"mpl\", filename=\"paper_example_1_2\")\n",
    "#c = get_compiled_circuit(b, opt_level=0, basis_gates=basis_gates, c_map=c_map)\n",
    "#c.draw(output=\"mpl\", filename=\"paper_example_1_3\")"
   ]
  },
  {
   "cell_type": "markdown",
   "id": "a250eb12",
   "metadata": {},
   "source": [
    "Qiskit Finance Test"
   ]
  },
  {
   "cell_type": "code",
   "execution_count": null,
   "id": "08af7622",
   "metadata": {
    "scrolled": true
   },
   "outputs": [],
   "source": [
    "\n",
    "from src.benchmarks.qiskit_application_finance import portfolio_optimization_qaoa, portfolio_optimization_vqe, pricing_eur_call_opt, pricing_eur_put_opt\n",
    "num_qubits_test = 5\n",
    "a = pricing_eur_put_opt.create_circuit(num_qubits_test)\n",
    "b = get_compiled_circuit(a, opt_level=2, basis_gates=basis_gates)\n",
    "save_as_qasm(b, num_qubits_test, basis_gates)\n",
    "c = get_compiled_circuit(b, opt_level=2, basis_gates=basis_gates, c_map=c_map)\n",
    "save_as_qasm(c, num_qubits_test, basis_gates, True, c_map, backend.name() if backend.name() else \"\")"
   ]
  },
  {
   "cell_type": "markdown",
   "id": "8cc96b30",
   "metadata": {},
   "source": [
    "Qiskit Optimization Test"
   ]
  },
  {
   "cell_type": "code",
   "execution_count": 7,
   "id": "1dd73b28",
   "metadata": {},
   "outputs": [
    {
     "data": {
      "image/png": "[encoded data removed]",
      "text/plain": [
       "<Figure size 432x288 with 1 Axes>"
      ]
     },
     "metadata": {
      "needs_background": "light"
     },
     "output_type": "display_data"
    }
   ],
   "source": [
    "\n",
    "from src.benchmarks.qiskit_application_optimization import vehicle_routing\n",
    "num_qubits_test = 5\n",
    "a = vehicle_routing.create_circuit(3,3)\n",
    "#b = get_compiled_circuit(a, opt_level=2)\n",
    "#save_as_qasm(b, num_qubits_test)\n",
    "#c = get_compiled_circuit(b, opt_level=2, c_map=c_map)\n",
    "#save_as_qasm(c, num_qubits_test, True)"
   ]
  },
  {
   "cell_type": "markdown",
   "id": "f865ea59",
   "metadata": {},
   "source": [
    "Qiskit Machine Learning Test"
   ]
  },
  {
   "cell_type": "code",
   "execution_count": 8,
   "id": "54900741",
   "metadata": {},
   "outputs": [],
   "source": [
    "import numpy as np\n",
    "seed = 71\n",
    "np.random.seed = seed\n",
    "\n",
    "import matplotlib.pyplot as plt\n",
    "%matplotlib inline\n",
    "\n",
    "from qiskit import QuantumRegister, QuantumCircuit, BasicAer\n",
    "from qiskit.circuit.library import TwoLocal, UniformDistribution\n",
    "\n",
    "from qiskit.utils import QuantumInstance, algorithm_globals\n",
    "from qiskit_machine_learning.algorithms import NumPyDiscriminator, QGAN\n",
    "\n",
    "algorithm_globals.random_seed = seed\n",
    "\n",
    "# Number training data samples\n",
    "N = 1000\n",
    "\n",
    "# Load data samples from log-normal distribution with mean=1 and standard deviation=1\n",
    "mu = 1\n",
    "sigma = 1\n",
    "real_data = np.random.lognormal(mean=mu, sigma=sigma, size=N)\n",
    "\n",
    "# Set the data resolution\n",
    "# Set upper and lower data values as list of k min/max data values [[min_0,max_0],...,[min_k-1,max_k-1]]\n",
    "bounds = np.array([0., 3.])\n",
    "# Set number of qubits per data dimension as list of k qubit values[#q_0,...,#q_k-1]\n",
    "num_qubits = [2]\n",
    "k = len(num_qubits)"
   ]
  },
  {
   "cell_type": "code",
   "execution_count": 9,
   "id": "3b48c545",
   "metadata": {},
   "outputs": [
    {
     "name": "stderr",
     "output_type": "stream",
     "text": [
      "C:\\Users\\Nils\\AppData\\Local\\Temp/ipykernel_27564/2598700002.py:19: DeprecationWarning: `UniformDistribution` is deprecated as of version 0.17.0 and will be removed no earlier than 3 months after the release date. It moved to qiskit_finance.circuit.library.UniformDistribution.\n",
      "  init_dist = UniformDistribution(sum(num_qubits))\n"
     ]
    }
   ],
   "source": [
    "# Set number of training epochs\n",
    "# Note: The algorithm's runtime can be shortened by reducing the number of training epochs.\n",
    "num_epochs = 10\n",
    "# Batch size\n",
    "batch_size = 100\n",
    "\n",
    " # Initialize qGAN\n",
    "qgan = QGAN(real_data, bounds, num_qubits, batch_size, num_epochs, snapshot_dir=None)\n",
    "qgan.seed = 1\n",
    "# Set quantum instance to run the quantum generator\n",
    "quantum_instance = QuantumInstance(backend=BasicAer.get_backend('statevector_simulator'),\n",
    "                                   seed_transpiler=seed, seed_simulator=seed)\n",
    "\n",
    "# Set entangler map\n",
    "entangler_map = [[0, 1]]\n",
    "\n",
    "\n",
    "# Set an initial state for the generator circuit\n",
    "init_dist = UniformDistribution(sum(num_qubits))\n",
    "\n",
    "# Set the ansatz circuit\n",
    "ansatz = TwoLocal(int(np.sum(num_qubits)), 'ry', 'cz', entanglement=entangler_map, reps=1)\n",
    "\n",
    "# Set generator's initial parameters - in order to reduce the training time and hence the\n",
    "# total running time for this notebook\n",
    "init_params = [3., 1., 0.6, 1.6]\n",
    "\n",
    "# You can increase the number of training epochs and use random initial parameters.\n",
    "# init_params = np.random.rand(ansatz.num_parameters_settable) * 2 * np.pi\n",
    "\n",
    "# Set generator circuit by adding the initial distribution infront of the ansatz\n",
    "g_circuit = ansatz.compose(init_dist, front=True)\n",
    "\n",
    "# Set quantum generator\n",
    "qgan.set_generator(generator_circuit=g_circuit, generator_init_params=init_params)\n",
    "# The parameters have an order issue that following is a temp. workaround\n",
    "qgan._generator._free_parameters = sorted(g_circuit.parameters, key=lambda p: p.name)\n",
    "# Set classical discriminator neural network\n",
    "discriminator = NumPyDiscriminator(len(num_qubits))\n",
    "qgan.set_discriminator(discriminator)"
   ]
  },
  {
   "cell_type": "code",
   "execution_count": 10,
   "id": "725e64a3",
   "metadata": {},
   "outputs": [],
   "source": [
    "# Run qGAN\n",
    "result = qgan.run(quantum_instance)"
   ]
  },
  {
   "cell_type": "code",
   "execution_count": 11,
   "id": "8e6b537e",
   "metadata": {},
   "outputs": [
    {
     "name": "stdout",
     "output_type": "stream",
     "text": [
      "Training results:\n",
      "  params_d : [ 0.03840029  0.60864915 -0.48073548 ... -0.1640147  -0.20299734\n",
      " -0.08465227]\n",
      "  params_g : [3.00061215 1.00052448 0.60048766 1.59972987]\n",
      "  loss_d : 0.6931\n",
      "  loss_g : [0.6932]\n",
      "  rel_entr : 0.1207\n"
     ]
    }
   ],
   "source": [
    "print('Training results:')\n",
    "for key, value in result.items():\n",
    "    print(f'  {key} : {value}')"
   ]
  },
  {
   "cell_type": "code",
   "execution_count": 12,
   "id": "ac8a6f3e",
   "metadata": {},
   "outputs": [
    {
     "data": {
      "image/png": "[encoded data removed]",
      "text/plain": [
       "<Figure size 432x360 with 1 Axes>"
      ]
     },
     "metadata": {
      "needs_background": "light"
     },
     "output_type": "display_data"
    }
   ],
   "source": [
    "# Plot progress w.r.t the generator's and the discriminator's loss function\n",
    "t_steps = np.arange(num_epochs)\n",
    "plt.figure(figsize=(6,5))\n",
    "plt.title(\"Progress in the loss function\")\n",
    "plt.plot(t_steps, qgan.g_loss, label='Generator loss function', color='mediumvioletred', linewidth=2)\n",
    "plt.plot(t_steps, qgan.d_loss, label='Discriminator loss function', color='rebeccapurple', linewidth=2)\n",
    "plt.grid()\n",
    "plt.legend(loc='best')\n",
    "plt.xlabel('time steps')\n",
    "plt.ylabel('loss')\n",
    "plt.show()"
   ]
  },
  {
   "cell_type": "code",
   "execution_count": 13,
   "id": "6ad1362e",
   "metadata": {},
   "outputs": [
    {
     "data": {
      "image/png": "[encoded data removed]",
      "text/plain": [
       "<Figure size 432x360 with 1 Axes>"
      ]
     },
     "metadata": {
      "needs_background": "light"
     },
     "output_type": "display_data"
    }
   ],
   "source": [
    "# Plot progress w.r.t relative entropy\n",
    "plt.figure(figsize=(6,5))\n",
    "plt.title('Relative Entropy')\n",
    "plt.plot(np.linspace(0, num_epochs, len(qgan.rel_entr)), qgan.rel_entr, color='mediumblue', lw=4, ls=':')\n",
    "plt.grid()\n",
    "plt.xlabel('time steps')\n",
    "plt.ylabel('relative entropy')\n",
    "plt.show()"
   ]
  },
  {
   "cell_type": "code",
   "execution_count": 14,
   "id": "cbca6d03",
   "metadata": {},
   "outputs": [
    {
     "data": {
      "image/png": "[encoded data removed]",
      "text/plain": [
       "<Figure size 432x360 with 1 Axes>"
      ]
     },
     "metadata": {
      "needs_background": "light"
     },
     "output_type": "display_data"
    }
   ],
   "source": [
    "#Plot the CDF of the resulting distribution against the target distribution, i.e. log-normal\n",
    "log_normal = np.random.lognormal(mean=1, sigma=1, size=100000)\n",
    "log_normal = np.round(log_normal)\n",
    "log_normal = log_normal[log_normal <= bounds[1]]\n",
    "temp = []\n",
    "for i in range(int(bounds[1] + 1)):\n",
    "    temp += [np.sum(log_normal==i)]\n",
    "log_normal = np.array(temp / sum(temp))\n",
    "\n",
    "plt.figure(figsize=(6,5))\n",
    "plt.title('CDF (Cumulative Distribution Function)')\n",
    "samples_g, prob_g = qgan.generator.get_output(qgan.quantum_instance, shots=10000)\n",
    "samples_g = np.array(samples_g)\n",
    "samples_g = samples_g.flatten()\n",
    "num_bins = len(prob_g)\n",
    "plt.bar(samples_g,  np.cumsum(prob_g), color='royalblue', width= 0.8, label='simulation')\n",
    "plt.plot( np.cumsum(log_normal),'-o', label='log-normal', color='deepskyblue', linewidth=4, markersize=12)\n",
    "plt.xticks(np.arange(min(samples_g), max(samples_g)+1, 1.0))\n",
    "plt.grid()\n",
    "plt.xlabel('x')\n",
    "plt.ylabel('p(x)')\n",
    "plt.legend(loc='best')\n",
    "plt.show()"
   ]
  },
  {
   "cell_type": "markdown",
   "id": "c50bfe26",
   "metadata": {},
   "source": [
    "Second Example"
   ]
  },
  {
   "cell_type": "code",
   "execution_count": 15,
   "id": "ac7d2502",
   "metadata": {},
   "outputs": [],
   "source": [
    "import matplotlib.pyplot as plt\n",
    "import numpy as np\n",
    "\n",
    "from sklearn.svm import SVC\n",
    "from sklearn.cluster import SpectralClustering\n",
    "from sklearn.metrics import normalized_mutual_info_score\n",
    "\n",
    "from qiskit import BasicAer\n",
    "from qiskit.circuit.library import ZZFeatureMap\n",
    "from qiskit.utils import QuantumInstance, algorithm_globals\n",
    "from qiskit_machine_learning.algorithms import QSVC\n",
    "from qiskit_machine_learning.kernels import QuantumKernel\n",
    "from qiskit_machine_learning.datasets import ad_hoc_data\n",
    "\n",
    "seed = 12345\n",
    "algorithm_globals.random_seed = seed"
   ]
  },
  {
   "cell_type": "code",
   "execution_count": 16,
   "id": "ffc97d30",
   "metadata": {},
   "outputs": [
    {
     "data": {
      "image/png": "[encoded data removed]",
      "text/plain": [
       "<Figure size 360x360 with 1 Axes>"
      ]
     },
     "metadata": {
      "needs_background": "light"
     },
     "output_type": "display_data"
    }
   ],
   "source": [
    "adhoc_dimension = 2\n",
    "train_features, train_labels, test_features, test_labels, adhoc_total = ad_hoc_data(\n",
    "    training_size=20,\n",
    "    test_size=5,\n",
    "    n=adhoc_dimension,\n",
    "    gap=0.3,\n",
    "    plot_data=False, one_hot=False, include_sample_total=True\n",
    ")\n",
    "\n",
    "plt.figure(figsize=(5, 5))\n",
    "plt.ylim(0, 2 * np.pi)\n",
    "plt.xlim(0, 2 * np.pi)\n",
    "plt.imshow(np.asmatrix(adhoc_total).T, interpolation='nearest',\n",
    "           origin='lower', cmap='RdBu', extent=[0, 2 * np.pi, 0, 2 * np.pi])\n",
    "\n",
    "plt.scatter(train_features[np.where(train_labels[:] == 0), 0], train_features[np.where(train_labels[:] == 0), 1],\n",
    "            marker='s', facecolors='w', edgecolors='b', label=\"A train\")\n",
    "plt.scatter(train_features[np.where(train_labels[:] == 1), 0], train_features[np.where(train_labels[:] == 1), 1],\n",
    "            marker='o', facecolors='w', edgecolors='r', label=\"B train\")\n",
    "plt.scatter(test_features[np.where(test_labels[:] == 0), 0], test_features[np.where(test_labels[:] == 0), 1],\n",
    "            marker='s', facecolors='b', edgecolors='w', label=\"A test\")\n",
    "plt.scatter(test_features[np.where(test_labels[:] == 1), 0], test_features[np.where(test_labels[:] == 1), 1],\n",
    "            marker='o', facecolors='r', edgecolors='w', label=\"B test\")\n",
    "\n",
    "plt.legend(bbox_to_anchor=(1.05, 1), loc='upper left', borderaxespad=0.)\n",
    "plt.title(\"Ad hoc dataset for classification\")\n",
    "\n",
    "plt.show()"
   ]
  },
  {
   "cell_type": "code",
   "execution_count": 17,
   "id": "a8816b36",
   "metadata": {},
   "outputs": [],
   "source": [
    "adhoc_feature_map = ZZFeatureMap(feature_dimension=adhoc_dimension,\n",
    "                                 reps=2, entanglement='linear')\n",
    "\n",
    "adhoc_backend = QuantumInstance(BasicAer.get_backend('qasm_simulator'), shots=1024,\n",
    "                                seed_simulator=seed, seed_transpiler=seed)\n",
    "\n",
    "adhoc_kernel = QuantumKernel(feature_map=adhoc_feature_map, quantum_instance=adhoc_backend)"
   ]
  },
  {
   "cell_type": "code",
   "execution_count": 18,
   "id": "b95fdb16",
   "metadata": {},
   "outputs": [
    {
     "name": "stdout",
     "output_type": "stream",
     "text": [
      "Callable kernel classification test score: 1.0\n"
     ]
    }
   ],
   "source": [
    "adhoc_svc = SVC(kernel=adhoc_kernel.evaluate)\n",
    "adhoc_svc.fit(train_features, train_labels)\n",
    "adhoc_score = adhoc_svc.score(test_features, test_labels)\n",
    "\n",
    "print(f'Callable kernel classification test score: {adhoc_score}')"
   ]
  },
  {
   "cell_type": "code",
   "execution_count": 19,
   "id": "1846b803",
   "metadata": {},
   "outputs": [
    {
     "data": {
      "image/png": "[encoded data removed]",
      "text/plain": [
       "<Figure size 720x360 with 2 Axes>"
      ]
     },
     "metadata": {
      "needs_background": "light"
     },
     "output_type": "display_data"
    },
    {
     "name": "stdout",
     "output_type": "stream",
     "text": [
      "Precomputed kernel classification test score: 1.0\n"
     ]
    }
   ],
   "source": [
    "adhoc_matrix_train = adhoc_kernel.evaluate(x_vec=train_features)\n",
    "adhoc_matrix_test = adhoc_kernel.evaluate(x_vec=test_features,\n",
    "                                          y_vec=train_features)\n",
    "\n",
    "fig, axs = plt.subplots(1, 2, figsize=(10, 5))\n",
    "axs[0].imshow(np.asmatrix(adhoc_matrix_train),\n",
    "              interpolation='nearest', origin='upper', cmap='Blues')\n",
    "axs[0].set_title(\"Ad hoc training kernel matrix\")\n",
    "axs[1].imshow(np.asmatrix(adhoc_matrix_test),\n",
    "              interpolation='nearest', origin='upper', cmap='Reds')\n",
    "axs[1].set_title(\"Ad hoc testing kernel matrix\")\n",
    "plt.show()\n",
    "\n",
    "adhoc_svc = SVC(kernel='precomputed')\n",
    "adhoc_svc.fit(adhoc_matrix_train, train_labels)\n",
    "adhoc_score = adhoc_svc.score(adhoc_matrix_test, test_labels)\n",
    "\n",
    "print(f'Precomputed kernel classification test score: {adhoc_score}')"
   ]
  },
  {
   "cell_type": "code",
   "execution_count": 20,
   "id": "7a249042",
   "metadata": {},
   "outputs": [
    {
     "name": "stdout",
     "output_type": "stream",
     "text": [
      "QSVC classification test score: 1.0\n"
     ]
    }
   ],
   "source": [
    "qsvc = QSVC(quantum_kernel=adhoc_kernel)\n",
    "qsvc.fit(train_features, train_labels)\n",
    "qsvc_score = qsvc.score(test_features, test_labels)\n",
    "\n",
    "print(f'QSVC classification test score: {qsvc_score}')"
   ]
  },
  {
   "cell_type": "markdown",
   "id": "9ba1c8b3",
   "metadata": {},
   "source": [
    "Third Example"
   ]
  },
  {
   "cell_type": "code",
   "execution_count": 21,
   "id": "3994461b",
   "metadata": {},
   "outputs": [],
   "source": [
    "import numpy as np\n",
    "\n",
    "from qiskit import Aer, QuantumCircuit\n",
    "from qiskit.circuit import Parameter\n",
    "from qiskit.circuit.library import RealAmplitudes, ZZFeatureMap\n",
    "from qiskit.opflow import StateFn, PauliSumOp, AerPauliExpectation, ListOp, Gradient\n",
    "from qiskit.utils import QuantumInstance\n",
    "from qiskit_machine_learning.neural_networks import OpflowQNN"
   ]
  },
  {
   "cell_type": "code",
   "execution_count": 22,
   "id": "cf6b92f3",
   "metadata": {},
   "outputs": [],
   "source": [
    "# set method to calculcate expected values\n",
    "expval = AerPauliExpectation()\n",
    "\n",
    "# define gradient method\n",
    "gradient = Gradient()\n",
    "\n",
    "# define quantum instances (statevector and sample based)\n",
    "qi_sv = QuantumInstance(Aer.get_backend('aer_simulator_statevector'))\n",
    "\n",
    "# we set shots to 10 as this will determine the number of samples later on.\n",
    "qi_qasm = QuantumInstance(Aer.get_backend('aer_simulator'), shots=10)"
   ]
  },
  {
   "cell_type": "code",
   "execution_count": 23,
   "id": "41effba7",
   "metadata": {},
   "outputs": [
    {
     "ename": "NameError",
     "evalue": "name 'qnn1' is not defined",
     "output_type": "error",
     "traceback": [
      "\u001b[1;31m---------------------------------------------------------------------------\u001b[0m",
      "\u001b[1;31mNameError\u001b[0m                                 Traceback (most recent call last)",
      "\u001b[1;32m~\\AppData\\Local\\Temp/ipykernel_27564/3279096361.py\u001b[0m in \u001b[0;36m<module>\u001b[1;34m\u001b[0m\n\u001b[0;32m      1\u001b[0m \u001b[1;31m# define (random) input and weights\u001b[0m\u001b[1;33m\u001b[0m\u001b[1;33m\u001b[0m\u001b[0m\n\u001b[1;32m----> 2\u001b[1;33m \u001b[0minput1\u001b[0m \u001b[1;33m=\u001b[0m \u001b[0mnp\u001b[0m\u001b[1;33m.\u001b[0m\u001b[0mrandom\u001b[0m\u001b[1;33m.\u001b[0m\u001b[0mrand\u001b[0m\u001b[1;33m(\u001b[0m\u001b[0mqnn1\u001b[0m\u001b[1;33m.\u001b[0m\u001b[0mnum_inputs\u001b[0m\u001b[1;33m)\u001b[0m\u001b[1;33m\u001b[0m\u001b[1;33m\u001b[0m\u001b[0m\n\u001b[0m\u001b[0;32m      3\u001b[0m \u001b[0mweights1\u001b[0m \u001b[1;33m=\u001b[0m \u001b[0mnp\u001b[0m\u001b[1;33m.\u001b[0m\u001b[0mrandom\u001b[0m\u001b[1;33m.\u001b[0m\u001b[0mrand\u001b[0m\u001b[1;33m(\u001b[0m\u001b[0mqnn1\u001b[0m\u001b[1;33m.\u001b[0m\u001b[0mnum_weights\u001b[0m\u001b[1;33m)\u001b[0m\u001b[1;33m\u001b[0m\u001b[1;33m\u001b[0m\u001b[0m\n\u001b[0;32m      4\u001b[0m \u001b[1;31m# QNN forward pass\u001b[0m\u001b[1;33m\u001b[0m\u001b[1;33m\u001b[0m\u001b[0m\n\u001b[0;32m      5\u001b[0m \u001b[0mqnn1\u001b[0m\u001b[1;33m.\u001b[0m\u001b[0mforward\u001b[0m\u001b[1;33m(\u001b[0m\u001b[0minput1\u001b[0m\u001b[1;33m,\u001b[0m \u001b[0mweights1\u001b[0m\u001b[1;33m)\u001b[0m\u001b[1;33m\u001b[0m\u001b[1;33m\u001b[0m\u001b[0m\n",
      "\u001b[1;31mNameError\u001b[0m: name 'qnn1' is not defined"
     ]
    }
   ],
   "source": [
    "# define (random) input and weights\n",
    "input1 = np.random.rand(qnn1.num_inputs)\n",
    "weights1 = np.random.rand(qnn1.num_weights)\n",
    "# QNN forward pass\n",
    "qnn1.forward(input1, weights1)\n",
    "# QNN batched forward pass\n",
    "qnn1.forward([input1, input1], weights1)\n",
    "# QNN backward pass\n",
    "qnn1.backward(input1, weights1)\n",
    "# QNN batched backward pass\n",
    "qnn1.backward([input1, input1], weights1)\n",
    "op2 = ListOp([op1, op1])\n",
    "qnn2 = OpflowQNN(op2, [params1[0]], [params1[1]], expval, gradient, qi_sv)\n",
    "# QNN forward pass\n",
    "qnn2.forward(input1, weights1)\n",
    "# QNN backward pass\n",
    "qnn2.backward(input1, weights1)"
   ]
  },
  {
   "cell_type": "code",
   "execution_count": null,
   "id": "fa704923",
   "metadata": {},
   "outputs": [],
   "source": [
    "from qiskit_machine_learning.neural_networks import CircuitQNN\n",
    "num_qubits = 5\n",
    "qc = RealAmplitudes(num_qubits, entanglement='linear', reps=2)\n",
    "qc.decompose().draw(output='mpl')"
   ]
  },
  {
   "cell_type": "code",
   "execution_count": null,
   "id": "657f797e",
   "metadata": {},
   "outputs": [],
   "source": [
    "# specify circuit QNN\n",
    "qnn4 = CircuitQNN(qc, [], qc.parameters, sparse=True, quantum_instance=qi_qasm)\n",
    "# define (random) input and weights\n",
    "input4 = np.random.rand(qnn4.num_inputs)\n",
    "weights4 = np.random.rand(qnn4.num_weights)\n",
    "# QNN forward pass\n",
    "qnn4.forward(input4, weights4).todense()  # returned as a sparse matrix"
   ]
  },
  {
   "cell_type": "code",
   "execution_count": null,
   "id": "a169b398",
   "metadata": {},
   "outputs": [],
   "source": [
    "# QNN backward pass, returns a tuple of sparse matrices\n",
    "qnn4.backward(input4, weights4)"
   ]
  },
  {
   "cell_type": "code",
   "execution_count": null,
   "id": "a6ddd8dd",
   "metadata": {
    "scrolled": true
   },
   "outputs": [],
   "source": [
    "qnn4.circuit.decompose().draw()"
   ]
  },
  {
   "cell_type": "code",
   "execution_count": null,
   "id": "db04827d",
   "metadata": {},
   "outputs": [],
   "source": [
    "def create_circuit(num_qubits: int):\n",
    "    num_qubits = num_qubits\n",
    "    qc = RealAmplitudes(num_qubits, entanglement='linear', reps=2)\n",
    "\n",
    "    # specify circuit QNN\n",
    "    qnn = CircuitQNN(qc, [], qc.parameters, sparse=True, quantum_instance=qi_qasm)\n",
    "    # define (random) input and weights\n",
    "    np.random.seed(0)\n",
    "\n",
    "    input = np.random.rand(qnn.num_inputs)\n",
    "    weights = np.random.rand(qnn.num_weights)\n",
    "    # QNN forward pass\n",
    "\n",
    "    qc = qnn.circuit\n",
    "    qc.name = \"qnn\"\n",
    "\n",
    "    return qc"
   ]
  },
  {
   "cell_type": "code",
   "execution_count": null,
   "id": "ad8a7e86",
   "metadata": {},
   "outputs": [],
   "source": [
    "create_circuit(10).draw()"
   ]
  },
  {
   "cell_type": "markdown",
   "id": "aa8d73f9",
   "metadata": {},
   "source": [
    "AE Test"
   ]
  },
  {
   "cell_type": "code",
   "execution_count": null,
   "id": "306c46bf",
   "metadata": {},
   "outputs": [],
   "source": [
    "from src.benchmarks import canonical_ae\n"
   ]
  },
  {
   "cell_type": "code",
   "execution_count": null,
   "id": "5c89d14a",
   "metadata": {},
   "outputs": [],
   "source": [
    "from qiskit import BasicAer\n",
    "from qiskit.utils import QuantumInstance\n",
    "\n",
    "backend = BasicAer.get_backend('statevector_simulator')\n",
    "quantum_instance = QuantumInstance(backend)"
   ]
  },
  {
   "cell_type": "code",
   "execution_count": null,
   "id": "d0be222b",
   "metadata": {},
   "outputs": [],
   "source": [
    "a = canonical_ae.create_circuit(5)\n",
    "a.draw()"
   ]
  },
  {
   "cell_type": "markdown",
   "id": "ddb87eda",
   "metadata": {},
   "source": [
    "Rigetti Coupling Map Creation"
   ]
  },
  {
   "cell_type": "code",
   "execution_count": null,
   "id": "84008544",
   "metadata": {},
   "outputs": [],
   "source": [
    "c_map_rigetti = []\n",
    "for j in range(4):\n",
    "    for i in range(0,7):\n",
    "        elem = [i+j*10, i+1+j*10]\n",
    "        c_map_rigetti.append(elem)\n",
    "        if i == 6:\n",
    "            c_map_rigetti.append([0+j*10, 7+j*10])\n",
    "            \n",
    "# for i in range(10,17):\n",
    "#     elem = [i, i+1]\n",
    "#     c_map_rigetti.append(elem)\n",
    "# for i in range(20,27):\n",
    "#     elem = [i, i+1]\n",
    "#     c_map_rigetti.append(elem)\n",
    "# for i in range(20,27):\n",
    "#     elem = [i, i+1]\n",
    "#     c_map_rigetti.append(elem)\n",
    "# for i in range(30,37):\n",
    "#     elem = [i, i+1]\n",
    "#     c_map_rigetti.append(elem)    \n",
    "c_map_rigetti.extend(([2,15],[1,16],[12,25],[11,26],[22,35],[21,36]))    \n",
    "print(c_map_rigetti)"
   ]
  },
  {
   "cell_type": "code",
   "execution_count": null,
   "id": "82223867",
   "metadata": {},
   "outputs": [],
   "source": [
    "import networkx as nx\n",
    "G = nx.Graph()\n",
    "G.add_edges_from(c_map_rigetti)\n",
    "nx.draw(G, with_labels=True)"
   ]
  },
  {
   "cell_type": "markdown",
   "id": "565c90a9",
   "metadata": {},
   "source": [
    "Google Coupling Map Creation"
   ]
  },
  {
   "cell_type": "code",
   "execution_count": null,
   "id": "b923a231",
   "metadata": {},
   "outputs": [],
   "source": [
    "c_map_google = []\n",
    "for j in range(8):\n",
    "    for i in range(6):\n",
    "        if j%2 == 0:\n",
    "            if i != 0:\n",
    "                elem = [i+6*j, i+6*j + 5]\n",
    "                c_map_google.append(elem)\n",
    "\n",
    "            if i != 6:\n",
    "                elem = [i+6*j, i+6*j + 6]\n",
    "                c_map_google.append(elem)\n",
    "\n",
    "        else:\n",
    "            if i != 0:\n",
    "                elem = [i+6*j, i+6*j + 6]\n",
    "                c_map_google.append(elem)\n",
    "\n",
    "            if i != 6:\n",
    "                elem = [i+6*j, i+6*j + 7]\n",
    "                c_map_google.append(elem)\n",
    "print(c_map_google)"
   ]
  },
  {
   "cell_type": "code",
   "execution_count": null,
   "id": "87891bab",
   "metadata": {},
   "outputs": [],
   "source": [
    "G = nx.Graph()\n",
    "G.add_edges_from(c_map_google)\n",
    "nx.draw(G, with_labels=True)"
   ]
  },
  {
   "cell_type": "markdown",
   "id": "4e60df76",
   "metadata": {},
   "source": [
    "TSP and vehicle routing Test"
   ]
  },
  {
   "cell_type": "code",
   "execution_count": 1,
   "id": "0afd8158",
   "metadata": {},
   "outputs": [],
   "source": [
    "from src.benchmarks.qiskit_application_optimization import travelling_salesman, vehicle_routing"
   ]
  },
  {
   "cell_type": "code",
   "execution_count": null,
   "id": "c9d13a7e",
   "metadata": {},
   "outputs": [],
   "source": [
    "qc = travelling_salesman.create_circuit(3)\n",
    "qc.draw()"
   ]
  },
  {
   "cell_type": "code",
   "execution_count": null,
   "id": "3fc4cfc9",
   "metadata": {},
   "outputs": [],
   "source": [
    "qc = vehicle_routing.create_circuit(4,1)"
   ]
  },
  {
   "cell_type": "code",
   "execution_count": null,
   "id": "edbce1bc",
   "metadata": {},
   "outputs": [],
   "source": [
    "qc1, qp1 = vehicle_routing.create_circuit(4,2)"
   ]
  },
  {
   "cell_type": "code",
   "execution_count": null,
   "id": "950ccbbe",
   "metadata": {},
   "outputs": [],
   "source": [
    "qc2, qp2  = vehicle_routing.create_circuit(4,3)"
   ]
  },
  {
   "cell_type": "code",
   "execution_count": null,
   "id": "8d8de603",
   "metadata": {},
   "outputs": [],
   "source": [
    "qc3, qp3  = vehicle_routing.create_circuit(4,4)"
   ]
  },
  {
   "cell_type": "code",
   "execution_count": null,
   "id": "e2567166",
   "metadata": {},
   "outputs": [],
   "source": [
    "from qiskit.quantum_info import Statevector\n",
    "print(Statevector.from_instruction(qc1).equiv(Statevector.from_instruction(qc2)),\n",
    "Statevector.from_instruction(qc1).equiv(Statevector.from_instruction(qc3)),\n",
    "Statevector.from_instruction(qc3).equiv(Statevector.from_instruction(qc2)))"
   ]
  },
  {
   "cell_type": "code",
   "execution_count": null,
   "id": "860de03a",
   "metadata": {},
   "outputs": [],
   "source": [
    "qp1"
   ]
  },
  {
   "cell_type": "code",
   "execution_count": null,
   "id": "67f5b1ad",
   "metadata": {},
   "outputs": [],
   "source": [
    "qp2"
   ]
  },
  {
   "cell_type": "code",
   "execution_count": null,
   "id": "e2c1d5dd",
   "metadata": {},
   "outputs": [],
   "source": [
    "qp3"
   ]
  },
  {
   "cell_type": "code",
   "execution_count": null,
   "id": "96e88217",
   "metadata": {},
   "outputs": [],
   "source": []
  }
 ],
 "metadata": {
  "kernelspec": {
   "display_name": "Python 3 (ipykernel)",
   "language": "python",
   "name": "python3"
  },
  "language_info": {
   "codemirror_mode": {
    "name": "ipython",
    "version": 3
   },
   "file_extension": ".py",
   "mimetype": "text/x-python",
   "name": "python",
   "nbconvert_exporter": "python",
   "pygments_lexer": "ipython3",
   "version": "3.9.7"
  }
 },
 "nbformat": 4,
 "nbformat_minor": 5
}
