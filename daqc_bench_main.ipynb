{
 "cells": [
  {
   "cell_type": "code",
   "execution_count": 4,
   "id": "4687d35d",
   "metadata": {},
   "outputs": [],
   "source": [
    "from qiskit import QuantumCircuit, QuantumRegister, ClassicalRegister, AncillaRegister, IBMQ\n",
    "from qiskit.circuit.library import QFT, GraphState, GroverOperator\n",
    "from qiskit.qasm import pi\n",
    "from utils import *\n",
    "\n",
    "\n",
    "import grover, qaoa, ghz, qft, qft_entangled, shor, w_state, qpe_inexact, qpe_exact, graph_state, vqe"
   ]
  },
  {
   "cell_type": "code",
   "execution_count": 5,
   "id": "32ea7dd2",
   "metadata": {},
   "outputs": [],
   "source": [
    "provider = IBMQ.load_account()\n",
    "backend = provider.backend.ibmq_santiago\n",
    "c_map = backend.configuration().coupling_map"
   ]
  },
  {
   "cell_type": "code",
   "execution_count": 6,
   "id": "ca784191",
   "metadata": {},
   "outputs": [],
   "source": [
    "benchmarks = [grover, qaoa, ghz, qft, qft_entangled, w_state, qpe_inexact, qpe_exact, vqe]"
   ]
  },
  {
   "cell_type": "code",
   "execution_count": 7,
   "id": "8001079e",
   "metadata": {},
   "outputs": [],
   "source": [
    "num_qubits_test = 5\n",
    "n_min = 3\n",
    "n_max = 7\n",
    "opt_level = 2"
   ]
  },
  {
   "cell_type": "code",
   "execution_count": null,
   "id": "bfe71d20",
   "metadata": {},
   "outputs": [],
   "source": [
    "max_n_arch = max(max(c_map))\n",
    "for benchmark in benchmarks:\n",
    "    for n in range(n_min, n_max):\n",
    "        qc = benchmark.create_circuit(n)\n",
    "        compiled_without_architecure = get_compiled_circuit(qc, opt_level=opt_level)\n",
    "        save_as_qasm(compiled_without_architecure, n)\n",
    "        if (n < max_n_arch):\n",
    "            compiled_with_architecture = get_compiled_circuit(qc, opt_level=opt_level, c_map=c_map)\n",
    "            save_as_qasm(compiled_with_architecture, n, True)"
   ]
  },
  {
   "cell_type": "markdown",
   "id": "426eba58",
   "metadata": {},
   "source": [
    "Grover Test"
   ]
  },
  {
   "cell_type": "code",
   "execution_count": null,
   "id": "59f58622",
   "metadata": {
    "scrolled": true
   },
   "outputs": [],
   "source": [
    "a = grover.create_circuit(num_qubits_test)\n",
    "b = get_compiled_circuit(a, opt_level=2)\n",
    "save_as_qasm(b, num_qubits_test)\n",
    "c = get_compiled_circuit(b, opt_level=2, c_map=c_map)\n",
    "save_as_qasm(c, num_qubits_test, True)"
   ]
  },
  {
   "cell_type": "markdown",
   "id": "5e2fff71",
   "metadata": {},
   "source": [
    "QAOA Test"
   ]
  },
  {
   "cell_type": "code",
   "execution_count": null,
   "id": "f55b15bc",
   "metadata": {},
   "outputs": [],
   "source": [
    "a = qaoa.create_circuit(num_qubits_test)\n",
    "b = get_compiled_circuit(a, opt_level=2)\n",
    "save_as_qasm(b, num_qubits_test)\n",
    "c = get_compiled_circuit(b, opt_level=2, c_map=c_map)\n",
    "save_as_qasm(c, num_qubits_test, True)"
   ]
  },
  {
   "cell_type": "markdown",
   "id": "7a0969d4",
   "metadata": {},
   "source": [
    "GHZ Test"
   ]
  },
  {
   "cell_type": "code",
   "execution_count": null,
   "id": "9f56f89c",
   "metadata": {},
   "outputs": [],
   "source": [
    "a = ghz.create_circuit(num_qubits_test)\n",
    "b = get_compiled_circuit(a, opt_level=2)\n",
    "save_as_qasm(b, num_qubits_test)\n",
    "c = get_compiled_circuit(b, opt_level=2, c_map=c_map)\n",
    "save_as_qasm(c, num_qubits_test, True)"
   ]
  },
  {
   "cell_type": "markdown",
   "id": "df9838f3",
   "metadata": {},
   "source": [
    "QFT Test"
   ]
  },
  {
   "cell_type": "code",
   "execution_count": null,
   "id": "e7bc546e",
   "metadata": {},
   "outputs": [],
   "source": [
    "a = qft.create_circuit(num_qubits_test)\n",
    "b = get_compiled_circuit(a, opt_level=2)\n",
    "save_as_qasm(b, num_qubits_test)\n",
    "c = get_compiled_circuit(b, opt_level=2, c_map=c_map)\n",
    "save_as_qasm(c, num_qubits_test, True)"
   ]
  },
  {
   "cell_type": "markdown",
   "id": "817d73dc",
   "metadata": {},
   "source": [
    "QFT Entangled Test"
   ]
  },
  {
   "cell_type": "code",
   "execution_count": null,
   "id": "c35a097c",
   "metadata": {},
   "outputs": [],
   "source": [
    "a = qft_entangled.create_circuit(num_qubits_test)\n",
    "b = get_compiled_circuit(a, opt_level=2)\n",
    "save_as_qasm(b, num_qubits_test)\n",
    "c = get_compiled_circuit(b, opt_level=2, c_map=c_map)\n",
    "save_as_qasm(c, num_qubits_test, True)"
   ]
  },
  {
   "cell_type": "markdown",
   "id": "d33c0057",
   "metadata": {},
   "source": [
    "W-State Test"
   ]
  },
  {
   "cell_type": "code",
   "execution_count": null,
   "id": "877f69cc",
   "metadata": {},
   "outputs": [],
   "source": [
    "a = w_state.create_circuit(num_qubits_test)\n",
    "b = get_compiled_circuit(a, opt_level=2)\n",
    "save_as_qasm(b, num_qubits_test)\n",
    "c = get_compiled_circuit(b, opt_level=2, c_map=c_map)\n",
    "save_as_qasm(c, num_qubits_test, True)"
   ]
  },
  {
   "cell_type": "markdown",
   "id": "493c11b5",
   "metadata": {},
   "source": [
    "QPE Exact and QPE Inexact Test"
   ]
  },
  {
   "cell_type": "code",
   "execution_count": null,
   "id": "d10ae128",
   "metadata": {},
   "outputs": [],
   "source": [
    "a = qpe_exact.create_circuit(num_qubits_test)\n",
    "b = get_compiled_circuit(a, opt_level=2)\n",
    "save_as_qasm(b, num_qubits_test)\n",
    "c = get_compiled_circuit(b, opt_level=2, c_map=c_map)\n",
    "save_as_qasm(c, num_qubits_test, True)\n",
    "\n",
    "a = qpe_inexact.create_circuit(num_qubits_test)\n",
    "b = get_compiled_circuit(a, opt_level=2)\n",
    "save_as_qasm(b, num_qubits_test)\n",
    "c = get_compiled_circuit(b, opt_level=2, c_map=c_map)\n",
    "save_as_qasm(c, num_qubits_test, True)"
   ]
  },
  {
   "cell_type": "markdown",
   "id": "55f9e13e",
   "metadata": {},
   "source": [
    "Graph State Test"
   ]
  },
  {
   "cell_type": "code",
   "execution_count": null,
   "id": "b441e1ea",
   "metadata": {},
   "outputs": [],
   "source": [
    "a = graph_state.create_circuit(num_qubits_test)\n",
    "b = get_compiled_circuit(a, opt_level=2)\n",
    "save_as_qasm(b, num_qubits_test)\n",
    "c = get_compiled_circuit(b, opt_level=2, c_map=c_map)\n",
    "save_as_qasm(c, num_qubits_test, True)\n"
   ]
  },
  {
   "cell_type": "markdown",
   "id": "afd17aef",
   "metadata": {},
   "source": [
    "Shor Test"
   ]
  },
  {
   "cell_type": "code",
   "execution_count": null,
   "id": "a1bc1935",
   "metadata": {},
   "outputs": [],
   "source": [
    "a = shor.create_circuit(15)\n",
    "b = get_compiled_circuit(a, opt_level=2)\n",
    "save_as_qasm(b, None)\n",
    "c = get_compiled_circuit(b, opt_level=2, c_map=c_map)\n",
    "save_as_qasm(c, None, True)"
   ]
  },
  {
   "cell_type": "markdown",
   "id": "358195b5",
   "metadata": {},
   "source": [
    "QAE Test"
   ]
  },
  {
   "cell_type": "code",
   "execution_count": 15,
   "id": "8a446477",
   "metadata": {},
   "outputs": [],
   "source": [
    "import ae"
   ]
  },
  {
   "cell_type": "code",
   "execution_count": 16,
   "id": "c9870f1a",
   "metadata": {},
   "outputs": [],
   "source": [
    "a = ae.create_circuit(num_qubits_test)\n",
    "b = get_compiled_circuit(a, opt_level=2)\n",
    "save_as_qasm(b, num_qubits_test)\n",
    "c = get_compiled_circuit(b, opt_level=2, c_map=c_map)\n",
    "save_as_qasm(c, num_qubits_test, True)\n"
   ]
  },
  {
   "cell_type": "code",
   "execution_count": null,
   "id": "16e6439d",
   "metadata": {},
   "outputs": [],
   "source": []
  }
 ],
 "metadata": {
  "kernelspec": {
   "display_name": "Python 3 (ipykernel)",
   "language": "python",
   "name": "python3"
  },
  "language_info": {
   "codemirror_mode": {
    "name": "ipython",
    "version": 3
   },
   "file_extension": ".py",
   "mimetype": "text/x-python",
   "name": "python",
   "nbconvert_exporter": "python",
   "pygments_lexer": "ipython3",
   "version": "3.9.7"
  }
 },
 "nbformat": 4,
 "nbformat_minor": 5
}
