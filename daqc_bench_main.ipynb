{
 "cells": [
  {
   "cell_type": "code",
   "execution_count": 1,
   "id": "4687d35d",
   "metadata": {},
   "outputs": [],
   "source": [
    "from qiskit import QuantumCircuit, QuantumRegister, ClassicalRegister, AncillaRegister, IBMQ\n",
    "from qiskit.circuit.library import QFT, GraphState, GroverOperator\n",
    "from qiskit.qasm import pi\n",
    "from utils import *\n",
    "\n",
    "\n",
    "from benchmarks import grover, qaoa, ghz, qft, qft_entangled, shor, w_state, qpe_inexact, qpe_exact, graph_state, vqe, deutsch_jozsa"
   ]
  },
  {
   "cell_type": "code",
   "execution_count": 8,
   "id": "32ea7dd2",
   "metadata": {},
   "outputs": [],
   "source": [
    "provider = IBMQ.load_account()\n",
    "backend = provider.backend.ibmq_santiago\n",
    "c_map = backend.configuration().coupling_map"
   ]
  },
  {
   "cell_type": "code",
   "execution_count": null,
   "id": "2183f63d",
   "metadata": {},
   "outputs": [],
   "source": [
    "backend.configuration().basis_gates"
   ]
  },
  {
   "cell_type": "code",
   "execution_count": 10,
   "id": "ca784191",
   "metadata": {},
   "outputs": [],
   "source": [
    "benchmarks = [grover, qaoa, ghz, qft, qft_entangled, w_state, qpe_inexact, qpe_exact, vqe, deutsch_jozsa]"
   ]
  },
  {
   "cell_type": "code",
   "execution_count": 11,
   "id": "8001079e",
   "metadata": {},
   "outputs": [],
   "source": [
    "num_qubits_test = 5\n",
    "n_min = 3\n",
    "n_max = 7\n",
    "opt_level = 2"
   ]
  },
  {
   "cell_type": "code",
   "execution_count": 12,
   "id": "bfe71d20",
   "metadata": {},
   "outputs": [
    {
     "name": "stdout",
     "output_type": "stream",
     "text": [
      "optimal function value: 2.0\n",
      "optimal value: [1. 0. 0.]\n",
      "status: SUCCESS\n",
      "optimal function value: 4.0\n",
      "optimal value: [0. 1. 1. 0.]\n",
      "status: SUCCESS\n",
      "optimal function value: 4.0\n",
      "optimal value: [0. 1. 1. 0. 0.]\n",
      "status: SUCCESS\n",
      "optimal function value: 6.0\n",
      "optimal value: [0. 1. 1. 1. 0. 0.]\n",
      "status: SUCCESS\n",
      "optimal function value: 2.0\n",
      "optimal value: [1. 0. 0.]\n",
      "status: SUCCESS\n",
      "optimal function value: 4.0\n",
      "optimal value: [0. 1. 1. 0.]\n",
      "status: SUCCESS\n"
     ]
    },
    {
     "name": "stderr",
     "output_type": "stream",
     "text": [
      "C:\\Users\\Nils\\anaconda3\\envs\\qsharp-env\\lib\\site-packages\\scipy\\optimize\\optimize.py:282: RuntimeWarning: Values in x were outside bounds during a minimize step, clipping to bounds\n",
      "  warnings.warn(\"Values in x were outside bounds during a \"\n"
     ]
    },
    {
     "name": "stdout",
     "output_type": "stream",
     "text": [
      "optimal function value: 4.0\n",
      "optimal value: [0. 1. 1. 0. 0.]\n",
      "status: SUCCESS\n",
      "optimal function value: 4.0\n",
      "optimal value: [1. 1. 0. 0. 0. 0.]\n",
      "status: SUCCESS\n"
     ]
    }
   ],
   "source": [
    "max_n_arch = max(max(c_map))\n",
    "for benchmark in benchmarks:\n",
    "    for n in range(n_min, n_max):\n",
    "        qc = benchmark.create_circuit(n)\n",
    "        compiled_without_architecure = get_compiled_circuit(qc, opt_level=opt_level)\n",
    "        save_as_qasm(compiled_without_architecure, n)\n",
    "        if (n < max_n_arch):\n",
    "            compiled_with_architecture = get_compiled_circuit(qc, opt_level=opt_level, c_map=c_map)\n",
    "            save_as_qasm(compiled_with_architecture, n, True)"
   ]
  },
  {
   "cell_type": "markdown",
   "id": "426eba58",
   "metadata": {},
   "source": [
    "Grover Test"
   ]
  },
  {
   "cell_type": "code",
   "execution_count": null,
   "id": "59f58622",
   "metadata": {
    "scrolled": true
   },
   "outputs": [],
   "source": [
    "a = grover.create_circuit(num_qubits_test)\n",
    "b = get_compiled_circuit(a, opt_level=2)\n",
    "save_as_qasm(b, num_qubits_test)\n",
    "c = get_compiled_circuit(b, opt_level=2, c_map=c_map)\n",
    "save_as_qasm(c, num_qubits_test, True)"
   ]
  },
  {
   "cell_type": "markdown",
   "id": "5e2fff71",
   "metadata": {},
   "source": [
    "QAOA Test"
   ]
  },
  {
   "cell_type": "code",
   "execution_count": null,
   "id": "f55b15bc",
   "metadata": {},
   "outputs": [],
   "source": [
    "a = qaoa.create_circuit(num_qubits_test)\n",
    "b = get_compiled_circuit(a, opt_level=2)\n",
    "save_as_qasm(b, num_qubits_test)\n",
    "c = get_compiled_circuit(b, opt_level=2, c_map=c_map)\n",
    "save_as_qasm(c, num_qubits_test, True)"
   ]
  },
  {
   "cell_type": "markdown",
   "id": "7a0969d4",
   "metadata": {},
   "source": [
    "GHZ Test"
   ]
  },
  {
   "cell_type": "code",
   "execution_count": null,
   "id": "9f56f89c",
   "metadata": {},
   "outputs": [],
   "source": [
    "a = ghz.create_circuit(num_qubits_test)\n",
    "b = get_compiled_circuit(a, opt_level=2)\n",
    "save_as_qasm(b, num_qubits_test)\n",
    "c = get_compiled_circuit(b, opt_level=2, c_map=c_map)\n",
    "save_as_qasm(c, num_qubits_test, True)"
   ]
  },
  {
   "cell_type": "markdown",
   "id": "df9838f3",
   "metadata": {},
   "source": [
    "QFT Test"
   ]
  },
  {
   "cell_type": "code",
   "execution_count": null,
   "id": "e7bc546e",
   "metadata": {},
   "outputs": [],
   "source": [
    "a = qft.create_circuit(num_qubits_test)\n",
    "b = get_compiled_circuit(a, opt_level=2)\n",
    "save_as_qasm(b, num_qubits_test)\n",
    "c = get_compiled_circuit(b, opt_level=2, c_map=c_map)\n",
    "save_as_qasm(c, num_qubits_test, True)"
   ]
  },
  {
   "cell_type": "markdown",
   "id": "817d73dc",
   "metadata": {},
   "source": [
    "QFT Entangled Test"
   ]
  },
  {
   "cell_type": "code",
   "execution_count": null,
   "id": "c35a097c",
   "metadata": {},
   "outputs": [],
   "source": [
    "a = qft_entangled.create_circuit(num_qubits_test)\n",
    "b = get_compiled_circuit(a, opt_level=2)\n",
    "save_as_qasm(b, num_qubits_test)\n",
    "c = get_compiled_circuit(b, opt_level=2, c_map=c_map)\n",
    "save_as_qasm(c, num_qubits_test, True)"
   ]
  },
  {
   "cell_type": "markdown",
   "id": "d33c0057",
   "metadata": {},
   "source": [
    "W-State Test"
   ]
  },
  {
   "cell_type": "code",
   "execution_count": null,
   "id": "877f69cc",
   "metadata": {},
   "outputs": [],
   "source": [
    "a = w_state.create_circuit(num_qubits_test)\n",
    "b = get_compiled_circuit(a, opt_level=2)\n",
    "save_as_qasm(b, num_qubits_test)\n",
    "c = get_compiled_circuit(b, opt_level=2, c_map=c_map)\n",
    "save_as_qasm(c, num_qubits_test, True)"
   ]
  },
  {
   "cell_type": "markdown",
   "id": "493c11b5",
   "metadata": {},
   "source": [
    "QPE Exact and QPE Inexact Test"
   ]
  },
  {
   "cell_type": "code",
   "execution_count": null,
   "id": "d10ae128",
   "metadata": {},
   "outputs": [],
   "source": [
    "a = qpe_exact.create_circuit(num_qubits_test)\n",
    "b = get_compiled_circuit(a, opt_level=2)\n",
    "save_as_qasm(b, num_qubits_test)\n",
    "c = get_compiled_circuit(b, opt_level=2, c_map=c_map)\n",
    "save_as_qasm(c, num_qubits_test, True)\n",
    "\n",
    "a = qpe_inexact.create_circuit(num_qubits_test)\n",
    "b = get_compiled_circuit(a, opt_level=2)\n",
    "save_as_qasm(b, num_qubits_test)\n",
    "c = get_compiled_circuit(b, opt_level=2, c_map=c_map)\n",
    "save_as_qasm(c, num_qubits_test, True)"
   ]
  },
  {
   "cell_type": "markdown",
   "id": "55f9e13e",
   "metadata": {},
   "source": [
    "Graph State Test"
   ]
  },
  {
   "cell_type": "code",
   "execution_count": null,
   "id": "b441e1ea",
   "metadata": {},
   "outputs": [],
   "source": [
    "a = graph_state.create_circuit(num_qubits_test)\n",
    "b = get_compiled_circuit(a, opt_level=2)\n",
    "save_as_qasm(b, num_qubits_test)\n",
    "c = get_compiled_circuit(b, opt_level=2, c_map=c_map)\n",
    "save_as_qasm(c, num_qubits_test, True)\n"
   ]
  },
  {
   "cell_type": "markdown",
   "id": "afd17aef",
   "metadata": {},
   "source": [
    "Shor Test"
   ]
  },
  {
   "cell_type": "code",
   "execution_count": null,
   "id": "a1bc1935",
   "metadata": {},
   "outputs": [],
   "source": [
    "a = shor.create_circuit(15)\n",
    "b = get_compiled_circuit(a, opt_level=2)\n",
    "save_as_qasm(b, None)\n",
    "c = get_compiled_circuit(b, opt_level=2, c_map=c_map)\n",
    "save_as_qasm(c, None, True)"
   ]
  },
  {
   "cell_type": "markdown",
   "id": "2954065a",
   "metadata": {},
   "source": [
    "QAE Test"
   ]
  },
  {
   "cell_type": "code",
   "execution_count": null,
   "id": "d1a75aa0",
   "metadata": {},
   "outputs": [],
   "source": [
    "import ae"
   ]
  },
  {
   "cell_type": "code",
   "execution_count": null,
   "id": "c7319db0",
   "metadata": {},
   "outputs": [],
   "source": [
    "a = ae.create_circuit(num_qubits_test)\n",
    "b = get_compiled_circuit(a, opt_level=2)\n",
    "save_as_qasm(b, num_qubits_test)\n",
    "c = get_compiled_circuit(b, opt_level=2, c_map=c_map)\n",
    "save_as_qasm(c, num_qubits_test, True)\n"
   ]
  },
  {
   "cell_type": "markdown",
   "id": "78c28a2d",
   "metadata": {},
   "source": [
    "DJ Test"
   ]
  },
  {
   "cell_type": "code",
   "execution_count": 4,
   "id": "8b40fdd9",
   "metadata": {},
   "outputs": [
    {
     "data": {
      "text/html": [
       "<pre style=\"word-wrap: normal;white-space: pre;background: #fff0;line-height: 1.1;font-family: &quot;Courier New&quot;,Courier,monospace\">      ┌───┐     ┌──────────┐┌───┐┌─┐                                          \n",
       " q_0: ┤ H ├─────┤0         ├┤ H ├┤M├──────────────────────────────────────────\n",
       "      ├───┤     │          │├───┤└╥┘┌─┐                                       \n",
       " q_1: ┤ H ├─────┤1         ├┤ H ├─╫─┤M├───────────────────────────────────────\n",
       "      ├───┤     │          │├───┤ ║ └╥┘┌─┐                                    \n",
       " q_2: ┤ H ├─────┤2         ├┤ H ├─╫──╫─┤M├────────────────────────────────────\n",
       "      ├───┤     │          │├───┤ ║  ║ └╥┘┌─┐                                 \n",
       " q_3: ┤ H ├─────┤3         ├┤ H ├─╫──╫──╫─┤M├─────────────────────────────────\n",
       "      ├───┤     │          │├───┤ ║  ║  ║ └╥┘┌─┐                              \n",
       " q_4: ┤ H ├─────┤4         ├┤ H ├─╫──╫──╫──╫─┤M├──────────────────────────────\n",
       "      ├───┤     │          │├───┤ ║  ║  ║  ║ └╥┘┌─┐                           \n",
       " q_5: ┤ H ├─────┤5         ├┤ H ├─╫──╫──╫──╫──╫─┤M├───────────────────────────\n",
       "      ├───┤     │          │├───┤ ║  ║  ║  ║  ║ └╥┘┌─┐                        \n",
       " q_6: ┤ H ├─────┤6         ├┤ H ├─╫──╫──╫──╫──╫──╫─┤M├────────────────────────\n",
       "      ├───┤     │          │├───┤ ║  ║  ║  ║  ║  ║ └╥┘┌─┐                     \n",
       " q_7: ┤ H ├─────┤7         ├┤ H ├─╫──╫──╫──╫──╫──╫──╫─┤M├─────────────────────\n",
       "      ├───┤     │   Oracle │├───┤ ║  ║  ║  ║  ║  ║  ║ └╥┘┌─┐                  \n",
       " q_8: ┤ H ├─────┤8         ├┤ H ├─╫──╫──╫──╫──╫──╫──╫──╫─┤M├──────────────────\n",
       "      ├───┤     │          │├───┤ ║  ║  ║  ║  ║  ║  ║  ║ └╥┘┌─┐               \n",
       " q_9: ┤ H ├─────┤9         ├┤ H ├─╫──╫──╫──╫──╫──╫──╫──╫──╫─┤M├───────────────\n",
       "      ├───┤     │          │├───┤ ║  ║  ║  ║  ║  ║  ║  ║  ║ └╥┘┌─┐            \n",
       "q_10: ┤ H ├─────┤10        ├┤ H ├─╫──╫──╫──╫──╫──╫──╫──╫──╫──╫─┤M├────────────\n",
       "      ├───┤     │          │├───┤ ║  ║  ║  ║  ║  ║  ║  ║  ║  ║ └╥┘┌─┐         \n",
       "q_11: ┤ H ├─────┤11        ├┤ H ├─╫──╫──╫──╫──╫──╫──╫──╫──╫──╫──╫─┤M├─────────\n",
       "      ├───┤     │          │├───┤ ║  ║  ║  ║  ║  ║  ║  ║  ║  ║  ║ └╥┘┌─┐      \n",
       "q_12: ┤ H ├─────┤12        ├┤ H ├─╫──╫──╫──╫──╫──╫──╫──╫──╫──╫──╫──╫─┤M├──────\n",
       "      ├───┤     │          │├───┤ ║  ║  ║  ║  ║  ║  ║  ║  ║  ║  ║  ║ └╥┘┌─┐   \n",
       "q_13: ┤ H ├─────┤13        ├┤ H ├─╫──╫──╫──╫──╫──╫──╫──╫──╫──╫──╫──╫──╫─┤M├───\n",
       "      ├───┤     │          │├───┤ ║  ║  ║  ║  ║  ║  ║  ║  ║  ║  ║  ║  ║ └╥┘┌─┐\n",
       "q_14: ┤ H ├─────┤14        ├┤ H ├─╫──╫──╫──╫──╫──╫──╫──╫──╫──╫──╫──╫──╫──╫─┤M├\n",
       "      ├───┤┌───┐│          │└───┘ ║  ║  ║  ║  ║  ║  ║  ║  ║  ║  ║  ║  ║  ║ └╥┘\n",
       "q_15: ┤ X ├┤ H ├┤15        ├──────╫──╫──╫──╫──╫──╫──╫──╫──╫──╫──╫──╫──╫──╫──╫─\n",
       "      └───┘└───┘└──────────┘      ║  ║  ║  ║  ║  ║  ║  ║  ║  ║  ║  ║  ║  ║  ║ \n",
       "c: 15/════════════════════════════╩══╩══╩══╩══╩══╩══╩══╩══╩══╩══╩══╩══╩══╩══╩═\n",
       "                                  0  1  2  3  4  5  6  7  8  9  10 11 12 13 14</pre>"
      ],
      "text/plain": [
       "      ┌───┐     ┌──────────┐┌───┐┌─┐                                          \n",
       " q_0: ┤ H ├─────┤0         ├┤ H ├┤M├──────────────────────────────────────────\n",
       "      ├───┤     │          │├───┤└╥┘┌─┐                                       \n",
       " q_1: ┤ H ├─────┤1         ├┤ H ├─╫─┤M├───────────────────────────────────────\n",
       "      ├───┤     │          │├───┤ ║ └╥┘┌─┐                                    \n",
       " q_2: ┤ H ├─────┤2         ├┤ H ├─╫──╫─┤M├────────────────────────────────────\n",
       "      ├───┤     │          │├───┤ ║  ║ └╥┘┌─┐                                 \n",
       " q_3: ┤ H ├─────┤3         ├┤ H ├─╫──╫──╫─┤M├─────────────────────────────────\n",
       "      ├───┤     │          │├───┤ ║  ║  ║ └╥┘┌─┐                              \n",
       " q_4: ┤ H ├─────┤4         ├┤ H ├─╫──╫──╫──╫─┤M├──────────────────────────────\n",
       "      ├───┤     │          │├───┤ ║  ║  ║  ║ └╥┘┌─┐                           \n",
       " q_5: ┤ H ├─────┤5         ├┤ H ├─╫──╫──╫──╫──╫─┤M├───────────────────────────\n",
       "      ├───┤     │          │├───┤ ║  ║  ║  ║  ║ └╥┘┌─┐                        \n",
       " q_6: ┤ H ├─────┤6         ├┤ H ├─╫──╫──╫──╫──╫──╫─┤M├────────────────────────\n",
       "      ├───┤     │          │├───┤ ║  ║  ║  ║  ║  ║ └╥┘┌─┐                     \n",
       " q_7: ┤ H ├─────┤7         ├┤ H ├─╫──╫──╫──╫──╫──╫──╫─┤M├─────────────────────\n",
       "      ├───┤     │   Oracle │├───┤ ║  ║  ║  ║  ║  ║  ║ └╥┘┌─┐                  \n",
       " q_8: ┤ H ├─────┤8         ├┤ H ├─╫──╫──╫──╫──╫──╫──╫──╫─┤M├──────────────────\n",
       "      ├───┤     │          │├───┤ ║  ║  ║  ║  ║  ║  ║  ║ └╥┘┌─┐               \n",
       " q_9: ┤ H ├─────┤9         ├┤ H ├─╫──╫──╫──╫──╫──╫──╫──╫──╫─┤M├───────────────\n",
       "      ├───┤     │          │├───┤ ║  ║  ║  ║  ║  ║  ║  ║  ║ └╥┘┌─┐            \n",
       "q_10: ┤ H ├─────┤10        ├┤ H ├─╫──╫──╫──╫──╫──╫──╫──╫──╫──╫─┤M├────────────\n",
       "      ├───┤     │          │├───┤ ║  ║  ║  ║  ║  ║  ║  ║  ║  ║ └╥┘┌─┐         \n",
       "q_11: ┤ H ├─────┤11        ├┤ H ├─╫──╫──╫──╫──╫──╫──╫──╫──╫──╫──╫─┤M├─────────\n",
       "      ├───┤     │          │├───┤ ║  ║  ║  ║  ║  ║  ║  ║  ║  ║  ║ └╥┘┌─┐      \n",
       "q_12: ┤ H ├─────┤12        ├┤ H ├─╫──╫──╫──╫──╫──╫──╫──╫──╫──╫──╫──╫─┤M├──────\n",
       "      ├───┤     │          │├───┤ ║  ║  ║  ║  ║  ║  ║  ║  ║  ║  ║  ║ └╥┘┌─┐   \n",
       "q_13: ┤ H ├─────┤13        ├┤ H ├─╫──╫──╫──╫──╫──╫──╫──╫──╫──╫──╫──╫──╫─┤M├───\n",
       "      ├───┤     │          │├───┤ ║  ║  ║  ║  ║  ║  ║  ║  ║  ║  ║  ║  ║ └╥┘┌─┐\n",
       "q_14: ┤ H ├─────┤14        ├┤ H ├─╫──╫──╫──╫──╫──╫──╫──╫──╫──╫──╫──╫──╫──╫─┤M├\n",
       "      ├───┤┌───┐│          │└───┘ ║  ║  ║  ║  ║  ║  ║  ║  ║  ║  ║  ║  ║  ║ └╥┘\n",
       "q_15: ┤ X ├┤ H ├┤15        ├──────╫──╫──╫──╫──╫──╫──╫──╫──╫──╫──╫──╫──╫──╫──╫─\n",
       "      └───┘└───┘└──────────┘      ║  ║  ║  ║  ║  ║  ║  ║  ║  ║  ║  ║  ║  ║  ║ \n",
       "c: 15/════════════════════════════╩══╩══╩══╩══╩══╩══╩══╩══╩══╩══╩══╩══╩══╩══╩═\n",
       "                                  0  1  2  3  4  5  6  7  8  9  10 11 12 13 14"
      ]
     },
     "execution_count": 4,
     "metadata": {},
     "output_type": "execute_result"
    }
   ],
   "source": [
    "deutsch_jozsa.create_circuit(15).draw()"
   ]
  },
  {
   "cell_type": "code",
   "execution_count": 9,
   "id": "7a292e18",
   "metadata": {},
   "outputs": [
    {
     "ename": "TranspilerError",
     "evalue": "'Number of qubits (6) in dj is greater than maximum (5) in the coupling_map'",
     "output_type": "error",
     "traceback": [
      "\u001b[1;31m---------------------------------------------------------------------------\u001b[0m",
      "\u001b[1;31mTranspilerError\u001b[0m                           Traceback (most recent call last)",
      "\u001b[1;32m~\\AppData\\Local\\Temp/ipykernel_11848/4209383482.py\u001b[0m in \u001b[0;36m<module>\u001b[1;34m\u001b[0m\n\u001b[0;32m      2\u001b[0m \u001b[0mb\u001b[0m \u001b[1;33m=\u001b[0m \u001b[0mget_compiled_circuit\u001b[0m\u001b[1;33m(\u001b[0m\u001b[0ma\u001b[0m\u001b[1;33m,\u001b[0m \u001b[0mopt_level\u001b[0m\u001b[1;33m=\u001b[0m\u001b[1;36m2\u001b[0m\u001b[1;33m)\u001b[0m\u001b[1;33m\u001b[0m\u001b[1;33m\u001b[0m\u001b[0m\n\u001b[0;32m      3\u001b[0m \u001b[0msave_as_qasm\u001b[0m\u001b[1;33m(\u001b[0m\u001b[0mb\u001b[0m\u001b[1;33m,\u001b[0m \u001b[0mnum_qubits_test\u001b[0m\u001b[1;33m)\u001b[0m\u001b[1;33m\u001b[0m\u001b[1;33m\u001b[0m\u001b[0m\n\u001b[1;32m----> 4\u001b[1;33m \u001b[0mc\u001b[0m \u001b[1;33m=\u001b[0m \u001b[0mget_compiled_circuit\u001b[0m\u001b[1;33m(\u001b[0m\u001b[0mb\u001b[0m\u001b[1;33m,\u001b[0m \u001b[0mopt_level\u001b[0m\u001b[1;33m=\u001b[0m\u001b[1;36m2\u001b[0m\u001b[1;33m,\u001b[0m \u001b[0mc_map\u001b[0m\u001b[1;33m=\u001b[0m\u001b[0mc_map\u001b[0m\u001b[1;33m)\u001b[0m\u001b[1;33m\u001b[0m\u001b[1;33m\u001b[0m\u001b[0m\n\u001b[0m\u001b[0;32m      5\u001b[0m \u001b[0msave_as_qasm\u001b[0m\u001b[1;33m(\u001b[0m\u001b[0mc\u001b[0m\u001b[1;33m,\u001b[0m \u001b[0mnum_qubits_test\u001b[0m\u001b[1;33m,\u001b[0m \u001b[1;32mTrue\u001b[0m\u001b[1;33m)\u001b[0m\u001b[1;33m\u001b[0m\u001b[1;33m\u001b[0m\u001b[0m\n",
      "\u001b[1;32m~\\Google Drive\\PhD\\repos\\DAQCBench\\utils.py\u001b[0m in \u001b[0;36mget_compiled_circuit\u001b[1;34m(qc, opt_level, c_map)\u001b[0m\n\u001b[0;32m     13\u001b[0m \u001b[1;33m\u001b[0m\u001b[0m\n\u001b[0;32m     14\u001b[0m \u001b[1;32mdef\u001b[0m \u001b[0mget_compiled_circuit\u001b[0m\u001b[1;33m(\u001b[0m\u001b[0mqc\u001b[0m\u001b[1;33m:\u001b[0m \u001b[0mQuantumCircuit\u001b[0m\u001b[1;33m,\u001b[0m \u001b[0mopt_level\u001b[0m\u001b[1;33m:\u001b[0m \u001b[0mint\u001b[0m \u001b[1;33m=\u001b[0m \u001b[1;36m2\u001b[0m\u001b[1;33m,\u001b[0m \u001b[0mc_map\u001b[0m\u001b[1;33m:\u001b[0m \u001b[0mCouplingMap\u001b[0m \u001b[1;33m=\u001b[0m \u001b[1;32mNone\u001b[0m\u001b[1;33m)\u001b[0m\u001b[1;33m:\u001b[0m\u001b[1;33m\u001b[0m\u001b[1;33m\u001b[0m\u001b[0m\n\u001b[1;32m---> 15\u001b[1;33m     \u001b[0mt_qc\u001b[0m \u001b[1;33m=\u001b[0m \u001b[0mtranspile\u001b[0m\u001b[1;33m(\u001b[0m\u001b[0mqc\u001b[0m\u001b[1;33m,\u001b[0m \u001b[0mbasis_gates\u001b[0m\u001b[1;33m=\u001b[0m\u001b[1;33m[\u001b[0m\u001b[1;34m'id'\u001b[0m\u001b[1;33m,\u001b[0m \u001b[1;34m'rz'\u001b[0m\u001b[1;33m,\u001b[0m \u001b[1;34m'sx'\u001b[0m\u001b[1;33m,\u001b[0m \u001b[1;34m'x'\u001b[0m\u001b[1;33m,\u001b[0m \u001b[1;34m'cx'\u001b[0m\u001b[1;33m,\u001b[0m \u001b[1;34m'reset'\u001b[0m\u001b[1;33m]\u001b[0m\u001b[1;33m,\u001b[0m \u001b[0moptimization_level\u001b[0m\u001b[1;33m=\u001b[0m\u001b[0mopt_level\u001b[0m\u001b[1;33m,\u001b[0m \u001b[0mcoupling_map\u001b[0m\u001b[1;33m=\u001b[0m\u001b[0mc_map\u001b[0m\u001b[1;33m)\u001b[0m\u001b[1;33m\u001b[0m\u001b[1;33m\u001b[0m\u001b[0m\n\u001b[0m\u001b[0;32m     16\u001b[0m     \u001b[1;32mreturn\u001b[0m \u001b[0mt_qc\u001b[0m\u001b[1;33m\u001b[0m\u001b[1;33m\u001b[0m\u001b[0m\n\u001b[0;32m     17\u001b[0m \u001b[1;33m\u001b[0m\u001b[0m\n",
      "\u001b[1;32m~\\anaconda3\\envs\\qsharp-env\\lib\\site-packages\\qiskit\\compiler\\transpiler.py\u001b[0m in \u001b[0;36mtranspile\u001b[1;34m(circuits, backend, basis_gates, coupling_map, backend_properties, initial_layout, layout_method, routing_method, translation_method, scheduling_method, instruction_durations, dt, approximation_degree, timing_constraints, seed_transpiler, optimization_level, pass_manager, callback, output_name)\u001b[0m\n\u001b[0;32m    288\u001b[0m     )\n\u001b[0;32m    289\u001b[0m \u001b[1;33m\u001b[0m\u001b[0m\n\u001b[1;32m--> 290\u001b[1;33m     \u001b[0m_check_circuits_coupling_map\u001b[0m\u001b[1;33m(\u001b[0m\u001b[0mcircuits\u001b[0m\u001b[1;33m,\u001b[0m \u001b[0mtranspile_args\u001b[0m\u001b[1;33m,\u001b[0m \u001b[0mbackend\u001b[0m\u001b[1;33m)\u001b[0m\u001b[1;33m\u001b[0m\u001b[1;33m\u001b[0m\u001b[0m\n\u001b[0m\u001b[0;32m    291\u001b[0m \u001b[1;33m\u001b[0m\u001b[0m\n\u001b[0;32m    292\u001b[0m     \u001b[1;31m# Transpile circuits in parallel\u001b[0m\u001b[1;33m\u001b[0m\u001b[1;33m\u001b[0m\u001b[0m\n",
      "\u001b[1;32m~\\anaconda3\\envs\\qsharp-env\\lib\\site-packages\\qiskit\\compiler\\transpiler.py\u001b[0m in \u001b[0;36m_check_circuits_coupling_map\u001b[1;34m(circuits, transpile_args, backend)\u001b[0m\n\u001b[0;32m    328\u001b[0m \u001b[1;33m\u001b[0m\u001b[0m\n\u001b[0;32m    329\u001b[0m         \u001b[1;32mif\u001b[0m \u001b[0mmax_qubits\u001b[0m \u001b[1;32mis\u001b[0m \u001b[1;32mnot\u001b[0m \u001b[1;32mNone\u001b[0m \u001b[1;32mand\u001b[0m \u001b[1;33m(\u001b[0m\u001b[0mnum_qubits\u001b[0m \u001b[1;33m>\u001b[0m \u001b[0mmax_qubits\u001b[0m\u001b[1;33m)\u001b[0m\u001b[1;33m:\u001b[0m\u001b[1;33m\u001b[0m\u001b[1;33m\u001b[0m\u001b[0m\n\u001b[1;32m--> 330\u001b[1;33m             raise TranspilerError(\n\u001b[0m\u001b[0;32m    331\u001b[0m                 \u001b[1;34mf\"Number of qubits ({num_qubits}) in {circuit.name} \"\u001b[0m\u001b[1;33m\u001b[0m\u001b[1;33m\u001b[0m\u001b[0m\n\u001b[0;32m    332\u001b[0m                 \u001b[1;34mf\"is greater than maximum ({max_qubits}) in the coupling_map\"\u001b[0m\u001b[1;33m\u001b[0m\u001b[1;33m\u001b[0m\u001b[0m\n",
      "\u001b[1;31mTranspilerError\u001b[0m: 'Number of qubits (6) in dj is greater than maximum (5) in the coupling_map'"
     ]
    }
   ],
   "source": [
    "a = deutsch_jozsa.create_circuit(num_qubits_test)\n",
    "b = get_compiled_circuit(a, opt_level=2)\n",
    "save_as_qasm(b, num_qubits_test)\n",
    "c = get_compiled_circuit(b, opt_level=2, c_map=c_map)\n",
    "save_as_qasm(c, num_qubits_test, True)"
   ]
  },
  {
   "cell_type": "code",
   "execution_count": null,
   "id": "d2575061",
   "metadata": {},
   "outputs": [],
   "source": []
  }
 ],
 "metadata": {
  "kernelspec": {
   "display_name": "Python 3 (ipykernel)",
   "language": "python",
   "name": "python3"
  },
  "language_info": {
   "codemirror_mode": {
    "name": "ipython",
    "version": 3
   },
   "file_extension": ".py",
   "mimetype": "text/x-python",
   "name": "python",
   "nbconvert_exporter": "python",
   "pygments_lexer": "ipython3",
   "version": "3.9.7"
  }
 },
 "nbformat": 4,
 "nbformat_minor": 5
}
