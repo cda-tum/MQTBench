{
 "cells": [
  {
   "cell_type": "code",
   "execution_count": 1,
   "id": "4687d35d",
   "metadata": {},
   "outputs": [],
   "source": [
    "from qiskit import QuantumCircuit, QuantumRegister, ClassicalRegister, AncillaRegister, IBMQ\n",
    "from qiskit.circuit.library import QFT, GraphState, GroverOperator\n",
    "from qiskit.qasm import pi\n",
    "from src.utils import *\n",
    "\n",
    "\n",
    "from src.benchmarks import grover, qaoa, ghz, qft, qft_entangled, shor, w_state, qpe_inexact, qpe_exact, graph_state, vqe, deutsch_jozsa, hhl, ae"
   ]
  },
  {
   "cell_type": "code",
   "execution_count": 2,
   "id": "32ea7dd2",
   "metadata": {},
   "outputs": [],
   "source": [
    "provider = IBMQ.load_account()\n",
    "backend = provider.backend.ibmq_santiago\n",
    "c_map = backend.configuration().coupling_map\n",
    "max_n_arch = max(max(c_map))"
   ]
  },
  {
   "cell_type": "code",
   "execution_count": 3,
   "id": "b6d4e77a",
   "metadata": {},
   "outputs": [
    {
     "data": {
      "text/plain": [
       "['id', 'rz', 'sx', 'x', 'cx', 'reset']"
      ]
     },
     "execution_count": 3,
     "metadata": {},
     "output_type": "execute_result"
    }
   ],
   "source": [
    "basis_gates = backend.configuration().basis_gates\n",
    "basis_gates"
   ]
  },
  {
   "cell_type": "code",
   "execution_count": 4,
   "id": "ca784191",
   "metadata": {},
   "outputs": [],
   "source": [
    "benchmarks = [grover, qaoa, ghz, qft, qft_entangled, w_state, qpe_inexact, qpe_exact, vqe, deutsch_jozsa, hhl, shor]"
   ]
  },
  {
   "cell_type": "code",
   "execution_count": 5,
   "id": "8001079e",
   "metadata": {},
   "outputs": [],
   "source": [
    "num_qubits_test = 5\n",
    "n_min = 5\n",
    "n_max = 10\n",
    "opt_level = 2"
   ]
  },
  {
   "cell_type": "code",
   "execution_count": 11,
   "id": "2183f63d",
   "metadata": {},
   "outputs": [],
   "source": [
    "characteristics = []\n",
    "for benchmark in benchmarks:\n",
    "    if benchmark == shor or benchmark == (hhl):\n",
    "        continue\n",
    "    for n in range(n_min, n_max):  \n",
    "        qc = benchmark.create_circuit(n)\n",
    "        \n",
    "        compiled_without_architecure = get_compiled_circuit(qc = qc, opt_level=opt_level, basis_gates=basis_gates)\n",
    "        save_as_qasm(compiled_without_architecure, n)       \n",
    "        \n",
    "        filename = qc.name + \"_transpiled_\" + str(n) \n",
    "        depth = compiled_without_architecure.depth()\n",
    "        \n",
    "        characteristics.append([filename, n, depth])\n",
    "        \n",
    "        if (len(compiled_without_architecure.qubits) < max_n_arch):\n",
    "            compiled_with_architecture = get_compiled_circuit(qc = qc, opt_level=opt_level, \n",
    "                                                              basis_gates=basis_gates, c_map=c_map)\n",
    "            save_as_qasm(compiled_with_architecture, n, True)\n",
    "            \n",
    "            filename = qc.name + \"_transpiled_mapped_\" + str(n)\n",
    "            depth = compiled_with_architecture.depth()\n",
    "            characteristics.append([filename, n, depth])\n",
    "\n",
    "#create_shor_benchmarks()\n",
    "#create_hhl_benchmarks"
   ]
  },
  {
   "cell_type": "code",
   "execution_count": 12,
   "id": "62f80ddc",
   "metadata": {},
   "outputs": [
    {
     "name": "stdout",
     "output_type": "stream",
     "text": [
      "['grover_transpiled_5', 5, 313]\n",
      "['grover_transpiled_6', 6, 908]\n",
      "['grover_transpiled_7', 7, 2806]\n",
      "['grover_transpiled_8', 8, 7580]\n",
      "['grover_transpiled_9', 9, 22888]\n",
      "['QAOA_transpiled_5', 5, 21]\n",
      "['QAOA_transpiled_6', 6, 18]\n",
      "['QAOA_transpiled_7', 7, 18]\n",
      "['QAOA_transpiled_8', 8, 18]\n",
      "['QAOA_transpiled_9', 9, 18]\n",
      "['ghz_transpiled_5', 5, 8]\n",
      "['ghz_transpiled_6', 6, 9]\n",
      "['ghz_transpiled_7', 7, 10]\n",
      "['ghz_transpiled_8', 8, 11]\n",
      "['ghz_transpiled_9', 9, 12]\n",
      "['qft_transpiled_5', 5, 34]\n",
      "['qft_transpiled_6', 6, 41]\n",
      "['qft_transpiled_7', 7, 48]\n",
      "['qft_transpiled_8', 8, 55]\n",
      "['qft_transpiled_9', 9, 62]\n",
      "['qft_entangled_transpiled_5', 5, 42]\n",
      "['qft_entangled_transpiled_6', 6, 50]\n",
      "['qft_entangled_transpiled_7', 7, 58]\n",
      "['qft_entangled_transpiled_8', 8, 66]\n",
      "['qft_entangled_transpiled_9', 9, 74]\n",
      "['w_state_transpiled_5', 5, 21]\n",
      "['w_state_transpiled_6', 6, 25]\n",
      "['w_state_transpiled_7', 7, 29]\n",
      "['w_state_transpiled_8', 8, 33]\n",
      "['w_state_transpiled_9', 9, 37]\n",
      "['qpe_inexact_transpiled_5', 5, 42]\n",
      "['qpe_inexact_transpiled_6', 6, 52]\n",
      "['qpe_inexact_transpiled_7', 7, 62]\n",
      "['qpe_inexact_transpiled_8', 8, 72]\n",
      "['qpe_inexact_transpiled_9', 9, 82]\n",
      "['qpe_exact_transpiled_5', 5, 37]\n",
      "['qpe_exact_transpiled_6', 6, 53]\n",
      "['qpe_exact_transpiled_7', 7, 62]\n",
      "['qpe_exact_transpiled_8', 8, 72]\n",
      "['qpe_exact_transpiled_9', 9, 82]\n",
      "['VQE_transpiled_5', 5, 25]\n",
      "['VQE_transpiled_6', 6, 28]\n",
      "['VQE_transpiled_7', 7, 31]\n",
      "['VQE_transpiled_8', 8, 34]\n",
      "['VQE_transpiled_9', 9, 37]\n",
      "['dj_transpiled_5', 5, 10]\n",
      "['dj_transpiled_6', 6, 11]\n",
      "['dj_transpiled_7', 7, 12]\n",
      "['dj_transpiled_8', 8, 13]\n",
      "['dj_transpiled_9', 9, 14]\n"
     ]
    }
   ],
   "source": [
    "for row in (characteristics):\n",
    "    print(row)"
   ]
  },
  {
   "cell_type": "code",
   "execution_count": 13,
   "id": "aec43a0d",
   "metadata": {},
   "outputs": [],
   "source": [
    "def create_shor_benchmarks():\n",
    "    small = [15,4] #18 qubits\n",
    "    medium = [821, 4] #42 qubits\n",
    "    large = [11777, 4] #58 qubits\n",
    "    xlarge = [201209, 4] # 74 qubits\n",
    "    benchmark_list = [small]#, medium, large, xlarge]\n",
    "    for n, a in benchmark_list:         \n",
    "        qc = shor.create_circuit(n,a)\n",
    "        compiled_without_architecure = get_compiled_circuit(qc = qc, opt_level=opt_level, basis_gates=basis_gates)\n",
    "        num_qubits = len(compiled_without_architecure.qubits)\n",
    "        save_as_qasm(compiled_without_architecure, num_qubits)\n",
    "        \n",
    "        filename = qc.name + \"_transpiled_\" + str(num_qubits)\n",
    "        depth = compiled_without_architecure.depth()        \n",
    "        characteristics.append([filename, num_qubits, depth])\n",
    "        \n",
    "        if (num_qubits < max_n_arch):\n",
    "            compiled_with_architecture = get_compiled_circuit(qc = qc, opt_level=opt_level, \n",
    "                                                              basis_gates=basis_gates, c_map=c_map)\n",
    "            save_as_qasm(compiled_with_architecture, num_qubits, True)\n",
    "            \n",
    "            filename = qc.name + \"_transpiled_mapped_\" + str(num_qubits)\n",
    "            depth = compiled_with_architecture.depth()\n",
    "            characteristics.append([filename, num_qubits, depth])\n",
    "create_shor_benchmarks()"
   ]
  },
  {
   "cell_type": "code",
   "execution_count": 14,
   "id": "b3373e0e",
   "metadata": {},
   "outputs": [],
   "source": [
    "def create_hhl_benchmarks():\n",
    "    # n is not the number of qubits in this case\n",
    "    for n in range(1,4):         \n",
    "        qc = hhl.create_circuit(n)\n",
    "        compiled_without_architecure = get_compiled_circuit(qc = qc, opt_level=opt_level, basis_gates=basis_gates)\n",
    "        num_qubits = len(compiled_without_architecure.qubits)\n",
    "        save_as_qasm(compiled_without_architecure, num_qubits)        \n",
    "        \n",
    "        filename = qc.name + \"_transpiled_\" + str(num_qubits)\n",
    "        depth = compiled_without_architecure.depth()        \n",
    "        characteristics.append([filename, num_qubits, depth])\n",
    "        \n",
    "        if (num_qubits < max_n_arch):\n",
    "            compiled_with_architecture = get_compiled_circuit(qc = qc, opt_level=opt_level, \n",
    "                                                              basis_gates=basis_gates, c_map=c_map)\n",
    "            save_as_qasm(compiled_with_architecture, num_qubits, True)\n",
    "            \n",
    "            filename = qc.name + \"_transpiled_mapped_\" + str(num_qubits)\n",
    "            depth = compiled_with_architecture.depth()\n",
    "            characteristics.append([filename, num_qubits, depth])\n",
    "create_hhl_benchmarks()"
   ]
  },
  {
   "cell_type": "code",
   "execution_count": 15,
   "id": "143622a2",
   "metadata": {},
   "outputs": [
    {
     "name": "stdout",
     "output_type": "stream",
     "text": [
      "['grover_transpiled_5', 5, 313]\n",
      "['grover_transpiled_6', 6, 908]\n",
      "['grover_transpiled_7', 7, 2806]\n",
      "['grover_transpiled_8', 8, 7580]\n",
      "['grover_transpiled_9', 9, 22888]\n",
      "['QAOA_transpiled_5', 5, 21]\n",
      "['QAOA_transpiled_6', 6, 18]\n",
      "['QAOA_transpiled_7', 7, 18]\n",
      "['QAOA_transpiled_8', 8, 18]\n",
      "['QAOA_transpiled_9', 9, 18]\n",
      "['ghz_transpiled_5', 5, 8]\n",
      "['ghz_transpiled_6', 6, 9]\n",
      "['ghz_transpiled_7', 7, 10]\n",
      "['ghz_transpiled_8', 8, 11]\n",
      "['ghz_transpiled_9', 9, 12]\n",
      "['qft_transpiled_5', 5, 34]\n",
      "['qft_transpiled_6', 6, 41]\n",
      "['qft_transpiled_7', 7, 48]\n",
      "['qft_transpiled_8', 8, 55]\n",
      "['qft_transpiled_9', 9, 62]\n",
      "['qft_entangled_transpiled_5', 5, 42]\n",
      "['qft_entangled_transpiled_6', 6, 50]\n",
      "['qft_entangled_transpiled_7', 7, 58]\n",
      "['qft_entangled_transpiled_8', 8, 66]\n",
      "['qft_entangled_transpiled_9', 9, 74]\n",
      "['w_state_transpiled_5', 5, 21]\n",
      "['w_state_transpiled_6', 6, 25]\n",
      "['w_state_transpiled_7', 7, 29]\n",
      "['w_state_transpiled_8', 8, 33]\n",
      "['w_state_transpiled_9', 9, 37]\n",
      "['qpe_inexact_transpiled_5', 5, 42]\n",
      "['qpe_inexact_transpiled_6', 6, 52]\n",
      "['qpe_inexact_transpiled_7', 7, 62]\n",
      "['qpe_inexact_transpiled_8', 8, 72]\n",
      "['qpe_inexact_transpiled_9', 9, 82]\n",
      "['qpe_exact_transpiled_5', 5, 37]\n",
      "['qpe_exact_transpiled_6', 6, 53]\n",
      "['qpe_exact_transpiled_7', 7, 62]\n",
      "['qpe_exact_transpiled_8', 8, 72]\n",
      "['qpe_exact_transpiled_9', 9, 82]\n",
      "['VQE_transpiled_5', 5, 25]\n",
      "['VQE_transpiled_6', 6, 28]\n",
      "['VQE_transpiled_7', 7, 31]\n",
      "['VQE_transpiled_8', 8, 34]\n",
      "['VQE_transpiled_9', 9, 37]\n",
      "['dj_transpiled_5', 5, 10]\n",
      "['dj_transpiled_6', 6, 11]\n",
      "['dj_transpiled_7', 7, 12]\n",
      "['dj_transpiled_8', 8, 13]\n",
      "['dj_transpiled_9', 9, 14]\n",
      "['shor_15_4_transpiled_18', 18, 13667]\n",
      "['HHL_transpiled_4', 4, 543]\n",
      "['HHL_transpiled_7', 7, 6763]\n",
      "['HHL_transpiled_10', 10, 23138]\n"
     ]
    }
   ],
   "source": [
    "for row in (characteristics):\n",
    "    print(row)"
   ]
  },
  {
   "cell_type": "markdown",
   "id": "426eba58",
   "metadata": {},
   "source": [
    "Grover Test"
   ]
  },
  {
   "cell_type": "code",
   "execution_count": null,
   "id": "59f58622",
   "metadata": {
    "scrolled": true
   },
   "outputs": [],
   "source": [
    "a = grover.create_circuit(num_qubits_test)\n",
    "b = get_compiled_circuit(a, opt_level=2)\n",
    "save_as_qasm(b, num_qubits_test)\n",
    "c = get_compiled_circuit(b, opt_level=2, c_map=c_map)\n",
    "save_as_qasm(c, num_qubits_test, True)"
   ]
  },
  {
   "cell_type": "markdown",
   "id": "5e2fff71",
   "metadata": {},
   "source": [
    "QAOA Test"
   ]
  },
  {
   "cell_type": "code",
   "execution_count": null,
   "id": "f55b15bc",
   "metadata": {},
   "outputs": [],
   "source": [
    "a = qaoa.create_circuit(num_qubits_test)\n",
    "b = get_compiled_circuit(a, opt_level=2)\n",
    "save_as_qasm(b, num_qubits_test)\n",
    "c = get_compiled_circuit(b, opt_level=2, c_map=c_map)\n",
    "save_as_qasm(c, num_qubits_test, True)"
   ]
  },
  {
   "cell_type": "markdown",
   "id": "7a0969d4",
   "metadata": {},
   "source": [
    "GHZ Test"
   ]
  },
  {
   "cell_type": "code",
   "execution_count": null,
   "id": "9f56f89c",
   "metadata": {},
   "outputs": [],
   "source": [
    "a = ghz.create_circuit(num_qubits_test)\n",
    "b = get_compiled_circuit(a, opt_level=2)\n",
    "save_as_qasm(b, num_qubits_test)\n",
    "c = get_compiled_circuit(b, opt_level=2, c_map=c_map)\n",
    "save_as_qasm(c, num_qubits_test, True)"
   ]
  },
  {
   "cell_type": "markdown",
   "id": "df9838f3",
   "metadata": {},
   "source": [
    "QFT Test"
   ]
  },
  {
   "cell_type": "code",
   "execution_count": null,
   "id": "e7bc546e",
   "metadata": {},
   "outputs": [],
   "source": [
    "a = qft.create_circuit(num_qubits_test)\n",
    "b = get_compiled_circuit(a, opt_level=2)\n",
    "save_as_qasm(b, num_qubits_test)\n",
    "c = get_compiled_circuit(b, opt_level=2, c_map=c_map)\n",
    "save_as_qasm(c, num_qubits_test, True)"
   ]
  },
  {
   "cell_type": "markdown",
   "id": "817d73dc",
   "metadata": {},
   "source": [
    "QFT Entangled Test"
   ]
  },
  {
   "cell_type": "code",
   "execution_count": null,
   "id": "c35a097c",
   "metadata": {},
   "outputs": [],
   "source": [
    "a = qft_entangled.create_circuit(num_qubits_test)\n",
    "b = get_compiled_circuit(a, opt_level=2)\n",
    "save_as_qasm(b, num_qubits_test)\n",
    "c = get_compiled_circuit(b, opt_level=2, c_map=c_map)\n",
    "save_as_qasm(c, num_qubits_test, True)"
   ]
  },
  {
   "cell_type": "markdown",
   "id": "d33c0057",
   "metadata": {},
   "source": [
    "W-State Test"
   ]
  },
  {
   "cell_type": "code",
   "execution_count": null,
   "id": "877f69cc",
   "metadata": {},
   "outputs": [],
   "source": [
    "a = w_state.create_circuit(num_qubits_test)\n",
    "b = get_compiled_circuit(a, opt_level=2)\n",
    "save_as_qasm(b, num_qubits_test)\n",
    "c = get_compiled_circuit(b, opt_level=2, c_map=c_map)\n",
    "save_as_qasm(c, num_qubits_test, True)"
   ]
  },
  {
   "cell_type": "markdown",
   "id": "493c11b5",
   "metadata": {},
   "source": [
    "QPE Exact and QPE Inexact Test"
   ]
  },
  {
   "cell_type": "code",
   "execution_count": null,
   "id": "d10ae128",
   "metadata": {},
   "outputs": [],
   "source": [
    "a = qpe_exact.create_circuit(num_qubits_test)\n",
    "b = get_compiled_circuit(a, opt_level=2)\n",
    "save_as_qasm(b, num_qubits_test)\n",
    "c = get_compiled_circuit(b, opt_level=2, c_map=c_map)\n",
    "save_as_qasm(c, num_qubits_test, True)\n",
    "\n",
    "a = qpe_inexact.create_circuit(num_qubits_test)\n",
    "b = get_compiled_circuit(a, opt_level=2)\n",
    "save_as_qasm(b, num_qubits_test)\n",
    "c = get_compiled_circuit(b, opt_level=2, c_map=c_map)\n",
    "save_as_qasm(c, num_qubits_test, True)"
   ]
  },
  {
   "cell_type": "markdown",
   "id": "55f9e13e",
   "metadata": {},
   "source": [
    "Graph State Test"
   ]
  },
  {
   "cell_type": "code",
   "execution_count": null,
   "id": "b441e1ea",
   "metadata": {},
   "outputs": [],
   "source": [
    "a = graph_state.create_circuit(num_qubits_test)\n",
    "b = get_compiled_circuit(a, opt_level=2)\n",
    "save_as_qasm(b, num_qubits_test)\n",
    "c = get_compiled_circuit(b, opt_level=2, c_map=c_map)\n",
    "save_as_qasm(c, num_qubits_test, True)\n"
   ]
  },
  {
   "cell_type": "markdown",
   "id": "afd17aef",
   "metadata": {},
   "source": [
    "Shor Test"
   ]
  },
  {
   "cell_type": "code",
   "execution_count": null,
   "id": "a1bc1935",
   "metadata": {},
   "outputs": [],
   "source": [
    "a = shor.create_circuit(15)\n",
    "b = get_compiled_circuit(a, opt_level=2)\n",
    "save_as_qasm(b, None)\n",
    "#c = get_compiled_circuit(b, opt_level=2, c_map=c_map)\n",
    "#save_as_qasm(c, None, True)"
   ]
  },
  {
   "cell_type": "markdown",
   "id": "2954065a",
   "metadata": {},
   "source": [
    "AE Test"
   ]
  },
  {
   "cell_type": "code",
   "execution_count": null,
   "id": "c7319db0",
   "metadata": {},
   "outputs": [],
   "source": [
    "a = ae.create_circuit(num_qubits_test)\n",
    "b = get_compiled_circuit(a, opt_level=2)\n",
    "save_as_qasm(b, num_qubits_test)\n",
    "c = get_compiled_circuit(b, opt_level=2, c_map=c_map)\n",
    "save_as_qasm(c, num_qubits_test, True)\n"
   ]
  },
  {
   "cell_type": "markdown",
   "id": "78c28a2d",
   "metadata": {},
   "source": [
    "DJ Test"
   ]
  },
  {
   "cell_type": "code",
   "execution_count": null,
   "id": "7a292e18",
   "metadata": {},
   "outputs": [],
   "source": [
    "a = deutsch_jozsa.create_circuit(num_qubits_test)\n",
    "b = get_compiled_circuit(a, opt_level=2)\n",
    "save_as_qasm(b, num_qubits_test)\n",
    "c = get_compiled_circuit(b, opt_level=2, c_map=c_map)\n",
    "save_as_qasm(c, num_qubits_test, True)"
   ]
  },
  {
   "cell_type": "markdown",
   "id": "66c2a1cf",
   "metadata": {},
   "source": [
    "HHL Test"
   ]
  },
  {
   "cell_type": "code",
   "execution_count": null,
   "id": "43518107",
   "metadata": {
    "scrolled": false
   },
   "outputs": [],
   "source": [
    "import src.benchmarks.hhl\n",
    "num_qubits_test = 3\n",
    "a = hhl.create_circuit(num_qubits_test)\n",
    "b = get_compiled_circuit(a, opt_level=2)\n",
    "save_as_qasm(b, 2)\n",
    "#c = get_compiled_circuit(b, opt_level=2, c_map=c_map)\n",
    "#save_as_qasm(c, 2, True)\n",
    "b.draw()"
   ]
  },
  {
   "cell_type": "code",
   "execution_count": null,
   "id": "c8f79f96",
   "metadata": {},
   "outputs": [],
   "source": [
    "from qiskit.algorithms.factorizers import Shor\n",
    "qc = Shor().construct_circuit(201209, 4, measurement=True)\n",
    "len(qc.qubits)\n"
   ]
  },
  {
   "cell_type": "code",
   "execution_count": null,
   "id": "957548ab",
   "metadata": {},
   "outputs": [],
   "source": [
    "small = [15,4] #18 qubits\n",
    "medium = [821, 4] #42 qubits\n",
    "large = [11777, 4] #58 qubits\n",
    "xlarge = [201209, 4] # 74 qubits"
   ]
  }
 ],
 "metadata": {
  "kernelspec": {
   "display_name": "Python 3 (ipykernel)",
   "language": "python",
   "name": "python3"
  },
  "language_info": {
   "codemirror_mode": {
    "name": "ipython",
    "version": 3
   },
   "file_extension": ".py",
   "mimetype": "text/x-python",
   "name": "python",
   "nbconvert_exporter": "python",
   "pygments_lexer": "ipython3",
   "version": "3.9.7"
  }
 },
 "nbformat": 4,
 "nbformat_minor": 5
}
