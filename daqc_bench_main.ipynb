{
 "cells": [
  {
   "cell_type": "code",
   "execution_count": 7,
   "id": "beaa99e7",
   "metadata": {},
   "outputs": [],
   "source": [
    "from qiskit import QuantumCircuit, QuantumRegister, ClassicalRegister, AncillaRegister, IBMQ, Aer, __qiskit_version__\n",
    "from qiskit.circuit.library import QFT, GraphState, GroverOperator\n",
    "from qiskit.qasm import pi\n",
    "\n",
    "import numpy as np\n",
    "import matplotlib.pyplot as plt\n",
    "import os.path\n",
    "\n",
    "from src.utils import *\n",
    "from src.benchmarks import grover, qaoa, ghz, qft, qftentangled, shor, wstate, qpeinexact, qpeexact, graphstate, vqe, deutschjozsa, hhl, ae, qwalk\n",
    "from src.benchmarks.qiskit_application_optimization import vehicle_routing, travelling_salesman\n",
    "from src.benchmarks.qiskit_application_finance import portfolioqaoa, portfoliovqe, pricingcall, pricingput\n",
    "from src.benchmarks.qiskit_application_ml import qgan\n",
    "\n",
    "from qiskit.test.mock import FakeBogota, FakeCasablanca, FakeGuadalupe, FakeMontreal, FakeManhattan"
   ]
  },
  {
   "cell_type": "code",
   "execution_count": 2,
   "id": "b44a65ca",
   "metadata": {},
   "outputs": [],
   "source": [
    "# provider = IBMQ.load_account()\n",
    "# backend = provider.backend.ibmq_santiago\n",
    "# c_map = backend.configuration().coupling_map"
   ]
  },
  {
   "cell_type": "code",
   "execution_count": 3,
   "id": "0c626676",
   "metadata": {},
   "outputs": [],
   "source": [
    "ibm_native_gates = FakeMontreal().configuration().basis_gates\n",
    "rigetti_native_gates = ['rx','rz','cz']"
   ]
  },
  {
   "cell_type": "code",
   "execution_count": 4,
   "id": "e5a7f0b4",
   "metadata": {},
   "outputs": [],
   "source": [
    "benchmarks = [graphstate, grover, qaoa, ghz, qft, wstate, qpeinexact, qpeexact, vqe, deutschjozsa, hhl, shor, ae, qwalk, qftentangled]\n",
    "#benchmarks_application = [vehicle_routing, travelling_salesman, portfolio_optimization_qaoa, portfolio_optimization_vqe, pricing_eur_call_opt, pricing_eur_put_opt, qgan]\n",
    "benchmarks_application = [portfolio_optimization_qaoa, portfolio_optimization_vqe, pricing_eur_call_opt, pricing_eur_put_opt, qgan]"
   ]
  },
  {
   "cell_type": "code",
   "execution_count": 5,
   "id": "682cf615",
   "metadata": {},
   "outputs": [],
   "source": [
    "n_min = 3\n",
    "n_max = 10\n",
    "stepsize = 4\n",
    "num_qubits_test = 5\n",
    "save_hist = False\n",
    "save_png = False\n",
    "simulator = Aer.get_backend('qasm_simulator')\n",
    "ibm_smallest_fitting = False #smallest fitting architecture-> True, biggest architecture-> False"
   ]
  },
  {
   "cell_type": "code",
   "execution_count": 6,
   "id": "39cec9c1",
   "metadata": {},
   "outputs": [
    {
     "name": "stdout",
     "output_type": "stream",
     "text": [
      "qpy_output/graphstate_algorithm_3.qpy already existed\n",
      "qpy_output/graphstate_t-indep_3.qpy already existed\n",
      "qasm_output/graphstate_transpiled_ibm_opt0_3.qasm already existed\n",
      "qasm_output/graphstate_transpiled_ibm_opt1_3.qasm already existed\n"
     ]
    },
    {
     "name": "stderr",
     "output_type": "stream",
     "text": [
      "C:\\Users\\Nils\\anaconda3\\envs\\qsharp-env\\lib\\site-packages\\sympy\\core\\expr.py:3949: SymPyDeprecationWarning: \n",
      "\n",
      "expr_free_symbols method has been deprecated since SymPy 1.9. See\n",
      "https://github.com/sympy/sympy/issues/21494 for more info.\n",
      "\n",
      "  SymPyDeprecationWarning(feature=\"expr_free_symbols method\",\n"
     ]
    },
    {
     "name": "stdout",
     "output_type": "stream",
     "text": [
      "qasm_output/graphstate_transpiled_ibm_opt2_3.qasm already existed\n",
      "qasm_output/graphstate_transpiled_ibm_opt3_3.qasm already existed\n",
      "qpy_output/graphstate_algorithm_3.qpy already existed\n",
      "qpy_output/graphstate_t-indep_3.qpy already existed\n",
      "qasm_output/graphstate_transpiled_rigetti_opt0_3.qasm already existed\n",
      "qasm_output/graphstate_transpiled_rigetti_opt1_3.qasm already existed\n",
      "qasm_output/graphstate_transpiled_rigetti_opt2_3.qasm already existed\n",
      "qasm_output/graphstate_transpiled_rigetti_opt3_3.qasm already existed\n",
      "qpy_output/graphstate_algorithm_7.qpy already existed\n",
      "qpy_output/graphstate_t-indep_7.qpy already existed\n",
      "qasm_output/graphstate_transpiled_ibm_opt0_7.qasm already existed\n",
      "qasm_output/graphstate_transpiled_ibm_opt1_7.qasm already existed\n",
      "qasm_output/graphstate_transpiled_ibm_opt2_7.qasm already existed\n",
      "qasm_output/graphstate_transpiled_ibm_opt3_7.qasm already existed\n",
      "qpy_output/graphstate_algorithm_7.qpy already existed\n",
      "qpy_output/graphstate_t-indep_7.qpy already existed\n",
      "qasm_output/graphstate_transpiled_rigetti_opt0_7.qasm already existed\n",
      "qasm_output/graphstate_transpiled_rigetti_opt1_7.qasm already existed\n",
      "qasm_output/graphstate_transpiled_rigetti_opt2_7.qasm already existed\n",
      "qasm_output/graphstate_transpiled_rigetti_opt3_7.qasm already existed\n",
      "qpy_output/grover_algorithm_3.qpy already existed\n",
      "qpy_output/grover_t-indep_3.qpy already existed\n",
      "qasm_output/grover_transpiled_ibm_opt0_3.qasm already existed\n",
      "qasm_output/grover_transpiled_ibm_opt1_3.qasm already existed\n",
      "qasm_output/grover_transpiled_ibm_opt2_3.qasm already existed\n",
      "qasm_output/grover_transpiled_ibm_opt3_3.qasm already existed\n",
      "qpy_output/grover_algorithm_3.qpy already existed\n",
      "qpy_output/grover_t-indep_3.qpy already existed\n",
      "qasm_output/grover_transpiled_rigetti_opt0_3.qasm already existed\n",
      "qasm_output/grover_transpiled_rigetti_opt1_3.qasm already existed\n",
      "qasm_output/grover_transpiled_rigetti_opt2_3.qasm already existed\n",
      "qasm_output/grover_transpiled_rigetti_opt3_3.qasm already existed\n",
      "qpy_output/grover_algorithm_7.qpy already existed\n",
      "qpy_output/grover_t-indep_7.qpy already existed\n",
      "qasm_output/grover_transpiled_ibm_opt0_7.qasm already existed\n",
      "qasm_output/grover_transpiled_ibm_opt1_7.qasm already existed\n",
      "qasm_output/grover_transpiled_ibm_opt2_7.qasm already existed\n",
      "qpy_output/grover_algorithm_7.qpy already existed\n",
      "qpy_output/grover_t-indep_7.qpy already existed\n",
      "qpy_output/QAOA_algorithm_3.qpy already existed\n",
      "qpy_output/QAOA_t-indep_3.qpy already existed\n",
      "qpy_output/QAOA_algorithm_3.qpy already existed\n",
      "qpy_output/QAOA_t-indep_3.qpy already existed\n",
      "qpy_output/QAOA_algorithm_7.qpy already existed\n",
      "qpy_output/QAOA_t-indep_7.qpy already existed\n",
      "qpy_output/QAOA_algorithm_7.qpy already existed\n",
      "qpy_output/QAOA_t-indep_7.qpy already existed\n",
      "qpy_output/ghz_algorithm_3.qpy already existed\n",
      "qpy_output/ghz_t-indep_3.qpy already existed\n",
      "qpy_output/ghz_algorithm_3.qpy already existed\n",
      "qpy_output/ghz_t-indep_3.qpy already existed\n",
      "qpy_output/ghz_algorithm_7.qpy already existed\n",
      "qpy_output/ghz_t-indep_7.qpy already existed\n",
      "qpy_output/ghz_algorithm_7.qpy already existed\n",
      "qpy_output/ghz_t-indep_7.qpy already existed\n",
      "qpy_output/qft_algorithm_3.qpy already existed\n",
      "qpy_output/qft_t-indep_3.qpy already existed\n",
      "qpy_output/qft_algorithm_3.qpy already existed\n",
      "qpy_output/qft_t-indep_3.qpy already existed\n",
      "qpy_output/qft_algorithm_7.qpy already existed\n",
      "qpy_output/qft_t-indep_7.qpy already existed\n",
      "qpy_output/qft_algorithm_7.qpy already existed\n",
      "qpy_output/qft_t-indep_7.qpy already existed\n",
      "qpy_output/wstate_algorithm_3.qpy already existed\n",
      "qpy_output/wstate_t-indep_3.qpy already existed\n",
      "qpy_output/wstate_algorithm_3.qpy already existed\n",
      "qpy_output/wstate_t-indep_3.qpy already existed\n",
      "qpy_output/wstate_algorithm_7.qpy already existed\n",
      "qpy_output/wstate_t-indep_7.qpy already existed\n",
      "qpy_output/wstate_algorithm_7.qpy already existed\n",
      "qpy_output/wstate_t-indep_7.qpy already existed\n",
      "qpy_output/qpeinexact_algorithm_3.qpy already existed\n",
      "qpy_output/qpeinexact_t-indep_3.qpy already existed\n",
      "qpy_output/qpeinexact_algorithm_3.qpy already existed\n",
      "qpy_output/qpeinexact_t-indep_3.qpy already existed\n",
      "qpy_output/qpeinexact_algorithm_7.qpy already existed\n",
      "qpy_output/qpeinexact_t-indep_7.qpy already existed\n",
      "qpy_output/qpeinexact_algorithm_7.qpy already existed\n",
      "qpy_output/qpeinexact_t-indep_7.qpy already existed\n",
      "qpy_output/qpeexact_algorithm_3.qpy already existed\n",
      "qpy_output/qpeexact_t-indep_3.qpy already existed\n",
      "qpy_output/qpeexact_algorithm_3.qpy already existed\n",
      "qpy_output/qpeexact_t-indep_3.qpy already existed\n",
      "qpy_output/qpeexact_algorithm_7.qpy already existed\n",
      "qpy_output/qpeexact_t-indep_7.qpy already existed\n",
      "qpy_output/qpeexact_algorithm_7.qpy already existed\n",
      "qpy_output/qpeexact_t-indep_7.qpy already existed\n",
      "qpy_output/VQE_algorithm_3.qpy already existed\n",
      "qpy_output/VQE_t-indep_3.qpy already existed\n",
      "qpy_output/VQE_algorithm_3.qpy already existed\n",
      "qpy_output/VQE_t-indep_3.qpy already existed\n",
      "qpy_output/VQE_algorithm_7.qpy already existed\n",
      "qpy_output/VQE_t-indep_7.qpy already existed\n",
      "qpy_output/VQE_algorithm_7.qpy already existed\n",
      "qpy_output/VQE_t-indep_7.qpy already existed\n",
      "qpy_output/dj_algorithm_3.qpy already existed\n",
      "qpy_output/dj_t-indep_3.qpy already existed\n",
      "qpy_output/dj_algorithm_3.qpy already existed\n",
      "qpy_output/dj_t-indep_3.qpy already existed\n",
      "qpy_output/dj_algorithm_7.qpy already existed\n",
      "qpy_output/dj_t-indep_7.qpy already existed\n",
      "qpy_output/dj_algorithm_7.qpy already existed\n",
      "qpy_output/dj_t-indep_7.qpy already existed\n",
      "qpy_output/ae_algorithm_3.qpy already existed\n",
      "qpy_output/ae_t-indep_3.qpy already existed\n",
      "qpy_output/ae_algorithm_3.qpy already existed\n",
      "qpy_output/ae_t-indep_3.qpy already existed\n",
      "qpy_output/ae_algorithm_7.qpy already existed\n",
      "qpy_output/ae_t-indep_7.qpy already existed\n",
      "qpy_output/ae_algorithm_7.qpy already existed\n",
      "qpy_output/ae_t-indep_7.qpy already existed\n",
      "qpy_output/qwalk_algorithm_3.qpy already existed\n",
      "qpy_output/qwalk_t-indep_3.qpy already existed\n",
      "qpy_output/qwalk_algorithm_3.qpy already existed\n",
      "qpy_output/qwalk_t-indep_3.qpy already existed\n",
      "qpy_output/qwalk_algorithm_7.qpy already existed\n",
      "qpy_output/qwalk_t-indep_7.qpy already existed\n",
      "qpy_output/qwalk_algorithm_7.qpy already existed\n",
      "qpy_output/qwalk_t-indep_7.qpy already existed\n",
      "qpy_output/qftentangled_algorithm_3.qpy already existed\n",
      "qpy_output/qftentangled_t-indep_3.qpy already existed\n",
      "qpy_output/qftentangled_algorithm_3.qpy already existed\n",
      "qpy_output/qftentangled_t-indep_3.qpy already existed\n",
      "qpy_output/qftentangled_algorithm_7.qpy already existed\n",
      "qpy_output/qftentangled_t-indep_7.qpy already existed\n",
      "qpy_output/qftentangled_algorithm_7.qpy already existed\n",
      "qpy_output/qftentangled_t-indep_7.qpy already existed\n"
     ]
    },
    {
     "name": "stderr",
     "output_type": "stream",
     "text": [
      "C:\\Users\\Nils\\anaconda3\\envs\\qsharp-env\\lib\\site-packages\\qiskit\\finance\\applications\\ising\\portfolio.py:84: DeprecationWarning: The package qiskit.aqua.operators is deprecated. It was moved/refactored to qiskit.opflow (pip install qiskit-terra). For more information see <https://github.com/Qiskit/qiskit-aqua/blob/main/README.md#migration-guide>\n",
      "  return WeightedPauliOperator(paulis=pauli_list), offset\n",
      "C:\\Users\\Nils\\anaconda3\\envs\\qsharp-env\\lib\\site-packages\\qiskit\\aqua\\components\\optimizers\\optimizer.py:49: DeprecationWarning: The package qiskit.aqua.components.optimizers is deprecated. It was moved/refactored to qiskit.algorithms.optimizers (pip install qiskit-terra). For more information see <https://github.com/Qiskit/qiskit-aqua/blob/main/README.md#migration-guide>\n",
      "  warn_package('aqua.components.optimizers',\n",
      "C:\\Users\\Nils\\anaconda3\\envs\\qsharp-env\\lib\\site-packages\\qiskit\\aqua\\algorithms\\vq_algorithm.py:70: DeprecationWarning: The class qiskit.aqua.algorithms.VQAlgorithm is deprecated. It was moved/refactored to qiskit.algorithms.VariationalAlgorithm (pip install qiskit-terra). For more information see <https://github.com/Qiskit/qiskit-aqua/blob/main/README.md#migration-guide>\n",
      "  warn_class('aqua.algorithms.VQAlgorithm',\n",
      "C:\\Users\\Nils\\anaconda3\\envs\\qsharp-env\\lib\\site-packages\\qiskit\\aqua\\components\\variational_forms\\variational_form.py:48: DeprecationWarning: The package qiskit.aqua.components.variational_forms is deprecated. For more information see <https://github.com/Qiskit/qiskit-aqua/blob/main/README.md#migration-guide>\n",
      "  warn_package('aqua.components.variational_forms')\n",
      "C:\\Users\\Nils\\anaconda3\\envs\\qsharp-env\\lib\\site-packages\\qiskit\\aqua\\quantum_instance.py:135: DeprecationWarning: The class qiskit.aqua.QuantumInstance is deprecated. It was moved/refactored to qiskit.utils.QuantumInstance (pip install qiskit-terra). For more information see <https://github.com/Qiskit/qiskit-aqua/blob/main/README.md#migration-guide>\n",
      "  warn_class('aqua.QuantumInstance',\n",
      "C:\\Users\\Nils\\anaconda3\\envs\\qsharp-env\\lib\\site-packages\\qiskit\\aqua\\algorithms\\quantum_algorithm.py:46: DeprecationWarning: The variable qiskit.aqua.aqua_globals is deprecated. It was moved/refactored to qiskit.utils.algorithm_globals (pip install qiskit-terra). For more information see <https://github.com/Qiskit/qiskit-aqua/blob/main/README.md#migration-guide>\n",
      "  return aqua_globals.random\n",
      "C:\\Users\\Nils\\anaconda3\\envs\\qsharp-env\\lib\\site-packages\\qiskit\\utils\\deprecation.py:62: DeprecationWarning: Using a qobj for run() is deprecated as of qiskit-aer 0.9.0 and will be removed no sooner than 3 months from that release date. Transpiled circuits should now be passed directly using `backend.run(circuits, **run_options).\n",
      "  return func(*args, **kwargs)\n"
     ]
    },
    {
     "name": "stdout",
     "output_type": "stream",
     "text": [
      "qpy_output/PO_QAOA_algorithm_3.qpy already existed\n",
      "qpy_output/PO_QAOA_t-indep_3.qpy already existed\n",
      "qpy_output/PO_QAOA_algorithm_3.qpy already existed\n",
      "qpy_output/PO_QAOA_t-indep_3.qpy already existed\n",
      "qpy_output/PO_QAOA_algorithm_7.qpy already existed\n",
      "qpy_output/PO_QAOA_t-indep_7.qpy already existed\n",
      "qpy_output/PO_QAOA_algorithm_7.qpy already existed\n",
      "qpy_output/PO_QAOA_t-indep_7.qpy already existed\n",
      "qpy_output/PO_VQE_algorithm_3.qpy already existed\n",
      "qpy_output/PO_VQE_t-indep_3.qpy already existed\n",
      "qpy_output/PO_VQE_algorithm_3.qpy already existed\n",
      "qpy_output/PO_VQE_t-indep_3.qpy already existed\n",
      "qpy_output/PO_VQE_algorithm_7.qpy already existed\n",
      "qpy_output/PO_VQE_t-indep_7.qpy already existed\n",
      "qpy_output/PO_VQE_algorithm_7.qpy already existed\n",
      "qpy_output/PO_VQE_t-indep_7.qpy already existed\n"
     ]
    },
    {
     "name": "stderr",
     "output_type": "stream",
     "text": [
      "C:\\Users\\Nils\\anaconda3\\envs\\qsharp-env\\lib\\site-packages\\qiskit\\aqua\\algorithms\\amplitude_estimators\\ae_algorithm.py:91: DeprecationWarning: The package qiskit.aqua.algorithms.amplitude_estimators is deprecated. It was moved/refactored to qiskit.algorithms.amplitude_estimators (pip install qiskit-terra). For more information see <https://github.com/Qiskit/qiskit-aqua/blob/main/README.md#migration-guide>\n",
      "  warn_package('aqua.algorithms.amplitude_estimators',\n"
     ]
    },
    {
     "name": "stdout",
     "output_type": "stream",
     "text": [
      "qpy_output/pricing_call_algorithm_3.qpy already existed\n",
      "qpy_output/pricing_call_t-indep_3.qpy already existed\n",
      "qpy_output/pricing_call_algorithm_3.qpy already existed\n",
      "qpy_output/pricing_call_t-indep_3.qpy already existed\n",
      "qpy_output/pricing_call_algorithm_7.qpy already existed\n"
     ]
    },
    {
     "ename": "MemoryError",
     "evalue": "Unable to allocate 16.0 GiB for an array with shape (32768, 32768) and data type complex128",
     "output_type": "error",
     "traceback": [
      "\u001b[1;31m---------------------------------------------------------------------------\u001b[0m",
      "\u001b[1;31mMemoryError\u001b[0m                               Traceback (most recent call last)",
      "\u001b[1;32m~\\AppData\\Local\\Temp/ipykernel_2800/2686712936.py\u001b[0m in \u001b[0;36m<module>\u001b[1;34m\u001b[0m\n\u001b[0;32m     52\u001b[0m             \u001b[0mfilename\u001b[0m \u001b[1;33m=\u001b[0m \u001b[0mqc\u001b[0m\u001b[1;33m.\u001b[0m\u001b[0mname\u001b[0m \u001b[1;33m+\u001b[0m \u001b[1;34m\"_t-indep_\"\u001b[0m \u001b[1;33m+\u001b[0m \u001b[0mstr\u001b[0m\u001b[1;33m(\u001b[0m\u001b[0mn\u001b[0m\u001b[1;33m)\u001b[0m\u001b[1;33m\u001b[0m\u001b[1;33m\u001b[0m\u001b[0m\n\u001b[0;32m     53\u001b[0m             \u001b[1;32mif\u001b[0m \u001b[1;32mnot\u001b[0m \u001b[1;33m(\u001b[0m\u001b[0mos\u001b[0m\u001b[1;33m.\u001b[0m\u001b[0mpath\u001b[0m\u001b[1;33m.\u001b[0m\u001b[0misfile\u001b[0m\u001b[1;33m(\u001b[0m\u001b[1;34m\"qpy_output/\"\u001b[0m \u001b[1;33m+\u001b[0m \u001b[0mfilename\u001b[0m \u001b[1;33m+\u001b[0m \u001b[1;34m'.qpy'\u001b[0m\u001b[1;33m)\u001b[0m\u001b[1;33m)\u001b[0m\u001b[1;33m:\u001b[0m\u001b[1;33m\u001b[0m\u001b[1;33m\u001b[0m\u001b[0m\n\u001b[1;32m---> 54\u001b[1;33m                 \u001b[0mtarget_independent\u001b[0m \u001b[1;33m=\u001b[0m \u001b[0mtranspile\u001b[0m\u001b[1;33m(\u001b[0m\u001b[0mqc\u001b[0m\u001b[1;33m,\u001b[0m \u001b[0moptimization_level\u001b[0m\u001b[1;33m=\u001b[0m\u001b[1;36m2\u001b[0m\u001b[1;33m)\u001b[0m\u001b[1;33m\u001b[0m\u001b[1;33m\u001b[0m\u001b[0m\n\u001b[0m\u001b[0;32m     55\u001b[0m                 \u001b[0mserialize_qc\u001b[0m\u001b[1;33m(\u001b[0m\u001b[0mtarget_independent\u001b[0m\u001b[1;33m,\u001b[0m \u001b[0mn\u001b[0m\u001b[1;33m,\u001b[0m \u001b[0mfilename\u001b[0m\u001b[1;33m)\u001b[0m\u001b[1;33m\u001b[0m\u001b[1;33m\u001b[0m\u001b[0m\n\u001b[0;32m     56\u001b[0m                 \u001b[1;32mif\u001b[0m \u001b[0msave_png\u001b[0m\u001b[1;33m:\u001b[0m \u001b[0msave_circ\u001b[0m\u001b[1;33m(\u001b[0m\u001b[0mqc\u001b[0m\u001b[1;33m,\u001b[0m \u001b[0mfilename\u001b[0m\u001b[1;33m)\u001b[0m\u001b[1;33m\u001b[0m\u001b[1;33m\u001b[0m\u001b[0m\n",
      "\u001b[1;32m~\\anaconda3\\envs\\qsharp-env\\lib\\site-packages\\qiskit\\compiler\\transpiler.py\u001b[0m in \u001b[0;36mtranspile\u001b[1;34m(circuits, backend, basis_gates, coupling_map, backend_properties, initial_layout, layout_method, routing_method, translation_method, scheduling_method, instruction_durations, dt, approximation_degree, timing_constraints, seed_transpiler, optimization_level, pass_manager, callback, output_name)\u001b[0m\n\u001b[0;32m    291\u001b[0m \u001b[1;33m\u001b[0m\u001b[0m\n\u001b[0;32m    292\u001b[0m     \u001b[1;31m# Transpile circuits in parallel\u001b[0m\u001b[1;33m\u001b[0m\u001b[1;33m\u001b[0m\u001b[0m\n\u001b[1;32m--> 293\u001b[1;33m     \u001b[0mcircuits\u001b[0m \u001b[1;33m=\u001b[0m \u001b[0mparallel_map\u001b[0m\u001b[1;33m(\u001b[0m\u001b[0m_transpile_circuit\u001b[0m\u001b[1;33m,\u001b[0m \u001b[0mlist\u001b[0m\u001b[1;33m(\u001b[0m\u001b[0mzip\u001b[0m\u001b[1;33m(\u001b[0m\u001b[0mcircuits\u001b[0m\u001b[1;33m,\u001b[0m \u001b[0mtranspile_args\u001b[0m\u001b[1;33m)\u001b[0m\u001b[1;33m)\u001b[0m\u001b[1;33m)\u001b[0m\u001b[1;33m\u001b[0m\u001b[1;33m\u001b[0m\u001b[0m\n\u001b[0m\u001b[0;32m    294\u001b[0m \u001b[1;33m\u001b[0m\u001b[0m\n\u001b[0;32m    295\u001b[0m     \u001b[0mend_time\u001b[0m \u001b[1;33m=\u001b[0m \u001b[0mtime\u001b[0m\u001b[1;33m(\u001b[0m\u001b[1;33m)\u001b[0m\u001b[1;33m\u001b[0m\u001b[1;33m\u001b[0m\u001b[0m\n",
      "\u001b[1;32m~\\anaconda3\\envs\\qsharp-env\\lib\\site-packages\\qiskit\\tools\\parallel.py\u001b[0m in \u001b[0;36mparallel_map\u001b[1;34m(task, values, task_args, task_kwargs, num_processes)\u001b[0m\n\u001b[0;32m    130\u001b[0m         \u001b[1;32mreturn\u001b[0m \u001b[1;33m[\u001b[0m\u001b[1;33m]\u001b[0m\u001b[1;33m\u001b[0m\u001b[1;33m\u001b[0m\u001b[0m\n\u001b[0;32m    131\u001b[0m     \u001b[1;32mif\u001b[0m \u001b[0mlen\u001b[0m\u001b[1;33m(\u001b[0m\u001b[0mvalues\u001b[0m\u001b[1;33m)\u001b[0m \u001b[1;33m==\u001b[0m \u001b[1;36m1\u001b[0m\u001b[1;33m:\u001b[0m\u001b[1;33m\u001b[0m\u001b[1;33m\u001b[0m\u001b[0m\n\u001b[1;32m--> 132\u001b[1;33m         \u001b[1;32mreturn\u001b[0m \u001b[1;33m[\u001b[0m\u001b[0mtask\u001b[0m\u001b[1;33m(\u001b[0m\u001b[0mvalues\u001b[0m\u001b[1;33m[\u001b[0m\u001b[1;36m0\u001b[0m\u001b[1;33m]\u001b[0m\u001b[1;33m,\u001b[0m \u001b[1;33m*\u001b[0m\u001b[0mtask_args\u001b[0m\u001b[1;33m,\u001b[0m \u001b[1;33m**\u001b[0m\u001b[0mtask_kwargs\u001b[0m\u001b[1;33m)\u001b[0m\u001b[1;33m]\u001b[0m\u001b[1;33m\u001b[0m\u001b[1;33m\u001b[0m\u001b[0m\n\u001b[0m\u001b[0;32m    133\u001b[0m \u001b[1;33m\u001b[0m\u001b[0m\n\u001b[0;32m    134\u001b[0m     \u001b[0mPublisher\u001b[0m\u001b[1;33m(\u001b[0m\u001b[1;33m)\u001b[0m\u001b[1;33m.\u001b[0m\u001b[0mpublish\u001b[0m\u001b[1;33m(\u001b[0m\u001b[1;34m\"terra.parallel.start\"\u001b[0m\u001b[1;33m,\u001b[0m \u001b[0mlen\u001b[0m\u001b[1;33m(\u001b[0m\u001b[0mvalues\u001b[0m\u001b[1;33m)\u001b[0m\u001b[1;33m)\u001b[0m\u001b[1;33m\u001b[0m\u001b[1;33m\u001b[0m\u001b[0m\n",
      "\u001b[1;32m~\\anaconda3\\envs\\qsharp-env\\lib\\site-packages\\qiskit\\compiler\\transpiler.py\u001b[0m in \u001b[0;36m_transpile_circuit\u001b[1;34m(circuit_config_tuple)\u001b[0m\n\u001b[0;32m    378\u001b[0m         \u001b[1;32mraise\u001b[0m \u001b[0mTranspilerError\u001b[0m\u001b[1;33m(\u001b[0m\u001b[1;34m\"optimization_level can range from 0 to 3.\"\u001b[0m\u001b[1;33m)\u001b[0m\u001b[1;33m\u001b[0m\u001b[1;33m\u001b[0m\u001b[0m\n\u001b[0;32m    379\u001b[0m \u001b[1;33m\u001b[0m\u001b[0m\n\u001b[1;32m--> 380\u001b[1;33m     result = pass_manager.run(\n\u001b[0m\u001b[0;32m    381\u001b[0m         \u001b[0mcircuit\u001b[0m\u001b[1;33m,\u001b[0m \u001b[0mcallback\u001b[0m\u001b[1;33m=\u001b[0m\u001b[0mtranspile_config\u001b[0m\u001b[1;33m[\u001b[0m\u001b[1;34m\"callback\"\u001b[0m\u001b[1;33m]\u001b[0m\u001b[1;33m,\u001b[0m \u001b[0moutput_name\u001b[0m\u001b[1;33m=\u001b[0m\u001b[0mtranspile_config\u001b[0m\u001b[1;33m[\u001b[0m\u001b[1;34m\"output_name\"\u001b[0m\u001b[1;33m]\u001b[0m\u001b[1;33m\u001b[0m\u001b[1;33m\u001b[0m\u001b[0m\n\u001b[0;32m    382\u001b[0m     )\n",
      "\u001b[1;32m~\\anaconda3\\envs\\qsharp-env\\lib\\site-packages\\qiskit\\transpiler\\passmanager.py\u001b[0m in \u001b[0;36mrun\u001b[1;34m(self, circuits, output_name, callback)\u001b[0m\n\u001b[0;32m    214\u001b[0m         \"\"\"\n\u001b[0;32m    215\u001b[0m         \u001b[1;32mif\u001b[0m \u001b[0misinstance\u001b[0m\u001b[1;33m(\u001b[0m\u001b[0mcircuits\u001b[0m\u001b[1;33m,\u001b[0m \u001b[0mQuantumCircuit\u001b[0m\u001b[1;33m)\u001b[0m\u001b[1;33m:\u001b[0m\u001b[1;33m\u001b[0m\u001b[1;33m\u001b[0m\u001b[0m\n\u001b[1;32m--> 216\u001b[1;33m             \u001b[1;32mreturn\u001b[0m \u001b[0mself\u001b[0m\u001b[1;33m.\u001b[0m\u001b[0m_run_single_circuit\u001b[0m\u001b[1;33m(\u001b[0m\u001b[0mcircuits\u001b[0m\u001b[1;33m,\u001b[0m \u001b[0moutput_name\u001b[0m\u001b[1;33m,\u001b[0m \u001b[0mcallback\u001b[0m\u001b[1;33m)\u001b[0m\u001b[1;33m\u001b[0m\u001b[1;33m\u001b[0m\u001b[0m\n\u001b[0m\u001b[0;32m    217\u001b[0m         \u001b[1;32melif\u001b[0m \u001b[0mlen\u001b[0m\u001b[1;33m(\u001b[0m\u001b[0mcircuits\u001b[0m\u001b[1;33m)\u001b[0m \u001b[1;33m==\u001b[0m \u001b[1;36m1\u001b[0m\u001b[1;33m:\u001b[0m\u001b[1;33m\u001b[0m\u001b[1;33m\u001b[0m\u001b[0m\n\u001b[0;32m    218\u001b[0m             \u001b[1;32mreturn\u001b[0m \u001b[0mself\u001b[0m\u001b[1;33m.\u001b[0m\u001b[0m_run_single_circuit\u001b[0m\u001b[1;33m(\u001b[0m\u001b[0mcircuits\u001b[0m\u001b[1;33m[\u001b[0m\u001b[1;36m0\u001b[0m\u001b[1;33m]\u001b[0m\u001b[1;33m,\u001b[0m \u001b[0moutput_name\u001b[0m\u001b[1;33m,\u001b[0m \u001b[0mcallback\u001b[0m\u001b[1;33m)\u001b[0m\u001b[1;33m\u001b[0m\u001b[1;33m\u001b[0m\u001b[0m\n",
      "\u001b[1;32m~\\anaconda3\\envs\\qsharp-env\\lib\\site-packages\\qiskit\\transpiler\\passmanager.py\u001b[0m in \u001b[0;36m_run_single_circuit\u001b[1;34m(self, circuit, output_name, callback)\u001b[0m\n\u001b[0;32m    270\u001b[0m         \"\"\"\n\u001b[0;32m    271\u001b[0m         \u001b[0mrunning_passmanager\u001b[0m \u001b[1;33m=\u001b[0m \u001b[0mself\u001b[0m\u001b[1;33m.\u001b[0m\u001b[0m_create_running_passmanager\u001b[0m\u001b[1;33m(\u001b[0m\u001b[1;33m)\u001b[0m\u001b[1;33m\u001b[0m\u001b[1;33m\u001b[0m\u001b[0m\n\u001b[1;32m--> 272\u001b[1;33m         \u001b[0mresult\u001b[0m \u001b[1;33m=\u001b[0m \u001b[0mrunning_passmanager\u001b[0m\u001b[1;33m.\u001b[0m\u001b[0mrun\u001b[0m\u001b[1;33m(\u001b[0m\u001b[0mcircuit\u001b[0m\u001b[1;33m,\u001b[0m \u001b[0moutput_name\u001b[0m\u001b[1;33m=\u001b[0m\u001b[0moutput_name\u001b[0m\u001b[1;33m,\u001b[0m \u001b[0mcallback\u001b[0m\u001b[1;33m=\u001b[0m\u001b[0mcallback\u001b[0m\u001b[1;33m)\u001b[0m\u001b[1;33m\u001b[0m\u001b[1;33m\u001b[0m\u001b[0m\n\u001b[0m\u001b[0;32m    273\u001b[0m         \u001b[0mself\u001b[0m\u001b[1;33m.\u001b[0m\u001b[0mproperty_set\u001b[0m \u001b[1;33m=\u001b[0m \u001b[0mrunning_passmanager\u001b[0m\u001b[1;33m.\u001b[0m\u001b[0mproperty_set\u001b[0m\u001b[1;33m\u001b[0m\u001b[1;33m\u001b[0m\u001b[0m\n\u001b[0;32m    274\u001b[0m         \u001b[1;32mreturn\u001b[0m \u001b[0mresult\u001b[0m\u001b[1;33m\u001b[0m\u001b[1;33m\u001b[0m\u001b[0m\n",
      "\u001b[1;32m~\\anaconda3\\envs\\qsharp-env\\lib\\site-packages\\qiskit\\transpiler\\runningpassmanager.py\u001b[0m in \u001b[0;36mrun\u001b[1;34m(***failed resolving arguments***)\u001b[0m\n\u001b[0;32m    121\u001b[0m         \u001b[1;32mfor\u001b[0m \u001b[0mpassset\u001b[0m \u001b[1;32min\u001b[0m \u001b[0mself\u001b[0m\u001b[1;33m.\u001b[0m\u001b[0mworking_list\u001b[0m\u001b[1;33m:\u001b[0m\u001b[1;33m\u001b[0m\u001b[1;33m\u001b[0m\u001b[0m\n\u001b[0;32m    122\u001b[0m             \u001b[1;32mfor\u001b[0m \u001b[0mpass_\u001b[0m \u001b[1;32min\u001b[0m \u001b[0mpassset\u001b[0m\u001b[1;33m:\u001b[0m\u001b[1;33m\u001b[0m\u001b[1;33m\u001b[0m\u001b[0m\n\u001b[1;32m--> 123\u001b[1;33m                 \u001b[0mdag\u001b[0m \u001b[1;33m=\u001b[0m \u001b[0mself\u001b[0m\u001b[1;33m.\u001b[0m\u001b[0m_do_pass\u001b[0m\u001b[1;33m(\u001b[0m\u001b[0mpass_\u001b[0m\u001b[1;33m,\u001b[0m \u001b[0mdag\u001b[0m\u001b[1;33m,\u001b[0m \u001b[0mpassset\u001b[0m\u001b[1;33m.\u001b[0m\u001b[0moptions\u001b[0m\u001b[1;33m)\u001b[0m\u001b[1;33m\u001b[0m\u001b[1;33m\u001b[0m\u001b[0m\n\u001b[0m\u001b[0;32m    124\u001b[0m \u001b[1;33m\u001b[0m\u001b[0m\n\u001b[0;32m    125\u001b[0m         \u001b[0mcircuit\u001b[0m \u001b[1;33m=\u001b[0m \u001b[0mdag_to_circuit\u001b[0m\u001b[1;33m(\u001b[0m\u001b[0mdag\u001b[0m\u001b[1;33m)\u001b[0m\u001b[1;33m\u001b[0m\u001b[1;33m\u001b[0m\u001b[0m\n",
      "\u001b[1;32m~\\anaconda3\\envs\\qsharp-env\\lib\\site-packages\\qiskit\\transpiler\\runningpassmanager.py\u001b[0m in \u001b[0;36m_do_pass\u001b[1;34m(self, pass_, dag, options)\u001b[0m\n\u001b[0;32m    148\u001b[0m         \u001b[1;31m# First, do the requires of pass_\u001b[0m\u001b[1;33m\u001b[0m\u001b[1;33m\u001b[0m\u001b[0m\n\u001b[0;32m    149\u001b[0m         \u001b[1;32mfor\u001b[0m \u001b[0mrequired_pass\u001b[0m \u001b[1;32min\u001b[0m \u001b[0mpass_\u001b[0m\u001b[1;33m.\u001b[0m\u001b[0mrequires\u001b[0m\u001b[1;33m:\u001b[0m\u001b[1;33m\u001b[0m\u001b[1;33m\u001b[0m\u001b[0m\n\u001b[1;32m--> 150\u001b[1;33m             \u001b[0mdag\u001b[0m \u001b[1;33m=\u001b[0m \u001b[0mself\u001b[0m\u001b[1;33m.\u001b[0m\u001b[0m_do_pass\u001b[0m\u001b[1;33m(\u001b[0m\u001b[0mrequired_pass\u001b[0m\u001b[1;33m,\u001b[0m \u001b[0mdag\u001b[0m\u001b[1;33m,\u001b[0m \u001b[0moptions\u001b[0m\u001b[1;33m)\u001b[0m\u001b[1;33m\u001b[0m\u001b[1;33m\u001b[0m\u001b[0m\n\u001b[0m\u001b[0;32m    151\u001b[0m \u001b[1;33m\u001b[0m\u001b[0m\n\u001b[0;32m    152\u001b[0m         \u001b[1;31m# Run the pass itself, if not already run\u001b[0m\u001b[1;33m\u001b[0m\u001b[1;33m\u001b[0m\u001b[0m\n",
      "\u001b[1;32m~\\anaconda3\\envs\\qsharp-env\\lib\\site-packages\\qiskit\\transpiler\\runningpassmanager.py\u001b[0m in \u001b[0;36m_do_pass\u001b[1;34m(self, pass_, dag, options)\u001b[0m\n\u001b[0;32m    152\u001b[0m         \u001b[1;31m# Run the pass itself, if not already run\u001b[0m\u001b[1;33m\u001b[0m\u001b[1;33m\u001b[0m\u001b[0m\n\u001b[0;32m    153\u001b[0m         \u001b[1;32mif\u001b[0m \u001b[0mpass_\u001b[0m \u001b[1;32mnot\u001b[0m \u001b[1;32min\u001b[0m \u001b[0mself\u001b[0m\u001b[1;33m.\u001b[0m\u001b[0mvalid_passes\u001b[0m\u001b[1;33m:\u001b[0m\u001b[1;33m\u001b[0m\u001b[1;33m\u001b[0m\u001b[0m\n\u001b[1;32m--> 154\u001b[1;33m             \u001b[0mdag\u001b[0m \u001b[1;33m=\u001b[0m \u001b[0mself\u001b[0m\u001b[1;33m.\u001b[0m\u001b[0m_run_this_pass\u001b[0m\u001b[1;33m(\u001b[0m\u001b[0mpass_\u001b[0m\u001b[1;33m,\u001b[0m \u001b[0mdag\u001b[0m\u001b[1;33m)\u001b[0m\u001b[1;33m\u001b[0m\u001b[1;33m\u001b[0m\u001b[0m\n\u001b[0m\u001b[0;32m    155\u001b[0m \u001b[1;33m\u001b[0m\u001b[0m\n\u001b[0;32m    156\u001b[0m             \u001b[1;31m# update the valid_passes property\u001b[0m\u001b[1;33m\u001b[0m\u001b[1;33m\u001b[0m\u001b[0m\n",
      "\u001b[1;32m~\\anaconda3\\envs\\qsharp-env\\lib\\site-packages\\qiskit\\transpiler\\runningpassmanager.py\u001b[0m in \u001b[0;36m_run_this_pass\u001b[1;34m(self, pass_, dag)\u001b[0m\n\u001b[0;32m    189\u001b[0m             \u001b[1;31m# Measure time if we have a callback or logging set\u001b[0m\u001b[1;33m\u001b[0m\u001b[1;33m\u001b[0m\u001b[0m\n\u001b[0;32m    190\u001b[0m             \u001b[0mstart_time\u001b[0m \u001b[1;33m=\u001b[0m \u001b[0mtime\u001b[0m\u001b[1;33m(\u001b[0m\u001b[1;33m)\u001b[0m\u001b[1;33m\u001b[0m\u001b[1;33m\u001b[0m\u001b[0m\n\u001b[1;32m--> 191\u001b[1;33m             \u001b[0mpass_\u001b[0m\u001b[1;33m.\u001b[0m\u001b[0mrun\u001b[0m\u001b[1;33m(\u001b[0m\u001b[0mFencedDAGCircuit\u001b[0m\u001b[1;33m(\u001b[0m\u001b[0mdag\u001b[0m\u001b[1;33m)\u001b[0m\u001b[1;33m)\u001b[0m\u001b[1;33m\u001b[0m\u001b[1;33m\u001b[0m\u001b[0m\n\u001b[0m\u001b[0;32m    192\u001b[0m             \u001b[0mend_time\u001b[0m \u001b[1;33m=\u001b[0m \u001b[0mtime\u001b[0m\u001b[1;33m(\u001b[0m\u001b[1;33m)\u001b[0m\u001b[1;33m\u001b[0m\u001b[1;33m\u001b[0m\u001b[0m\n\u001b[0;32m    193\u001b[0m             \u001b[0mrun_time\u001b[0m \u001b[1;33m=\u001b[0m \u001b[0mend_time\u001b[0m \u001b[1;33m-\u001b[0m \u001b[0mstart_time\u001b[0m\u001b[1;33m\u001b[0m\u001b[1;33m\u001b[0m\u001b[0m\n",
      "\u001b[1;32m~\\anaconda3\\envs\\qsharp-env\\lib\\site-packages\\qiskit\\transpiler\\passes\\optimization\\commutation_analysis.py\u001b[0m in \u001b[0;36mrun\u001b[1;34m(self, dag)\u001b[0m\n\u001b[0;32m     74\u001b[0m                     \u001b[0mdoes_commute\u001b[0m \u001b[1;33m=\u001b[0m \u001b[1;32mFalse\u001b[0m\u001b[1;33m\u001b[0m\u001b[1;33m\u001b[0m\u001b[0m\n\u001b[0;32m     75\u001b[0m                     \u001b[1;32mtry\u001b[0m\u001b[1;33m:\u001b[0m\u001b[1;33m\u001b[0m\u001b[1;33m\u001b[0m\u001b[0m\n\u001b[1;32m---> 76\u001b[1;33m                         \u001b[0mdoes_commute\u001b[0m \u001b[1;33m=\u001b[0m \u001b[0m_commute\u001b[0m\u001b[1;33m(\u001b[0m\u001b[0mcurrent_gate\u001b[0m\u001b[1;33m,\u001b[0m \u001b[0mprev_gate\u001b[0m\u001b[1;33m,\u001b[0m \u001b[0mself\u001b[0m\u001b[1;33m.\u001b[0m\u001b[0mcache\u001b[0m\u001b[1;33m)\u001b[0m\u001b[1;33m\u001b[0m\u001b[1;33m\u001b[0m\u001b[0m\n\u001b[0m\u001b[0;32m     77\u001b[0m                     \u001b[1;32mexcept\u001b[0m \u001b[0mTranspilerError\u001b[0m\u001b[1;33m:\u001b[0m\u001b[1;33m\u001b[0m\u001b[1;33m\u001b[0m\u001b[0m\n\u001b[0;32m     78\u001b[0m                         \u001b[1;32mpass\u001b[0m\u001b[1;33m\u001b[0m\u001b[1;33m\u001b[0m\u001b[0m\n",
      "\u001b[1;32m~\\anaconda3\\envs\\qsharp-env\\lib\\site-packages\\qiskit\\transpiler\\passes\\optimization\\commutation_analysis.py\u001b[0m in \u001b[0;36m_commute\u001b[1;34m(node1, node2, cache)\u001b[0m\n\u001b[0;32m    108\u001b[0m     \u001b[0mqarg2\u001b[0m \u001b[1;33m=\u001b[0m \u001b[1;33m[\u001b[0m\u001b[0mqarg\u001b[0m\u001b[1;33m.\u001b[0m\u001b[0mindex\u001b[0m\u001b[1;33m(\u001b[0m\u001b[0mq\u001b[0m\u001b[1;33m)\u001b[0m \u001b[1;32mfor\u001b[0m \u001b[0mq\u001b[0m \u001b[1;32min\u001b[0m \u001b[0mnode2\u001b[0m\u001b[1;33m.\u001b[0m\u001b[0mqargs\u001b[0m\u001b[1;33m]\u001b[0m\u001b[1;33m\u001b[0m\u001b[1;33m\u001b[0m\u001b[0m\n\u001b[0;32m    109\u001b[0m \u001b[1;33m\u001b[0m\u001b[0m\n\u001b[1;32m--> 110\u001b[1;33m     \u001b[0mid_op\u001b[0m \u001b[1;33m=\u001b[0m \u001b[0mOperator\u001b[0m\u001b[1;33m(\u001b[0m\u001b[0mnp\u001b[0m\u001b[1;33m.\u001b[0m\u001b[0meye\u001b[0m\u001b[1;33m(\u001b[0m\u001b[1;36m2\u001b[0m \u001b[1;33m**\u001b[0m \u001b[0mqbit_num\u001b[0m\u001b[1;33m)\u001b[0m\u001b[1;33m)\u001b[0m\u001b[1;33m\u001b[0m\u001b[1;33m\u001b[0m\u001b[0m\n\u001b[0m\u001b[0;32m    111\u001b[0m \u001b[1;33m\u001b[0m\u001b[0m\n\u001b[0;32m    112\u001b[0m     \u001b[0mnode1_key\u001b[0m \u001b[1;33m=\u001b[0m \u001b[1;33m(\u001b[0m\u001b[0mnode1\u001b[0m\u001b[1;33m.\u001b[0m\u001b[0mop\u001b[0m\u001b[1;33m.\u001b[0m\u001b[0mname\u001b[0m\u001b[1;33m,\u001b[0m \u001b[0mstr\u001b[0m\u001b[1;33m(\u001b[0m\u001b[0mnode1\u001b[0m\u001b[1;33m.\u001b[0m\u001b[0mop\u001b[0m\u001b[1;33m.\u001b[0m\u001b[0mparams\u001b[0m\u001b[1;33m)\u001b[0m\u001b[1;33m,\u001b[0m \u001b[0mstr\u001b[0m\u001b[1;33m(\u001b[0m\u001b[0mqarg1\u001b[0m\u001b[1;33m)\u001b[0m\u001b[1;33m)\u001b[0m\u001b[1;33m\u001b[0m\u001b[1;33m\u001b[0m\u001b[0m\n",
      "\u001b[1;32m~\\anaconda3\\envs\\qsharp-env\\lib\\site-packages\\qiskit\\quantum_info\\operators\\operator.py\u001b[0m in \u001b[0;36m__init__\u001b[1;34m(self, data, input_dims, output_dims)\u001b[0m\n\u001b[0;32m     75\u001b[0m         \u001b[1;32mif\u001b[0m \u001b[0misinstance\u001b[0m\u001b[1;33m(\u001b[0m\u001b[0mdata\u001b[0m\u001b[1;33m,\u001b[0m \u001b[1;33m(\u001b[0m\u001b[0mlist\u001b[0m\u001b[1;33m,\u001b[0m \u001b[0mnp\u001b[0m\u001b[1;33m.\u001b[0m\u001b[0mndarray\u001b[0m\u001b[1;33m)\u001b[0m\u001b[1;33m)\u001b[0m\u001b[1;33m:\u001b[0m\u001b[1;33m\u001b[0m\u001b[1;33m\u001b[0m\u001b[0m\n\u001b[0;32m     76\u001b[0m             \u001b[1;31m# Default initialization from list or numpy array matrix\u001b[0m\u001b[1;33m\u001b[0m\u001b[1;33m\u001b[0m\u001b[0m\n\u001b[1;32m---> 77\u001b[1;33m             \u001b[0mself\u001b[0m\u001b[1;33m.\u001b[0m\u001b[0m_data\u001b[0m \u001b[1;33m=\u001b[0m \u001b[0mnp\u001b[0m\u001b[1;33m.\u001b[0m\u001b[0masarray\u001b[0m\u001b[1;33m(\u001b[0m\u001b[0mdata\u001b[0m\u001b[1;33m,\u001b[0m \u001b[0mdtype\u001b[0m\u001b[1;33m=\u001b[0m\u001b[0mcomplex\u001b[0m\u001b[1;33m)\u001b[0m\u001b[1;33m\u001b[0m\u001b[1;33m\u001b[0m\u001b[0m\n\u001b[0m\u001b[0;32m     78\u001b[0m         \u001b[1;32melif\u001b[0m \u001b[0misinstance\u001b[0m\u001b[1;33m(\u001b[0m\u001b[0mdata\u001b[0m\u001b[1;33m,\u001b[0m \u001b[1;33m(\u001b[0m\u001b[0mQuantumCircuit\u001b[0m\u001b[1;33m,\u001b[0m \u001b[0mInstruction\u001b[0m\u001b[1;33m)\u001b[0m\u001b[1;33m)\u001b[0m\u001b[1;33m:\u001b[0m\u001b[1;33m\u001b[0m\u001b[1;33m\u001b[0m\u001b[0m\n\u001b[0;32m     79\u001b[0m             \u001b[1;31m# If the input is a Terra QuantumCircuit or Instruction we\u001b[0m\u001b[1;33m\u001b[0m\u001b[1;33m\u001b[0m\u001b[0m\n",
      "\u001b[1;32m~\\anaconda3\\envs\\qsharp-env\\lib\\site-packages\\numpy\\core\\_asarray.py\u001b[0m in \u001b[0;36masarray\u001b[1;34m(a, dtype, order, like)\u001b[0m\n\u001b[0;32m    100\u001b[0m         \u001b[1;32mreturn\u001b[0m \u001b[0m_asarray_with_like\u001b[0m\u001b[1;33m(\u001b[0m\u001b[0ma\u001b[0m\u001b[1;33m,\u001b[0m \u001b[0mdtype\u001b[0m\u001b[1;33m=\u001b[0m\u001b[0mdtype\u001b[0m\u001b[1;33m,\u001b[0m \u001b[0morder\u001b[0m\u001b[1;33m=\u001b[0m\u001b[0morder\u001b[0m\u001b[1;33m,\u001b[0m \u001b[0mlike\u001b[0m\u001b[1;33m=\u001b[0m\u001b[0mlike\u001b[0m\u001b[1;33m)\u001b[0m\u001b[1;33m\u001b[0m\u001b[1;33m\u001b[0m\u001b[0m\n\u001b[0;32m    101\u001b[0m \u001b[1;33m\u001b[0m\u001b[0m\n\u001b[1;32m--> 102\u001b[1;33m     \u001b[1;32mreturn\u001b[0m \u001b[0marray\u001b[0m\u001b[1;33m(\u001b[0m\u001b[0ma\u001b[0m\u001b[1;33m,\u001b[0m \u001b[0mdtype\u001b[0m\u001b[1;33m,\u001b[0m \u001b[0mcopy\u001b[0m\u001b[1;33m=\u001b[0m\u001b[1;32mFalse\u001b[0m\u001b[1;33m,\u001b[0m \u001b[0morder\u001b[0m\u001b[1;33m=\u001b[0m\u001b[0morder\u001b[0m\u001b[1;33m)\u001b[0m\u001b[1;33m\u001b[0m\u001b[1;33m\u001b[0m\u001b[0m\n\u001b[0m\u001b[0;32m    103\u001b[0m \u001b[1;33m\u001b[0m\u001b[0m\n\u001b[0;32m    104\u001b[0m \u001b[1;33m\u001b[0m\u001b[0m\n",
      "\u001b[1;31mMemoryError\u001b[0m: Unable to allocate 16.0 GiB for an array with shape (32768, 32768) and data type complex128"
     ]
    }
   ],
   "source": [
    "characteristics = []\n",
    "gate_sets = [(ibm_native_gates, \"ibm\"), (rigetti_native_gates, \"rigetti\")]\n",
    "\n",
    "for benchmark in benchmarks+benchmarks_application:\n",
    "    \n",
    "    if benchmark == shor or benchmark == hhl:\n",
    "        continue\n",
    "\n",
    "    for n in range(n_min, n_max, stepsize):  \n",
    "        \n",
    "        for gate_set, gate_set_name in gate_sets:\n",
    "            \n",
    "            if gate_set_name == \"rigetti\":\n",
    "                c_map = get_rigetti_c_map()\n",
    "                backend_name = \"32 qubits\"\n",
    "                gate_set_name_mapped = gate_set_name\n",
    "            elif gate_set_name == \"ibm\":\n",
    "                if ibm_smallest_fitting:\n",
    "                    if n <= 5: backend = FakeBogota()\n",
    "                    elif n <= 7: backend = FakeCasablanca()\n",
    "                    elif n <= 16: backend = FakeGuadalupe()\n",
    "                    elif n <= 27: backend = FakeMontreal()\n",
    "                    elif n <= 65: backend = FakeManhattan()\n",
    "                    gate_set_name_mapped = gate_set_name + \"-s\"\n",
    "                else: \n",
    "                    backend = FakeManhattan()\n",
    "                    gate_set_name_mapped = gate_set_name + \"-b\"\n",
    "                    \n",
    "                c_map = backend.configuration().coupling_map\n",
    "                backend_name = backend.name()\n",
    "            else:\n",
    "                raise ValueError(\"Gate Set Error\")\n",
    "            max_n_arch = max(max(c_map)) +1\n",
    "            \n",
    "            #print(benchmark, gate_set_name, max_n_arch)\n",
    "            \n",
    "#             try:          \n",
    "                \n",
    "            # Creating the circuit on Algorithmic Description Layer\n",
    "            qc = benchmark.create_circuit(n)\n",
    "            filename = qc.name + \"_algorithm_\" + str(n) \n",
    "            if not (os.path.isfile(\"qpy_output/\" + filename + '.qpy')): \n",
    "                serialize_qc(qc, n, filename) \n",
    "                if save_png: save_circ(qc, filename)\n",
    "                if save_hist: sim_and_print_hist(qc, simulator, filename)\n",
    "\n",
    "                depth = qc.depth()\n",
    "                characteristics.append([qc, n, depth]) \n",
    "            else: print(\"qpy_output/\" + filename + '.qpy' + \" already existed\")\n",
    "\n",
    "            # Creating the circuit on target-independent Description Layer\n",
    "            filename = qc.name + \"_t-indep_\" + str(n) \n",
    "            if not (os.path.isfile(\"qpy_output/\" + filename + '.qpy')): \n",
    "                target_independent = transpile(qc, optimization_level=2)\n",
    "                serialize_qc(target_independent, n, filename)   \n",
    "                if save_png: save_circ(qc, filename)\n",
    "                if save_hist: sim_and_print_hist(qc, simulator, filename)\n",
    "\n",
    "                depth = target_independent.depth()\n",
    "                characteristics.append([target_independent, n, depth]) \n",
    "            else: print(\"qpy_output/\" + filename + '.qpy' + \" already existed\")  \n",
    "\n",
    "            for opt_level in range(4):\n",
    "                # Creating the circuit on target-dependent: native gates layer\n",
    "                filename_transpiled = qc.name + \"_transpiled_\" + gate_set_name + \"_opt\" + str(opt_level) + \"_\"+ str(n)                     \n",
    "                if not (os.path.isfile(\"qasm_output/\" + filename_transpiled + '.qasm')): \n",
    "                    compiled_without_architecure = get_compiled_circuit(qc = qc, opt_level=opt_level, basis_gates=gate_set)\n",
    "                    save_as_qasm(compiled_without_architecure, n, filename_transpiled , gate_set, opt_level)  \n",
    "                    if save_png: save_circ(compiled_without_architecure, filename_transpiled)   \n",
    "                    if save_hist: sim_and_print_hist(compiled_without_architecure, simulator, filename_transpiled)\n",
    "\n",
    "                    depth = compiled_without_architecure.depth()\n",
    "                    characteristics.append([filename_transpiled, n, depth]) \n",
    "                else: print(\"qasm_output/\" + filename_transpiled + '.qasm' + \" already existed\")\n",
    "\n",
    "                # Creating the circuit on target-dependent: mapped layer\n",
    "                qubits_num_required = QuantumCircuit.from_qasm_file(\"qasm_output/\" + filename_transpiled + '.qasm').num_qubits\n",
    "                if (qubits_num_required <= max_n_arch):\n",
    "\n",
    "                    filename_mapped = qc.name + \"_mapped_\" + gate_set_name_mapped + \"_opt\" + str(opt_level) + \"_\"+ str(n) \n",
    "                    if not (os.path.isfile(\"qasm_output/\" + filename_mapped + '.qasm')): \n",
    "\n",
    "                        compiled_with_architecture = get_compiled_circuit(qc = qc, opt_level=opt_level, \n",
    "                                                                          basis_gates=gate_set, c_map=c_map)\n",
    "                        save_as_qasm(compiled_with_architecture, n, filename_mapped, gate_set, \n",
    "                                     opt_level, True, c_map, gate_set_name_mapped + \"-\" + backend_name)\n",
    "\n",
    "                        if save_png: save_circ(compiled_with_architecture, filename_mapped)\n",
    "                        if save_hist: sim_and_print_hist(compiled_with_architecture, simulator, filename_mapped)\n",
    "\n",
    "                        depth = compiled_with_architecture.depth()\n",
    "                        characteristics.append([filename_mapped, n, depth])\n",
    "                else: print(\"qasm_output/\" + filename_mapped + '.qasm' + \" already existed\")\n",
    "\n",
    "            \n",
    "#             except:\n",
    "#                 print(\"\\n Problem occured: \", benchmark, n)\n",
    "#                 pass\n",
    "\n",
    "            \n",
    "## Todo: Anpassung der benchmarks, wo n != num qubits ist\n",
    "#create_shor_benchmarks()\n",
    "#create_hhl_benchmarks()\n",
    "#application: optimization, nature"
   ]
  },
  {
   "cell_type": "code",
   "execution_count": null,
   "id": "7d428e10",
   "metadata": {
    "scrolled": true
   },
   "outputs": [],
   "source": [
    "characteristics = np.array(characteristics)\n",
    "plt.scatter(x=characteristics[:,1].astype(int), y=characteristics[:,2].astype(int))\n",
    "plt.yscale('log')\n",
    "plt.title('Depth and Width of generated Benchmarks')\n",
    "plt.xlabel('# of Qubits')\n",
    "plt.ylabel('Circuit Depth');"
   ]
  },
  {
   "cell_type": "code",
   "execution_count": null,
   "id": "e673c80d",
   "metadata": {},
   "outputs": [],
   "source": [
    "def create_shor_benchmarks():\n",
    "    small = [15,4] #18 qubits\n",
    "    medium = [821, 4] #42 qubits\n",
    "    large = [11777, 4] #58 qubits\n",
    "    xlarge = [201209, 4] # 74 qubits\n",
    "    benchmark_list = [small]#, medium, large, xlarge]\n",
    "    for n, a in benchmark_list:        \n",
    "        \n",
    "        # Creating the circuit on Algorithmic Description Layer\n",
    "        qc = shor.create_circuit(n,a)\n",
    "        num_qubits = str(len(qc.qubits))\n",
    "        filename = qc.name + \"_algorithm_\" +  str(num_qubits) \n",
    "        serialize_qc(qc, num_qubits, filename) \n",
    "        if save_png: save_circ(qc, filename)\n",
    "            \n",
    "        # Creating the circuit on target-independent Description Layer\n",
    "        target_independent = transpile(qc, optimization_level=2)\n",
    "        filename = qc.name + \"_t-indep_\" + num_qubits\n",
    "        serialize_qc(target_independent, num_qubits, filename)          \n",
    "        if save_png: save_circ(qc, filename)\n",
    "            \n",
    "        # Creating the circuit on target-dependent: native gates layer\n",
    "        compiled_without_architecure = get_compiled_circuit(qc = qc, opt_level=opt_level, basis_gates=basis_gates)\n",
    "        num_qubits = str(len(compiled_without_architecure.qubits))\n",
    "        filename_transpiled = qc.name + \"_transpiled_\" + gate_set_name + \"_opt\" + str(opt_level) + \"_\"+ num_qubits\n",
    "        save_as_qasm(compiled_without_architecure, num_qubits, filename_transpiled , basis_gates, opt_level)  \n",
    "        \n",
    "        depth = compiled_without_architecure.depth()        \n",
    "        characteristics.append([filename, num_qubits, depth])\n",
    "        \n",
    "        if save_png: save_circ(compiled_without_architecure, filename)       \n",
    "        if save_hist:\n",
    "            sim_and_print_hist(compiled_without_architecure, simulator, filename)\n",
    "        \n",
    "        # Creating the circuit on target-dependent: mapped layer\n",
    "        if (int(num_qubits) < max_n_arch):\n",
    "            compiled_with_architecture = get_compiled_circuit(qc = qc, opt_level=opt_level,\n",
    "                                                              basis_gates=basis_gates, c_map=c_map)\n",
    "            num_qubits = str(len(compiled_with_architecture.qubits))\n",
    "            filename_mapped = qc.name + \"_mapped_\" + gate_set_name + \"_opt\" + str(opt_level) + \"_\" + num_qubits\n",
    "            save_as_qasm(compiled_with_architecture, num_qubits, filename_mapped, basis_gates, \n",
    "                         opt_level, True, c_map, backend.name() if backend.name() else \"\")\n",
    "            \n",
    "            depth = compiled_with_architecture.depth()\n",
    "            characteristics.append([filename, num_qubits, depth])\n",
    "            if save_png: save_circ(compiled_with_architecture, filename)\n",
    "            \n",
    "            if save_hist:\n",
    "                sim_and_print_hist(compiled_with_architecture, simulator, filename)"
   ]
  },
  {
   "cell_type": "code",
   "execution_count": null,
   "id": "3df29386",
   "metadata": {},
   "outputs": [],
   "source": [
    "def create_hhl_benchmarks():\n",
    "    # n is not the number of qubits in this case\n",
    "    for n in range(1,2):         \n",
    "        \n",
    "        # Creating the circuit on Algorithmic Description Layer\n",
    "        qc = hhl.create_circuit(n)\n",
    "        num_qubits = str(len(qc.qubits))\n",
    "        filename = qc.name + \"_algorithm_\" + str(num_qubits)\n",
    "        serialize_qc(qc, num_qubits, filename)          \n",
    "        if save_png: save_circ(qc, filename)\n",
    "            \n",
    "        # Creating the circuit on target-independent Description Layer\n",
    "        target_independent = transpile(qc, optimization_level=2)\n",
    "        filename = qc.name + \"_t-indep_\" + num_qubits\n",
    "        serialize_qc(target_independent, num_qubits, filename)          \n",
    "        if save_png: save_circ(qc, filename)\n",
    "        \n",
    "        # Creating the circuit on target-dependent: native gates layer\n",
    "        compiled_without_architecure = get_compiled_circuit(qc = qc, opt_level=opt_level, basis_gates=basis_gates)\n",
    "        num_qubits = str(len(compiled_without_architecure.qubits))\n",
    "        filename_transpiled = qc.name + \"_transpiled_\" + gate_set_name + \"_opt\" + str(opt_level) + \"_\"+ num_qubits\n",
    "        save_as_qasm(compiled_without_architecure, num_qubits, filename_transpiled , basis_gates, opt_level)           \n",
    "        \n",
    "        depth = compiled_without_architecure.depth()        \n",
    "        characteristics.append([filename, num_qubits, depth])\n",
    "        if save_png: save_circ(compiled_without_architecure, filename)  \n",
    "        \n",
    "        if save_hist:\n",
    "            sim_and_print_hist(compiled_without_architecure, simulator, filename)\n",
    "        \n",
    "        # Creating the circuit on target-dependent: mapped layer\n",
    "        if (int(num_qubits) < max_n_arch):\n",
    "            compiled_with_architecture = get_compiled_circuit(qc = qc, opt_level=opt_level, \n",
    "                                                              basis_gates=basis_gates, c_map=c_map)\n",
    "            \n",
    "            num_qubits = str(len(compiled_with_architecture.qubits))\n",
    "            \n",
    "            filename_mapped = qc.name + \"_mapped_\" + gate_set_name + \"_opt\" + str(opt_level) + \"_\"+ str(num_qubits) \n",
    "            save_as_qasm(compiled_with_architecture, num_qubits, filename_mapped, basis_gates, \n",
    "                         opt_level, True, c_map, backend.name() if backend.name() else \"\")\n",
    "            \n",
    "            depth = compiled_with_architecture.depth()\n",
    "            characteristics.append([filename, num_qubits, depth])\n",
    "            if save_png: save_circ(compiled_with_architecture, filename)\n",
    "            \n",
    "            if save_hist:\n",
    "                sim_and_print_hist(compiled_with_architecture, simulator, filename)"
   ]
  },
  {
   "cell_type": "markdown",
   "id": "e50f9ad1",
   "metadata": {},
   "source": [
    "Grover Test"
   ]
  },
  {
   "cell_type": "code",
   "execution_count": null,
   "id": "693d26bf",
   "metadata": {
    "scrolled": true
   },
   "outputs": [],
   "source": [
    "a = grover.create_circuit(num_qubits_test)\n",
    "b = get_compiled_circuit(a, opt_level=2, basis_gates=basis_gates)\n",
    "save_as_qasm(b, num_qubits_test, basis_gates)\n",
    "c = get_compiled_circuit(b, opt_level=2, basis_gates=basis_gates, c_map=c_map)\n",
    "save_as_qasm(c, num_qubits_test, basis_gates, True, c_map, backend.name() if backend.name() else \"\")"
   ]
  },
  {
   "cell_type": "markdown",
   "id": "e22aa20a",
   "metadata": {},
   "source": [
    "QAOA Test"
   ]
  },
  {
   "cell_type": "code",
   "execution_count": null,
   "id": "4519c621",
   "metadata": {},
   "outputs": [],
   "source": [
    "a = qaoa.create_circuit(num_qubits_test)\n",
    "b = get_compiled_circuit(a, opt_level=2, basis_gates=basis_gates)\n",
    "save_as_qasm(b, num_qubits_test, basis_gates)\n",
    "c = get_compiled_circuit(b, opt_level=2, basis_gates=basis_gates, c_map=c_map)\n",
    "save_as_qasm(c, num_qubits_test, basis_gates, True, c_map, backend.name() if backend.name() else \"\")"
   ]
  },
  {
   "cell_type": "markdown",
   "id": "9bfe5941",
   "metadata": {},
   "source": [
    "GHZ Test"
   ]
  },
  {
   "cell_type": "code",
   "execution_count": null,
   "id": "1223017a",
   "metadata": {},
   "outputs": [],
   "source": [
    "a = ghz.create_circuit(num_qubits_test)\n",
    "b = get_compiled_circuit(a, opt_level=2, basis_gates=basis_gates)\n",
    "save_as_qasm(b, num_qubits_test, basis_gates)\n",
    "c = get_compiled_circuit(b, opt_level=2, basis_gates=basis_gates, c_map=c_map)\n",
    "save_as_qasm(c, num_qubits_test, basis_gates, True, c_map, backend.name() if backend.name() else \"\")"
   ]
  },
  {
   "cell_type": "markdown",
   "id": "abbdc9b6",
   "metadata": {},
   "source": [
    "QFT Test"
   ]
  },
  {
   "cell_type": "code",
   "execution_count": null,
   "id": "dc3a8d76",
   "metadata": {},
   "outputs": [],
   "source": [
    "a = qft.create_circuit(num_qubits_test)\n",
    "b = get_compiled_circuit(a, opt_level=2, basis_gates=basis_gates)\n",
    "save_as_qasm(b, num_qubits_test, basis_gates)\n",
    "c = get_compiled_circuit(b, opt_level=2, basis_gates=basis_gates, c_map=c_map)\n",
    "save_as_qasm(c, num_qubits_test, basis_gates, True, c_map, backend.name() if backend.name() else \"\")"
   ]
  },
  {
   "cell_type": "markdown",
   "id": "d9f9b65e",
   "metadata": {},
   "source": [
    "QFT Entangled Test"
   ]
  },
  {
   "cell_type": "code",
   "execution_count": null,
   "id": "90dad9c3",
   "metadata": {},
   "outputs": [],
   "source": [
    "a = qft_entangled.create_circuit(num_qubits_test)\n",
    "b = get_compiled_circuit(a, opt_level=2, basis_gates=basis_gates)\n",
    "save_as_qasm(b, num_qubits_test, basis_gates)\n",
    "c = get_compiled_circuit(b, opt_level=2, basis_gates=basis_gates, c_map=c_map)\n",
    "save_as_qasm(c, num_qubits_test, basis_gates, True, c_map, backend.name() if backend.name() else \"\")"
   ]
  },
  {
   "cell_type": "markdown",
   "id": "b6fbfd51",
   "metadata": {},
   "source": [
    "W-State Test"
   ]
  },
  {
   "cell_type": "code",
   "execution_count": null,
   "id": "28c0fda2",
   "metadata": {},
   "outputs": [],
   "source": [
    "a = w_state.create_circuit(num_qubits_test)\n",
    "b = get_compiled_circuit(a, opt_level=2, basis_gates=basis_gates)\n",
    "save_as_qasm(b, num_qubits_test, basis_gates)\n",
    "c = get_compiled_circuit(b, opt_level=2, basis_gates=basis_gates, c_map=c_map)\n",
    "save_as_qasm(c, num_qubits_test, basis_gates, True, c_map, backend.name() if backend.name() else \"\")"
   ]
  },
  {
   "cell_type": "markdown",
   "id": "63e5e278",
   "metadata": {},
   "source": [
    "QPE Exact and QPE Inexact Test"
   ]
  },
  {
   "cell_type": "code",
   "execution_count": null,
   "id": "0912cc93",
   "metadata": {},
   "outputs": [],
   "source": [
    "a = qpe_exact.create_circuit(num_qubits_test)\n",
    "b = get_compiled_circuit(a, opt_level=2, basis_gates=basis_gates)\n",
    "save_as_qasm(b, num_qubits_test, basis_gates)\n",
    "c = get_compiled_circuit(b, opt_level=2, basis_gates=basis_gates, c_map=c_map)\n",
    "save_as_qasm(c, num_qubits_test, basis_gates, True, c_map, backend.name() if backend.name() else \"\")\n",
    "\n",
    "a = qpe_inexact.create_circuit(num_qubits_test)\n",
    "b = get_compiled_circuit(a, opt_level=2, basis_gates=basis_gates)\n",
    "save_as_qasm(b, num_qubits_test, basis_gates)\n",
    "c = get_compiled_circuit(b, opt_level=2, basis_gates=basis_gates, c_map=c_map)\n",
    "save_as_qasm(c, num_qubits_test, basis_gates, True, c_map, backend.name() if backend.name() else \"\")"
   ]
  },
  {
   "cell_type": "markdown",
   "id": "112cd7a1",
   "metadata": {},
   "source": [
    "Graph State Test"
   ]
  },
  {
   "cell_type": "code",
   "execution_count": null,
   "id": "45c821f1",
   "metadata": {},
   "outputs": [],
   "source": [
    "a = graph_state.create_circuit(num_qubits_test)\n",
    "b = get_compiled_circuit(a, opt_level=2, basis_gates=basis_gates)\n",
    "save_as_qasm(b, num_qubits_test, basis_gates)\n",
    "c = get_compiled_circuit(b, opt_level=2, basis_gates=basis_gates, c_map=c_map)\n",
    "save_as_qasm(c, num_qubits_test, basis_gates, True, c_map, backend.name() if backend.name() else \"\")\n"
   ]
  },
  {
   "cell_type": "markdown",
   "id": "d2eab757",
   "metadata": {},
   "source": [
    "Shor Test"
   ]
  },
  {
   "cell_type": "code",
   "execution_count": null,
   "id": "e63157be",
   "metadata": {},
   "outputs": [],
   "source": [
    "a = shor.create_circuit(15)\n",
    "b = get_compiled_circuit(a, opt_level=2, basis_gates=basis_gates)\n",
    "save_as_qasm(b, None, basis_gates)\n",
    "#c = get_compiled_circuit(b, opt_level=2, c_map=c_map)\n",
    "#save_as_qasm(c, None, True)"
   ]
  },
  {
   "cell_type": "markdown",
   "id": "13f5ad08",
   "metadata": {},
   "source": [
    "AE Test"
   ]
  },
  {
   "cell_type": "code",
   "execution_count": null,
   "id": "ca6920f6",
   "metadata": {},
   "outputs": [],
   "source": [
    "a = ae.create_circuit(num_qubits_test)\n",
    "b = get_compiled_circuit(a, opt_level=2, basis_gates=basis_gates)\n",
    "save_as_qasm(b, num_qubits_test, basis_gates)\n",
    "c = get_compiled_circuit(b, opt_level=2, basis_gates=basis_gates, c_map=c_map)\n",
    "save_as_qasm(c, num_qubits_test, basis_gates, True, c_map, backend.name() if backend.name() else \"\")"
   ]
  },
  {
   "cell_type": "markdown",
   "id": "a474df0e",
   "metadata": {},
   "source": [
    "DJ Test"
   ]
  },
  {
   "cell_type": "code",
   "execution_count": null,
   "id": "cdd038af",
   "metadata": {},
   "outputs": [],
   "source": [
    "num_qubits_test = 5\n",
    "a = deutsch_jozsa.create_circuit(num_qubits_test)\n",
    "b = get_compiled_circuit(a, opt_level=2, basis_gates=basis_gates)\n",
    "save_as_qasm(b, num_qubits_test, basis_gates)\n",
    "c = get_compiled_circuit(b, opt_level=2, basis_gates=basis_gates, c_map=c_map)\n",
    "save_as_qasm(c, num_qubits_test, basis_gates, True, c_map, backend.name() if backend.name() else \"\")"
   ]
  },
  {
   "cell_type": "markdown",
   "id": "9b10a478",
   "metadata": {},
   "source": [
    "HHL Test"
   ]
  },
  {
   "cell_type": "code",
   "execution_count": null,
   "id": "d26c7bf6",
   "metadata": {
    "scrolled": false
   },
   "outputs": [],
   "source": [
    "import src.benchmarks.hhl\n",
    "num_qubits_test = 3\n",
    "a = hhl.create_circuit(num_qubits_test)\n",
    "b = get_compiled_circuit(a, opt_level=2, basis_gates=basis_gates)\n",
    "save_as_qasm(b, num_qubits_test, basis_gates)\n",
    "c = get_compiled_circuit(b, opt_level=2, basis_gates=basis_gates, c_map=c_map)\n",
    "save_as_qasm(c, num_qubits_test, basis_gates, True, c_map, backend.name() if backend.name() else \"\")"
   ]
  },
  {
   "cell_type": "markdown",
   "id": "5afb01ad",
   "metadata": {},
   "source": [
    "Example Generation for a figure in the paper"
   ]
  },
  {
   "cell_type": "code",
   "execution_count": null,
   "id": "284ec186",
   "metadata": {},
   "outputs": [],
   "source": [
    "#from qiskit.circuit.library import RealAmplitudes\n",
    "#from qiskit.visualization import plot_histogram, plot_gate_map, plot_circuit_layout\n",
    "#plot_gate_map(backend).savefig(\"layout_santiago.png\")\n",
    "#ansatz = RealAmplitudes(3, reps=1)\n",
    "#qc = ansatz.decompose()\n",
    "#qc.draw(output=\"mpl\", filename=\"paper_example_1_1\")\n",
    "#b = get_compiled_circuit(qc, opt_level=0, basis_gates=basis_gates)\n",
    "#b.draw(output=\"mpl\", filename=\"paper_example_1_2\")\n",
    "#c = get_compiled_circuit(b, opt_level=0, basis_gates=basis_gates, c_map=c_map)\n",
    "#c.draw(output=\"mpl\", filename=\"paper_example_1_3\")"
   ]
  },
  {
   "cell_type": "markdown",
   "id": "a250eb12",
   "metadata": {},
   "source": [
    "Qiskit Finance Test"
   ]
  },
  {
   "cell_type": "code",
   "execution_count": null,
   "id": "08af7622",
   "metadata": {
    "scrolled": true
   },
   "outputs": [],
   "source": [
    "\n",
    "from src.benchmarks.qiskit_application_finance import portfolio_optimization_qaoa, portfolio_optimization_vqe, pricing_eur_call_opt, pricing_eur_put_opt\n",
    "num_qubits_test = 5\n",
    "a = pricing_eur_put_opt.create_circuit(num_qubits_test)\n",
    "b = get_compiled_circuit(a, opt_level=2, basis_gates=basis_gates)\n",
    "save_as_qasm(b, num_qubits_test, basis_gates)\n",
    "c = get_compiled_circuit(b, opt_level=2, basis_gates=basis_gates, c_map=c_map)\n",
    "save_as_qasm(c, num_qubits_test, basis_gates, True, c_map, backend.name() if backend.name() else \"\")"
   ]
  },
  {
   "cell_type": "markdown",
   "id": "8cc96b30",
   "metadata": {},
   "source": [
    "Qiskit Optimization Test"
   ]
  },
  {
   "cell_type": "code",
   "execution_count": null,
   "id": "1dd73b28",
   "metadata": {},
   "outputs": [],
   "source": [
    "\n",
    "from src.benchmarks.qiskit_application_optimization import vehicle_routing\n",
    "num_qubits_test = 5\n",
    "a = vehicle_routing.create_circuit(3,3)\n",
    "#b = get_compiled_circuit(a, opt_level=2)\n",
    "#save_as_qasm(b, num_qubits_test)\n",
    "#c = get_compiled_circuit(b, opt_level=2, c_map=c_map)\n",
    "#save_as_qasm(c, num_qubits_test, True)"
   ]
  },
  {
   "cell_type": "markdown",
   "id": "f865ea59",
   "metadata": {},
   "source": [
    "Qiskit Machine Learning Test"
   ]
  },
  {
   "cell_type": "code",
   "execution_count": null,
   "id": "54900741",
   "metadata": {},
   "outputs": [],
   "source": [
    "import numpy as np\n",
    "seed = 71\n",
    "np.random.seed = seed\n",
    "\n",
    "import matplotlib.pyplot as plt\n",
    "%matplotlib inline\n",
    "\n",
    "from qiskit import QuantumRegister, QuantumCircuit, BasicAer\n",
    "from qiskit.circuit.library import TwoLocal, UniformDistribution\n",
    "\n",
    "from qiskit.utils import QuantumInstance, algorithm_globals\n",
    "from qiskit_machine_learning.algorithms import NumPyDiscriminator, QGAN\n",
    "\n",
    "algorithm_globals.random_seed = seed\n",
    "\n",
    "# Number training data samples\n",
    "N = 1000\n",
    "\n",
    "# Load data samples from log-normal distribution with mean=1 and standard deviation=1\n",
    "mu = 1\n",
    "sigma = 1\n",
    "real_data = np.random.lognormal(mean=mu, sigma=sigma, size=N)\n",
    "\n",
    "# Set the data resolution\n",
    "# Set upper and lower data values as list of k min/max data values [[min_0,max_0],...,[min_k-1,max_k-1]]\n",
    "bounds = np.array([0., 3.])\n",
    "# Set number of qubits per data dimension as list of k qubit values[#q_0,...,#q_k-1]\n",
    "num_qubits = [3]\n",
    "k = len(num_qubits)"
   ]
  },
  {
   "cell_type": "code",
   "execution_count": null,
   "id": "3b48c545",
   "metadata": {},
   "outputs": [],
   "source": [
    "# Set number of training epochs\n",
    "# Note: The algorithm's runtime can be shortened by reducing the number of training epochs.\n",
    "num_epochs = 10\n",
    "# Batch size\n",
    "batch_size = 100\n",
    "\n",
    "# Initialize qGAN\n",
    "qgan = QGAN(real_data, bounds, num_qubits, batch_size, num_epochs, snapshot_dir=None)\n",
    "qgan.seed = 1\n",
    "# Set quantum instance to run the quantum generator\n",
    "quantum_instance = QuantumInstance(\n",
    "    backend=BasicAer.get_backend(\"statevector_simulator\"), seed_transpiler=seed, seed_simulator=seed\n",
    ")\n",
    "\n",
    "# Set entangler map\n",
    "#entangler_map = [[0, 1]]\n",
    "\n",
    "\n",
    "# Set an initial state for the generator circuit\n",
    "init_dist = UniformDistribution(sum(num_qubits))\n",
    "\n",
    "# Set the ansatz circuit\n",
    "ansatz = TwoLocal(int(np.sum(num_qubits)), \"ry\", \"cz\",  reps=1) #entanglement=entangler_map,\n",
    "\n",
    "# Set generator's initial parameters - in order to reduce the training time and hence the\n",
    "# total running time for this notebook\n",
    "#init_params = [3.0, 1.0, 0.6, 1.6]\n",
    "\n",
    "# You can increase the number of training epochs and use random initial parameters.\n",
    "init_params = np.random.rand(ansatz.num_parameters_settable) * 2 * np.pi\n",
    "\n",
    "# Set generator circuit by adding the initial distribution infront of the ansatz\n",
    "g_circuit = ansatz.compose(init_dist, front=True)\n",
    "\n",
    "# Set quantum generator\n",
    "qgan.set_generator(generator_circuit=g_circuit, generator_init_params=init_params)\n",
    "# The parameters have an order issue that following is a temp. workaround\n",
    "qgan._generator._free_parameters = sorted(g_circuit.parameters, key=lambda p: p.name)\n",
    "# Set classical discriminator neural network\n",
    "discriminator = NumPyDiscriminator(len(num_qubits))\n",
    "qgan.set_discriminator(discriminator)"
   ]
  },
  {
   "cell_type": "code",
   "execution_count": null,
   "id": "725e64a3",
   "metadata": {},
   "outputs": [],
   "source": [
    "# Run qGAN\n",
    "result = qgan.run(quantum_instance)"
   ]
  },
  {
   "cell_type": "code",
   "execution_count": null,
   "id": "a8e53a40",
   "metadata": {},
   "outputs": [],
   "source": [
    "params = qgan.generator.parameter_values"
   ]
  },
  {
   "cell_type": "code",
   "execution_count": null,
   "id": "e48d1af2",
   "metadata": {},
   "outputs": [],
   "source": [
    "params = qgan.generator.parameter_values\n",
    "qc = qgan.generator.construct_circuit(params=params)\n",
    "qc.draw()"
   ]
  },
  {
   "cell_type": "code",
   "execution_count": null,
   "id": "e965cd42",
   "metadata": {
    "scrolled": true
   },
   "outputs": [],
   "source": [
    "qgan.generator.generator_circuit.draw()"
   ]
  },
  {
   "cell_type": "code",
   "execution_count": null,
   "id": "cbca6d03",
   "metadata": {},
   "outputs": [],
   "source": [
    "#Plot the CDF of the resulting distribution against the target distribution, i.e. log-normal\n",
    "log_normal = np.random.lognormal(mean=1, sigma=1, size=100000)\n",
    "log_normal = np.round(log_normal)\n",
    "log_normal = log_normal[log_normal <= bounds[1]]\n",
    "temp = []\n",
    "for i in range(int(bounds[1] + 1)):\n",
    "    temp += [np.sum(log_normal==i)]\n",
    "log_normal = np.array(temp / sum(temp))\n",
    "\n",
    "plt.figure(figsize=(6,5))\n",
    "plt.title('CDF (Cumulative Distribution Function)')\n",
    "samples_g, prob_g = qgan.generator.get_output(qgan.quantum_instance, shots=10000)\n",
    "samples_g = np.array(samples_g)\n",
    "samples_g = samples_g.flatten()\n",
    "num_bins = len(prob_g)\n",
    "plt.bar(samples_g,  np.cumsum(prob_g), color='royalblue', width= 0.8, label='simulation')\n",
    "plt.plot( np.cumsum(log_normal),'-o', label='log-normal', color='deepskyblue', linewidth=4, markersize=12)\n",
    "plt.xticks(np.arange(min(samples_g), max(samples_g)+1, 1.0))\n",
    "plt.grid()\n",
    "plt.xlabel('x')\n",
    "plt.ylabel('p(x)')\n",
    "plt.legend(loc='best')\n",
    "plt.show()"
   ]
  },
  {
   "cell_type": "markdown",
   "id": "aa8d73f9",
   "metadata": {},
   "source": [
    "AE Test"
   ]
  },
  {
   "cell_type": "code",
   "execution_count": null,
   "id": "306c46bf",
   "metadata": {},
   "outputs": [],
   "source": [
    "from src.benchmarks import canonical_ae\n"
   ]
  },
  {
   "cell_type": "code",
   "execution_count": null,
   "id": "5c89d14a",
   "metadata": {},
   "outputs": [],
   "source": [
    "from qiskit import BasicAer\n",
    "from qiskit.utils import QuantumInstance\n",
    "\n",
    "backend = BasicAer.get_backend('statevector_simulator')\n",
    "quantum_instance = QuantumInstance(backend)"
   ]
  },
  {
   "cell_type": "code",
   "execution_count": null,
   "id": "d0be222b",
   "metadata": {},
   "outputs": [],
   "source": [
    "a = canonical_ae.create_circuit(5)\n",
    "a.draw()"
   ]
  },
  {
   "cell_type": "markdown",
   "id": "4e60df76",
   "metadata": {},
   "source": [
    "TSP and vehicle routing Test"
   ]
  },
  {
   "cell_type": "code",
   "execution_count": null,
   "id": "0afd8158",
   "metadata": {},
   "outputs": [],
   "source": [
    "from src.benchmarks.qiskit_application_optimization import travelling_salesman, vehicle_routing"
   ]
  },
  {
   "cell_type": "code",
   "execution_count": null,
   "id": "3fc4cfc9",
   "metadata": {},
   "outputs": [],
   "source": [
    "qc = vehicle_routing.create_circuit(4,1)"
   ]
  },
  {
   "cell_type": "code",
   "execution_count": null,
   "id": "54aeb731",
   "metadata": {},
   "outputs": [],
   "source": [
    "qc1, qp1 = vehicle_routing.create_circuit(4,2)"
   ]
  },
  {
   "cell_type": "code",
   "execution_count": null,
   "id": "dc02ea7e",
   "metadata": {},
   "outputs": [],
   "source": [
    "qc2, qp2  = vehicle_routing.create_circuit(4,3)"
   ]
  },
  {
   "cell_type": "code",
   "execution_count": null,
   "id": "ca90a248",
   "metadata": {},
   "outputs": [],
   "source": [
    "qc3, qp3  = vehicle_routing.create_circuit(4,4)"
   ]
  },
  {
   "cell_type": "code",
   "execution_count": null,
   "id": "09f738a3",
   "metadata": {},
   "outputs": [],
   "source": [
    "from qiskit.quantum_info import Statevector\n",
    "print(Statevector.from_instruction(qc1).equiv(Statevector.from_instruction(qc2)),\n",
    "Statevector.from_instruction(qc1).equiv(Statevector.from_instruction(qc3)),\n",
    "Statevector.from_instruction(qc3).equiv(Statevector.from_instruction(qc2)))"
   ]
  },
  {
   "cell_type": "markdown",
   "id": "07ab2726",
   "metadata": {},
   "source": [
    "QGAN Test"
   ]
  },
  {
   "cell_type": "code",
   "execution_count": null,
   "id": "a3243d32",
   "metadata": {},
   "outputs": [],
   "source": [
    "from src.benchmarks.qiskit_application_ml import qgan"
   ]
  },
  {
   "cell_type": "code",
   "execution_count": null,
   "id": "ccda1827",
   "metadata": {},
   "outputs": [],
   "source": [
    "a = qgan.create_circuit(4)"
   ]
  },
  {
   "cell_type": "code",
   "execution_count": null,
   "id": "b2585afa",
   "metadata": {},
   "outputs": [],
   "source": [
    "a.decompose().draw()"
   ]
  },
  {
   "cell_type": "code",
   "execution_count": null,
   "id": "ab7b191b",
   "metadata": {},
   "outputs": [],
   "source": [
    "qc.draw()"
   ]
  },
  {
   "cell_type": "markdown",
   "id": "fd85ec7e",
   "metadata": {},
   "source": [
    "Qiskit Application Finance Test"
   ]
  },
  {
   "cell_type": "code",
   "execution_count": null,
   "id": "bc9ae0ba",
   "metadata": {},
   "outputs": [],
   "source": [
    "from src.benchmarks.qiskit_application_finance import portfolio_optimization_qaoa, portfolio_optimization_vqe, pricing_eur_call_opt, pricing_eur_put_opt"
   ]
  },
  {
   "cell_type": "code",
   "execution_count": null,
   "id": "da205b5e",
   "metadata": {},
   "outputs": [],
   "source": [
    "b = portfolio_optimization_qaoa.create_circuit(5)"
   ]
  },
  {
   "cell_type": "code",
   "execution_count": null,
   "id": "5a70da6b",
   "metadata": {},
   "outputs": [],
   "source": [
    "b.draw()"
   ]
  },
  {
   "cell_type": "code",
   "execution_count": null,
   "id": "799ceea1",
   "metadata": {},
   "outputs": [],
   "source": [
    "c = portfolio_optimization_vqe.create_circuit(4)\n",
    "c.draw()"
   ]
  },
  {
   "cell_type": "code",
   "execution_count": null,
   "id": "b9c81f95",
   "metadata": {},
   "outputs": [],
   "source": [
    "d = pricing_eur_call_opt.create_circuit(4)\n",
    "d.draw()"
   ]
  },
  {
   "cell_type": "code",
   "execution_count": null,
   "id": "358357e7",
   "metadata": {},
   "outputs": [],
   "source": [
    "e, iae = pricing_eur_put_opt.create_circuit(2)\n",
    "e.draw()"
   ]
  },
  {
   "cell_type": "code",
   "execution_count": null,
   "id": "0540ab4c",
   "metadata": {},
   "outputs": [],
   "source": [
    "test1 = iae.construct_circuit(1)\n",
    "test1.decompose().decompose().decompose().draw()"
   ]
  },
  {
   "cell_type": "code",
   "execution_count": null,
   "id": "775ad88d",
   "metadata": {},
   "outputs": [],
   "source": [
    "test2 = iae.construct_circuit(2)\n",
    "test2.decompose().decompose().decompose().draw()"
   ]
  },
  {
   "cell_type": "code",
   "execution_count": null,
   "id": "c05a417d",
   "metadata": {},
   "outputs": [],
   "source": [
    "test1 == test2"
   ]
  },
  {
   "cell_type": "markdown",
   "id": "b73c47f4",
   "metadata": {},
   "source": [
    "Qiskit Application Nature Test"
   ]
  },
  {
   "cell_type": "code",
   "execution_count": null,
   "id": "edde8b13",
   "metadata": {},
   "outputs": [],
   "source": [
    "## Code from https://qiskit.org/documentation/nature/tutorials/03_ground_state_solvers.html\n",
    "\n",
    "from qiskit_nature.drivers import Molecule\n",
    "from qiskit_nature.drivers.second_quantization import (\n",
    "    ElectronicStructureDriverType,\n",
    "    ElectronicStructureMoleculeDriver,\n",
    ")\n",
    "from qiskit_nature.problems.second_quantization import ElectronicStructureProblem\n",
    "from qiskit_nature.converters.second_quantization import QubitConverter\n",
    "from qiskit_nature.mappers.second_quantization import JordanWignerMapper\n",
    "\n",
    "from qiskit import Aer\n",
    "from qiskit.utils import QuantumInstance\n",
    "from qiskit_nature.algorithms import VQEUCCFactory\n",
    "from qiskit_nature.algorithms import GroundStateEigensolver\n",
    "\n",
    "molecule = Molecule(\n",
    "    geometry=[[\"H\", [0.0, 0.0, 0.0]], [\"H\", [0.0, 0.0, 0.735]]], charge=0, multiplicity=1\n",
    ")\n",
    "driver = ElectronicStructureMoleculeDriver(\n",
    "    molecule, basis=\"sto3g\", driver_type=ElectronicStructureDriverType.PYSCF\n",
    ")\n",
    "\n",
    "es_problem = ElectronicStructureProblem(driver)\n",
    "qubit_converter = QubitConverter(JordanWignerMapper())\n",
    "\n",
    "quantum_instance = QuantumInstance(backend=Aer.get_backend(\"aer_simulator_statevector\"))\n",
    "vqe_solver = VQEUCCFactory(quantum_instance)\n",
    "\n",
    "\n",
    "calc = GroundStateEigensolver(qubit_converter, vqe_solver)\n",
    "res = calc.solve(es_problem)\n",
    "\n",
    "print(res)"
   ]
  },
  {
   "cell_type": "code",
   "execution_count": null,
   "id": "d49772ee",
   "metadata": {},
   "outputs": [],
   "source": [
    "vqe_solver.get_solver(es_problem, qubit_converter).get_optimal_circuit()"
   ]
  },
  {
   "cell_type": "code",
   "execution_count": null,
   "id": "0c92aa60",
   "metadata": {},
   "outputs": [],
   "source": []
  },
  {
   "cell_type": "code",
   "execution_count": null,
   "id": "ca9cdfb2",
   "metadata": {},
   "outputs": [],
   "source": [
    "from qiskit_nature.drivers import UnitsType, Molecule\n",
    "from qiskit_nature.drivers.second_quantization import (\n",
    "    ElectronicStructureDriverType,\n",
    "    ElectronicStructureMoleculeDriver,\n",
    ")\n",
    "from qiskit_nature.problems.second_quantization import ElectronicStructureProblem\n",
    "from qiskit_nature.converters.second_quantization import QubitConverter\n",
    "from qiskit_nature.mappers.second_quantization import JordanWignerMapper\n",
    "\n",
    "from qiskit import Aer\n",
    "from qiskit.utils import QuantumInstance\n",
    "from qiskit_nature.algorithms import GroundStateEigensolver, QEOM, VQEUCCFactory\n",
    "from qiskit_nature.algorithms import ExcitedStatesEigensolver\n",
    "\n",
    "molecule = Molecule(\n",
    "    geometry=[[\"H\", [0.0, 0.0, 0.0]], [\"H\", [0.0, 0.0, 0.735]]], charge=0, multiplicity=1\n",
    ")\n",
    "driver = ElectronicStructureMoleculeDriver(\n",
    "    molecule, basis=\"sto3g\", driver_type=ElectronicStructureDriverType.PYSCF\n",
    ")\n",
    "\n",
    "es_problem = ElectronicStructureProblem(driver)\n",
    "qubit_converter = QubitConverter(JordanWignerMapper())\n",
    "\n",
    "\n",
    "# This first part sets the ground state solver\n",
    "# see more about this part in the ground state calculation tutorial\n",
    "quantum_instance = QuantumInstance(Aer.get_backend(\"aer_simulator_statevector\"))\n",
    "solver = VQEUCCFactory(quantum_instance)\n",
    "gsc = GroundStateEigensolver(qubit_converter, solver)\n",
    "\n",
    "# The qEOM algorithm is simply instantiated with the chosen ground state solver\n",
    "qeom_excited_states_calculation = QEOM(gsc, \"sd\")\n",
    "\n",
    "\n",
    "qeom_results = qeom_excited_states_calculation.solve(es_problem)"
   ]
  },
  {
   "cell_type": "markdown",
   "id": "81df22b6",
   "metadata": {},
   "source": [
    "Random debugging"
   ]
  },
  {
   "cell_type": "code",
   "execution_count": null,
   "id": "5cbd25d4",
   "metadata": {},
   "outputs": [],
   "source": [
    "qc = grover.create_circuit(5)\n",
    "qc.decompose().draw()"
   ]
  },
  {
   "cell_type": "code",
   "execution_count": null,
   "id": "d067fa33",
   "metadata": {},
   "outputs": [],
   "source": [
    "qc2 = transpile(qc, optimization_level=2)\n",
    "qc2.decompose().draw()"
   ]
  },
  {
   "cell_type": "code",
   "execution_count": null,
   "id": "fcf031be",
   "metadata": {},
   "outputs": [],
   "source": [
    "qc==qc2"
   ]
  },
  {
   "cell_type": "code",
   "execution_count": null,
   "id": "911cbd26",
   "metadata": {},
   "outputs": [],
   "source": [
    "qc = QuantumCircuit(2)\n",
    "qc.x(0)\n",
    "qc.x(0)\n",
    "qc.h(0)\n",
    "qc.h(1)\n",
    "qc.draw()"
   ]
  },
  {
   "cell_type": "code",
   "execution_count": null,
   "id": "2b1e4e9e",
   "metadata": {},
   "outputs": [],
   "source": [
    "transpile(qc, optimization_level=1).draw()"
   ]
  },
  {
   "cell_type": "code",
   "execution_count": null,
   "id": "ffcf2e58",
   "metadata": {},
   "outputs": [],
   "source": [
    "# Creating the circuit on Algorithmic Description Layer\n",
    "qc = grover.create_circuit(11)\n",
    "\n",
    "# Creating the circuit on target-independent Description Layer\n",
    "target_independent = transpile(qc, optimization_level=2)\n"
   ]
  },
  {
   "cell_type": "code",
   "execution_count": null,
   "id": "b4fa39fb",
   "metadata": {},
   "outputs": [],
   "source": [
    "target_independent.draw()"
   ]
  },
  {
   "cell_type": "code",
   "execution_count": 9,
   "id": "2c23fe66",
   "metadata": {},
   "outputs": [],
   "source": [
    "filename = \"qpy_output/PO_VQE_t-indep_11.qpy\"\n",
    "from qiskit.circuit.qpy_serialization import load"
   ]
  },
  {
   "cell_type": "code",
   "execution_count": 10,
   "id": "9e386cf3",
   "metadata": {},
   "outputs": [
    {
     "ename": "AttributeError",
     "evalue": "'str' object has no attribute 'read'",
     "output_type": "error",
     "traceback": [
      "\u001b[1;31m---------------------------------------------------------------------------\u001b[0m",
      "\u001b[1;31mAttributeError\u001b[0m                            Traceback (most recent call last)",
      "\u001b[1;32m~\\AppData\\Local\\Temp/ipykernel_2800/729275718.py\u001b[0m in \u001b[0;36m<module>\u001b[1;34m\u001b[0m\n\u001b[1;32m----> 1\u001b[1;33m \u001b[0mqc\u001b[0m \u001b[1;33m=\u001b[0m \u001b[0mload\u001b[0m\u001b[1;33m(\u001b[0m\u001b[0mfilename\u001b[0m\u001b[1;33m)\u001b[0m\u001b[1;33m\u001b[0m\u001b[1;33m\u001b[0m\u001b[0m\n\u001b[0m",
      "\u001b[1;32m~\\anaconda3\\envs\\qsharp-env\\lib\\site-packages\\qiskit\\circuit\\qpy_serialization.py\u001b[0m in \u001b[0;36mload\u001b[1;34m(file_obj)\u001b[0m\n\u001b[0;32m   1024\u001b[0m         \u001b[0mQiskitError\u001b[0m\u001b[1;33m:\u001b[0m \u001b[1;32mif\u001b[0m\u001b[0;31m \u001b[0m\u001b[0;31m`\u001b[0m\u001b[0;31m`\u001b[0m\u001b[0mfile_obj\u001b[0m\u001b[0;31m`\u001b[0m\u001b[0;31m`\u001b[0m \u001b[1;32mis\u001b[0m \u001b[1;32mnot\u001b[0m \u001b[0ma\u001b[0m \u001b[0mvalid\u001b[0m \u001b[0mQPY\u001b[0m \u001b[0mfile\u001b[0m\u001b[1;33m\u001b[0m\u001b[1;33m\u001b[0m\u001b[0m\n\u001b[0;32m   1025\u001b[0m     \"\"\"\n\u001b[1;32m-> 1026\u001b[1;33m     \u001b[0mfile_header_raw\u001b[0m \u001b[1;33m=\u001b[0m \u001b[0mfile_obj\u001b[0m\u001b[1;33m.\u001b[0m\u001b[0mread\u001b[0m\u001b[1;33m(\u001b[0m\u001b[0mFILE_HEADER_SIZE\u001b[0m\u001b[1;33m)\u001b[0m\u001b[1;33m\u001b[0m\u001b[1;33m\u001b[0m\u001b[0m\n\u001b[0m\u001b[0;32m   1027\u001b[0m     \u001b[0mfile_header\u001b[0m \u001b[1;33m=\u001b[0m \u001b[0mstruct\u001b[0m\u001b[1;33m.\u001b[0m\u001b[0munpack\u001b[0m\u001b[1;33m(\u001b[0m\u001b[0mFILE_HEADER_PACK\u001b[0m\u001b[1;33m,\u001b[0m \u001b[0mfile_header_raw\u001b[0m\u001b[1;33m)\u001b[0m\u001b[1;33m\u001b[0m\u001b[1;33m\u001b[0m\u001b[0m\n\u001b[0;32m   1028\u001b[0m     \u001b[1;32mif\u001b[0m \u001b[0mfile_header\u001b[0m\u001b[1;33m[\u001b[0m\u001b[1;36m0\u001b[0m\u001b[1;33m]\u001b[0m\u001b[1;33m.\u001b[0m\u001b[0mdecode\u001b[0m\u001b[1;33m(\u001b[0m\u001b[1;34m\"utf8\"\u001b[0m\u001b[1;33m)\u001b[0m \u001b[1;33m!=\u001b[0m \u001b[1;34m\"QISKIT\"\u001b[0m\u001b[1;33m:\u001b[0m\u001b[1;33m\u001b[0m\u001b[1;33m\u001b[0m\u001b[0m\n",
      "\u001b[1;31mAttributeError\u001b[0m: 'str' object has no attribute 'read'"
     ]
    }
   ],
   "source": [
    "qc = load(filename)"
   ]
  },
  {
   "cell_type": "code",
   "execution_count": null,
   "id": "22423630",
   "metadata": {},
   "outputs": [],
   "source": [
    "with open('bell.qpy', 'rb') as fd:\n",
    "    new_qc = qpy_serialization.load(fd)[0]"
   ]
  }
 ],
 "metadata": {
  "kernelspec": {
   "display_name": "Python 3 (ipykernel)",
   "language": "python",
   "name": "python3"
  },
  "language_info": {
   "codemirror_mode": {
    "name": "ipython",
    "version": 3
   },
   "file_extension": ".py",
   "mimetype": "text/x-python",
   "name": "python",
   "nbconvert_exporter": "python",
   "pygments_lexer": "ipython3",
   "version": "3.9.7"
  }
 },
 "nbformat": 4,
 "nbformat_minor": 5
}
