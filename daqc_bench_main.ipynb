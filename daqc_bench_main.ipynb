{
 "cells": [
  {
   "cell_type": "code",
   "execution_count": null,
   "id": "beaa99e7",
   "metadata": {},
   "outputs": [],
   "source": [
    "from qiskit import QuantumCircuit, QuantumRegister, ClassicalRegister, AncillaRegister, IBMQ, Aer, __qiskit_version__\n",
    "from qiskit.circuit.library import QFT, GraphState, GroverOperator\n",
    "from qiskit.qasm import pi\n",
    "\n",
    "import numpy as np\n",
    "import matplotlib.pyplot as plt\n",
    "\n",
    "from src.utils import *\n",
    "from src.benchmarks import grover, qaoa, ghz, qft, qftentangled, shor, wstate, qpeinexact, qpeexact, graphstate, vqe, deutschjozsa, hhl, ae, qwalk"
   ]
  },
  {
   "cell_type": "code",
   "execution_count": null,
   "id": "b44a65ca",
   "metadata": {},
   "outputs": [],
   "source": [
    "provider = IBMQ.load_account()\n",
    "backend = provider.backend.ibmq_santiago\n",
    "c_map = backend.configuration().coupling_map\n",
    "\n",
    "#from qiskit.test.mock import FakeMontreal\n",
    "#fake_backend = FakeMontreal()\n",
    "#c_map = fake_backend.configuration().coupling_map\n",
    "\n",
    "max_n_arch = max(max(c_map))"
   ]
  },
  {
   "cell_type": "code",
   "execution_count": null,
   "id": "0c626676",
   "metadata": {},
   "outputs": [],
   "source": [
    "ibm_native_gates = backend.configuration().basis_gates\n",
    "rigetti_native_gates = ['rx','rz','cz']"
   ]
  },
  {
   "cell_type": "code",
   "execution_count": null,
   "id": "e5a7f0b4",
   "metadata": {},
   "outputs": [],
   "source": [
    "benchmarks = [graphstate, grover, qaoa, ghz, qft, wstate, qpeinexact, qpeexact, vqe, deutschjozsa, hhl, shor, ae, qwalk]"
   ]
  },
  {
   "cell_type": "code",
   "execution_count": null,
   "id": "682cf615",
   "metadata": {},
   "outputs": [],
   "source": [
    "n_min = 3\n",
    "n_max = 6\n",
    "opt_level = 2\n",
    "num_qubits_test = 5\n",
    "save_hist = True\n",
    "simulator = Aer.get_backend('qasm_simulator')\n",
    "gate_set_name = \"ibm\""
   ]
  },
  {
   "cell_type": "code",
   "execution_count": null,
   "id": "39cec9c1",
   "metadata": {},
   "outputs": [],
   "source": [
    "characteristics = []\n",
    "\n",
    "if (gate_set_name == \"ibm\"):\n",
    "    basis_gates = ibm_native_gates\n",
    "elif (gate_set_name == \"rigetti\"):\n",
    "    basis_gates = rigetti_native_gates\n",
    "else:\n",
    "    raise ValueError(\"Gate Set Error\")\n",
    "\n",
    "for benchmark in benchmarks:\n",
    "    if benchmark == shor or benchmark == (hhl):\n",
    "        continue\n",
    "    for n in range(n_min, n_max):  \n",
    "        qc = benchmark.create_circuit(n)\n",
    "        \n",
    "        filename = qc.name + \"_algorithm_\" + str(n) \n",
    "        \n",
    "        serialize_qc(qc, n, filename)          \n",
    "        save_circ(qc, filename)\n",
    "        \n",
    "        compiled_without_architecure = get_compiled_circuit(qc = qc, opt_level=opt_level, basis_gates=basis_gates)\n",
    "        filename_transpiled = qc.name + \"_transpiled_\" + gate_set_name + \"_opt\" + str(opt_level) + \"_\"+ str(n) \n",
    "        save_as_qasm(compiled_without_architecure, n, filename_transpiled , basis_gates, opt_level)       \n",
    "        \n",
    "        depth = compiled_without_architecure.depth()\n",
    "        \n",
    "        characteristics.append([filename_transpiled, n, depth]) \n",
    "        save_circ(compiled_without_architecure, filename_transpiled)   \n",
    "        \n",
    "        if save_hist:\n",
    "            sim_and_print_hist(compiled_without_architecure, simulator, filename_transpiled)\n",
    "        \n",
    "        if (len(compiled_without_architecure.qubits) < max_n_arch):\n",
    "            compiled_with_architecture = get_compiled_circuit(qc = qc, opt_level=opt_level, \n",
    "                                                              basis_gates=basis_gates, c_map=c_map)\n",
    "            filename_mapped = qc.name + \"_mapped_\" + gate_set_name + \"_opt\" + str(opt_level) + \"_\"+ str(n) \n",
    "            save_as_qasm(compiled_with_architecture, n, filename_mapped, basis_gates, \n",
    "                         opt_level, True, c_map, backend.name() if backend.name() else \"\")\n",
    "            \n",
    "            depth = compiled_with_architecture.depth()\n",
    "            characteristics.append([filename_mapped, n, depth])\n",
    "            save_circ(compiled_with_architecture, filename_mapped)\n",
    "\n",
    "            if save_hist:\n",
    "                sim_and_print_hist(compiled_with_architecture, simulator, filename_mapped)\n",
    "                \n",
    "                \n",
    "## !Todo: both shor and hhl scripts needs to be adjusted to chances to this cell\n",
    "#create_shor_benchmarks()\n",
    "#create_hhl_benchmarks()"
   ]
  },
  {
   "cell_type": "code",
   "execution_count": null,
   "id": "7d428e10",
   "metadata": {
    "scrolled": true
   },
   "outputs": [],
   "source": [
    "characteristics = np.array(characteristics)\n",
    "plt.scatter(x=characteristics[:,1].astype(int), y=characteristics[:,2].astype(int))\n",
    "plt.yscale('log')\n",
    "plt.title('Depth and Width of generated Benchmarks')\n",
    "plt.xlabel('# of Qubits')\n",
    "plt.ylabel('Circuit Depth');"
   ]
  },
  {
   "cell_type": "code",
   "execution_count": null,
   "id": "e673c80d",
   "metadata": {},
   "outputs": [],
   "source": [
    "def create_shor_benchmarks():\n",
    "    small = [15,4] #18 qubits\n",
    "    medium = [821, 4] #42 qubits\n",
    "    large = [11777, 4] #58 qubits\n",
    "    xlarge = [201209, 4] # 74 qubits\n",
    "    benchmark_list = [small]#, medium, large, xlarge]\n",
    "    for n, a in benchmark_list:         \n",
    "        qc = shor.create_circuit(n,a)\n",
    "        num_qubits = len(qc.qubits)\n",
    "        \n",
    "        serialize_qc(qc, num_qubits) \n",
    "        \n",
    "        filename = qc.name + str(n) \n",
    "        save_circ(qc, filename)\n",
    "        \n",
    "        compiled_without_architecure = get_compiled_circuit(qc = qc, opt_level=opt_level, basis_gates=basis_gates)\n",
    "        num_qubits = len(compiled_without_architecure.qubits)\n",
    "        save_as_qasm(compiled_without_architecure, num_qubits, basis_gates) \n",
    "        \n",
    "        filename = qc.name + \"_transpiled_\" + str(num_qubits)\n",
    "        depth = compiled_without_architecure.depth()        \n",
    "        characteristics.append([filename, num_qubits, depth])\n",
    "        save_circ(compiled_without_architecure, filename)   \n",
    "        \n",
    "        if save_hist:\n",
    "            sim_and_print_hist(compiled_without_architecure, simulator, filename)\n",
    "        \n",
    "        if (num_qubits < max_n_arch):\n",
    "            compiled_with_architecture = get_compiled_circuit(qc = qc, opt_level=opt_level,\n",
    "                                                              basis_gates=basis_gates, c_map=c_map)\n",
    "            save_as_qasm(compiled_with_architecture, num_qubits, basis_gates, True, c_map, \n",
    "                         backend.name() if backend.name() else \"\")\n",
    "            \n",
    "            filename = qc.name + \"_transpiled_mapped_\" + str(num_qubits)\n",
    "            depth = compiled_with_architecture.depth()\n",
    "            characteristics.append([filename, num_qubits, depth])\n",
    "            save_circ(compiled_with_architecture, filename)\n",
    "            \n",
    "            if save_hist:\n",
    "                sim_and_print_hist(compiled_with_architecture, simulator, filename)"
   ]
  },
  {
   "cell_type": "code",
   "execution_count": null,
   "id": "3df29386",
   "metadata": {},
   "outputs": [],
   "source": [
    "def create_hhl_benchmarks():\n",
    "    # n is not the number of qubits in this case\n",
    "    for n in range(1,4):         \n",
    "        qc = hhl.create_circuit(n)\n",
    "        \n",
    "        num_qubits = len(qc.qubits)\n",
    "        \n",
    "        serialize_qc(qc, num_qubits) \n",
    "        compiled_without_architecure = get_compiled_circuit(qc = qc, opt_level=opt_level, basis_gates=basis_gates)\n",
    "        num_qubits = len(compiled_without_architecure.qubits)\n",
    "        save_as_qasm(compiled_without_architecure, num_qubits)        \n",
    "        \n",
    "        filename = qc.name + \"_transpiled_\" + str(num_qubits)\n",
    "        depth = compiled_without_architecure.depth()        \n",
    "        characteristics.append([filename, num_qubits, depth])\n",
    "        \n",
    "        if print_hist:\n",
    "            sim_and_print_hist(compiled_without_architecure, simulator, filename)\n",
    "        \n",
    "        if (num_qubits < max_n_arch):\n",
    "            compiled_with_architecture = get_compiled_circuit(qc = qc, opt_level=opt_level, \n",
    "                                                              basis_gates=basis_gates, c_map=c_map)\n",
    "            save_as_qasm(compiled_with_architecture, num_qubits, True)\n",
    "            \n",
    "            filename = qc.name + \"_transpiled_mapped_\" + str(num_qubits)\n",
    "            depth = compiled_with_architecture.depth()\n",
    "            characteristics.append([filename, num_qubits, depth])\n",
    "            \n",
    "            if print_hist:\n",
    "                sim_and_print_hist(compiled_with_architecture, simulator, filename)"
   ]
  },
  {
   "cell_type": "markdown",
   "id": "e50f9ad1",
   "metadata": {},
   "source": [
    "Grover Test"
   ]
  },
  {
   "cell_type": "code",
   "execution_count": null,
   "id": "693d26bf",
   "metadata": {
    "scrolled": true
   },
   "outputs": [],
   "source": [
    "a = grover.create_circuit(num_qubits_test)\n",
    "b = get_compiled_circuit(a, opt_level=2, basis_gates=basis_gates)\n",
    "save_as_qasm(b, num_qubits_test, basis_gates)\n",
    "c = get_compiled_circuit(b, opt_level=2, basis_gates=basis_gates, c_map=c_map)\n",
    "save_as_qasm(c, num_qubits_test, basis_gates, True, c_map, backend.name() if backend.name() else \"\")"
   ]
  },
  {
   "cell_type": "markdown",
   "id": "e22aa20a",
   "metadata": {},
   "source": [
    "QAOA Test"
   ]
  },
  {
   "cell_type": "code",
   "execution_count": null,
   "id": "4519c621",
   "metadata": {},
   "outputs": [],
   "source": [
    "a = qaoa.create_circuit(num_qubits_test)\n",
    "b = get_compiled_circuit(a, opt_level=2, basis_gates=basis_gates)\n",
    "save_as_qasm(b, num_qubits_test, basis_gates)\n",
    "c = get_compiled_circuit(b, opt_level=2, basis_gates=basis_gates, c_map=c_map)\n",
    "save_as_qasm(c, num_qubits_test, basis_gates, True, c_map, backend.name() if backend.name() else \"\")"
   ]
  },
  {
   "cell_type": "markdown",
   "id": "9bfe5941",
   "metadata": {},
   "source": [
    "GHZ Test"
   ]
  },
  {
   "cell_type": "code",
   "execution_count": null,
   "id": "1223017a",
   "metadata": {},
   "outputs": [],
   "source": [
    "a = ghz.create_circuit(num_qubits_test)\n",
    "b = get_compiled_circuit(a, opt_level=2, basis_gates=basis_gates)\n",
    "save_as_qasm(b, num_qubits_test, basis_gates)\n",
    "c = get_compiled_circuit(b, opt_level=2, basis_gates=basis_gates, c_map=c_map)\n",
    "save_as_qasm(c, num_qubits_test, basis_gates, True, c_map, backend.name() if backend.name() else \"\")"
   ]
  },
  {
   "cell_type": "markdown",
   "id": "abbdc9b6",
   "metadata": {},
   "source": [
    "QFT Test"
   ]
  },
  {
   "cell_type": "code",
   "execution_count": null,
   "id": "dc3a8d76",
   "metadata": {},
   "outputs": [],
   "source": [
    "a = qft.create_circuit(num_qubits_test)\n",
    "b = get_compiled_circuit(a, opt_level=2, basis_gates=basis_gates)\n",
    "save_as_qasm(b, num_qubits_test, basis_gates)\n",
    "c = get_compiled_circuit(b, opt_level=2, basis_gates=basis_gates, c_map=c_map)\n",
    "save_as_qasm(c, num_qubits_test, basis_gates, True, c_map, backend.name() if backend.name() else \"\")"
   ]
  },
  {
   "cell_type": "markdown",
   "id": "d9f9b65e",
   "metadata": {},
   "source": [
    "QFT Entangled Test"
   ]
  },
  {
   "cell_type": "code",
   "execution_count": null,
   "id": "90dad9c3",
   "metadata": {},
   "outputs": [],
   "source": [
    "a = qft_entangled.create_circuit(num_qubits_test)\n",
    "b = get_compiled_circuit(a, opt_level=2, basis_gates=basis_gates)\n",
    "save_as_qasm(b, num_qubits_test, basis_gates)\n",
    "c = get_compiled_circuit(b, opt_level=2, basis_gates=basis_gates, c_map=c_map)\n",
    "save_as_qasm(c, num_qubits_test, basis_gates, True, c_map, backend.name() if backend.name() else \"\")"
   ]
  },
  {
   "cell_type": "markdown",
   "id": "b6fbfd51",
   "metadata": {},
   "source": [
    "W-State Test"
   ]
  },
  {
   "cell_type": "code",
   "execution_count": null,
   "id": "28c0fda2",
   "metadata": {},
   "outputs": [],
   "source": [
    "a = w_state.create_circuit(num_qubits_test)\n",
    "b = get_compiled_circuit(a, opt_level=2, basis_gates=basis_gates)\n",
    "save_as_qasm(b, num_qubits_test, basis_gates)\n",
    "c = get_compiled_circuit(b, opt_level=2, basis_gates=basis_gates, c_map=c_map)\n",
    "save_as_qasm(c, num_qubits_test, basis_gates, True, c_map, backend.name() if backend.name() else \"\")"
   ]
  },
  {
   "cell_type": "markdown",
   "id": "63e5e278",
   "metadata": {},
   "source": [
    "QPE Exact and QPE Inexact Test"
   ]
  },
  {
   "cell_type": "code",
   "execution_count": null,
   "id": "0912cc93",
   "metadata": {},
   "outputs": [],
   "source": [
    "a = qpe_exact.create_circuit(num_qubits_test)\n",
    "b = get_compiled_circuit(a, opt_level=2, basis_gates=basis_gates)\n",
    "save_as_qasm(b, num_qubits_test, basis_gates)\n",
    "c = get_compiled_circuit(b, opt_level=2, basis_gates=basis_gates, c_map=c_map)\n",
    "save_as_qasm(c, num_qubits_test, basis_gates, True, c_map, backend.name() if backend.name() else \"\")\n",
    "\n",
    "a = qpe_inexact.create_circuit(num_qubits_test)\n",
    "b = get_compiled_circuit(a, opt_level=2, basis_gates=basis_gates)\n",
    "save_as_qasm(b, num_qubits_test, basis_gates)\n",
    "c = get_compiled_circuit(b, opt_level=2, basis_gates=basis_gates, c_map=c_map)\n",
    "save_as_qasm(c, num_qubits_test, basis_gates, True, c_map, backend.name() if backend.name() else \"\")"
   ]
  },
  {
   "cell_type": "markdown",
   "id": "112cd7a1",
   "metadata": {},
   "source": [
    "Graph State Test"
   ]
  },
  {
   "cell_type": "code",
   "execution_count": null,
   "id": "45c821f1",
   "metadata": {},
   "outputs": [],
   "source": [
    "a = graph_state.create_circuit(num_qubits_test)\n",
    "b = get_compiled_circuit(a, opt_level=2, basis_gates=basis_gates)\n",
    "save_as_qasm(b, num_qubits_test, basis_gates)\n",
    "c = get_compiled_circuit(b, opt_level=2, basis_gates=basis_gates, c_map=c_map)\n",
    "save_as_qasm(c, num_qubits_test, basis_gates, True, c_map, backend.name() if backend.name() else \"\")\n"
   ]
  },
  {
   "cell_type": "markdown",
   "id": "d2eab757",
   "metadata": {},
   "source": [
    "Shor Test"
   ]
  },
  {
   "cell_type": "code",
   "execution_count": null,
   "id": "e63157be",
   "metadata": {},
   "outputs": [],
   "source": [
    "a = shor.create_circuit(15)\n",
    "b = get_compiled_circuit(a, opt_level=2, basis_gates=basis_gates)\n",
    "save_as_qasm(b, None, basis_gates)\n",
    "#c = get_compiled_circuit(b, opt_level=2, c_map=c_map)\n",
    "#save_as_qasm(c, None, True)"
   ]
  },
  {
   "cell_type": "markdown",
   "id": "13f5ad08",
   "metadata": {},
   "source": [
    "AE Test"
   ]
  },
  {
   "cell_type": "code",
   "execution_count": null,
   "id": "ca6920f6",
   "metadata": {},
   "outputs": [],
   "source": [
    "a = ae.create_circuit(num_qubits_test)\n",
    "b = get_compiled_circuit(a, opt_level=2, basis_gates=basis_gates)\n",
    "save_as_qasm(b, num_qubits_test, basis_gates)\n",
    "c = get_compiled_circuit(b, opt_level=2, basis_gates=basis_gates, c_map=c_map)\n",
    "save_as_qasm(c, num_qubits_test, basis_gates, True, c_map, backend.name() if backend.name() else \"\")"
   ]
  },
  {
   "cell_type": "markdown",
   "id": "a474df0e",
   "metadata": {},
   "source": [
    "DJ Test"
   ]
  },
  {
   "cell_type": "code",
   "execution_count": null,
   "id": "cdd038af",
   "metadata": {},
   "outputs": [],
   "source": [
    "num_qubits_test = 5\n",
    "a = deutsch_jozsa.create_circuit(num_qubits_test)\n",
    "b = get_compiled_circuit(a, opt_level=2, basis_gates=basis_gates)\n",
    "save_as_qasm(b, num_qubits_test, basis_gates)\n",
    "c = get_compiled_circuit(b, opt_level=2, basis_gates=basis_gates, c_map=c_map)\n",
    "save_as_qasm(c, num_qubits_test, basis_gates, True, c_map, backend.name() if backend.name() else \"\")"
   ]
  },
  {
   "cell_type": "markdown",
   "id": "9b10a478",
   "metadata": {},
   "source": [
    "HHL Test"
   ]
  },
  {
   "cell_type": "code",
   "execution_count": null,
   "id": "d26c7bf6",
   "metadata": {
    "scrolled": false
   },
   "outputs": [],
   "source": [
    "import src.benchmarks.hhl\n",
    "num_qubits_test = 3\n",
    "a = hhl.create_circuit(num_qubits_test)\n",
    "b = get_compiled_circuit(a, opt_level=2, basis_gates=basis_gates)\n",
    "save_as_qasm(b, num_qubits_test, basis_gates)\n",
    "c = get_compiled_circuit(b, opt_level=2, basis_gates=basis_gates, c_map=c_map)\n",
    "save_as_qasm(c, num_qubits_test, basis_gates, True, c_map, backend.name() if backend.name() else \"\")"
   ]
  },
  {
   "cell_type": "markdown",
   "id": "5afb01ad",
   "metadata": {},
   "source": [
    "Example Generation for a figure in the paper"
   ]
  },
  {
   "cell_type": "code",
   "execution_count": null,
   "id": "284ec186",
   "metadata": {},
   "outputs": [],
   "source": [
    "#from qiskit.circuit.library import RealAmplitudes\n",
    "#from qiskit.visualization import plot_histogram, plot_gate_map, plot_circuit_layout\n",
    "#plot_gate_map(backend).savefig(\"layout_santiago.png\")\n",
    "#ansatz = RealAmplitudes(3, reps=1)\n",
    "#qc = ansatz.decompose()\n",
    "#qc.draw(output=\"mpl\", filename=\"paper_example_1_1\")\n",
    "#b = get_compiled_circuit(qc, opt_level=0, basis_gates=basis_gates)\n",
    "#b.draw(output=\"mpl\", filename=\"paper_example_1_2\")\n",
    "#c = get_compiled_circuit(b, opt_level=0, basis_gates=basis_gates, c_map=c_map)\n",
    "#c.draw(output=\"mpl\", filename=\"paper_example_1_3\")"
   ]
  },
  {
   "cell_type": "markdown",
   "id": "a250eb12",
   "metadata": {},
   "source": [
    "Qiskit Finance Test"
   ]
  },
  {
   "cell_type": "code",
   "execution_count": null,
   "id": "08af7622",
   "metadata": {
    "scrolled": true
   },
   "outputs": [],
   "source": [
    "\n",
    "from src.benchmarks.qiskit_application_finance import portfolio_optimization_qaoa, portfolio_optimization_vqe, pricing_eur_call_opt, pricing_eur_put_opt\n",
    "num_qubits_test = 5\n",
    "a = pricing_eur_put_opt.create_circuit(num_qubits_test)\n",
    "b = get_compiled_circuit(a, opt_level=2, basis_gates=basis_gates)\n",
    "save_as_qasm(b, num_qubits_test, basis_gates)\n",
    "c = get_compiled_circuit(b, opt_level=2, basis_gates=basis_gates, c_map=c_map)\n",
    "save_as_qasm(c, num_qubits_test, basis_gates, True, c_map, backend.name() if backend.name() else \"\")"
   ]
  },
  {
   "cell_type": "markdown",
   "id": "8cc96b30",
   "metadata": {},
   "source": [
    "Qiskit Optimization Test"
   ]
  },
  {
   "cell_type": "code",
   "execution_count": null,
   "id": "1dd73b28",
   "metadata": {},
   "outputs": [],
   "source": [
    "\n",
    "from src.benchmarks.qiskit_application_optimization import vehicle_routing\n",
    "num_qubits_test = 5\n",
    "a = vehicle_routing.create_circuit(3,3)\n",
    "#b = get_compiled_circuit(a, opt_level=2)\n",
    "#save_as_qasm(b, num_qubits_test)\n",
    "#c = get_compiled_circuit(b, opt_level=2, c_map=c_map)\n",
    "#save_as_qasm(c, num_qubits_test, True)"
   ]
  },
  {
   "cell_type": "markdown",
   "id": "f865ea59",
   "metadata": {},
   "source": [
    "Qiskit Machine Learning Test"
   ]
  },
  {
   "cell_type": "code",
   "execution_count": null,
   "id": "54900741",
   "metadata": {},
   "outputs": [],
   "source": [
    "import numpy as np\n",
    "seed = 71\n",
    "np.random.seed = seed\n",
    "\n",
    "import matplotlib.pyplot as plt\n",
    "%matplotlib inline\n",
    "\n",
    "from qiskit import QuantumRegister, QuantumCircuit, BasicAer\n",
    "from qiskit.circuit.library import TwoLocal, UniformDistribution\n",
    "\n",
    "from qiskit.utils import QuantumInstance, algorithm_globals\n",
    "from qiskit_machine_learning.algorithms import NumPyDiscriminator, QGAN\n",
    "\n",
    "algorithm_globals.random_seed = seed\n",
    "\n",
    "# Number training data samples\n",
    "N = 1000\n",
    "\n",
    "# Load data samples from log-normal distribution with mean=1 and standard deviation=1\n",
    "mu = 1\n",
    "sigma = 1\n",
    "real_data = np.random.lognormal(mean=mu, sigma=sigma, size=N)\n",
    "\n",
    "# Set the data resolution\n",
    "# Set upper and lower data values as list of k min/max data values [[min_0,max_0],...,[min_k-1,max_k-1]]\n",
    "bounds = np.array([0., 3.])\n",
    "# Set number of qubits per data dimension as list of k qubit values[#q_0,...,#q_k-1]\n",
    "num_qubits = [3]\n",
    "k = len(num_qubits)"
   ]
  },
  {
   "cell_type": "code",
   "execution_count": null,
   "id": "3b48c545",
   "metadata": {},
   "outputs": [],
   "source": [
    "# Set number of training epochs\n",
    "# Note: The algorithm's runtime can be shortened by reducing the number of training epochs.\n",
    "num_epochs = 10\n",
    "# Batch size\n",
    "batch_size = 100\n",
    "\n",
    "# Initialize qGAN\n",
    "qgan = QGAN(real_data, bounds, num_qubits, batch_size, num_epochs, snapshot_dir=None)\n",
    "qgan.seed = 1\n",
    "# Set quantum instance to run the quantum generator\n",
    "quantum_instance = QuantumInstance(\n",
    "    backend=BasicAer.get_backend(\"statevector_simulator\"), seed_transpiler=seed, seed_simulator=seed\n",
    ")\n",
    "\n",
    "# Set entangler map\n",
    "#entangler_map = [[0, 1]]\n",
    "\n",
    "\n",
    "# Set an initial state for the generator circuit\n",
    "init_dist = UniformDistribution(sum(num_qubits))\n",
    "\n",
    "# Set the ansatz circuit\n",
    "ansatz = TwoLocal(int(np.sum(num_qubits)), \"ry\", \"cz\",  reps=1) #entanglement=entangler_map,\n",
    "\n",
    "# Set generator's initial parameters - in order to reduce the training time and hence the\n",
    "# total running time for this notebook\n",
    "#init_params = [3.0, 1.0, 0.6, 1.6]\n",
    "\n",
    "# You can increase the number of training epochs and use random initial parameters.\n",
    "init_params = np.random.rand(ansatz.num_parameters_settable) * 2 * np.pi\n",
    "\n",
    "# Set generator circuit by adding the initial distribution infront of the ansatz\n",
    "g_circuit = ansatz.compose(init_dist, front=True)\n",
    "\n",
    "# Set quantum generator\n",
    "qgan.set_generator(generator_circuit=g_circuit, generator_init_params=init_params)\n",
    "# The parameters have an order issue that following is a temp. workaround\n",
    "qgan._generator._free_parameters = sorted(g_circuit.parameters, key=lambda p: p.name)\n",
    "# Set classical discriminator neural network\n",
    "discriminator = NumPyDiscriminator(len(num_qubits))\n",
    "qgan.set_discriminator(discriminator)"
   ]
  },
  {
   "cell_type": "code",
   "execution_count": null,
   "id": "725e64a3",
   "metadata": {},
   "outputs": [],
   "source": [
    "# Run qGAN\n",
    "result = qgan.run(quantum_instance)"
   ]
  },
  {
   "cell_type": "code",
   "execution_count": null,
   "id": "a8e53a40",
   "metadata": {},
   "outputs": [],
   "source": [
    "params = qgan.generator.parameter_values"
   ]
  },
  {
   "cell_type": "code",
   "execution_count": null,
   "id": "e48d1af2",
   "metadata": {},
   "outputs": [],
   "source": [
    "params = qgan.generator.parameter_values\n",
    "qc = qgan.generator.construct_circuit(params=params)\n",
    "qc.draw()"
   ]
  },
  {
   "cell_type": "code",
   "execution_count": null,
   "id": "e965cd42",
   "metadata": {
    "scrolled": true
   },
   "outputs": [],
   "source": [
    "qgan.generator.generator_circuit.draw()"
   ]
  },
  {
   "cell_type": "code",
   "execution_count": null,
   "id": "cbca6d03",
   "metadata": {},
   "outputs": [],
   "source": [
    "#Plot the CDF of the resulting distribution against the target distribution, i.e. log-normal\n",
    "log_normal = np.random.lognormal(mean=1, sigma=1, size=100000)\n",
    "log_normal = np.round(log_normal)\n",
    "log_normal = log_normal[log_normal <= bounds[1]]\n",
    "temp = []\n",
    "for i in range(int(bounds[1] + 1)):\n",
    "    temp += [np.sum(log_normal==i)]\n",
    "log_normal = np.array(temp / sum(temp))\n",
    "\n",
    "plt.figure(figsize=(6,5))\n",
    "plt.title('CDF (Cumulative Distribution Function)')\n",
    "samples_g, prob_g = qgan.generator.get_output(qgan.quantum_instance, shots=10000)\n",
    "samples_g = np.array(samples_g)\n",
    "samples_g = samples_g.flatten()\n",
    "num_bins = len(prob_g)\n",
    "plt.bar(samples_g,  np.cumsum(prob_g), color='royalblue', width= 0.8, label='simulation')\n",
    "plt.plot( np.cumsum(log_normal),'-o', label='log-normal', color='deepskyblue', linewidth=4, markersize=12)\n",
    "plt.xticks(np.arange(min(samples_g), max(samples_g)+1, 1.0))\n",
    "plt.grid()\n",
    "plt.xlabel('x')\n",
    "plt.ylabel('p(x)')\n",
    "plt.legend(loc='best')\n",
    "plt.show()"
   ]
  },
  {
   "cell_type": "markdown",
   "id": "aa8d73f9",
   "metadata": {},
   "source": [
    "AE Test"
   ]
  },
  {
   "cell_type": "code",
   "execution_count": null,
   "id": "306c46bf",
   "metadata": {},
   "outputs": [],
   "source": [
    "from src.benchmarks import canonical_ae\n"
   ]
  },
  {
   "cell_type": "code",
   "execution_count": null,
   "id": "5c89d14a",
   "metadata": {},
   "outputs": [],
   "source": [
    "from qiskit import BasicAer\n",
    "from qiskit.utils import QuantumInstance\n",
    "\n",
    "backend = BasicAer.get_backend('statevector_simulator')\n",
    "quantum_instance = QuantumInstance(backend)"
   ]
  },
  {
   "cell_type": "code",
   "execution_count": null,
   "id": "d0be222b",
   "metadata": {},
   "outputs": [],
   "source": [
    "a = canonical_ae.create_circuit(5)\n",
    "a.draw()"
   ]
  },
  {
   "cell_type": "markdown",
   "id": "ddb87eda",
   "metadata": {},
   "source": [
    "Rigetti Coupling Map Creation"
   ]
  },
  {
   "cell_type": "code",
   "execution_count": null,
   "id": "84008544",
   "metadata": {},
   "outputs": [],
   "source": [
    "c_map_rigetti = []\n",
    "for j in range(4):\n",
    "    for i in range(0,7):\n",
    "        elem = [i+j*10, i+1+j*10]\n",
    "        c_map_rigetti.append(elem)\n",
    "        if i == 6:\n",
    "            c_map_rigetti.append([0+j*10, 7+j*10])\n",
    "            \n",
    "# for i in range(10,17):\n",
    "#     elem = [i, i+1]\n",
    "#     c_map_rigetti.append(elem)\n",
    "# for i in range(20,27):\n",
    "#     elem = [i, i+1]\n",
    "#     c_map_rigetti.append(elem)\n",
    "# for i in range(20,27):\n",
    "#     elem = [i, i+1]\n",
    "#     c_map_rigetti.append(elem)\n",
    "# for i in range(30,37):\n",
    "#     elem = [i, i+1]\n",
    "#     c_map_rigetti.append(elem)    \n",
    "c_map_rigetti.extend(([2,15],[1,16],[12,25],[11,26],[22,35],[21,36]))    \n",
    "print(c_map_rigetti)"
   ]
  },
  {
   "cell_type": "code",
   "execution_count": null,
   "id": "82223867",
   "metadata": {},
   "outputs": [],
   "source": [
    "import networkx as nx\n",
    "G = nx.Graph()\n",
    "G.add_edges_from(c_map_rigetti)\n",
    "nx.draw(G, with_labels=True)"
   ]
  },
  {
   "cell_type": "markdown",
   "id": "565c90a9",
   "metadata": {},
   "source": [
    "Google Coupling Map Creation"
   ]
  },
  {
   "cell_type": "code",
   "execution_count": null,
   "id": "b923a231",
   "metadata": {},
   "outputs": [],
   "source": [
    "c_map_google = []\n",
    "for j in range(8):\n",
    "    for i in range(6):\n",
    "        if j%2 == 0:\n",
    "            if i != 0:\n",
    "                elem = [i+6*j, i+6*j + 5]\n",
    "                c_map_google.append(elem)\n",
    "\n",
    "            if i != 6:\n",
    "                elem = [i+6*j, i+6*j + 6]\n",
    "                c_map_google.append(elem)\n",
    "\n",
    "        else:\n",
    "            if i != 0:\n",
    "                elem = [i+6*j, i+6*j + 6]\n",
    "                c_map_google.append(elem)\n",
    "\n",
    "            if i != 6:\n",
    "                elem = [i+6*j, i+6*j + 7]\n",
    "                c_map_google.append(elem)\n",
    "print(c_map_google)"
   ]
  },
  {
   "cell_type": "code",
   "execution_count": null,
   "id": "87891bab",
   "metadata": {},
   "outputs": [],
   "source": [
    "G = nx.Graph()\n",
    "G.add_edges_from(c_map_google)\n",
    "nx.draw(G, with_labels=True)"
   ]
  },
  {
   "cell_type": "markdown",
   "id": "4e60df76",
   "metadata": {},
   "source": [
    "TSP and vehicle routing Test"
   ]
  },
  {
   "cell_type": "code",
   "execution_count": null,
   "id": "0afd8158",
   "metadata": {},
   "outputs": [],
   "source": [
    "from src.benchmarks.qiskit_application_optimization import travelling_salesman, vehicle_routing"
   ]
  },
  {
   "cell_type": "code",
   "execution_count": null,
   "id": "3fc4cfc9",
   "metadata": {},
   "outputs": [],
   "source": [
    "qc = vehicle_routing.create_circuit(4,1)"
   ]
  },
  {
   "cell_type": "code",
   "execution_count": null,
   "id": "54aeb731",
   "metadata": {},
   "outputs": [],
   "source": [
    "qc1, qp1 = vehicle_routing.create_circuit(4,2)"
   ]
  },
  {
   "cell_type": "code",
   "execution_count": null,
   "id": "dc02ea7e",
   "metadata": {},
   "outputs": [],
   "source": [
    "qc2, qp2  = vehicle_routing.create_circuit(4,3)"
   ]
  },
  {
   "cell_type": "code",
   "execution_count": null,
   "id": "ca90a248",
   "metadata": {},
   "outputs": [],
   "source": [
    "qc3, qp3  = vehicle_routing.create_circuit(4,4)"
   ]
  },
  {
   "cell_type": "code",
   "execution_count": null,
   "id": "09f738a3",
   "metadata": {},
   "outputs": [],
   "source": [
    "from qiskit.quantum_info import Statevector\n",
    "print(Statevector.from_instruction(qc1).equiv(Statevector.from_instruction(qc2)),\n",
    "Statevector.from_instruction(qc1).equiv(Statevector.from_instruction(qc3)),\n",
    "Statevector.from_instruction(qc3).equiv(Statevector.from_instruction(qc2)))"
   ]
  },
  {
   "cell_type": "markdown",
   "id": "07ab2726",
   "metadata": {},
   "source": [
    "QGAN Test"
   ]
  },
  {
   "cell_type": "code",
   "execution_count": null,
   "id": "a3243d32",
   "metadata": {},
   "outputs": [],
   "source": [
    "from src.benchmarks.qiskit_application_ml import qgan"
   ]
  },
  {
   "cell_type": "code",
   "execution_count": null,
   "id": "ccda1827",
   "metadata": {},
   "outputs": [],
   "source": [
    "a = qgan.create_circuit(4)"
   ]
  },
  {
   "cell_type": "code",
   "execution_count": null,
   "id": "b2585afa",
   "metadata": {},
   "outputs": [],
   "source": [
    "a.decompose().draw()"
   ]
  },
  {
   "cell_type": "code",
   "execution_count": null,
   "id": "ab7b191b",
   "metadata": {},
   "outputs": [],
   "source": [
    "qc.draw()"
   ]
  },
  {
   "cell_type": "markdown",
   "id": "fd85ec7e",
   "metadata": {},
   "source": [
    "Qiskit Application Finance Test"
   ]
  },
  {
   "cell_type": "code",
   "execution_count": 1,
   "id": "bc9ae0ba",
   "metadata": {},
   "outputs": [
    {
     "name": "stderr",
     "output_type": "stream",
     "text": [
      "C:\\Users\\Nils\\anaconda3\\envs\\qsharp-env\\lib\\site-packages\\qiskit\\aqua\\__init__.py:86: DeprecationWarning: The package qiskit.aqua is deprecated. It was moved/refactored to qiskit-terra For more information see <https://github.com/Qiskit/qiskit-aqua/blob/main/README.md#migration-guide>\n",
      "  warn_package('aqua', 'qiskit-terra')\n",
      "C:\\Users\\Nils\\anaconda3\\envs\\qsharp-env\\lib\\site-packages\\qiskit\\finance\\__init__.py:50: DeprecationWarning: The package qiskit.finance is deprecated. It was moved/refactored to qiskit_finance (pip install qiskit-finance). For more information see <https://github.com/Qiskit/qiskit-aqua/blob/main/README.md#migration-guide>\n",
      "  warn_package('finance', 'qiskit_finance', 'qiskit-finance')\n",
      "C:\\Users\\Nils\\anaconda3\\envs\\qsharp-env\\lib\\site-packages\\qiskit\\optimization\\__init__.py:92: DeprecationWarning: The package qiskit.optimization is deprecated. It was moved/refactored to qiskit_optimization (pip install qiskit-optimization). For more information see <https://github.com/Qiskit/qiskit-aqua/blob/main/README.md#migration-guide>\n",
      "  warn_package('optimization', 'qiskit_optimization', 'qiskit-optimization')\n"
     ]
    }
   ],
   "source": [
    "from src.benchmarks.qiskit_application_finance import portfolio_optimization_qaoa, portfolio_optimization_vqe, pricing_eur_call_opt, pricing_eur_put_opt"
   ]
  },
  {
   "cell_type": "code",
   "execution_count": null,
   "id": "da205b5e",
   "metadata": {},
   "outputs": [],
   "source": [
    "b = portfolio_optimization_qaoa.create_circuit(5)"
   ]
  },
  {
   "cell_type": "code",
   "execution_count": null,
   "id": "5a70da6b",
   "metadata": {},
   "outputs": [],
   "source": [
    "b.draw()"
   ]
  },
  {
   "cell_type": "code",
   "execution_count": null,
   "id": "799ceea1",
   "metadata": {},
   "outputs": [],
   "source": [
    "c = portfolio_optimization_vqe.create_circuit(4)\n",
    "c.draw()"
   ]
  },
  {
   "cell_type": "code",
   "execution_count": null,
   "id": "b9c81f95",
   "metadata": {},
   "outputs": [],
   "source": [
    "d = pricing_eur_call_opt.create_circuit(4)\n",
    "d.draw()"
   ]
  },
  {
   "cell_type": "code",
   "execution_count": 2,
   "id": "358357e7",
   "metadata": {},
   "outputs": [
    {
     "name": "stderr",
     "output_type": "stream",
     "text": [
      "C:\\Users\\Nils\\anaconda3\\envs\\qsharp-env\\lib\\site-packages\\qiskit\\aqua\\algorithms\\amplitude_estimators\\ae_algorithm.py:91: DeprecationWarning: The package qiskit.aqua.algorithms.amplitude_estimators is deprecated. It was moved/refactored to qiskit.algorithms.amplitude_estimators (pip install qiskit-terra). For more information see <https://github.com/Qiskit/qiskit-aqua/blob/main/README.md#migration-guide>\n",
      "  warn_package('aqua.algorithms.amplitude_estimators',\n"
     ]
    },
    {
     "data": {
      "text/html": [
       "<pre style=\"word-wrap: normal;white-space: pre;background: #fff0;line-height: 1.1;font-family: &quot;Courier New&quot;,Courier,monospace\">                              ┌────────────────────────┐┌────┐┌────┐\n",
       "q_0: ─────────────────────────┤0                       ├┤0   ├┤0   ├\n",
       "     ┌───────────────────────┐│  multiplex2_reverse_dg ││    ││    │\n",
       "q_1: ┤ multiplex1_reverse_dg ├┤1                       ├┤1   ├┤1   ├\n",
       "     └───────────────────────┘└────────────────────────┘│    ││    │\n",
       "q_2: ───────────────────────────────────────────────────┤2 F ├┤2 Q ├\n",
       "                                                        │    ││    │\n",
       "q_3: ───────────────────────────────────────────────────┤3   ├┤3   ├\n",
       "                                                        │    ││    │\n",
       "q_4: ───────────────────────────────────────────────────┤4   ├┤4   ├\n",
       "                                                        └────┘└────┘</pre>"
      ],
      "text/plain": [
       "                              ┌────────────────────────┐┌────┐┌────┐\n",
       "q_0: ─────────────────────────┤0                       ├┤0   ├┤0   ├\n",
       "     ┌───────────────────────┐│  multiplex2_reverse_dg ││    ││    │\n",
       "q_1: ┤ multiplex1_reverse_dg ├┤1                       ├┤1   ├┤1   ├\n",
       "     └───────────────────────┘└────────────────────────┘│    ││    │\n",
       "q_2: ───────────────────────────────────────────────────┤2 F ├┤2 Q ├\n",
       "                                                        │    ││    │\n",
       "q_3: ───────────────────────────────────────────────────┤3   ├┤3   ├\n",
       "                                                        │    ││    │\n",
       "q_4: ───────────────────────────────────────────────────┤4   ├┤4   ├\n",
       "                                                        └────┘└────┘"
      ]
     },
     "execution_count": 2,
     "metadata": {},
     "output_type": "execute_result"
    }
   ],
   "source": [
    "e, iae = pricing_eur_put_opt.create_circuit(2)\n",
    "e.draw()"
   ]
  },
  {
   "cell_type": "code",
   "execution_count": 16,
   "id": "0540ab4c",
   "metadata": {},
   "outputs": [
    {
     "data": {
      "text/html": [
       "<pre style=\"word-wrap: normal;white-space: pre;background: #fff0;line-height: 1.1;font-family: &quot;Courier New&quot;,Courier,monospace\">global phase: π\n",
       "     ┌───────────────┐ ┌───┐┌───────────────┐┌───┐┌─────────┐        ┌──────┐»\n",
       "q_0: ┤ R(1.7377,π/2) ├─┤ X ├┤ R(1.3166,π/2) ├┤ X ├┤0        ├────────┤0     ├»\n",
       "     ├───────────────┴┐└─┬─┘└───────────────┘└─┬─┘│         │        │      │»\n",
       "q_1: ┤ U3(1.4598,0,0) ├──■─────────────────────■──┤1 LinRot ├────────┤1     ├»\n",
       "     └────────────────┘                           │         │┌──────┐│      │»\n",
       "q_2: ─────────────────────────────────────────────┤2        ├┤ P(0) ├┤  cmp ├»\n",
       "                                                  └─────────┘└──────┘│      │»\n",
       "q_3: ────────────────────────────────────────────────────────────────┤2     ├»\n",
       "                                                                     │      │»\n",
       "q_4: ────────────────────────────────────────────────────────────────┤3     ├»\n",
       "                                                                     └──────┘»\n",
       "«                                                                 »\n",
       "«q_0: ────────────────────────────────────────────────────────────»\n",
       "«                                                                 »\n",
       "«q_1: ────────────────────────────────────────────────────────────»\n",
       "«             ┌───┐┌────────────┐┌───┐┌─────────────┐┌──────┐┌───┐»\n",
       "«q_2: ────────┤ X ├┤ U(π/8,0,0) ├┤ X ├┤ U(-π/8,0,0) ├┤ P(0) ├┤ X ├»\n",
       "«     ┌──────┐└─┬─┘└────────────┘└─┬─┘└───┬──────┬──┘└──────┘└─┬─┘»\n",
       "«q_3: ┤ P(0) ├──■──────────────────■──────┤ P(0) ├─────────────■──»\n",
       "«     └──────┘                            └──────┘                »\n",
       "«q_4: ────────────────────────────────────────────────────────────»\n",
       "«                                                                 »\n",
       "«                                                                 »\n",
       "«q_0: ────────────────────────────────────────────■───────────────»\n",
       "«                                                 │               »\n",
       "«q_1: ────────────────────────────────────────────┼───────────────»\n",
       "«     ┌─────────────────┐┌───┐┌────────────────┐┌─┴─┐┌──────┐┌───┐»\n",
       "«q_2: ┤ U(-0.11449,0,0) ├┤ X ├┤ U(0.11449,0,0) ├┤ X ├┤ P(0) ├┤ X ├»\n",
       "«     └─────────────────┘└─┬─┘└────────────────┘└─┬─┘├──────┤└─┬─┘»\n",
       "«q_3: ─────────────────────■──────────────────────■──┤ P(0) ├──■──»\n",
       "«                                                    └──────┘     »\n",
       "«q_4: ────────────────────────────────────────────────────────────»\n",
       "«                                                                 »\n",
       "«                                                                 »\n",
       "«q_0: ────────────────────────────────────────────■───────────────»\n",
       "«                                                 │               »\n",
       "«q_1: ────────────────────────────────────────────┼───────────────»\n",
       "«     ┌────────────────┐┌───┐┌─────────────────┐┌─┴─┐┌──────┐┌───┐»\n",
       "«q_2: ┤ U(0.11449,0,0) ├┤ X ├┤ U(-0.11449,0,0) ├┤ X ├┤ P(0) ├┤ X ├»\n",
       "«     └────────────────┘└─┬─┘└─────────────────┘└─┬─┘├──────┤└─┬─┘»\n",
       "«q_3: ────────────────────■───────────────────────■──┤ P(0) ├──■──»\n",
       "«                                                    └──────┘     »\n",
       "«q_4: ────────────────────────────────────────────────────────────»\n",
       "«                                                                 »\n",
       "«                                                                 »\n",
       "«q_0: ────────────────────────────────────────────────────────────»\n",
       "«                                                                 »\n",
       "«q_1: ────────────────────────────────────────────■───────────────»\n",
       "«     ┌─────────────────┐┌───┐┌────────────────┐┌─┴─┐┌──────┐┌───┐»\n",
       "«q_2: ┤ U(-0.22898,0,0) ├┤ X ├┤ U(0.22898,0,0) ├┤ X ├┤ P(0) ├┤ X ├»\n",
       "«     └─────────────────┘└─┬─┘└────────────────┘└─┬─┘├──────┤└─┬─┘»\n",
       "«q_3: ─────────────────────■──────────────────────■──┤ P(0) ├──■──»\n",
       "«                                                    └──────┘     »\n",
       "«q_4: ────────────────────────────────────────────────────────────»\n",
       "«                                                                 »\n",
       "«                                                    ┌─────────┐           »\n",
       "«q_0: ───────────────────────────────────────────────┤0        ├───────────»\n",
       "«                                                    │         │           »\n",
       "«q_1: ────────────────────────────────────────────■──┤1        ├───────────»\n",
       "«     ┌────────────────┐┌───┐┌─────────────────┐┌─┴─┐│         │┌─────────┐»\n",
       "«q_2: ┤ U(0.22898,0,0) ├┤ X ├┤ U(-0.22898,0,0) ├┤ X ├┤  cmp_dg ├┤ U2(0,π) ├»\n",
       "«     └────────────────┘└─┬─┘└─────────────────┘└─┬─┘│         │└─────────┘»\n",
       "«q_3: ────────────────────■───────────────────────■──┤2        ├───────────»\n",
       "«                                                    │         │           »\n",
       "«q_4: ───────────────────────────────────────────────┤3        ├───────────»\n",
       "«                                                    └─────────┘           »\n",
       "«                             ┌───────┐    ┌───┐    »\n",
       "«q_0: ────────────────────────┤0      ├────┤ X ├────»\n",
       "«                             │       │    └─┬─┘    »\n",
       "«q_1: ────────────────────────┤1      ├──────■──────»\n",
       "«     ┌───────────┐┌─────────┐│       │┌───────────┐»\n",
       "«q_2: ┤ U3(π,0,π) ├┤ U2(0,π) ├┤2 F_dg ├┤ U3(π,0,π) ├»\n",
       "«     └───────────┘└─────────┘│       │└───────────┘»\n",
       "«q_3: ────────────────────────┤3      ├─────────────»\n",
       "«                             │       │             »\n",
       "«q_4: ────────────────────────┤4      ├─────────────»\n",
       "«                             └───────┘             »\n",
       "«     ┌────────────────────────────┐┌───┐┌────────────────────┐┌───────────┐»\n",
       "«q_0: ┤ multiplex1_reverse_reverse ├┤ X ├┤ multiplex1_reverse ├┤ U3(π,0,π) ├»\n",
       "«     └────────────────────────────┘└─┬─┘└──┬─────────────┬───┘├───────────┤»\n",
       "«q_1: ────────────────────────────────■─────┤ Ry(-1.4598) ├────┤ U3(π,0,π) ├»\n",
       "«              ┌─────────┐          ┌───┐   └─────────────┘    └───────────┘»\n",
       "«q_2: ─────────┤ U2(0,π) ├──────────┤ H ├───────────────────────────────────»\n",
       "«              └─────────┘          └───┘                                   »\n",
       "«q_3: ──────────────────────────────────────────────────────────────────────»\n",
       "«                                                                           »\n",
       "«q_4: ──────────────────────────────────────────────────────────────────────»\n",
       "«                                                                           »\n",
       "«                                                  ┌───┐            »\n",
       "«q_0: ──────────────■─────────────────────■────■───┤ T ├──────■─────»\n",
       "«                   │             ┌───┐   │  ┌─┴─┐┌┴───┴┐   ┌─┴─┐   »\n",
       "«q_1: ──■───────────┼─────────■───┤ T ├───┼──┤ X ├┤ Tdg ├───┤ X ├───»\n",
       "«     ┌─┴─┐┌─────┐┌─┴─┐┌───┐┌─┴─┐┌┴───┴┐┌─┴─┐├───┤└┬───┬┘┌──┴───┴──┐»\n",
       "«q_2: ┤ X ├┤ Tdg ├┤ X ├┤ T ├┤ X ├┤ Tdg ├┤ X ├┤ T ├─┤ H ├─┤ U2(0,π) ├»\n",
       "«     └───┘└─────┘└───┘└───┘└───┘└─────┘└───┘└───┘ └───┘ └─────────┘»\n",
       "«q_3: ──────────────────────────────────────────────────────────────»\n",
       "«                                                                   »\n",
       "«q_4: ──────────────────────────────────────────────────────────────»\n",
       "«                                                                   »\n",
       "«     ┌───────────┐┌───────────────────────┐┌───┐»\n",
       "«q_0: ┤ U3(π,0,π) ├┤ multiplex1_reverse_dg ├┤ X ├»\n",
       "«     ├───────────┤└─────┬────────────┬────┘└─┬─┘»\n",
       "«q_1: ┤ U3(π,0,π) ├──────┤ Ry(1.4598) ├───────■──»\n",
       "«     ├───────────┤      └────────────┘          »\n",
       "«q_2: ┤ U3(π,0,π) ├──────────────────────────────»\n",
       "«     └───────────┘                              »\n",
       "«q_3: ───────────────────────────────────────────»\n",
       "«                                                »\n",
       "«q_4: ───────────────────────────────────────────»\n",
       "«                                                »\n",
       "«     ┌───────────────────────────────┐┌───┐┌────┐\n",
       "«q_0: ┤ multiplex1_reverse_reverse_dg ├┤ X ├┤0   ├\n",
       "«     └───────────────────────────────┘└─┬─┘│    │\n",
       "«q_1: ───────────────────────────────────■──┤1   ├\n",
       "«                                           │    │\n",
       "«q_2: ──────────────────────────────────────┤2 F ├\n",
       "«                                           │    │\n",
       "«q_3: ──────────────────────────────────────┤3   ├\n",
       "«                                           │    │\n",
       "«q_4: ──────────────────────────────────────┤4   ├\n",
       "«                                           └────┘</pre>"
      ],
      "text/plain": [
       "global phase: π\n",
       "     ┌───────────────┐ ┌───┐┌───────────────┐┌───┐┌─────────┐        ┌──────┐»\n",
       "q_0: ┤ R(1.7377,π/2) ├─┤ X ├┤ R(1.3166,π/2) ├┤ X ├┤0        ├────────┤0     ├»\n",
       "     ├───────────────┴┐└─┬─┘└───────────────┘└─┬─┘│         │        │      │»\n",
       "q_1: ┤ U3(1.4598,0,0) ├──■─────────────────────■──┤1 LinRot ├────────┤1     ├»\n",
       "     └────────────────┘                           │         │┌──────┐│      │»\n",
       "q_2: ─────────────────────────────────────────────┤2        ├┤ P(0) ├┤  cmp ├»\n",
       "                                                  └─────────┘└──────┘│      │»\n",
       "q_3: ────────────────────────────────────────────────────────────────┤2     ├»\n",
       "                                                                     │      │»\n",
       "q_4: ────────────────────────────────────────────────────────────────┤3     ├»\n",
       "                                                                     └──────┘»\n",
       "«                                                                 »\n",
       "«q_0: ────────────────────────────────────────────────────────────»\n",
       "«                                                                 »\n",
       "«q_1: ────────────────────────────────────────────────────────────»\n",
       "«             ┌───┐┌────────────┐┌───┐┌─────────────┐┌──────┐┌───┐»\n",
       "«q_2: ────────┤ X ├┤ U(π/8,0,0) ├┤ X ├┤ U(-π/8,0,0) ├┤ P(0) ├┤ X ├»\n",
       "«     ┌──────┐└─┬─┘└────────────┘└─┬─┘└───┬──────┬──┘└──────┘└─┬─┘»\n",
       "«q_3: ┤ P(0) ├──■──────────────────■──────┤ P(0) ├─────────────■──»\n",
       "«     └──────┘                            └──────┘                »\n",
       "«q_4: ────────────────────────────────────────────────────────────»\n",
       "«                                                                 »\n",
       "«                                                                 »\n",
       "«q_0: ────────────────────────────────────────────■───────────────»\n",
       "«                                                 │               »\n",
       "«q_1: ────────────────────────────────────────────┼───────────────»\n",
       "«     ┌─────────────────┐┌───┐┌────────────────┐┌─┴─┐┌──────┐┌───┐»\n",
       "«q_2: ┤ U(-0.11449,0,0) ├┤ X ├┤ U(0.11449,0,0) ├┤ X ├┤ P(0) ├┤ X ├»\n",
       "«     └─────────────────┘└─┬─┘└────────────────┘└─┬─┘├──────┤└─┬─┘»\n",
       "«q_3: ─────────────────────■──────────────────────■──┤ P(0) ├──■──»\n",
       "«                                                    └──────┘     »\n",
       "«q_4: ────────────────────────────────────────────────────────────»\n",
       "«                                                                 »\n",
       "«                                                                 »\n",
       "«q_0: ────────────────────────────────────────────■───────────────»\n",
       "«                                                 │               »\n",
       "«q_1: ────────────────────────────────────────────┼───────────────»\n",
       "«     ┌────────────────┐┌───┐┌─────────────────┐┌─┴─┐┌──────┐┌───┐»\n",
       "«q_2: ┤ U(0.11449,0,0) ├┤ X ├┤ U(-0.11449,0,0) ├┤ X ├┤ P(0) ├┤ X ├»\n",
       "«     └────────────────┘└─┬─┘└─────────────────┘└─┬─┘├──────┤└─┬─┘»\n",
       "«q_3: ────────────────────■───────────────────────■──┤ P(0) ├──■──»\n",
       "«                                                    └──────┘     »\n",
       "«q_4: ────────────────────────────────────────────────────────────»\n",
       "«                                                                 »\n",
       "«                                                                 »\n",
       "«q_0: ────────────────────────────────────────────────────────────»\n",
       "«                                                                 »\n",
       "«q_1: ────────────────────────────────────────────■───────────────»\n",
       "«     ┌─────────────────┐┌───┐┌────────────────┐┌─┴─┐┌──────┐┌───┐»\n",
       "«q_2: ┤ U(-0.22898,0,0) ├┤ X ├┤ U(0.22898,0,0) ├┤ X ├┤ P(0) ├┤ X ├»\n",
       "«     └─────────────────┘└─┬─┘└────────────────┘└─┬─┘├──────┤└─┬─┘»\n",
       "«q_3: ─────────────────────■──────────────────────■──┤ P(0) ├──■──»\n",
       "«                                                    └──────┘     »\n",
       "«q_4: ────────────────────────────────────────────────────────────»\n",
       "«                                                                 »\n",
       "«                                                    ┌─────────┐           »\n",
       "«q_0: ───────────────────────────────────────────────┤0        ├───────────»\n",
       "«                                                    │         │           »\n",
       "«q_1: ────────────────────────────────────────────■──┤1        ├───────────»\n",
       "«     ┌────────────────┐┌───┐┌─────────────────┐┌─┴─┐│         │┌─────────┐»\n",
       "«q_2: ┤ U(0.22898,0,0) ├┤ X ├┤ U(-0.22898,0,0) ├┤ X ├┤  cmp_dg ├┤ U2(0,π) ├»\n",
       "«     └────────────────┘└─┬─┘└─────────────────┘└─┬─┘│         │└─────────┘»\n",
       "«q_3: ────────────────────■───────────────────────■──┤2        ├───────────»\n",
       "«                                                    │         │           »\n",
       "«q_4: ───────────────────────────────────────────────┤3        ├───────────»\n",
       "«                                                    └─────────┘           »\n",
       "«                             ┌───────┐    ┌───┐    »\n",
       "«q_0: ────────────────────────┤0      ├────┤ X ├────»\n",
       "«                             │       │    └─┬─┘    »\n",
       "«q_1: ────────────────────────┤1      ├──────■──────»\n",
       "«     ┌───────────┐┌─────────┐│       │┌───────────┐»\n",
       "«q_2: ┤ U3(π,0,π) ├┤ U2(0,π) ├┤2 F_dg ├┤ U3(π,0,π) ├»\n",
       "«     └───────────┘└─────────┘│       │└───────────┘»\n",
       "«q_3: ────────────────────────┤3      ├─────────────»\n",
       "«                             │       │             »\n",
       "«q_4: ────────────────────────┤4      ├─────────────»\n",
       "«                             └───────┘             »\n",
       "«     ┌────────────────────────────┐┌───┐┌────────────────────┐┌───────────┐»\n",
       "«q_0: ┤ multiplex1_reverse_reverse ├┤ X ├┤ multiplex1_reverse ├┤ U3(π,0,π) ├»\n",
       "«     └────────────────────────────┘└─┬─┘└──┬─────────────┬───┘├───────────┤»\n",
       "«q_1: ────────────────────────────────■─────┤ Ry(-1.4598) ├────┤ U3(π,0,π) ├»\n",
       "«              ┌─────────┐          ┌───┐   └─────────────┘    └───────────┘»\n",
       "«q_2: ─────────┤ U2(0,π) ├──────────┤ H ├───────────────────────────────────»\n",
       "«              └─────────┘          └───┘                                   »\n",
       "«q_3: ──────────────────────────────────────────────────────────────────────»\n",
       "«                                                                           »\n",
       "«q_4: ──────────────────────────────────────────────────────────────────────»\n",
       "«                                                                           »\n",
       "«                                                  ┌───┐            »\n",
       "«q_0: ──────────────■─────────────────────■────■───┤ T ├──────■─────»\n",
       "«                   │             ┌───┐   │  ┌─┴─┐┌┴───┴┐   ┌─┴─┐   »\n",
       "«q_1: ──■───────────┼─────────■───┤ T ├───┼──┤ X ├┤ Tdg ├───┤ X ├───»\n",
       "«     ┌─┴─┐┌─────┐┌─┴─┐┌───┐┌─┴─┐┌┴───┴┐┌─┴─┐├───┤└┬───┬┘┌──┴───┴──┐»\n",
       "«q_2: ┤ X ├┤ Tdg ├┤ X ├┤ T ├┤ X ├┤ Tdg ├┤ X ├┤ T ├─┤ H ├─┤ U2(0,π) ├»\n",
       "«     └───┘└─────┘└───┘└───┘└───┘└─────┘└───┘└───┘ └───┘ └─────────┘»\n",
       "«q_3: ──────────────────────────────────────────────────────────────»\n",
       "«                                                                   »\n",
       "«q_4: ──────────────────────────────────────────────────────────────»\n",
       "«                                                                   »\n",
       "«     ┌───────────┐┌───────────────────────┐┌───┐»\n",
       "«q_0: ┤ U3(π,0,π) ├┤ multiplex1_reverse_dg ├┤ X ├»\n",
       "«     ├───────────┤└─────┬────────────┬────┘└─┬─┘»\n",
       "«q_1: ┤ U3(π,0,π) ├──────┤ Ry(1.4598) ├───────■──»\n",
       "«     ├───────────┤      └────────────┘          »\n",
       "«q_2: ┤ U3(π,0,π) ├──────────────────────────────»\n",
       "«     └───────────┘                              »\n",
       "«q_3: ───────────────────────────────────────────»\n",
       "«                                                »\n",
       "«q_4: ───────────────────────────────────────────»\n",
       "«                                                »\n",
       "«     ┌───────────────────────────────┐┌───┐┌────┐\n",
       "«q_0: ┤ multiplex1_reverse_reverse_dg ├┤ X ├┤0   ├\n",
       "«     └───────────────────────────────┘└─┬─┘│    │\n",
       "«q_1: ───────────────────────────────────■──┤1   ├\n",
       "«                                           │    │\n",
       "«q_2: ──────────────────────────────────────┤2 F ├\n",
       "«                                           │    │\n",
       "«q_3: ──────────────────────────────────────┤3   ├\n",
       "«                                           │    │\n",
       "«q_4: ──────────────────────────────────────┤4   ├\n",
       "«                                           └────┘"
      ]
     },
     "execution_count": 16,
     "metadata": {},
     "output_type": "execute_result"
    }
   ],
   "source": [
    "test1 = iae.construct_circuit(1)\n",
    "test1.decompose().decompose().decompose().draw()"
   ]
  },
  {
   "cell_type": "code",
   "execution_count": 17,
   "id": "775ad88d",
   "metadata": {},
   "outputs": [
    {
     "data": {
      "text/html": [
       "<pre style=\"word-wrap: normal;white-space: pre;background: #fff0;line-height: 1.1;font-family: &quot;Courier New&quot;,Courier,monospace\">     ┌───────────────┐ ┌───┐┌───────────────┐┌───┐┌─────────┐        ┌──────┐»\n",
       "q_0: ┤ R(1.7377,π/2) ├─┤ X ├┤ R(1.3166,π/2) ├┤ X ├┤0        ├────────┤0     ├»\n",
       "     ├───────────────┴┐└─┬─┘└───────────────┘└─┬─┘│         │        │      │»\n",
       "q_1: ┤ U3(1.4598,0,0) ├──■─────────────────────■──┤1 LinRot ├────────┤1     ├»\n",
       "     └────────────────┘                           │         │┌──────┐│      │»\n",
       "q_2: ─────────────────────────────────────────────┤2        ├┤ P(0) ├┤  cmp ├»\n",
       "                                                  └─────────┘└──────┘│      │»\n",
       "q_3: ────────────────────────────────────────────────────────────────┤2     ├»\n",
       "                                                                     │      │»\n",
       "q_4: ────────────────────────────────────────────────────────────────┤3     ├»\n",
       "                                                                     └──────┘»\n",
       "«                                                                 »\n",
       "«q_0: ────────────────────────────────────────────────────────────»\n",
       "«                                                                 »\n",
       "«q_1: ────────────────────────────────────────────────────────────»\n",
       "«             ┌───┐┌────────────┐┌───┐┌─────────────┐┌──────┐┌───┐»\n",
       "«q_2: ────────┤ X ├┤ U(π/8,0,0) ├┤ X ├┤ U(-π/8,0,0) ├┤ P(0) ├┤ X ├»\n",
       "«     ┌──────┐└─┬─┘└────────────┘└─┬─┘└───┬──────┬──┘└──────┘└─┬─┘»\n",
       "«q_3: ┤ P(0) ├──■──────────────────■──────┤ P(0) ├─────────────■──»\n",
       "«     └──────┘                            └──────┘                »\n",
       "«q_4: ────────────────────────────────────────────────────────────»\n",
       "«                                                                 »\n",
       "«                                                                 »\n",
       "«q_0: ────────────────────────────────────────────■───────────────»\n",
       "«                                                 │               »\n",
       "«q_1: ────────────────────────────────────────────┼───────────────»\n",
       "«     ┌─────────────────┐┌───┐┌────────────────┐┌─┴─┐┌──────┐┌───┐»\n",
       "«q_2: ┤ U(-0.11449,0,0) ├┤ X ├┤ U(0.11449,0,0) ├┤ X ├┤ P(0) ├┤ X ├»\n",
       "«     └─────────────────┘└─┬─┘└────────────────┘└─┬─┘├──────┤└─┬─┘»\n",
       "«q_3: ─────────────────────■──────────────────────■──┤ P(0) ├──■──»\n",
       "«                                                    └──────┘     »\n",
       "«q_4: ────────────────────────────────────────────────────────────»\n",
       "«                                                                 »\n",
       "«                                                                 »\n",
       "«q_0: ────────────────────────────────────────────■───────────────»\n",
       "«                                                 │               »\n",
       "«q_1: ────────────────────────────────────────────┼───────────────»\n",
       "«     ┌────────────────┐┌───┐┌─────────────────┐┌─┴─┐┌──────┐┌───┐»\n",
       "«q_2: ┤ U(0.11449,0,0) ├┤ X ├┤ U(-0.11449,0,0) ├┤ X ├┤ P(0) ├┤ X ├»\n",
       "«     └────────────────┘└─┬─┘└─────────────────┘└─┬─┘├──────┤└─┬─┘»\n",
       "«q_3: ────────────────────■───────────────────────■──┤ P(0) ├──■──»\n",
       "«                                                    └──────┘     »\n",
       "«q_4: ────────────────────────────────────────────────────────────»\n",
       "«                                                                 »\n",
       "«                                                                 »\n",
       "«q_0: ────────────────────────────────────────────────────────────»\n",
       "«                                                                 »\n",
       "«q_1: ────────────────────────────────────────────■───────────────»\n",
       "«     ┌─────────────────┐┌───┐┌────────────────┐┌─┴─┐┌──────┐┌───┐»\n",
       "«q_2: ┤ U(-0.22898,0,0) ├┤ X ├┤ U(0.22898,0,0) ├┤ X ├┤ P(0) ├┤ X ├»\n",
       "«     └─────────────────┘└─┬─┘└────────────────┘└─┬─┘├──────┤└─┬─┘»\n",
       "«q_3: ─────────────────────■──────────────────────■──┤ P(0) ├──■──»\n",
       "«                                                    └──────┘     »\n",
       "«q_4: ────────────────────────────────────────────────────────────»\n",
       "«                                                                 »\n",
       "«                                                    ┌─────────┐           »\n",
       "«q_0: ───────────────────────────────────────────────┤0        ├───────────»\n",
       "«                                                    │         │           »\n",
       "«q_1: ────────────────────────────────────────────■──┤1        ├───────────»\n",
       "«     ┌────────────────┐┌───┐┌─────────────────┐┌─┴─┐│         │┌─────────┐»\n",
       "«q_2: ┤ U(0.22898,0,0) ├┤ X ├┤ U(-0.22898,0,0) ├┤ X ├┤  cmp_dg ├┤ U2(0,π) ├»\n",
       "«     └────────────────┘└─┬─┘└─────────────────┘└─┬─┘│         │└─────────┘»\n",
       "«q_3: ────────────────────■───────────────────────■──┤2        ├───────────»\n",
       "«                                                    │         │           »\n",
       "«q_4: ───────────────────────────────────────────────┤3        ├───────────»\n",
       "«                                                    └─────────┘           »\n",
       "«                             ┌───────┐    ┌───┐    »\n",
       "«q_0: ────────────────────────┤0      ├────┤ X ├────»\n",
       "«                             │       │    └─┬─┘    »\n",
       "«q_1: ────────────────────────┤1      ├──────■──────»\n",
       "«     ┌───────────┐┌─────────┐│       │┌───────────┐»\n",
       "«q_2: ┤ U3(π,0,π) ├┤ U2(0,π) ├┤2 F_dg ├┤ U3(π,0,π) ├»\n",
       "«     └───────────┘└─────────┘│       │└───────────┘»\n",
       "«q_3: ────────────────────────┤3      ├─────────────»\n",
       "«                             │       │             »\n",
       "«q_4: ────────────────────────┤4      ├─────────────»\n",
       "«                             └───────┘             »\n",
       "«     ┌────────────────────────────┐┌───┐┌────────────────────┐┌───────────┐»\n",
       "«q_0: ┤ multiplex1_reverse_reverse ├┤ X ├┤ multiplex1_reverse ├┤ U3(π,0,π) ├»\n",
       "«     └────────────────────────────┘└─┬─┘└──┬─────────────┬───┘├───────────┤»\n",
       "«q_1: ────────────────────────────────■─────┤ Ry(-1.4598) ├────┤ U3(π,0,π) ├»\n",
       "«              ┌─────────┐          ┌───┐   └─────────────┘    └───────────┘»\n",
       "«q_2: ─────────┤ U2(0,π) ├──────────┤ H ├───────────────────────────────────»\n",
       "«              └─────────┘          └───┘                                   »\n",
       "«q_3: ──────────────────────────────────────────────────────────────────────»\n",
       "«                                                                           »\n",
       "«q_4: ──────────────────────────────────────────────────────────────────────»\n",
       "«                                                                           »\n",
       "«                                                  ┌───┐            »\n",
       "«q_0: ──────────────■─────────────────────■────■───┤ T ├──────■─────»\n",
       "«                   │             ┌───┐   │  ┌─┴─┐┌┴───┴┐   ┌─┴─┐   »\n",
       "«q_1: ──■───────────┼─────────■───┤ T ├───┼──┤ X ├┤ Tdg ├───┤ X ├───»\n",
       "«     ┌─┴─┐┌─────┐┌─┴─┐┌───┐┌─┴─┐┌┴───┴┐┌─┴─┐├───┤└┬───┬┘┌──┴───┴──┐»\n",
       "«q_2: ┤ X ├┤ Tdg ├┤ X ├┤ T ├┤ X ├┤ Tdg ├┤ X ├┤ T ├─┤ H ├─┤ U2(0,π) ├»\n",
       "«     └───┘└─────┘└───┘└───┘└───┘└─────┘└───┘└───┘ └───┘ └─────────┘»\n",
       "«q_3: ──────────────────────────────────────────────────────────────»\n",
       "«                                                                   »\n",
       "«q_4: ──────────────────────────────────────────────────────────────»\n",
       "«                                                                   »\n",
       "«     ┌───────────┐┌───────────────────────┐┌───┐»\n",
       "«q_0: ┤ U3(π,0,π) ├┤ multiplex1_reverse_dg ├┤ X ├»\n",
       "«     ├───────────┤└─────┬────────────┬────┘└─┬─┘»\n",
       "«q_1: ┤ U3(π,0,π) ├──────┤ Ry(1.4598) ├───────■──»\n",
       "«     ├───────────┤      └────────────┘          »\n",
       "«q_2: ┤ U3(π,0,π) ├──────────────────────────────»\n",
       "«     └───────────┘                              »\n",
       "«q_3: ───────────────────────────────────────────»\n",
       "«                                                »\n",
       "«q_4: ───────────────────────────────────────────»\n",
       "«                                                »\n",
       "«     ┌───────────────────────────────┐┌───┐┌────┐                        »\n",
       "«q_0: ┤ multiplex1_reverse_reverse_dg ├┤ X ├┤0   ├────────────────────────»\n",
       "«     └───────────────────────────────┘└─┬─┘│    │                        »\n",
       "«q_1: ───────────────────────────────────■──┤1   ├────────────────────────»\n",
       "«                                           │    │┌─────────┐┌───────────┐»\n",
       "«q_2: ──────────────────────────────────────┤2 F ├┤ U2(0,π) ├┤ U3(π,0,π) ├»\n",
       "«                                           │    │└─────────┘└───────────┘»\n",
       "«q_3: ──────────────────────────────────────┤3   ├────────────────────────»\n",
       "«                                           │    │                        »\n",
       "«q_4: ──────────────────────────────────────┤4   ├────────────────────────»\n",
       "«                                           └────┘                        »\n",
       "«                ┌───────┐    ┌───┐    ┌────────────────────────────┐┌───┐»\n",
       "«q_0: ───────────┤0      ├────┤ X ├────┤ multiplex1_reverse_reverse ├┤ X ├»\n",
       "«                │       │    └─┬─┘    └────────────────────────────┘└─┬─┘»\n",
       "«q_1: ───────────┤1      ├──────■──────────────────────────────────────■──»\n",
       "«     ┌─────────┐│       │┌───────────┐         ┌─────────┐          ┌───┐»\n",
       "«q_2: ┤ U2(0,π) ├┤2 F_dg ├┤ U3(π,0,π) ├─────────┤ U2(0,π) ├──────────┤ H ├»\n",
       "«     └─────────┘│       │└───────────┘         └─────────┘          └───┘»\n",
       "«q_3: ───────────┤3      ├────────────────────────────────────────────────»\n",
       "«                │       │                                                »\n",
       "«q_4: ───────────┤4      ├────────────────────────────────────────────────»\n",
       "«                └───────┘                                                »\n",
       "«     ┌────────────────────┐┌───────────┐                                  »\n",
       "«q_0: ┤ multiplex1_reverse ├┤ U3(π,0,π) ├──────────────■───────────────────»\n",
       "«     └──┬─────────────┬───┘├───────────┤              │             ┌───┐ »\n",
       "«q_1: ───┤ Ry(-1.4598) ├────┤ U3(π,0,π) ├──■───────────┼─────────■───┤ T ├─»\n",
       "«        └─────────────┘    └───────────┘┌─┴─┐┌─────┐┌─┴─┐┌───┐┌─┴─┐┌┴───┴┐»\n",
       "«q_2: ───────────────────────────────────┤ X ├┤ Tdg ├┤ X ├┤ T ├┤ X ├┤ Tdg ├»\n",
       "«                                        └───┘└─────┘└───┘└───┘└───┘└─────┘»\n",
       "«q_3: ─────────────────────────────────────────────────────────────────────»\n",
       "«                                                                          »\n",
       "«q_4: ─────────────────────────────────────────────────────────────────────»\n",
       "«                                                                          »\n",
       "«                ┌───┐            ┌───────────┐┌───────────────────────┐┌───┐»\n",
       "«q_0: ──■────■───┤ T ├──────■─────┤ U3(π,0,π) ├┤ multiplex1_reverse_dg ├┤ X ├»\n",
       "«       │  ┌─┴─┐┌┴───┴┐   ┌─┴─┐   ├───────────┤└─────┬────────────┬────┘└─┬─┘»\n",
       "«q_1: ──┼──┤ X ├┤ Tdg ├───┤ X ├───┤ U3(π,0,π) ├──────┤ Ry(1.4598) ├───────■──»\n",
       "«     ┌─┴─┐├───┤└┬───┬┘┌──┴───┴──┐├───────────┤      └────────────┘          »\n",
       "«q_2: ┤ X ├┤ T ├─┤ H ├─┤ U2(0,π) ├┤ U3(π,0,π) ├──────────────────────────────»\n",
       "«     └───┘└───┘ └───┘ └─────────┘└───────────┘                              »\n",
       "«q_3: ───────────────────────────────────────────────────────────────────────»\n",
       "«                                                                            »\n",
       "«q_4: ───────────────────────────────────────────────────────────────────────»\n",
       "«                                                                            »\n",
       "«     ┌───────────────────────────────┐┌───┐┌────┐\n",
       "«q_0: ┤ multiplex1_reverse_reverse_dg ├┤ X ├┤0   ├\n",
       "«     └───────────────────────────────┘└─┬─┘│    │\n",
       "«q_1: ───────────────────────────────────■──┤1   ├\n",
       "«                                           │    │\n",
       "«q_2: ──────────────────────────────────────┤2 F ├\n",
       "«                                           │    │\n",
       "«q_3: ──────────────────────────────────────┤3   ├\n",
       "«                                           │    │\n",
       "«q_4: ──────────────────────────────────────┤4   ├\n",
       "«                                           └────┘</pre>"
      ],
      "text/plain": [
       "     ┌───────────────┐ ┌───┐┌───────────────┐┌───┐┌─────────┐        ┌──────┐»\n",
       "q_0: ┤ R(1.7377,π/2) ├─┤ X ├┤ R(1.3166,π/2) ├┤ X ├┤0        ├────────┤0     ├»\n",
       "     ├───────────────┴┐└─┬─┘└───────────────┘└─┬─┘│         │        │      │»\n",
       "q_1: ┤ U3(1.4598,0,0) ├──■─────────────────────■──┤1 LinRot ├────────┤1     ├»\n",
       "     └────────────────┘                           │         │┌──────┐│      │»\n",
       "q_2: ─────────────────────────────────────────────┤2        ├┤ P(0) ├┤  cmp ├»\n",
       "                                                  └─────────┘└──────┘│      │»\n",
       "q_3: ────────────────────────────────────────────────────────────────┤2     ├»\n",
       "                                                                     │      │»\n",
       "q_4: ────────────────────────────────────────────────────────────────┤3     ├»\n",
       "                                                                     └──────┘»\n",
       "«                                                                 »\n",
       "«q_0: ────────────────────────────────────────────────────────────»\n",
       "«                                                                 »\n",
       "«q_1: ────────────────────────────────────────────────────────────»\n",
       "«             ┌───┐┌────────────┐┌───┐┌─────────────┐┌──────┐┌───┐»\n",
       "«q_2: ────────┤ X ├┤ U(π/8,0,0) ├┤ X ├┤ U(-π/8,0,0) ├┤ P(0) ├┤ X ├»\n",
       "«     ┌──────┐└─┬─┘└────────────┘└─┬─┘└───┬──────┬──┘└──────┘└─┬─┘»\n",
       "«q_3: ┤ P(0) ├──■──────────────────■──────┤ P(0) ├─────────────■──»\n",
       "«     └──────┘                            └──────┘                »\n",
       "«q_4: ────────────────────────────────────────────────────────────»\n",
       "«                                                                 »\n",
       "«                                                                 »\n",
       "«q_0: ────────────────────────────────────────────■───────────────»\n",
       "«                                                 │               »\n",
       "«q_1: ────────────────────────────────────────────┼───────────────»\n",
       "«     ┌─────────────────┐┌───┐┌────────────────┐┌─┴─┐┌──────┐┌───┐»\n",
       "«q_2: ┤ U(-0.11449,0,0) ├┤ X ├┤ U(0.11449,0,0) ├┤ X ├┤ P(0) ├┤ X ├»\n",
       "«     └─────────────────┘└─┬─┘└────────────────┘└─┬─┘├──────┤└─┬─┘»\n",
       "«q_3: ─────────────────────■──────────────────────■──┤ P(0) ├──■──»\n",
       "«                                                    └──────┘     »\n",
       "«q_4: ────────────────────────────────────────────────────────────»\n",
       "«                                                                 »\n",
       "«                                                                 »\n",
       "«q_0: ────────────────────────────────────────────■───────────────»\n",
       "«                                                 │               »\n",
       "«q_1: ────────────────────────────────────────────┼───────────────»\n",
       "«     ┌────────────────┐┌───┐┌─────────────────┐┌─┴─┐┌──────┐┌───┐»\n",
       "«q_2: ┤ U(0.11449,0,0) ├┤ X ├┤ U(-0.11449,0,0) ├┤ X ├┤ P(0) ├┤ X ├»\n",
       "«     └────────────────┘└─┬─┘└─────────────────┘└─┬─┘├──────┤└─┬─┘»\n",
       "«q_3: ────────────────────■───────────────────────■──┤ P(0) ├──■──»\n",
       "«                                                    └──────┘     »\n",
       "«q_4: ────────────────────────────────────────────────────────────»\n",
       "«                                                                 »\n",
       "«                                                                 »\n",
       "«q_0: ────────────────────────────────────────────────────────────»\n",
       "«                                                                 »\n",
       "«q_1: ────────────────────────────────────────────■───────────────»\n",
       "«     ┌─────────────────┐┌───┐┌────────────────┐┌─┴─┐┌──────┐┌───┐»\n",
       "«q_2: ┤ U(-0.22898,0,0) ├┤ X ├┤ U(0.22898,0,0) ├┤ X ├┤ P(0) ├┤ X ├»\n",
       "«     └─────────────────┘└─┬─┘└────────────────┘└─┬─┘├──────┤└─┬─┘»\n",
       "«q_3: ─────────────────────■──────────────────────■──┤ P(0) ├──■──»\n",
       "«                                                    └──────┘     »\n",
       "«q_4: ────────────────────────────────────────────────────────────»\n",
       "«                                                                 »\n",
       "«                                                    ┌─────────┐           »\n",
       "«q_0: ───────────────────────────────────────────────┤0        ├───────────»\n",
       "«                                                    │         │           »\n",
       "«q_1: ────────────────────────────────────────────■──┤1        ├───────────»\n",
       "«     ┌────────────────┐┌───┐┌─────────────────┐┌─┴─┐│         │┌─────────┐»\n",
       "«q_2: ┤ U(0.22898,0,0) ├┤ X ├┤ U(-0.22898,0,0) ├┤ X ├┤  cmp_dg ├┤ U2(0,π) ├»\n",
       "«     └────────────────┘└─┬─┘└─────────────────┘└─┬─┘│         │└─────────┘»\n",
       "«q_3: ────────────────────■───────────────────────■──┤2        ├───────────»\n",
       "«                                                    │         │           »\n",
       "«q_4: ───────────────────────────────────────────────┤3        ├───────────»\n",
       "«                                                    └─────────┘           »\n",
       "«                             ┌───────┐    ┌───┐    »\n",
       "«q_0: ────────────────────────┤0      ├────┤ X ├────»\n",
       "«                             │       │    └─┬─┘    »\n",
       "«q_1: ────────────────────────┤1      ├──────■──────»\n",
       "«     ┌───────────┐┌─────────┐│       │┌───────────┐»\n",
       "«q_2: ┤ U3(π,0,π) ├┤ U2(0,π) ├┤2 F_dg ├┤ U3(π,0,π) ├»\n",
       "«     └───────────┘└─────────┘│       │└───────────┘»\n",
       "«q_3: ────────────────────────┤3      ├─────────────»\n",
       "«                             │       │             »\n",
       "«q_4: ────────────────────────┤4      ├─────────────»\n",
       "«                             └───────┘             »\n",
       "«     ┌────────────────────────────┐┌───┐┌────────────────────┐┌───────────┐»\n",
       "«q_0: ┤ multiplex1_reverse_reverse ├┤ X ├┤ multiplex1_reverse ├┤ U3(π,0,π) ├»\n",
       "«     └────────────────────────────┘└─┬─┘└──┬─────────────┬───┘├───────────┤»\n",
       "«q_1: ────────────────────────────────■─────┤ Ry(-1.4598) ├────┤ U3(π,0,π) ├»\n",
       "«              ┌─────────┐          ┌───┐   └─────────────┘    └───────────┘»\n",
       "«q_2: ─────────┤ U2(0,π) ├──────────┤ H ├───────────────────────────────────»\n",
       "«              └─────────┘          └───┘                                   »\n",
       "«q_3: ──────────────────────────────────────────────────────────────────────»\n",
       "«                                                                           »\n",
       "«q_4: ──────────────────────────────────────────────────────────────────────»\n",
       "«                                                                           »\n",
       "«                                                  ┌───┐            »\n",
       "«q_0: ──────────────■─────────────────────■────■───┤ T ├──────■─────»\n",
       "«                   │             ┌───┐   │  ┌─┴─┐┌┴───┴┐   ┌─┴─┐   »\n",
       "«q_1: ──■───────────┼─────────■───┤ T ├───┼──┤ X ├┤ Tdg ├───┤ X ├───»\n",
       "«     ┌─┴─┐┌─────┐┌─┴─┐┌───┐┌─┴─┐┌┴───┴┐┌─┴─┐├───┤└┬───┬┘┌──┴───┴──┐»\n",
       "«q_2: ┤ X ├┤ Tdg ├┤ X ├┤ T ├┤ X ├┤ Tdg ├┤ X ├┤ T ├─┤ H ├─┤ U2(0,π) ├»\n",
       "«     └───┘└─────┘└───┘└───┘└───┘└─────┘└───┘└───┘ └───┘ └─────────┘»\n",
       "«q_3: ──────────────────────────────────────────────────────────────»\n",
       "«                                                                   »\n",
       "«q_4: ──────────────────────────────────────────────────────────────»\n",
       "«                                                                   »\n",
       "«     ┌───────────┐┌───────────────────────┐┌───┐»\n",
       "«q_0: ┤ U3(π,0,π) ├┤ multiplex1_reverse_dg ├┤ X ├»\n",
       "«     ├───────────┤└─────┬────────────┬────┘└─┬─┘»\n",
       "«q_1: ┤ U3(π,0,π) ├──────┤ Ry(1.4598) ├───────■──»\n",
       "«     ├───────────┤      └────────────┘          »\n",
       "«q_2: ┤ U3(π,0,π) ├──────────────────────────────»\n",
       "«     └───────────┘                              »\n",
       "«q_3: ───────────────────────────────────────────»\n",
       "«                                                »\n",
       "«q_4: ───────────────────────────────────────────»\n",
       "«                                                »\n",
       "«     ┌───────────────────────────────┐┌───┐┌────┐                        »\n",
       "«q_0: ┤ multiplex1_reverse_reverse_dg ├┤ X ├┤0   ├────────────────────────»\n",
       "«     └───────────────────────────────┘└─┬─┘│    │                        »\n",
       "«q_1: ───────────────────────────────────■──┤1   ├────────────────────────»\n",
       "«                                           │    │┌─────────┐┌───────────┐»\n",
       "«q_2: ──────────────────────────────────────┤2 F ├┤ U2(0,π) ├┤ U3(π,0,π) ├»\n",
       "«                                           │    │└─────────┘└───────────┘»\n",
       "«q_3: ──────────────────────────────────────┤3   ├────────────────────────»\n",
       "«                                           │    │                        »\n",
       "«q_4: ──────────────────────────────────────┤4   ├────────────────────────»\n",
       "«                                           └────┘                        »\n",
       "«                ┌───────┐    ┌───┐    ┌────────────────────────────┐┌───┐»\n",
       "«q_0: ───────────┤0      ├────┤ X ├────┤ multiplex1_reverse_reverse ├┤ X ├»\n",
       "«                │       │    └─┬─┘    └────────────────────────────┘└─┬─┘»\n",
       "«q_1: ───────────┤1      ├──────■──────────────────────────────────────■──»\n",
       "«     ┌─────────┐│       │┌───────────┐         ┌─────────┐          ┌───┐»\n",
       "«q_2: ┤ U2(0,π) ├┤2 F_dg ├┤ U3(π,0,π) ├─────────┤ U2(0,π) ├──────────┤ H ├»\n",
       "«     └─────────┘│       │└───────────┘         └─────────┘          └───┘»\n",
       "«q_3: ───────────┤3      ├────────────────────────────────────────────────»\n",
       "«                │       │                                                »\n",
       "«q_4: ───────────┤4      ├────────────────────────────────────────────────»\n",
       "«                └───────┘                                                »\n",
       "«     ┌────────────────────┐┌───────────┐                                  »\n",
       "«q_0: ┤ multiplex1_reverse ├┤ U3(π,0,π) ├──────────────■───────────────────»\n",
       "«     └──┬─────────────┬───┘├───────────┤              │             ┌───┐ »\n",
       "«q_1: ───┤ Ry(-1.4598) ├────┤ U3(π,0,π) ├──■───────────┼─────────■───┤ T ├─»\n",
       "«        └─────────────┘    └───────────┘┌─┴─┐┌─────┐┌─┴─┐┌───┐┌─┴─┐┌┴───┴┐»\n",
       "«q_2: ───────────────────────────────────┤ X ├┤ Tdg ├┤ X ├┤ T ├┤ X ├┤ Tdg ├»\n",
       "«                                        └───┘└─────┘└───┘└───┘└───┘└─────┘»\n",
       "«q_3: ─────────────────────────────────────────────────────────────────────»\n",
       "«                                                                          »\n",
       "«q_4: ─────────────────────────────────────────────────────────────────────»\n",
       "«                                                                          »\n",
       "«                ┌───┐            ┌───────────┐┌───────────────────────┐┌───┐»\n",
       "«q_0: ──■────■───┤ T ├──────■─────┤ U3(π,0,π) ├┤ multiplex1_reverse_dg ├┤ X ├»\n",
       "«       │  ┌─┴─┐┌┴───┴┐   ┌─┴─┐   ├───────────┤└─────┬────────────┬────┘└─┬─┘»\n",
       "«q_1: ──┼──┤ X ├┤ Tdg ├───┤ X ├───┤ U3(π,0,π) ├──────┤ Ry(1.4598) ├───────■──»\n",
       "«     ┌─┴─┐├───┤└┬───┬┘┌──┴───┴──┐├───────────┤      └────────────┘          »\n",
       "«q_2: ┤ X ├┤ T ├─┤ H ├─┤ U2(0,π) ├┤ U3(π,0,π) ├──────────────────────────────»\n",
       "«     └───┘└───┘ └───┘ └─────────┘└───────────┘                              »\n",
       "«q_3: ───────────────────────────────────────────────────────────────────────»\n",
       "«                                                                            »\n",
       "«q_4: ───────────────────────────────────────────────────────────────────────»\n",
       "«                                                                            »\n",
       "«     ┌───────────────────────────────┐┌───┐┌────┐\n",
       "«q_0: ┤ multiplex1_reverse_reverse_dg ├┤ X ├┤0   ├\n",
       "«     └───────────────────────────────┘└─┬─┘│    │\n",
       "«q_1: ───────────────────────────────────■──┤1   ├\n",
       "«                                           │    │\n",
       "«q_2: ──────────────────────────────────────┤2 F ├\n",
       "«                                           │    │\n",
       "«q_3: ──────────────────────────────────────┤3   ├\n",
       "«                                           │    │\n",
       "«q_4: ──────────────────────────────────────┤4   ├\n",
       "«                                           └────┘"
      ]
     },
     "execution_count": 17,
     "metadata": {},
     "output_type": "execute_result"
    }
   ],
   "source": [
    "test2 = iae.construct_circuit(2)\n",
    "test2.decompose().decompose().decompose().draw()"
   ]
  },
  {
   "cell_type": "code",
   "execution_count": 14,
   "id": "c05a417d",
   "metadata": {},
   "outputs": [
    {
     "data": {
      "text/plain": [
       "False"
      ]
     },
     "execution_count": 14,
     "metadata": {},
     "output_type": "execute_result"
    }
   ],
   "source": [
    "test1 == test2"
   ]
  },
  {
   "cell_type": "markdown",
   "id": "b73c47f4",
   "metadata": {},
   "source": [
    "Qiskit Application Nature Test"
   ]
  },
  {
   "cell_type": "code",
   "execution_count": 18,
   "id": "edde8b13",
   "metadata": {},
   "outputs": [
    {
     "ename": "MissingOptionalLibraryError",
     "evalue": "\"The 'PySCF' library is required to use 'PySCFDriver'. You can install it with 'pip install 'qiskit-nature[pyscf]''.  See https://pyscf.org/install.html.\"",
     "output_type": "error",
     "traceback": [
      "\u001b[1;31m---------------------------------------------------------------------------\u001b[0m",
      "\u001b[1;31mMissingOptionalLibraryError\u001b[0m               Traceback (most recent call last)",
      "\u001b[1;32m~\\AppData\\Local\\Temp/ipykernel_14660/2031997463.py\u001b[0m in \u001b[0;36m<module>\u001b[1;34m\u001b[0m\n\u001b[0;32m     30\u001b[0m \u001b[1;33m\u001b[0m\u001b[0m\n\u001b[0;32m     31\u001b[0m \u001b[0mcalc\u001b[0m \u001b[1;33m=\u001b[0m \u001b[0mGroundStateEigensolver\u001b[0m\u001b[1;33m(\u001b[0m\u001b[0mqubit_converter\u001b[0m\u001b[1;33m,\u001b[0m \u001b[0mvqe_solver\u001b[0m\u001b[1;33m)\u001b[0m\u001b[1;33m\u001b[0m\u001b[1;33m\u001b[0m\u001b[0m\n\u001b[1;32m---> 32\u001b[1;33m \u001b[0mres\u001b[0m \u001b[1;33m=\u001b[0m \u001b[0mcalc\u001b[0m\u001b[1;33m.\u001b[0m\u001b[0msolve\u001b[0m\u001b[1;33m(\u001b[0m\u001b[0mes_problem\u001b[0m\u001b[1;33m)\u001b[0m\u001b[1;33m\u001b[0m\u001b[1;33m\u001b[0m\u001b[0m\n\u001b[0m\u001b[0;32m     33\u001b[0m \u001b[1;33m\u001b[0m\u001b[0m\n\u001b[0;32m     34\u001b[0m \u001b[0mprint\u001b[0m\u001b[1;33m(\u001b[0m\u001b[0mres\u001b[0m\u001b[1;33m)\u001b[0m\u001b[1;33m\u001b[0m\u001b[1;33m\u001b[0m\u001b[0m\n",
      "\u001b[1;32m~\\anaconda3\\envs\\qsharp-env\\lib\\site-packages\\qiskit_nature\\algorithms\\ground_state_solvers\\ground_state_eigensolver.py\u001b[0m in \u001b[0;36msolve\u001b[1;34m(self, problem, aux_operators)\u001b[0m\n\u001b[0;32m     85\u001b[0m         \u001b[1;31m# note that ``aux_ops`` contains not only the transformed ``aux_operators`` passed by the\u001b[0m\u001b[1;33m\u001b[0m\u001b[1;33m\u001b[0m\u001b[0m\n\u001b[0;32m     86\u001b[0m         \u001b[1;31m# user but also additional ones from the transformation\u001b[0m\u001b[1;33m\u001b[0m\u001b[1;33m\u001b[0m\u001b[0m\n\u001b[1;32m---> 87\u001b[1;33m         \u001b[0msecond_q_ops\u001b[0m \u001b[1;33m=\u001b[0m \u001b[0mproblem\u001b[0m\u001b[1;33m.\u001b[0m\u001b[0msecond_q_ops\u001b[0m\u001b[1;33m(\u001b[0m\u001b[1;33m)\u001b[0m\u001b[1;33m\u001b[0m\u001b[1;33m\u001b[0m\u001b[0m\n\u001b[0m\u001b[0;32m     88\u001b[0m \u001b[1;33m\u001b[0m\u001b[0m\n\u001b[0;32m     89\u001b[0m         main_operator = self._qubit_converter.convert(\n",
      "\u001b[1;32m~\\anaconda3\\envs\\qsharp-env\\lib\\site-packages\\qiskit_nature\\problems\\second_quantization\\electronic\\electronic_structure_problem.py\u001b[0m in \u001b[0;36msecond_q_ops\u001b[1;34m(self)\u001b[0m\n\u001b[0;32m     67\u001b[0m             \u001b[0moperator\u001b[0m\u001b[1;33m,\u001b[0m \u001b[1;32mand\u001b[0m \u001b[1;33m(\u001b[0m\u001b[1;32mif\u001b[0m \u001b[0mavailable\u001b[0m\u001b[1;33m)\u001b[0m \u001b[0mx\u001b[0m\u001b[1;33m,\u001b[0m \u001b[0my\u001b[0m\u001b[1;33m,\u001b[0m \u001b[0mz\u001b[0m \u001b[0mdipole\u001b[0m \u001b[0moperators\u001b[0m\u001b[1;33m.\u001b[0m\u001b[1;33m\u001b[0m\u001b[1;33m\u001b[0m\u001b[0m\n\u001b[0;32m     68\u001b[0m         \"\"\"\n\u001b[1;32m---> 69\u001b[1;33m         \u001b[0mdriver_result\u001b[0m \u001b[1;33m=\u001b[0m \u001b[0mself\u001b[0m\u001b[1;33m.\u001b[0m\u001b[0mdriver\u001b[0m\u001b[1;33m.\u001b[0m\u001b[0mrun\u001b[0m\u001b[1;33m(\u001b[0m\u001b[1;33m)\u001b[0m\u001b[1;33m\u001b[0m\u001b[1;33m\u001b[0m\u001b[0m\n\u001b[0m\u001b[0;32m     70\u001b[0m \u001b[1;33m\u001b[0m\u001b[0m\n\u001b[0;32m     71\u001b[0m         \u001b[1;32mif\u001b[0m \u001b[0mself\u001b[0m\u001b[1;33m.\u001b[0m\u001b[0m_legacy_driver\u001b[0m\u001b[1;33m:\u001b[0m\u001b[1;33m\u001b[0m\u001b[1;33m\u001b[0m\u001b[0m\n",
      "\u001b[1;32m~\\anaconda3\\envs\\qsharp-env\\lib\\site-packages\\qiskit_nature\\drivers\\second_quantization\\electronic_structure_molecule_driver.py\u001b[0m in \u001b[0;36mrun\u001b[1;34m(self)\u001b[0m\n\u001b[0;32m    170\u001b[0m \u001b[1;33m\u001b[0m\u001b[0m\n\u001b[0;32m    171\u001b[0m     \u001b[1;32mdef\u001b[0m \u001b[0mrun\u001b[0m\u001b[1;33m(\u001b[0m\u001b[0mself\u001b[0m\u001b[1;33m)\u001b[0m \u001b[1;33m->\u001b[0m \u001b[0mGroupedElectronicProperty\u001b[0m\u001b[1;33m:\u001b[0m\u001b[1;33m\u001b[0m\u001b[1;33m\u001b[0m\u001b[0m\n\u001b[1;32m--> 172\u001b[1;33m         driver_class = ElectronicStructureDriverType.driver_class_from_type(\n\u001b[0m\u001b[0;32m    173\u001b[0m             \u001b[0mself\u001b[0m\u001b[1;33m.\u001b[0m\u001b[0mdriver_type\u001b[0m\u001b[1;33m,\u001b[0m \u001b[0mself\u001b[0m\u001b[1;33m.\u001b[0m\u001b[0mmethod\u001b[0m\u001b[1;33m\u001b[0m\u001b[1;33m\u001b[0m\u001b[0m\n\u001b[0;32m    174\u001b[0m         )\n",
      "\u001b[1;32m~\\anaconda3\\envs\\qsharp-env\\lib\\site-packages\\qiskit_nature\\drivers\\second_quantization\\electronic_structure_molecule_driver.py\u001b[0m in \u001b[0;36mdriver_class_from_type\u001b[1;34m(driver_type, method)\u001b[0m\n\u001b[0;32m     82\u001b[0m                     \u001b[0mlibname\u001b[0m\u001b[1;33m=\u001b[0m\u001b[0mdriver_type\u001b[0m\u001b[1;33m,\u001b[0m \u001b[0mname\u001b[0m\u001b[1;33m=\u001b[0m\u001b[1;34m\"ElectronicStructureDriverType\"\u001b[0m\u001b[1;33m\u001b[0m\u001b[1;33m\u001b[0m\u001b[0m\n\u001b[0;32m     83\u001b[0m                 )\n\u001b[1;32m---> 84\u001b[1;33m             \u001b[0mdriver_class\u001b[0m\u001b[1;33m.\u001b[0m\u001b[0mcheck_installed\u001b[0m\u001b[1;33m(\u001b[0m\u001b[1;33m)\u001b[0m  \u001b[1;31m# type: ignore\u001b[0m\u001b[1;33m\u001b[0m\u001b[1;33m\u001b[0m\u001b[0m\n\u001b[0m\u001b[0;32m     85\u001b[0m             \u001b[0mdriver_class\u001b[0m\u001b[1;33m.\u001b[0m\u001b[0mcheck_method_supported\u001b[0m\u001b[1;33m(\u001b[0m\u001b[0mmethod\u001b[0m\u001b[1;33m)\u001b[0m  \u001b[1;31m# type: ignore\u001b[0m\u001b[1;33m\u001b[0m\u001b[1;33m\u001b[0m\u001b[0m\n\u001b[0;32m     86\u001b[0m \u001b[1;33m\u001b[0m\u001b[0m\n",
      "\u001b[1;32m~\\anaconda3\\envs\\qsharp-env\\lib\\site-packages\\qiskit_nature\\drivers\\second_quantization\\pyscfd\\pyscfdriver.py\u001b[0m in \u001b[0;36mcheck_installed\u001b[1;34m()\u001b[0m\n\u001b[0;32m    381\u001b[0m             ) from ex\n\u001b[0;32m    382\u001b[0m \u001b[1;33m\u001b[0m\u001b[0m\n\u001b[1;32m--> 383\u001b[1;33m         raise MissingOptionalLibraryError(\n\u001b[0m\u001b[0;32m    384\u001b[0m             \u001b[0mlibname\u001b[0m\u001b[1;33m=\u001b[0m\u001b[1;34m\"PySCF\"\u001b[0m\u001b[1;33m,\u001b[0m\u001b[1;33m\u001b[0m\u001b[1;33m\u001b[0m\u001b[0m\n\u001b[0;32m    385\u001b[0m             \u001b[0mname\u001b[0m\u001b[1;33m=\u001b[0m\u001b[1;34m\"PySCFDriver\"\u001b[0m\u001b[1;33m,\u001b[0m\u001b[1;33m\u001b[0m\u001b[1;33m\u001b[0m\u001b[0m\n",
      "\u001b[1;31mMissingOptionalLibraryError\u001b[0m: \"The 'PySCF' library is required to use 'PySCFDriver'. You can install it with 'pip install 'qiskit-nature[pyscf]''.  See https://pyscf.org/install.html.\""
     ]
    }
   ],
   "source": [
    "## Code from https://qiskit.org/documentation/nature/tutorials/03_ground_state_solvers.html\n",
    "\n",
    "from qiskit_nature.drivers import Molecule\n",
    "from qiskit_nature.drivers.second_quantization import (\n",
    "    ElectronicStructureDriverType,\n",
    "    ElectronicStructureMoleculeDriver,\n",
    ")\n",
    "from qiskit_nature.problems.second_quantization import ElectronicStructureProblem\n",
    "from qiskit_nature.converters.second_quantization import QubitConverter\n",
    "from qiskit_nature.mappers.second_quantization import JordanWignerMapper\n",
    "\n",
    "from qiskit import Aer\n",
    "from qiskit.utils import QuantumInstance\n",
    "from qiskit_nature.algorithms import VQEUCCFactory\n",
    "from qiskit_nature.algorithms import GroundStateEigensolver\n",
    "\n",
    "molecule = Molecule(\n",
    "    geometry=[[\"H\", [0.0, 0.0, 0.0]], [\"H\", [0.0, 0.0, 0.735]]], charge=0, multiplicity=1\n",
    ")\n",
    "driver = ElectronicStructureMoleculeDriver(\n",
    "    molecule, basis=\"sto3g\", driver_type=ElectronicStructureDriverType.PYSCF\n",
    ")\n",
    "\n",
    "es_problem = ElectronicStructureProblem(driver)\n",
    "qubit_converter = QubitConverter(JordanWignerMapper())\n",
    "\n",
    "quantum_instance = QuantumInstance(backend=Aer.get_backend(\"aer_simulator_statevector\"))\n",
    "vqe_solver = VQEUCCFactory(quantum_instance)\n",
    "\n",
    "\n",
    "calc = GroundStateEigensolver(qubit_converter, vqe_solver)\n",
    "res = calc.solve(es_problem)\n",
    "\n",
    "print(res)"
   ]
  },
  {
   "cell_type": "code",
   "execution_count": 25,
   "id": "d49772ee",
   "metadata": {},
   "outputs": [
    {
     "ename": "AttributeError",
     "evalue": "'NoneType' object has no attribute 'get_property'",
     "output_type": "error",
     "traceback": [
      "\u001b[1;31m---------------------------------------------------------------------------\u001b[0m",
      "\u001b[1;31mAttributeError\u001b[0m                            Traceback (most recent call last)",
      "\u001b[1;32m~\\AppData\\Local\\Temp/ipykernel_14660/3827676201.py\u001b[0m in \u001b[0;36m<module>\u001b[1;34m\u001b[0m\n\u001b[1;32m----> 1\u001b[1;33m \u001b[0mvqe_solver\u001b[0m\u001b[1;33m.\u001b[0m\u001b[0mget_solver\u001b[0m\u001b[1;33m(\u001b[0m\u001b[0mes_problem\u001b[0m\u001b[1;33m,\u001b[0m \u001b[0mqubit_converter\u001b[0m\u001b[1;33m)\u001b[0m\u001b[1;33m\u001b[0m\u001b[1;33m\u001b[0m\u001b[0m\n\u001b[0m",
      "\u001b[1;32m~\\anaconda3\\envs\\qsharp-env\\lib\\site-packages\\qiskit_nature\\algorithms\\ground_state_solvers\\minimum_eigensolver_factories\\vqe_ucc_factory.py\u001b[0m in \u001b[0;36mget_solver\u001b[1;34m(self, problem, qubit_converter)\u001b[0m\n\u001b[0;32m    201\u001b[0m         \"\"\"\n\u001b[0;32m    202\u001b[0m         \u001b[0mdriver_result\u001b[0m \u001b[1;33m=\u001b[0m \u001b[0mproblem\u001b[0m\u001b[1;33m.\u001b[0m\u001b[0mgrouped_property_transformed\u001b[0m\u001b[1;33m\u001b[0m\u001b[1;33m\u001b[0m\u001b[0m\n\u001b[1;32m--> 203\u001b[1;33m         \u001b[0mparticle_number\u001b[0m \u001b[1;33m=\u001b[0m \u001b[0mcast\u001b[0m\u001b[1;33m(\u001b[0m\u001b[0mParticleNumber\u001b[0m\u001b[1;33m,\u001b[0m \u001b[0mdriver_result\u001b[0m\u001b[1;33m.\u001b[0m\u001b[0mget_property\u001b[0m\u001b[1;33m(\u001b[0m\u001b[0mParticleNumber\u001b[0m\u001b[1;33m)\u001b[0m\u001b[1;33m)\u001b[0m\u001b[1;33m\u001b[0m\u001b[1;33m\u001b[0m\u001b[0m\n\u001b[0m\u001b[0;32m    204\u001b[0m         \u001b[0mnum_spin_orbitals\u001b[0m \u001b[1;33m=\u001b[0m \u001b[0mparticle_number\u001b[0m\u001b[1;33m.\u001b[0m\u001b[0mnum_spin_orbitals\u001b[0m\u001b[1;33m\u001b[0m\u001b[1;33m\u001b[0m\u001b[0m\n\u001b[0;32m    205\u001b[0m         \u001b[0mnum_particles\u001b[0m \u001b[1;33m=\u001b[0m \u001b[0mparticle_number\u001b[0m\u001b[1;33m.\u001b[0m\u001b[0mnum_alpha\u001b[0m\u001b[1;33m,\u001b[0m \u001b[0mparticle_number\u001b[0m\u001b[1;33m.\u001b[0m\u001b[0mnum_beta\u001b[0m\u001b[1;33m\u001b[0m\u001b[1;33m\u001b[0m\u001b[0m\n",
      "\u001b[1;31mAttributeError\u001b[0m: 'NoneType' object has no attribute 'get_property'"
     ]
    }
   ],
   "source": [
    "vqe_solver.get_solver(es_problem, qubit_converter).get_optimal_circuit()"
   ]
  },
  {
   "cell_type": "code",
   "execution_count": null,
   "id": "0c92aa60",
   "metadata": {},
   "outputs": [],
   "source": []
  },
  {
   "cell_type": "code",
   "execution_count": 22,
   "id": "ca9cdfb2",
   "metadata": {},
   "outputs": [
    {
     "ename": "MissingOptionalLibraryError",
     "evalue": "\"The 'PySCF' library is required to use 'PySCFDriver'. You can install it with 'pip install 'qiskit-nature[pyscf]''.  See https://pyscf.org/install.html.\"",
     "output_type": "error",
     "traceback": [
      "\u001b[1;31m---------------------------------------------------------------------------\u001b[0m",
      "\u001b[1;31mMissingOptionalLibraryError\u001b[0m               Traceback (most recent call last)",
      "\u001b[1;32m~\\AppData\\Local\\Temp/ipykernel_14660/4053738503.py\u001b[0m in \u001b[0;36m<module>\u001b[1;34m\u001b[0m\n\u001b[0;32m     34\u001b[0m \u001b[1;33m\u001b[0m\u001b[0m\n\u001b[0;32m     35\u001b[0m \u001b[1;33m\u001b[0m\u001b[0m\n\u001b[1;32m---> 36\u001b[1;33m \u001b[0mqeom_results\u001b[0m \u001b[1;33m=\u001b[0m \u001b[0mqeom_excited_states_calculation\u001b[0m\u001b[1;33m.\u001b[0m\u001b[0msolve\u001b[0m\u001b[1;33m(\u001b[0m\u001b[0mes_problem\u001b[0m\u001b[1;33m)\u001b[0m\u001b[1;33m\u001b[0m\u001b[1;33m\u001b[0m\u001b[0m\n\u001b[0m",
      "\u001b[1;32m~\\anaconda3\\envs\\qsharp-env\\lib\\site-packages\\qiskit_nature\\algorithms\\excited_states_solvers\\qeom.py\u001b[0m in \u001b[0;36msolve\u001b[1;34m(self, problem, aux_operators)\u001b[0m\n\u001b[0;32m    103\u001b[0m \u001b[1;33m\u001b[0m\u001b[0m\n\u001b[0;32m    104\u001b[0m         \u001b[1;31m# 1. Run ground state calculation\u001b[0m\u001b[1;33m\u001b[0m\u001b[1;33m\u001b[0m\u001b[0m\n\u001b[1;32m--> 105\u001b[1;33m         \u001b[0mgroundstate_result\u001b[0m \u001b[1;33m=\u001b[0m \u001b[0mself\u001b[0m\u001b[1;33m.\u001b[0m\u001b[0m_gsc\u001b[0m\u001b[1;33m.\u001b[0m\u001b[0msolve\u001b[0m\u001b[1;33m(\u001b[0m\u001b[0mproblem\u001b[0m\u001b[1;33m)\u001b[0m\u001b[1;33m\u001b[0m\u001b[1;33m\u001b[0m\u001b[0m\n\u001b[0m\u001b[0;32m    106\u001b[0m \u001b[1;33m\u001b[0m\u001b[0m\n\u001b[0;32m    107\u001b[0m         \u001b[1;31m# 2. Prepare the excitation operators\u001b[0m\u001b[1;33m\u001b[0m\u001b[1;33m\u001b[0m\u001b[0m\n",
      "\u001b[1;32m~\\anaconda3\\envs\\qsharp-env\\lib\\site-packages\\qiskit_nature\\algorithms\\ground_state_solvers\\ground_state_eigensolver.py\u001b[0m in \u001b[0;36msolve\u001b[1;34m(self, problem, aux_operators)\u001b[0m\n\u001b[0;32m     85\u001b[0m         \u001b[1;31m# note that ``aux_ops`` contains not only the transformed ``aux_operators`` passed by the\u001b[0m\u001b[1;33m\u001b[0m\u001b[1;33m\u001b[0m\u001b[0m\n\u001b[0;32m     86\u001b[0m         \u001b[1;31m# user but also additional ones from the transformation\u001b[0m\u001b[1;33m\u001b[0m\u001b[1;33m\u001b[0m\u001b[0m\n\u001b[1;32m---> 87\u001b[1;33m         \u001b[0msecond_q_ops\u001b[0m \u001b[1;33m=\u001b[0m \u001b[0mproblem\u001b[0m\u001b[1;33m.\u001b[0m\u001b[0msecond_q_ops\u001b[0m\u001b[1;33m(\u001b[0m\u001b[1;33m)\u001b[0m\u001b[1;33m\u001b[0m\u001b[1;33m\u001b[0m\u001b[0m\n\u001b[0m\u001b[0;32m     88\u001b[0m \u001b[1;33m\u001b[0m\u001b[0m\n\u001b[0;32m     89\u001b[0m         main_operator = self._qubit_converter.convert(\n",
      "\u001b[1;32m~\\anaconda3\\envs\\qsharp-env\\lib\\site-packages\\qiskit_nature\\problems\\second_quantization\\electronic\\electronic_structure_problem.py\u001b[0m in \u001b[0;36msecond_q_ops\u001b[1;34m(self)\u001b[0m\n\u001b[0;32m     67\u001b[0m             \u001b[0moperator\u001b[0m\u001b[1;33m,\u001b[0m \u001b[1;32mand\u001b[0m \u001b[1;33m(\u001b[0m\u001b[1;32mif\u001b[0m \u001b[0mavailable\u001b[0m\u001b[1;33m)\u001b[0m \u001b[0mx\u001b[0m\u001b[1;33m,\u001b[0m \u001b[0my\u001b[0m\u001b[1;33m,\u001b[0m \u001b[0mz\u001b[0m \u001b[0mdipole\u001b[0m \u001b[0moperators\u001b[0m\u001b[1;33m.\u001b[0m\u001b[1;33m\u001b[0m\u001b[1;33m\u001b[0m\u001b[0m\n\u001b[0;32m     68\u001b[0m         \"\"\"\n\u001b[1;32m---> 69\u001b[1;33m         \u001b[0mdriver_result\u001b[0m \u001b[1;33m=\u001b[0m \u001b[0mself\u001b[0m\u001b[1;33m.\u001b[0m\u001b[0mdriver\u001b[0m\u001b[1;33m.\u001b[0m\u001b[0mrun\u001b[0m\u001b[1;33m(\u001b[0m\u001b[1;33m)\u001b[0m\u001b[1;33m\u001b[0m\u001b[1;33m\u001b[0m\u001b[0m\n\u001b[0m\u001b[0;32m     70\u001b[0m \u001b[1;33m\u001b[0m\u001b[0m\n\u001b[0;32m     71\u001b[0m         \u001b[1;32mif\u001b[0m \u001b[0mself\u001b[0m\u001b[1;33m.\u001b[0m\u001b[0m_legacy_driver\u001b[0m\u001b[1;33m:\u001b[0m\u001b[1;33m\u001b[0m\u001b[1;33m\u001b[0m\u001b[0m\n",
      "\u001b[1;32m~\\anaconda3\\envs\\qsharp-env\\lib\\site-packages\\qiskit_nature\\drivers\\second_quantization\\electronic_structure_molecule_driver.py\u001b[0m in \u001b[0;36mrun\u001b[1;34m(self)\u001b[0m\n\u001b[0;32m    170\u001b[0m \u001b[1;33m\u001b[0m\u001b[0m\n\u001b[0;32m    171\u001b[0m     \u001b[1;32mdef\u001b[0m \u001b[0mrun\u001b[0m\u001b[1;33m(\u001b[0m\u001b[0mself\u001b[0m\u001b[1;33m)\u001b[0m \u001b[1;33m->\u001b[0m \u001b[0mGroupedElectronicProperty\u001b[0m\u001b[1;33m:\u001b[0m\u001b[1;33m\u001b[0m\u001b[1;33m\u001b[0m\u001b[0m\n\u001b[1;32m--> 172\u001b[1;33m         driver_class = ElectronicStructureDriverType.driver_class_from_type(\n\u001b[0m\u001b[0;32m    173\u001b[0m             \u001b[0mself\u001b[0m\u001b[1;33m.\u001b[0m\u001b[0mdriver_type\u001b[0m\u001b[1;33m,\u001b[0m \u001b[0mself\u001b[0m\u001b[1;33m.\u001b[0m\u001b[0mmethod\u001b[0m\u001b[1;33m\u001b[0m\u001b[1;33m\u001b[0m\u001b[0m\n\u001b[0;32m    174\u001b[0m         )\n",
      "\u001b[1;32m~\\anaconda3\\envs\\qsharp-env\\lib\\site-packages\\qiskit_nature\\drivers\\second_quantization\\electronic_structure_molecule_driver.py\u001b[0m in \u001b[0;36mdriver_class_from_type\u001b[1;34m(driver_type, method)\u001b[0m\n\u001b[0;32m     82\u001b[0m                     \u001b[0mlibname\u001b[0m\u001b[1;33m=\u001b[0m\u001b[0mdriver_type\u001b[0m\u001b[1;33m,\u001b[0m \u001b[0mname\u001b[0m\u001b[1;33m=\u001b[0m\u001b[1;34m\"ElectronicStructureDriverType\"\u001b[0m\u001b[1;33m\u001b[0m\u001b[1;33m\u001b[0m\u001b[0m\n\u001b[0;32m     83\u001b[0m                 )\n\u001b[1;32m---> 84\u001b[1;33m             \u001b[0mdriver_class\u001b[0m\u001b[1;33m.\u001b[0m\u001b[0mcheck_installed\u001b[0m\u001b[1;33m(\u001b[0m\u001b[1;33m)\u001b[0m  \u001b[1;31m# type: ignore\u001b[0m\u001b[1;33m\u001b[0m\u001b[1;33m\u001b[0m\u001b[0m\n\u001b[0m\u001b[0;32m     85\u001b[0m             \u001b[0mdriver_class\u001b[0m\u001b[1;33m.\u001b[0m\u001b[0mcheck_method_supported\u001b[0m\u001b[1;33m(\u001b[0m\u001b[0mmethod\u001b[0m\u001b[1;33m)\u001b[0m  \u001b[1;31m# type: ignore\u001b[0m\u001b[1;33m\u001b[0m\u001b[1;33m\u001b[0m\u001b[0m\n\u001b[0;32m     86\u001b[0m \u001b[1;33m\u001b[0m\u001b[0m\n",
      "\u001b[1;32m~\\anaconda3\\envs\\qsharp-env\\lib\\site-packages\\qiskit_nature\\drivers\\second_quantization\\pyscfd\\pyscfdriver.py\u001b[0m in \u001b[0;36mcheck_installed\u001b[1;34m()\u001b[0m\n\u001b[0;32m    381\u001b[0m             ) from ex\n\u001b[0;32m    382\u001b[0m \u001b[1;33m\u001b[0m\u001b[0m\n\u001b[1;32m--> 383\u001b[1;33m         raise MissingOptionalLibraryError(\n\u001b[0m\u001b[0;32m    384\u001b[0m             \u001b[0mlibname\u001b[0m\u001b[1;33m=\u001b[0m\u001b[1;34m\"PySCF\"\u001b[0m\u001b[1;33m,\u001b[0m\u001b[1;33m\u001b[0m\u001b[1;33m\u001b[0m\u001b[0m\n\u001b[0;32m    385\u001b[0m             \u001b[0mname\u001b[0m\u001b[1;33m=\u001b[0m\u001b[1;34m\"PySCFDriver\"\u001b[0m\u001b[1;33m,\u001b[0m\u001b[1;33m\u001b[0m\u001b[1;33m\u001b[0m\u001b[0m\n",
      "\u001b[1;31mMissingOptionalLibraryError\u001b[0m: \"The 'PySCF' library is required to use 'PySCFDriver'. You can install it with 'pip install 'qiskit-nature[pyscf]''.  See https://pyscf.org/install.html.\""
     ]
    }
   ],
   "source": [
    "from qiskit_nature.drivers import UnitsType, Molecule\n",
    "from qiskit_nature.drivers.second_quantization import (\n",
    "    ElectronicStructureDriverType,\n",
    "    ElectronicStructureMoleculeDriver,\n",
    ")\n",
    "from qiskit_nature.problems.second_quantization import ElectronicStructureProblem\n",
    "from qiskit_nature.converters.second_quantization import QubitConverter\n",
    "from qiskit_nature.mappers.second_quantization import JordanWignerMapper\n",
    "\n",
    "from qiskit import Aer\n",
    "from qiskit.utils import QuantumInstance\n",
    "from qiskit_nature.algorithms import GroundStateEigensolver, QEOM, VQEUCCFactory\n",
    "from qiskit_nature.algorithms import ExcitedStatesEigensolver\n",
    "\n",
    "molecule = Molecule(\n",
    "    geometry=[[\"H\", [0.0, 0.0, 0.0]], [\"H\", [0.0, 0.0, 0.735]]], charge=0, multiplicity=1\n",
    ")\n",
    "driver = ElectronicStructureMoleculeDriver(\n",
    "    molecule, basis=\"sto3g\", driver_type=ElectronicStructureDriverType.PYSCF\n",
    ")\n",
    "\n",
    "es_problem = ElectronicStructureProblem(driver)\n",
    "qubit_converter = QubitConverter(JordanWignerMapper())\n",
    "\n",
    "\n",
    "# This first part sets the ground state solver\n",
    "# see more about this part in the ground state calculation tutorial\n",
    "quantum_instance = QuantumInstance(Aer.get_backend(\"aer_simulator_statevector\"))\n",
    "solver = VQEUCCFactory(quantum_instance)\n",
    "gsc = GroundStateEigensolver(qubit_converter, solver)\n",
    "\n",
    "# The qEOM algorithm is simply instantiated with the chosen ground state solver\n",
    "qeom_excited_states_calculation = QEOM(gsc, \"sd\")\n",
    "\n",
    "\n",
    "qeom_results = qeom_excited_states_calculation.solve(es_problem)"
   ]
  },
  {
   "cell_type": "code",
   "execution_count": null,
   "id": "5cbd25d4",
   "metadata": {},
   "outputs": [],
   "source": []
  }
 ],
 "metadata": {
  "kernelspec": {
   "display_name": "Python 3 (ipykernel)",
   "language": "python",
   "name": "python3"
  },
  "language_info": {
   "codemirror_mode": {
    "name": "ipython",
    "version": 3
   },
   "file_extension": ".py",
   "mimetype": "text/x-python",
   "name": "python",
   "nbconvert_exporter": "python",
   "pygments_lexer": "ipython3",
   "version": "3.9.7"
  }
 },
 "nbformat": 4,
 "nbformat_minor": 5
}
