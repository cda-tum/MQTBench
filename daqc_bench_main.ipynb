{
 "cells": [
  {
   "cell_type": "code",
   "execution_count": 1,
   "id": "beaa99e7",
   "metadata": {},
   "outputs": [
    {
     "name": "stderr",
     "output_type": "stream",
     "text": [
      "C:\\Users\\Nils\\anaconda3\\envs\\qsharp-env\\lib\\site-packages\\qiskit\\aqua\\__init__.py:86: DeprecationWarning: The package qiskit.aqua is deprecated. It was moved/refactored to qiskit-terra For more information see <https://github.com/Qiskit/qiskit-aqua/blob/main/README.md#migration-guide>\n",
      "  warn_package('aqua', 'qiskit-terra')\n",
      "C:\\Users\\Nils\\anaconda3\\envs\\qsharp-env\\lib\\site-packages\\qiskit\\finance\\__init__.py:50: DeprecationWarning: The package qiskit.finance is deprecated. It was moved/refactored to qiskit_finance (pip install qiskit-finance). For more information see <https://github.com/Qiskit/qiskit-aqua/blob/main/README.md#migration-guide>\n",
      "  warn_package('finance', 'qiskit_finance', 'qiskit-finance')\n",
      "C:\\Users\\Nils\\anaconda3\\envs\\qsharp-env\\lib\\site-packages\\qiskit\\optimization\\__init__.py:92: DeprecationWarning: The package qiskit.optimization is deprecated. It was moved/refactored to qiskit_optimization (pip install qiskit-optimization). For more information see <https://github.com/Qiskit/qiskit-aqua/blob/main/README.md#migration-guide>\n",
      "  warn_package('optimization', 'qiskit_optimization', 'qiskit-optimization')\n"
     ]
    }
   ],
   "source": [
    "from qiskit import QuantumCircuit, QuantumRegister, ClassicalRegister, AncillaRegister, IBMQ, Aer, __qiskit_version__\n",
    "from qiskit.circuit.library import QFT, GraphState, GroverOperator\n",
    "from qiskit.qasm import pi\n",
    "\n",
    "import numpy as np\n",
    "import matplotlib.pyplot as plt\n",
    "import os.path\n",
    "\n",
    "from src.utils import *\n",
    "from src.benchmarks import grover, qaoa, ghz, qft, qftentangled, shor, wstate, qpeinexact, qpeexact, graphstate, vqe, deutschjozsa, hhl, ae, qwalk\n",
    "from src.benchmarks.qiskit_application_optimization import routing, tsp\n",
    "from src.benchmarks.qiskit_application_finance import portfolioqaoa, portfoliovqe, pricingcall, pricingput\n",
    "from src.benchmarks.qiskit_application_ml import qgan\n",
    "\n",
    "from qiskit.test.mock import FakeBogota, FakeCasablanca, FakeGuadalupe, FakeMontreal, FakeManhattan"
   ]
  },
  {
   "cell_type": "code",
   "execution_count": 2,
   "id": "b44a65ca",
   "metadata": {},
   "outputs": [],
   "source": [
    "# provider = IBMQ.load_account()\n",
    "# backend = provider.backend.ibmq_santiago\n",
    "# c_map = backend.configuration().coupling_map"
   ]
  },
  {
   "cell_type": "code",
   "execution_count": 3,
   "id": "0c626676",
   "metadata": {},
   "outputs": [],
   "source": [
    "ibm_native_gates = FakeMontreal().configuration().basis_gates\n",
    "rigetti_native_gates = ['rx','rz','cz']"
   ]
  },
  {
   "cell_type": "code",
   "execution_count": 4,
   "id": "e5a7f0b4",
   "metadata": {},
   "outputs": [],
   "source": [
    "benchmarks = [graphstate, grover, qaoa, ghz, qft, wstate, qpeinexact, qpeexact, vqe, deutschjozsa, hhl, shor, ae, qwalk, qftentangled]\n",
    "#benchmarks_application = [vehicle_routing, travelling_salesman, portfolio_optimization_qaoa, portfolio_optimization_vqe, pricing_eur_call_opt, pricing_eur_put_opt, qgan]\n",
    "benchmarks_application = [portfolioqaoa, portfoliovqe, pricingcall, pricingput, qgan]\n",
    "benchmarks = [grover, qwalk]\n",
    "benchmarks_application = []"
   ]
  },
  {
   "cell_type": "code",
   "execution_count": 5,
   "id": "682cf615",
   "metadata": {},
   "outputs": [],
   "source": [
    "n_min = 3\n",
    "n_max = 10\n",
    "stepsize = 4\n",
    "num_qubits_test = 5\n",
    "save_hist = False\n",
    "save_png = False\n",
    "simulator = Aer.get_backend('qasm_simulator')\n",
    "ibm_smallest_fitting = True #smallest fitting architecture-> True, biggest architecture-> False\n",
    "ancillary_mode=\"v-chain\""
   ]
  },
  {
   "cell_type": "code",
   "execution_count": 6,
   "id": "39cec9c1",
   "metadata": {},
   "outputs": [
    {
     "name": "stdout",
     "output_type": "stream",
     "text": [
      "qpy_output/grover-v-chain_algorithm_3.qpy already existed\n",
      "qpy_output/grover-v-chain_t-indep_3.qpy already existed\n"
     ]
    },
    {
     "name": "stderr",
     "output_type": "stream",
     "text": [
      "C:\\Users\\Nils\\anaconda3\\envs\\qsharp-env\\lib\\site-packages\\sympy\\core\\expr.py:3949: SymPyDeprecationWarning: \n",
      "\n",
      "expr_free_symbols method has been deprecated since SymPy 1.9. See\n",
      "https://github.com/sympy/sympy/issues/21494 for more info.\n",
      "\n",
      "  SymPyDeprecationWarning(feature=\"expr_free_symbols method\",\n"
     ]
    },
    {
     "name": "stdout",
     "output_type": "stream",
     "text": [
      "qpy_output/grover-v-chain_algorithm_3.qpy already existed\n",
      "qpy_output/grover-v-chain_t-indep_3.qpy already existed\n",
      "qpy_output/grover-v-chain_algorithm_7.qpy already existed\n",
      "qpy_output/grover-v-chain_t-indep_7.qpy already existed\n",
      "qpy_output/grover-v-chain_algorithm_7.qpy already existed\n",
      "qpy_output/grover-v-chain_t-indep_7.qpy already existed\n",
      "qpy_output/qwalk-v-chain_algorithm_3.qpy already existed\n",
      "qpy_output/qwalk-v-chain_t-indep_3.qpy already existed\n",
      "qpy_output/qwalk-v-chain_algorithm_3.qpy already existed\n",
      "qpy_output/qwalk-v-chain_t-indep_3.qpy already existed\n",
      "qpy_output/qwalk-v-chain_algorithm_7.qpy already existed\n",
      "qpy_output/qwalk-v-chain_t-indep_7.qpy already existed\n",
      "qpy_output/qwalk-v-chain_algorithm_7.qpy already existed\n",
      "qpy_output/qwalk-v-chain_t-indep_7.qpy already existed\n"
     ]
    }
   ],
   "source": [
    "characteristics = []\n",
    "gate_sets = [(ibm_native_gates, \"ibm\"), (rigetti_native_gates, \"rigetti\")]\n",
    "\n",
    "for benchmark in benchmarks+benchmarks_application:\n",
    "    \n",
    "    if benchmark == shor or benchmark == hhl:\n",
    "        continue\n",
    "\n",
    "    for n in range(n_min, n_max, stepsize):  \n",
    "        \n",
    "        for gate_set, gate_set_name in gate_sets:\n",
    "            \n",
    "            \n",
    "            #print(benchmark, gate_set_name, max_n_arch)\n",
    "            \n",
    "#             try:          \n",
    "\n",
    "            index = 0\n",
    "            # Creating the circuit on Algorithmic Description Layer\n",
    "            if (benchmark == grover or benchmark == qwalk):\n",
    "                qc = benchmark.create_circuit(n, ancillary_mode=ancillary_mode)\n",
    "                qc.name = qc.name + \"-\" + ancillary_mode\n",
    "            else:\n",
    "                qc = benchmark.create_circuit(n)\n",
    "\n",
    "            filename = qc.name + \"_algorithm_\" + str(n) \n",
    "\n",
    "            if not (os.path.isfile(\"qpy_output/\" + filename + '.qpy')): \n",
    "                serialize_qc(qc, n, filename) \n",
    "                if save_png: save_circ(qc, filename)\n",
    "                if save_hist: sim_and_print_hist(qc, simulator, filename)\n",
    "\n",
    "                depth = qc.depth()\n",
    "                characteristics.append([qc, n, depth]) \n",
    "            else: print(\"qpy_output/\" + filename + '.qpy' + \" already existed\")\n",
    "\n",
    "            index = 1\n",
    "            # Creating the circuit on target-independent Description Layer\n",
    "            filename = qc.name + \"_t-indep_\" + str(n) \n",
    "            if not (os.path.isfile(\"qpy_output/\" + filename + '.qpy')): \n",
    "                target_independent = transpile(qc, optimization_level=1)\n",
    "                serialize_qc(target_independent, n, filename)   \n",
    "                if save_png: save_circ(qc, filename)\n",
    "                if save_hist: sim_and_print_hist(qc, simulator, filename)\n",
    "\n",
    "                depth = target_independent.depth()\n",
    "                characteristics.append([target_independent, n, depth]) \n",
    "            else: print(\"qpy_output/\" + filename + '.qpy' + \" already existed\")  \n",
    "\n",
    "            for opt_level in range(4):                    \n",
    "                index = 2\n",
    "                # Creating the circuit on target-dependent: native gates layer\n",
    "                filename_transpiled = qc.name + \"_transpiled_\" + gate_set_name + \"_opt\" + str(opt_level) + \"_\"+ str(n)                     \n",
    "                if (not (os.path.isfile(\"qasm_output/\" + filename_transpiled + '.qasm')) or benchmark==grover or benchmark==qwalk): \n",
    "                    compiled_without_architecure = get_compiled_circuit(qc = qc, opt_level=opt_level, basis_gates=gate_set)\n",
    "                    n_actual = compiled_without_architecure.num_qubits\n",
    "                    filename_transpiled = qc.name + \"_transpiled_\" + gate_set_name + \"_opt\" + str(opt_level) + \"_\"+ str(n_actual) \n",
    "                    save_as_qasm(compiled_without_architecure, n, filename_transpiled , gate_set, opt_level)  \n",
    "                    if save_png: save_circ(compiled_without_architecure, filename_transpiled)   \n",
    "                    if save_hist: sim_and_print_hist(compiled_without_architecure, simulator, filename_transpiled)\n",
    "\n",
    "                    depth = compiled_without_architecure.depth()\n",
    "                    characteristics.append([filename_transpiled, n, depth]) \n",
    "                else: print(\"qasm_output/\" + filename_transpiled + '.qasm' + \" already existed\")\n",
    "\n",
    "\n",
    "                index = 3\n",
    "                # Creating the circuit on target-dependent: mapped layer\n",
    "                n_actual = QuantumCircuit.from_qasm_file(\"qasm_output/\" + filename_transpiled + '.qasm').num_qubits\n",
    "\n",
    "                if gate_set_name == \"rigetti\":\n",
    "                    c_map = get_rigetti_c_map()\n",
    "                    backend_name = \"32 qubits\"\n",
    "                    gate_set_name_mapped = gate_set_name\n",
    "                elif gate_set_name == \"ibm\":\n",
    "                    if ibm_smallest_fitting:\n",
    "                        if n_actual <= 5: backend = FakeBogota()\n",
    "                        elif n_actual <= 7: backend = FakeCasablanca()\n",
    "                        elif n_actual <= 16: backend = FakeGuadalupe()\n",
    "                        elif n_actual <= 27: backend = FakeMontreal()\n",
    "                        elif n_actual <= 65: backend = FakeManhattan()\n",
    "                        gate_set_name_mapped = gate_set_name + \"-s\"\n",
    "                    else: \n",
    "                        backend = FakeManhattan()\n",
    "                        gate_set_name_mapped = gate_set_name + \"-b\"\n",
    "\n",
    "                    c_map = backend.configuration().coupling_map\n",
    "                    backend_name = backend.name()\n",
    "                else:\n",
    "                    raise ValueError(\"Gate Set Error\")\n",
    "                max_n_arch = max(max(c_map)) + 1 # +1 because indexing starts at 0 \n",
    "\n",
    "                if (n_actual <= max_n_arch):\n",
    "\n",
    "                    filename_mapped = qc.name + \"_mapped_\" + gate_set_name_mapped + \"_opt\" + str(opt_level) + \"_\"+ str(n_actual) \n",
    "                    if (not (os.path.isfile(\"qasm_output/\" + filename_mapped + '.qasm')) or benchmark==grover or benchmark==qwalk): \n",
    "\n",
    "                        compiled_with_architecture = get_compiled_circuit(qc = qc, opt_level=opt_level, \n",
    "                                                                          basis_gates=gate_set, c_map=c_map)\n",
    "                        save_as_qasm(compiled_with_architecture, n, filename_mapped, gate_set, \n",
    "                                     opt_level, True, c_map, gate_set_name_mapped + \"-\" + backend_name)\n",
    "\n",
    "                        if save_png: save_circ(compiled_with_architecture, filename_mapped)\n",
    "                        if save_hist: sim_and_print_hist(compiled_with_architecture, simulator, filename_mapped)\n",
    "\n",
    "                        depth = compiled_with_architecture.depth()\n",
    "                        characteristics.append([filename_mapped, n, depth])\n",
    "                else: print(\"qasm_output/\" + filename_mapped + '.qasm' + \" already existed\")\n",
    "\n",
    "            \n",
    "#             except:\n",
    "#                 print(\"\\n Problem occured: \", benchmark, n, gate_set_name, index)\n",
    "#                 pass\n",
    "\n",
    "            \n",
    "## Todo: Anpassung der benchmarks, wo n != num qubits ist\n",
    "#create_shor_benchmarks()\n",
    "#create_hhl_benchmarks()\n",
    "#create grover + qwalk with mxc-mode = \"v-chain\"\n",
    "#application: optimization, nature"
   ]
  },
  {
   "cell_type": "code",
   "execution_count": 7,
   "id": "7d428e10",
   "metadata": {
    "scrolled": true
   },
   "outputs": [
    {
     "data": {
      "image/png": "[encoded data removed]",
      "text/plain": [
       "<Figure size 432x288 with 1 Axes>"
      ]
     },
     "metadata": {
      "needs_background": "light"
     },
     "output_type": "display_data"
    }
   ],
   "source": [
    "characteristics = np.array(characteristics)\n",
    "plt.scatter(x=characteristics[:,1].astype(int), y=characteristics[:,2].astype(int))\n",
    "plt.yscale('log')\n",
    "plt.title('Depth and Width of generated Benchmarks')\n",
    "plt.xlabel('# of Qubits')\n",
    "plt.ylabel('Circuit Depth');"
   ]
  },
  {
   "cell_type": "code",
   "execution_count": 8,
   "id": "e673c80d",
   "metadata": {},
   "outputs": [],
   "source": [
    "def create_shor_benchmarks():\n",
    "    small = [15,4] #18 qubits\n",
    "    medium = [821, 4] #42 qubits\n",
    "    large = [11777, 4] #58 qubits\n",
    "    xlarge = [201209, 4] # 74 qubits\n",
    "    benchmark_list = [small]#, medium, large, xlarge]\n",
    "    for n, a in benchmark_list:        \n",
    "        \n",
    "        # Creating the circuit on Algorithmic Description Layer\n",
    "        qc = shor.create_circuit(n,a)\n",
    "        num_qubits = str(len(qc.qubits))\n",
    "        filename = qc.name + \"_algorithm_\" +  str(num_qubits) \n",
    "        serialize_qc(qc, num_qubits, filename) \n",
    "        if save_png: save_circ(qc, filename)\n",
    "            \n",
    "        # Creating the circuit on target-independent Description Layer\n",
    "        target_independent = transpile(qc, optimization_level=2)\n",
    "        filename = qc.name + \"_t-indep_\" + num_qubits\n",
    "        serialize_qc(target_independent, num_qubits, filename)          \n",
    "        if save_png: save_circ(qc, filename)\n",
    "            \n",
    "        # Creating the circuit on target-dependent: native gates layer\n",
    "        compiled_without_architecure = get_compiled_circuit(qc = qc, opt_level=opt_level, basis_gates=basis_gates)\n",
    "        num_qubits = str(len(compiled_without_architecure.qubits))\n",
    "        filename_transpiled = qc.name + \"_transpiled_\" + gate_set_name + \"_opt\" + str(opt_level) + \"_\"+ num_qubits\n",
    "        save_as_qasm(compiled_without_architecure, num_qubits, filename_transpiled , basis_gates, opt_level)  \n",
    "        \n",
    "        depth = compiled_without_architecure.depth()        \n",
    "        characteristics.append([filename, num_qubits, depth])\n",
    "        \n",
    "        if save_png: save_circ(compiled_without_architecure, filename)       \n",
    "        if save_hist:\n",
    "            sim_and_print_hist(compiled_without_architecure, simulator, filename)\n",
    "        \n",
    "        # Creating the circuit on target-dependent: mapped layer\n",
    "        if (int(num_qubits) < max_n_arch):\n",
    "            compiled_with_architecture = get_compiled_circuit(qc = qc, opt_level=opt_level,\n",
    "                                                              basis_gates=basis_gates, c_map=c_map)\n",
    "            num_qubits = str(len(compiled_with_architecture.qubits))\n",
    "            filename_mapped = qc.name + \"_mapped_\" + gate_set_name + \"_opt\" + str(opt_level) + \"_\" + num_qubits\n",
    "            save_as_qasm(compiled_with_architecture, num_qubits, filename_mapped, basis_gates, \n",
    "                         opt_level, True, c_map, backend.name() if backend.name() else \"\")\n",
    "            \n",
    "            depth = compiled_with_architecture.depth()\n",
    "            characteristics.append([filename, num_qubits, depth])\n",
    "            if save_png: save_circ(compiled_with_architecture, filename)\n",
    "            \n",
    "            if save_hist:\n",
    "                sim_and_print_hist(compiled_with_architecture, simulator, filename)"
   ]
  },
  {
   "cell_type": "code",
   "execution_count": 9,
   "id": "3df29386",
   "metadata": {},
   "outputs": [],
   "source": [
    "def create_hhl_benchmarks():\n",
    "    # n is not the number of qubits in this case\n",
    "    for n in range(1,2):         \n",
    "        \n",
    "        # Creating the circuit on Algorithmic Description Layer\n",
    "        qc = hhl.create_circuit(n)\n",
    "        num_qubits = str(len(qc.qubits))\n",
    "        filename = qc.name + \"_algorithm_\" + str(num_qubits)\n",
    "        serialize_qc(qc, num_qubits, filename)          \n",
    "        if save_png: save_circ(qc, filename)\n",
    "            \n",
    "        # Creating the circuit on target-independent Description Layer\n",
    "        target_independent = transpile(qc, optimization_level=2)\n",
    "        filename = qc.name + \"_t-indep_\" + num_qubits\n",
    "        serialize_qc(target_independent, num_qubits, filename)          \n",
    "        if save_png: save_circ(qc, filename)\n",
    "        \n",
    "        # Creating the circuit on target-dependent: native gates layer\n",
    "        compiled_without_architecure = get_compiled_circuit(qc = qc, opt_level=opt_level, basis_gates=basis_gates)\n",
    "        num_qubits = str(len(compiled_without_architecure.qubits))\n",
    "        filename_transpiled = qc.name + \"_transpiled_\" + gate_set_name + \"_opt\" + str(opt_level) + \"_\"+ num_qubits\n",
    "        save_as_qasm(compiled_without_architecure, num_qubits, filename_transpiled , basis_gates, opt_level)           \n",
    "        \n",
    "        depth = compiled_without_architecure.depth()        \n",
    "        characteristics.append([filename, num_qubits, depth])\n",
    "        if save_png: save_circ(compiled_without_architecure, filename)  \n",
    "        \n",
    "        if save_hist:\n",
    "            sim_and_print_hist(compiled_without_architecure, simulator, filename)\n",
    "        \n",
    "        # Creating the circuit on target-dependent: mapped layer\n",
    "        if (int(num_qubits) < max_n_arch):\n",
    "            compiled_with_architecture = get_compiled_circuit(qc = qc, opt_level=opt_level, \n",
    "                                                              basis_gates=basis_gates, c_map=c_map)\n",
    "            \n",
    "            num_qubits = str(len(compiled_with_architecture.qubits))\n",
    "            \n",
    "            filename_mapped = qc.name + \"_mapped_\" + gate_set_name + \"_opt\" + str(opt_level) + \"_\"+ str(num_qubits) \n",
    "            save_as_qasm(compiled_with_architecture, num_qubits, filename_mapped, basis_gates, \n",
    "                         opt_level, True, c_map, backend.name() if backend.name() else \"\")\n",
    "            \n",
    "            depth = compiled_with_architecture.depth()\n",
    "            characteristics.append([filename, num_qubits, depth])\n",
    "            if save_png: save_circ(compiled_with_architecture, filename)\n",
    "            \n",
    "            if save_hist:\n",
    "                sim_and_print_hist(compiled_with_architecture, simulator, filename)"
   ]
  },
  {
   "cell_type": "markdown",
   "id": "e50f9ad1",
   "metadata": {},
   "source": [
    "Grover Test"
   ]
  },
  {
   "cell_type": "code",
   "execution_count": 10,
   "id": "693d26bf",
   "metadata": {
    "scrolled": true
   },
   "outputs": [
    {
     "ename": "NameError",
     "evalue": "name 'basis_gates' is not defined",
     "output_type": "error",
     "traceback": [
      "\u001b[1;31m---------------------------------------------------------------------------\u001b[0m",
      "\u001b[1;31mNameError\u001b[0m                                 Traceback (most recent call last)",
      "\u001b[1;32m~\\AppData\\Local\\Temp/ipykernel_1976/1004392683.py\u001b[0m in \u001b[0;36m<module>\u001b[1;34m\u001b[0m\n\u001b[0;32m      1\u001b[0m \u001b[0ma\u001b[0m \u001b[1;33m=\u001b[0m \u001b[0mgrover\u001b[0m\u001b[1;33m.\u001b[0m\u001b[0mcreate_circuit\u001b[0m\u001b[1;33m(\u001b[0m\u001b[0mnum_qubits_test\u001b[0m\u001b[1;33m)\u001b[0m\u001b[1;33m\u001b[0m\u001b[1;33m\u001b[0m\u001b[0m\n\u001b[1;32m----> 2\u001b[1;33m \u001b[0mb\u001b[0m \u001b[1;33m=\u001b[0m \u001b[0mget_compiled_circuit\u001b[0m\u001b[1;33m(\u001b[0m\u001b[0ma\u001b[0m\u001b[1;33m,\u001b[0m \u001b[0mopt_level\u001b[0m\u001b[1;33m=\u001b[0m\u001b[1;36m2\u001b[0m\u001b[1;33m,\u001b[0m \u001b[0mbasis_gates\u001b[0m\u001b[1;33m=\u001b[0m\u001b[0mbasis_gates\u001b[0m\u001b[1;33m)\u001b[0m\u001b[1;33m\u001b[0m\u001b[1;33m\u001b[0m\u001b[0m\n\u001b[0m\u001b[0;32m      3\u001b[0m \u001b[0msave_as_qasm\u001b[0m\u001b[1;33m(\u001b[0m\u001b[0mb\u001b[0m\u001b[1;33m,\u001b[0m \u001b[0mnum_qubits_test\u001b[0m\u001b[1;33m,\u001b[0m \u001b[0mbasis_gates\u001b[0m\u001b[1;33m)\u001b[0m\u001b[1;33m\u001b[0m\u001b[1;33m\u001b[0m\u001b[0m\n\u001b[0;32m      4\u001b[0m \u001b[0mc\u001b[0m \u001b[1;33m=\u001b[0m \u001b[0mget_compiled_circuit\u001b[0m\u001b[1;33m(\u001b[0m\u001b[0mb\u001b[0m\u001b[1;33m,\u001b[0m \u001b[0mopt_level\u001b[0m\u001b[1;33m=\u001b[0m\u001b[1;36m2\u001b[0m\u001b[1;33m,\u001b[0m \u001b[0mbasis_gates\u001b[0m\u001b[1;33m=\u001b[0m\u001b[0mbasis_gates\u001b[0m\u001b[1;33m,\u001b[0m \u001b[0mc_map\u001b[0m\u001b[1;33m=\u001b[0m\u001b[0mc_map\u001b[0m\u001b[1;33m)\u001b[0m\u001b[1;33m\u001b[0m\u001b[1;33m\u001b[0m\u001b[0m\n\u001b[0;32m      5\u001b[0m \u001b[0msave_as_qasm\u001b[0m\u001b[1;33m(\u001b[0m\u001b[0mc\u001b[0m\u001b[1;33m,\u001b[0m \u001b[0mnum_qubits_test\u001b[0m\u001b[1;33m,\u001b[0m \u001b[0mbasis_gates\u001b[0m\u001b[1;33m,\u001b[0m \u001b[1;32mTrue\u001b[0m\u001b[1;33m,\u001b[0m \u001b[0mc_map\u001b[0m\u001b[1;33m,\u001b[0m \u001b[0mbackend\u001b[0m\u001b[1;33m.\u001b[0m\u001b[0mname\u001b[0m\u001b[1;33m(\u001b[0m\u001b[1;33m)\u001b[0m \u001b[1;32mif\u001b[0m \u001b[0mbackend\u001b[0m\u001b[1;33m.\u001b[0m\u001b[0mname\u001b[0m\u001b[1;33m(\u001b[0m\u001b[1;33m)\u001b[0m \u001b[1;32melse\u001b[0m \u001b[1;34m\"\"\u001b[0m\u001b[1;33m)\u001b[0m\u001b[1;33m\u001b[0m\u001b[1;33m\u001b[0m\u001b[0m\n",
      "\u001b[1;31mNameError\u001b[0m: name 'basis_gates' is not defined"
     ]
    }
   ],
   "source": [
    "a = grover.create_circuit(num_qubits_test)\n",
    "b = get_compiled_circuit(a, opt_level=2, basis_gates=basis_gates)\n",
    "save_as_qasm(b, num_qubits_test, basis_gates)\n",
    "c = get_compiled_circuit(b, opt_level=2, basis_gates=basis_gates, c_map=c_map)\n",
    "save_as_qasm(c, num_qubits_test, basis_gates, True, c_map, backend.name() if backend.name() else \"\")"
   ]
  },
  {
   "cell_type": "code",
   "execution_count": null,
   "id": "929098fa",
   "metadata": {},
   "outputs": [],
   "source": [
    "a = grover.create_circuit(12, \"recursion\")\n",
    "basis_gates = ['rx','rz','cz']\n",
    "b = get_compiled_circuit(a, opt_level=2, basis_gates=basis_gates)\n",
    "print(a.num_qubits, b.num_qubits)"
   ]
  },
  {
   "cell_type": "markdown",
   "id": "e22aa20a",
   "metadata": {},
   "source": [
    "QAOA Test"
   ]
  },
  {
   "cell_type": "code",
   "execution_count": null,
   "id": "4519c621",
   "metadata": {},
   "outputs": [],
   "source": [
    "a = qaoa.create_circuit(num_qubits_test)\n",
    "b = get_compiled_circuit(a, opt_level=2, basis_gates=basis_gates)\n",
    "save_as_qasm(b, num_qubits_test, basis_gates)\n",
    "c = get_compiled_circuit(b, opt_level=2, basis_gates=basis_gates, c_map=c_map)\n",
    "save_as_qasm(c, num_qubits_test, basis_gates, True, c_map, backend.name() if backend.name() else \"\")"
   ]
  },
  {
   "cell_type": "markdown",
   "id": "9bfe5941",
   "metadata": {},
   "source": [
    "GHZ Test"
   ]
  },
  {
   "cell_type": "code",
   "execution_count": null,
   "id": "1223017a",
   "metadata": {},
   "outputs": [],
   "source": [
    "a = ghz.create_circuit(num_qubits_test)\n",
    "b = get_compiled_circuit(a, opt_level=2, basis_gates=basis_gates)\n",
    "save_as_qasm(b, num_qubits_test, basis_gates)\n",
    "c = get_compiled_circuit(b, opt_level=2, basis_gates=basis_gates, c_map=c_map)\n",
    "save_as_qasm(c, num_qubits_test, basis_gates, True, c_map, backend.name() if backend.name() else \"\")"
   ]
  },
  {
   "cell_type": "markdown",
   "id": "abbdc9b6",
   "metadata": {},
   "source": [
    "QFT Test"
   ]
  },
  {
   "cell_type": "code",
   "execution_count": null,
   "id": "dc3a8d76",
   "metadata": {},
   "outputs": [],
   "source": [
    "a = qft.create_circuit(num_qubits_test)\n",
    "b = get_compiled_circuit(a, opt_level=2, basis_gates=basis_gates)\n",
    "save_as_qasm(b, num_qubits_test, basis_gates)\n",
    "c = get_compiled_circuit(b, opt_level=2, basis_gates=basis_gates, c_map=c_map)\n",
    "save_as_qasm(c, num_qubits_test, basis_gates, True, c_map, backend.name() if backend.name() else \"\")"
   ]
  },
  {
   "cell_type": "markdown",
   "id": "d9f9b65e",
   "metadata": {},
   "source": [
    "QFT Entangled Test"
   ]
  },
  {
   "cell_type": "code",
   "execution_count": null,
   "id": "90dad9c3",
   "metadata": {},
   "outputs": [],
   "source": [
    "a = qft_entangled.create_circuit(num_qubits_test)\n",
    "b = get_compiled_circuit(a, opt_level=2, basis_gates=basis_gates)\n",
    "save_as_qasm(b, num_qubits_test, basis_gates)\n",
    "c = get_compiled_circuit(b, opt_level=2, basis_gates=basis_gates, c_map=c_map)\n",
    "save_as_qasm(c, num_qubits_test, basis_gates, True, c_map, backend.name() if backend.name() else \"\")"
   ]
  },
  {
   "cell_type": "markdown",
   "id": "b6fbfd51",
   "metadata": {},
   "source": [
    "W-State Test"
   ]
  },
  {
   "cell_type": "code",
   "execution_count": null,
   "id": "28c0fda2",
   "metadata": {},
   "outputs": [],
   "source": [
    "a = w_state.create_circuit(num_qubits_test)\n",
    "b = get_compiled_circuit(a, opt_level=2, basis_gates=basis_gates)\n",
    "save_as_qasm(b, num_qubits_test, basis_gates)\n",
    "c = get_compiled_circuit(b, opt_level=2, basis_gates=basis_gates, c_map=c_map)\n",
    "save_as_qasm(c, num_qubits_test, basis_gates, True, c_map, backend.name() if backend.name() else \"\")"
   ]
  },
  {
   "cell_type": "markdown",
   "id": "63e5e278",
   "metadata": {},
   "source": [
    "QPE Exact and QPE Inexact Test"
   ]
  },
  {
   "cell_type": "code",
   "execution_count": null,
   "id": "0912cc93",
   "metadata": {},
   "outputs": [],
   "source": [
    "a = qpe_exact.create_circuit(num_qubits_test)\n",
    "b = get_compiled_circuit(a, opt_level=2, basis_gates=basis_gates)\n",
    "save_as_qasm(b, num_qubits_test, basis_gates)\n",
    "c = get_compiled_circuit(b, opt_level=2, basis_gates=basis_gates, c_map=c_map)\n",
    "save_as_qasm(c, num_qubits_test, basis_gates, True, c_map, backend.name() if backend.name() else \"\")\n",
    "\n",
    "a = qpe_inexact.create_circuit(num_qubits_test)\n",
    "b = get_compiled_circuit(a, opt_level=2, basis_gates=basis_gates)\n",
    "save_as_qasm(b, num_qubits_test, basis_gates)\n",
    "c = get_compiled_circuit(b, opt_level=2, basis_gates=basis_gates, c_map=c_map)\n",
    "save_as_qasm(c, num_qubits_test, basis_gates, True, c_map, backend.name() if backend.name() else \"\")"
   ]
  },
  {
   "cell_type": "markdown",
   "id": "112cd7a1",
   "metadata": {},
   "source": [
    "Graph State Test"
   ]
  },
  {
   "cell_type": "code",
   "execution_count": null,
   "id": "45c821f1",
   "metadata": {},
   "outputs": [],
   "source": [
    "a = graph_state.create_circuit(num_qubits_test)\n",
    "b = get_compiled_circuit(a, opt_level=2, basis_gates=basis_gates)\n",
    "save_as_qasm(b, num_qubits_test, basis_gates)\n",
    "c = get_compiled_circuit(b, opt_level=2, basis_gates=basis_gates, c_map=c_map)\n",
    "save_as_qasm(c, num_qubits_test, basis_gates, True, c_map, backend.name() if backend.name() else \"\")\n"
   ]
  },
  {
   "cell_type": "markdown",
   "id": "d2eab757",
   "metadata": {},
   "source": [
    "Shor Test"
   ]
  },
  {
   "cell_type": "code",
   "execution_count": null,
   "id": "e63157be",
   "metadata": {},
   "outputs": [],
   "source": [
    "a = shor.create_circuit(15)\n",
    "b = get_compiled_circuit(a, opt_level=2, basis_gates=basis_gates)\n",
    "save_as_qasm(b, None, basis_gates)\n",
    "#c = get_compiled_circuit(b, opt_level=2, c_map=c_map)\n",
    "#save_as_qasm(c, None, True)"
   ]
  },
  {
   "cell_type": "markdown",
   "id": "13f5ad08",
   "metadata": {},
   "source": [
    "AE Test"
   ]
  },
  {
   "cell_type": "code",
   "execution_count": null,
   "id": "ca6920f6",
   "metadata": {},
   "outputs": [],
   "source": [
    "a = ae.create_circuit(num_qubits_test)\n",
    "b = get_compiled_circuit(a, opt_level=2, basis_gates=basis_gates)\n",
    "save_as_qasm(b, num_qubits_test, basis_gates)\n",
    "c = get_compiled_circuit(b, opt_level=2, basis_gates=basis_gates, c_map=c_map)\n",
    "save_as_qasm(c, num_qubits_test, basis_gates, True, c_map, backend.name() if backend.name() else \"\")"
   ]
  },
  {
   "cell_type": "markdown",
   "id": "a474df0e",
   "metadata": {},
   "source": [
    "DJ Test"
   ]
  },
  {
   "cell_type": "code",
   "execution_count": null,
   "id": "cdd038af",
   "metadata": {},
   "outputs": [],
   "source": [
    "num_qubits_test = 5\n",
    "a = deutsch_jozsa.create_circuit(num_qubits_test)\n",
    "b = get_compiled_circuit(a, opt_level=2, basis_gates=basis_gates)\n",
    "save_as_qasm(b, num_qubits_test, basis_gates)\n",
    "c = get_compiled_circuit(b, opt_level=2, basis_gates=basis_gates, c_map=c_map)\n",
    "save_as_qasm(c, num_qubits_test, basis_gates, True, c_map, backend.name() if backend.name() else \"\")"
   ]
  },
  {
   "cell_type": "markdown",
   "id": "9b10a478",
   "metadata": {},
   "source": [
    "HHL Test"
   ]
  },
  {
   "cell_type": "code",
   "execution_count": null,
   "id": "d26c7bf6",
   "metadata": {
    "scrolled": false
   },
   "outputs": [],
   "source": [
    "import src.benchmarks.hhl\n",
    "num_qubits_test = 3\n",
    "a = hhl.create_circuit(num_qubits_test)\n",
    "b = get_compiled_circuit(a, opt_level=2, basis_gates=basis_gates)\n",
    "save_as_qasm(b, num_qubits_test, basis_gates)\n",
    "c = get_compiled_circuit(b, opt_level=2, basis_gates=basis_gates, c_map=c_map)\n",
    "save_as_qasm(c, num_qubits_test, basis_gates, True, c_map, backend.name() if backend.name() else \"\")"
   ]
  },
  {
   "cell_type": "markdown",
   "id": "5afb01ad",
   "metadata": {},
   "source": [
    "Example Generation for a figure in the paper"
   ]
  },
  {
   "cell_type": "code",
   "execution_count": null,
   "id": "284ec186",
   "metadata": {},
   "outputs": [],
   "source": [
    "#from qiskit.circuit.library import RealAmplitudes\n",
    "#from qiskit.visualization import plot_histogram, plot_gate_map, plot_circuit_layout\n",
    "#plot_gate_map(backend).savefig(\"layout_santiago.png\")\n",
    "#ansatz = RealAmplitudes(3, reps=1)\n",
    "#qc = ansatz.decompose()\n",
    "#qc.draw(output=\"mpl\", filename=\"paper_example_1_1\")\n",
    "#b = get_compiled_circuit(qc, opt_level=0, basis_gates=basis_gates)\n",
    "#b.draw(output=\"mpl\", filename=\"paper_example_1_2\")\n",
    "#c = get_compiled_circuit(b, opt_level=0, basis_gates=basis_gates, c_map=c_map)\n",
    "#c.draw(output=\"mpl\", filename=\"paper_example_1_3\")"
   ]
  },
  {
   "cell_type": "markdown",
   "id": "a250eb12",
   "metadata": {},
   "source": [
    "Qiskit Finance Test"
   ]
  },
  {
   "cell_type": "code",
   "execution_count": null,
   "id": "08af7622",
   "metadata": {
    "scrolled": true
   },
   "outputs": [],
   "source": [
    "\n",
    "from src.benchmarks.qiskit_application_finance import portfolio_optimization_qaoa, portfolio_optimization_vqe, pricing_eur_call_opt, pricing_eur_put_opt\n",
    "num_qubits_test = 5\n",
    "a = pricing_eur_put_opt.create_circuit(num_qubits_test)\n",
    "b = get_compiled_circuit(a, opt_level=2, basis_gates=basis_gates)\n",
    "save_as_qasm(b, num_qubits_test, basis_gates)\n",
    "c = get_compiled_circuit(b, opt_level=2, basis_gates=basis_gates, c_map=c_map)\n",
    "save_as_qasm(c, num_qubits_test, basis_gates, True, c_map, backend.name() if backend.name() else \"\")"
   ]
  },
  {
   "cell_type": "markdown",
   "id": "8cc96b30",
   "metadata": {},
   "source": [
    "Qiskit Optimization Test"
   ]
  },
  {
   "cell_type": "code",
   "execution_count": null,
   "id": "1dd73b28",
   "metadata": {},
   "outputs": [],
   "source": [
    "\n",
    "from src.benchmarks.qiskit_application_optimization import vehicle_routing\n",
    "num_qubits_test = 5\n",
    "a = vehicle_routing.create_circuit(3,3)\n",
    "#b = get_compiled_circuit(a, opt_level=2)\n",
    "#save_as_qasm(b, num_qubits_test)\n",
    "#c = get_compiled_circuit(b, opt_level=2, c_map=c_map)\n",
    "#save_as_qasm(c, num_qubits_test, True)"
   ]
  },
  {
   "cell_type": "markdown",
   "id": "f865ea59",
   "metadata": {},
   "source": [
    "Qiskit Machine Learning Test"
   ]
  },
  {
   "cell_type": "code",
   "execution_count": null,
   "id": "54900741",
   "metadata": {},
   "outputs": [],
   "source": [
    "import numpy as np\n",
    "seed = 71\n",
    "np.random.seed = seed\n",
    "\n",
    "import matplotlib.pyplot as plt\n",
    "%matplotlib inline\n",
    "\n",
    "from qiskit import QuantumRegister, QuantumCircuit, BasicAer\n",
    "from qiskit.circuit.library import TwoLocal, UniformDistribution\n",
    "\n",
    "from qiskit.utils import QuantumInstance, algorithm_globals\n",
    "from qiskit_machine_learning.algorithms import NumPyDiscriminator, QGAN\n",
    "\n",
    "algorithm_globals.random_seed = seed\n",
    "\n",
    "# Number training data samples\n",
    "N = 1000\n",
    "\n",
    "# Load data samples from log-normal distribution with mean=1 and standard deviation=1\n",
    "mu = 1\n",
    "sigma = 1\n",
    "real_data = np.random.lognormal(mean=mu, sigma=sigma, size=N)\n",
    "\n",
    "# Set the data resolution\n",
    "# Set upper and lower data values as list of k min/max data values [[min_0,max_0],...,[min_k-1,max_k-1]]\n",
    "bounds = np.array([0., 3.])\n",
    "# Set number of qubits per data dimension as list of k qubit values[#q_0,...,#q_k-1]\n",
    "num_qubits = [3]\n",
    "k = len(num_qubits)"
   ]
  },
  {
   "cell_type": "code",
   "execution_count": null,
   "id": "3b48c545",
   "metadata": {},
   "outputs": [],
   "source": [
    "# Set number of training epochs\n",
    "# Note: The algorithm's runtime can be shortened by reducing the number of training epochs.\n",
    "num_epochs = 10\n",
    "# Batch size\n",
    "batch_size = 100\n",
    "\n",
    "# Initialize qGAN\n",
    "qgan = QGAN(real_data, bounds, num_qubits, batch_size, num_epochs, snapshot_dir=None)\n",
    "qgan.seed = 1\n",
    "# Set quantum instance to run the quantum generator\n",
    "quantum_instance = QuantumInstance(\n",
    "    backend=BasicAer.get_backend(\"statevector_simulator\"), seed_transpiler=seed, seed_simulator=seed\n",
    ")\n",
    "\n",
    "# Set entangler map\n",
    "#entangler_map = [[0, 1]]\n",
    "\n",
    "\n",
    "# Set an initial state for the generator circuit\n",
    "init_dist = UniformDistribution(sum(num_qubits))\n",
    "\n",
    "# Set the ansatz circuit\n",
    "ansatz = TwoLocal(int(np.sum(num_qubits)), \"ry\", \"cz\",  reps=1) #entanglement=entangler_map,\n",
    "\n",
    "# Set generator's initial parameters - in order to reduce the training time and hence the\n",
    "# total running time for this notebook\n",
    "#init_params = [3.0, 1.0, 0.6, 1.6]\n",
    "\n",
    "# You can increase the number of training epochs and use random initial parameters.\n",
    "init_params = np.random.rand(ansatz.num_parameters_settable) * 2 * np.pi\n",
    "\n",
    "# Set generator circuit by adding the initial distribution infront of the ansatz\n",
    "g_circuit = ansatz.compose(init_dist, front=True)\n",
    "\n",
    "# Set quantum generator\n",
    "qgan.set_generator(generator_circuit=g_circuit, generator_init_params=init_params)\n",
    "# The parameters have an order issue that following is a temp. workaround\n",
    "qgan._generator._free_parameters = sorted(g_circuit.parameters, key=lambda p: p.name)\n",
    "# Set classical discriminator neural network\n",
    "discriminator = NumPyDiscriminator(len(num_qubits))\n",
    "qgan.set_discriminator(discriminator)"
   ]
  },
  {
   "cell_type": "code",
   "execution_count": null,
   "id": "725e64a3",
   "metadata": {},
   "outputs": [],
   "source": [
    "# Run qGAN\n",
    "result = qgan.run(quantum_instance)"
   ]
  },
  {
   "cell_type": "code",
   "execution_count": null,
   "id": "a8e53a40",
   "metadata": {},
   "outputs": [],
   "source": [
    "params = qgan.generator.parameter_values"
   ]
  },
  {
   "cell_type": "code",
   "execution_count": null,
   "id": "e48d1af2",
   "metadata": {},
   "outputs": [],
   "source": [
    "params = qgan.generator.parameter_values\n",
    "qc = qgan.generator.construct_circuit(params=params)\n",
    "qc.draw()"
   ]
  },
  {
   "cell_type": "code",
   "execution_count": null,
   "id": "e965cd42",
   "metadata": {
    "scrolled": true
   },
   "outputs": [],
   "source": [
    "qgan.generator.generator_circuit.draw()"
   ]
  },
  {
   "cell_type": "code",
   "execution_count": null,
   "id": "cbca6d03",
   "metadata": {},
   "outputs": [],
   "source": [
    "#Plot the CDF of the resulting distribution against the target distribution, i.e. log-normal\n",
    "log_normal = np.random.lognormal(mean=1, sigma=1, size=100000)\n",
    "log_normal = np.round(log_normal)\n",
    "log_normal = log_normal[log_normal <= bounds[1]]\n",
    "temp = []\n",
    "for i in range(int(bounds[1] + 1)):\n",
    "    temp += [np.sum(log_normal==i)]\n",
    "log_normal = np.array(temp / sum(temp))\n",
    "\n",
    "plt.figure(figsize=(6,5))\n",
    "plt.title('CDF (Cumulative Distribution Function)')\n",
    "samples_g, prob_g = qgan.generator.get_output(qgan.quantum_instance, shots=10000)\n",
    "samples_g = np.array(samples_g)\n",
    "samples_g = samples_g.flatten()\n",
    "num_bins = len(prob_g)\n",
    "plt.bar(samples_g,  np.cumsum(prob_g), color='royalblue', width= 0.8, label='simulation')\n",
    "plt.plot( np.cumsum(log_normal),'-o', label='log-normal', color='deepskyblue', linewidth=4, markersize=12)\n",
    "plt.xticks(np.arange(min(samples_g), max(samples_g)+1, 1.0))\n",
    "plt.grid()\n",
    "plt.xlabel('x')\n",
    "plt.ylabel('p(x)')\n",
    "plt.legend(loc='best')\n",
    "plt.show()"
   ]
  },
  {
   "cell_type": "markdown",
   "id": "aa8d73f9",
   "metadata": {},
   "source": [
    "AE Test"
   ]
  },
  {
   "cell_type": "code",
   "execution_count": null,
   "id": "306c46bf",
   "metadata": {},
   "outputs": [],
   "source": [
    "from src.benchmarks import canonical_ae\n"
   ]
  },
  {
   "cell_type": "code",
   "execution_count": null,
   "id": "5c89d14a",
   "metadata": {},
   "outputs": [],
   "source": [
    "from qiskit import BasicAer\n",
    "from qiskit.utils import QuantumInstance\n",
    "\n",
    "backend = BasicAer.get_backend('statevector_simulator')\n",
    "quantum_instance = QuantumInstance(backend)"
   ]
  },
  {
   "cell_type": "code",
   "execution_count": null,
   "id": "d0be222b",
   "metadata": {},
   "outputs": [],
   "source": [
    "a = canonical_ae.create_circuit(5)\n",
    "a.draw()"
   ]
  },
  {
   "cell_type": "markdown",
   "id": "4e60df76",
   "metadata": {},
   "source": [
    "TSP and vehicle routing Test"
   ]
  },
  {
   "cell_type": "code",
   "execution_count": null,
   "id": "0afd8158",
   "metadata": {},
   "outputs": [],
   "source": [
    "from src.benchmarks.qiskit_application_optimization import travelling_salesman, vehicle_routing"
   ]
  },
  {
   "cell_type": "code",
   "execution_count": null,
   "id": "3fc4cfc9",
   "metadata": {},
   "outputs": [],
   "source": [
    "qc = vehicle_routing.create_circuit(4,1)"
   ]
  },
  {
   "cell_type": "code",
   "execution_count": null,
   "id": "54aeb731",
   "metadata": {},
   "outputs": [],
   "source": [
    "qc1, qp1 = vehicle_routing.create_circuit(4,2)"
   ]
  },
  {
   "cell_type": "code",
   "execution_count": null,
   "id": "dc02ea7e",
   "metadata": {},
   "outputs": [],
   "source": [
    "qc2, qp2  = vehicle_routing.create_circuit(4,3)"
   ]
  },
  {
   "cell_type": "code",
   "execution_count": null,
   "id": "ca90a248",
   "metadata": {},
   "outputs": [],
   "source": [
    "qc3, qp3  = vehicle_routing.create_circuit(4,4)"
   ]
  },
  {
   "cell_type": "code",
   "execution_count": null,
   "id": "09f738a3",
   "metadata": {},
   "outputs": [],
   "source": [
    "from qiskit.quantum_info import Statevector\n",
    "print(Statevector.from_instruction(qc1).equiv(Statevector.from_instruction(qc2)),\n",
    "Statevector.from_instruction(qc1).equiv(Statevector.from_instruction(qc3)),\n",
    "Statevector.from_instruction(qc3).equiv(Statevector.from_instruction(qc2)))"
   ]
  },
  {
   "cell_type": "markdown",
   "id": "07ab2726",
   "metadata": {},
   "source": [
    "QGAN Test"
   ]
  },
  {
   "cell_type": "code",
   "execution_count": null,
   "id": "a3243d32",
   "metadata": {},
   "outputs": [],
   "source": [
    "from src.benchmarks.qiskit_application_ml import qgan"
   ]
  },
  {
   "cell_type": "code",
   "execution_count": null,
   "id": "ccda1827",
   "metadata": {},
   "outputs": [],
   "source": [
    "a = qgan.create_circuit(4)"
   ]
  },
  {
   "cell_type": "code",
   "execution_count": null,
   "id": "b2585afa",
   "metadata": {},
   "outputs": [],
   "source": [
    "a.decompose().draw()"
   ]
  },
  {
   "cell_type": "code",
   "execution_count": null,
   "id": "ab7b191b",
   "metadata": {},
   "outputs": [],
   "source": [
    "qc.draw()"
   ]
  },
  {
   "cell_type": "markdown",
   "id": "fd85ec7e",
   "metadata": {},
   "source": [
    "Qiskit Application Finance Test"
   ]
  },
  {
   "cell_type": "code",
   "execution_count": null,
   "id": "bc9ae0ba",
   "metadata": {},
   "outputs": [],
   "source": [
    "from src.benchmarks.qiskit_application_finance import portfolio_optimization_qaoa, portfolio_optimization_vqe, pricing_eur_call_opt, pricing_eur_put_opt"
   ]
  },
  {
   "cell_type": "code",
   "execution_count": null,
   "id": "da205b5e",
   "metadata": {},
   "outputs": [],
   "source": [
    "b = portfolio_optimization_qaoa.create_circuit(5)"
   ]
  },
  {
   "cell_type": "code",
   "execution_count": null,
   "id": "5a70da6b",
   "metadata": {},
   "outputs": [],
   "source": [
    "b.draw()"
   ]
  },
  {
   "cell_type": "code",
   "execution_count": null,
   "id": "799ceea1",
   "metadata": {},
   "outputs": [],
   "source": [
    "c = portfolio_optimization_vqe.create_circuit(4)\n",
    "c.draw()"
   ]
  },
  {
   "cell_type": "code",
   "execution_count": null,
   "id": "b9c81f95",
   "metadata": {},
   "outputs": [],
   "source": [
    "d = pricing_eur_call_opt.create_circuit(4)\n",
    "d.draw()"
   ]
  },
  {
   "cell_type": "code",
   "execution_count": null,
   "id": "358357e7",
   "metadata": {},
   "outputs": [],
   "source": [
    "e, iae = pricing_eur_put_opt.create_circuit(2)\n",
    "e.draw()"
   ]
  },
  {
   "cell_type": "code",
   "execution_count": null,
   "id": "0540ab4c",
   "metadata": {},
   "outputs": [],
   "source": [
    "test1 = iae.construct_circuit(1)\n",
    "test1.decompose().decompose().decompose().draw()"
   ]
  },
  {
   "cell_type": "code",
   "execution_count": null,
   "id": "775ad88d",
   "metadata": {},
   "outputs": [],
   "source": [
    "test2 = iae.construct_circuit(2)\n",
    "test2.decompose().decompose().decompose().draw()"
   ]
  },
  {
   "cell_type": "code",
   "execution_count": null,
   "id": "c05a417d",
   "metadata": {},
   "outputs": [],
   "source": [
    "test1 == test2"
   ]
  },
  {
   "cell_type": "markdown",
   "id": "b73c47f4",
   "metadata": {},
   "source": [
    "Qiskit Application Nature Test"
   ]
  },
  {
   "cell_type": "code",
   "execution_count": null,
   "id": "edde8b13",
   "metadata": {},
   "outputs": [],
   "source": [
    "## Code from https://qiskit.org/documentation/nature/tutorials/03_ground_state_solvers.html\n",
    "\n",
    "from qiskit_nature.drivers import Molecule\n",
    "from qiskit_nature.drivers.second_quantization import (\n",
    "    ElectronicStructureDriverType,\n",
    "    ElectronicStructureMoleculeDriver,\n",
    ")\n",
    "from qiskit_nature.problems.second_quantization import ElectronicStructureProblem\n",
    "from qiskit_nature.converters.second_quantization import QubitConverter\n",
    "from qiskit_nature.mappers.second_quantization import JordanWignerMapper\n",
    "\n",
    "from qiskit import Aer\n",
    "from qiskit.utils import QuantumInstance\n",
    "from qiskit_nature.algorithms import VQEUCCFactory\n",
    "from qiskit_nature.algorithms import GroundStateEigensolver\n",
    "\n",
    "molecule = Molecule(\n",
    "    geometry=[[\"H\", [0.0, 0.0, 0.0]], [\"H\", [0.0, 0.0, 0.735]]], charge=0, multiplicity=1\n",
    ")\n",
    "driver = ElectronicStructureMoleculeDriver(\n",
    "    molecule, basis=\"sto3g\", driver_type=ElectronicStructureDriverType.PYSCF\n",
    ")\n",
    "\n",
    "es_problem = ElectronicStructureProblem(driver)\n",
    "qubit_converter = QubitConverter(JordanWignerMapper())\n",
    "\n",
    "quantum_instance = QuantumInstance(backend=Aer.get_backend(\"aer_simulator_statevector\"))\n",
    "vqe_solver = VQEUCCFactory(quantum_instance)\n",
    "\n",
    "\n",
    "calc = GroundStateEigensolver(qubit_converter, vqe_solver)\n",
    "res = calc.solve(es_problem)\n",
    "\n",
    "print(res)"
   ]
  },
  {
   "cell_type": "code",
   "execution_count": null,
   "id": "d49772ee",
   "metadata": {},
   "outputs": [],
   "source": [
    "vqe_solver.get_solver(es_problem, qubit_converter).get_optimal_circuit()"
   ]
  },
  {
   "cell_type": "code",
   "execution_count": null,
   "id": "0c92aa60",
   "metadata": {},
   "outputs": [],
   "source": []
  },
  {
   "cell_type": "code",
   "execution_count": null,
   "id": "ca9cdfb2",
   "metadata": {},
   "outputs": [],
   "source": [
    "from qiskit_nature.drivers import UnitsType, Molecule\n",
    "from qiskit_nature.drivers.second_quantization import (\n",
    "    ElectronicStructureDriverType,\n",
    "    ElectronicStructureMoleculeDriver,\n",
    ")\n",
    "from qiskit_nature.problems.second_quantization import ElectronicStructureProblem\n",
    "from qiskit_nature.converters.second_quantization import QubitConverter\n",
    "from qiskit_nature.mappers.second_quantization import JordanWignerMapper\n",
    "\n",
    "from qiskit import Aer\n",
    "from qiskit.utils import QuantumInstance\n",
    "from qiskit_nature.algorithms import GroundStateEigensolver, QEOM, VQEUCCFactory\n",
    "from qiskit_nature.algorithms import ExcitedStatesEigensolver\n",
    "\n",
    "molecule = Molecule(\n",
    "    geometry=[[\"H\", [0.0, 0.0, 0.0]], [\"H\", [0.0, 0.0, 0.735]]], charge=0, multiplicity=1\n",
    ")\n",
    "driver = ElectronicStructureMoleculeDriver(\n",
    "    molecule, basis=\"sto3g\", driver_type=ElectronicStructureDriverType.PYSCF\n",
    ")\n",
    "\n",
    "es_problem = ElectronicStructureProblem(driver)\n",
    "qubit_converter = QubitConverter(JordanWignerMapper())\n",
    "\n",
    "\n",
    "# This first part sets the ground state solver\n",
    "# see more about this part in the ground state calculation tutorial\n",
    "quantum_instance = QuantumInstance(Aer.get_backend(\"aer_simulator_statevector\"))\n",
    "solver = VQEUCCFactory(quantum_instance)\n",
    "gsc = GroundStateEigensolver(qubit_converter, solver)\n",
    "\n",
    "# The qEOM algorithm is simply instantiated with the chosen ground state solver\n",
    "qeom_excited_states_calculation = QEOM(gsc, \"sd\")\n",
    "\n",
    "\n",
    "qeom_results = qeom_excited_states_calculation.solve(es_problem)"
   ]
  },
  {
   "cell_type": "markdown",
   "id": "437eb787",
   "metadata": {},
   "source": [
    "Random debugging"
   ]
  },
  {
   "cell_type": "code",
   "execution_count": null,
   "id": "5cbd25d4",
   "metadata": {},
   "outputs": [],
   "source": [
    "qc = grover.create_circuit(5)\n",
    "qc.decompose().draw()"
   ]
  },
  {
   "cell_type": "code",
   "execution_count": null,
   "id": "d067fa33",
   "metadata": {},
   "outputs": [],
   "source": [
    "qc2 = transpile(qc, optimization_level=2)\n",
    "qc2.decompose().draw()"
   ]
  },
  {
   "cell_type": "code",
   "execution_count": null,
   "id": "fcf031be",
   "metadata": {},
   "outputs": [],
   "source": [
    "qc==qc2"
   ]
  },
  {
   "cell_type": "code",
   "execution_count": null,
   "id": "911cbd26",
   "metadata": {},
   "outputs": [],
   "source": [
    "qc = QuantumCircuit(1)\n",
    "qc.x(0)\n",
    "qc.x(0)\n",
    "qc.h(0)\n",
    "qc.h(0)\n",
    "qc.h(0)\n",
    "qc.h(0)\n",
    "qc.h(0)\n",
    "qc.h(0)\n",
    "qc.h(0)\n",
    "qc.h(0)\n",
    "qc.h(0)\n",
    "qc.h(0)\n",
    "qc.h(0)\n",
    "qc.h(0)\n",
    "qc.h(0)\n",
    "qc.h(0)\n",
    "qc.h(0)\n",
    "qc.h(0)\n",
    "qc.h(0)\n",
    "qc.h(0)\n",
    "qc.h(0)\n",
    "qc.h(0)\n",
    "qc.h(0)\n",
    "qc.h(0)\n",
    "qc.h(0)\n",
    "qc.h(0)\n",
    "qc.h(0)\n",
    "qc.h(0)\n",
    "qc.h(0)\n",
    "qc.h(0)\n",
    "qc.h(0)\n",
    "qc.draw()"
   ]
  },
  {
   "cell_type": "code",
   "execution_count": null,
   "id": "ffcf2e58",
   "metadata": {},
   "outputs": [],
   "source": [
    "# Creating the circuit on Algorithmic Description Layer\n",
    "qc = grover.create_circuit(11)\n",
    "\n",
    "# Creating the circuit on target-independent Description Layer\n",
    "target_independent = transpile(qc, optimization_level=2)\n"
   ]
  },
  {
   "cell_type": "code",
   "execution_count": null,
   "id": "b4fa39fb",
   "metadata": {},
   "outputs": [],
   "source": [
    "from qiskit import QuantumCircuit, QuantumRegister, ClassicalRegister, AncillaRegister\n",
    "\n",
    "\n",
    "\n",
    "def create_circuit(n: int, depth: int = 1, coin_state_preparation: QuantumCircuit = None,\n",
    "                          ancillary_mode: str = 'noancilla'):\n",
    "    n = n-1 # because one qubit is needed for the coin\n",
    "    coin = QuantumRegister(1, 'coin')\n",
    "    node = QuantumRegister(n, 'node')\n",
    "\n",
    "    n_anc = 0\n",
    "    if ancillary_mode == 'recursion' and n > 3:\n",
    "        n_anc = 1\n",
    "    if (ancillary_mode == 'v-chain' or ancillary_mode == 'v-chain-dirty') and n > 2:\n",
    "        n_anc = n - 2\n",
    "\n",
    "    if n_anc == 0:\n",
    "        qc = QuantumCircuit(node, coin, name='qwalk')\n",
    "\n",
    "        # coin state preparation\n",
    "        if coin_state_preparation is not None:\n",
    "            qc.append(coin_state_preparation, coin[:])\n",
    "\n",
    "        for _ in range(depth):\n",
    "            # Hadamard coin operator\n",
    "            qc.h(coin)\n",
    "\n",
    "            # controlled increment\n",
    "            for i in range(0, n - 1):\n",
    "                qc.mcx(coin[:] + node[i + 1:], node[i], mode=ancillary_mode)\n",
    "            qc.cx(coin, node[n - 1])\n",
    "\n",
    "            # controlled decrement\n",
    "            qc.x(coin)\n",
    "            qc.x(node[1:])\n",
    "            for i in range(0, n - 1):\n",
    "                qc.mcx(coin[:] + node[i + 1:], node[i], mode=ancillary_mode)\n",
    "            qc.cx(coin, node[n - 1])\n",
    "            qc.x(node[1:])\n",
    "            qc.x(coin)\n",
    "    else:\n",
    "        anc = AncillaRegister(n_anc, 'anc')\n",
    "        qc = QuantumCircuit(node, coin, anc, name='qwalk')\n",
    "\n",
    "        # coin state preparation\n",
    "        if coin_state_preparation is not None:\n",
    "            qc.append(coin_state_preparation, coin[:])\n",
    "\n",
    "        for _ in range(depth):\n",
    "            # Hadamard coin operator\n",
    "            qc.h(coin)\n",
    "\n",
    "            # controlled increment\n",
    "            for i in range(0, n - 1):\n",
    "                qc.mcx(coin[:] + node[i + 1:], node[i], mode=ancillary_mode, ancilla_qubits=anc[:])\n",
    "            qc.cx(coin, node[n - 1])\n",
    "\n",
    "            # controlled decrement\n",
    "            qc.x(coin)\n",
    "            qc.x(node[1:])\n",
    "            for i in range(0, n - 1):\n",
    "                qc.mcx(coin[:] + node[i + 1:], node[i], mode=ancillary_mode, ancilla_qubits=anc[:])\n",
    "            qc.cx(coin, node[n - 1])\n",
    "            qc.x(node[1:])\n",
    "            qc.x(coin)\n",
    "\n",
    "#     qc.measure(coin, c_coin)\n",
    "#     qc.measure(node, c_node)\n",
    "    qc.measure_all()\n",
    "\n",
    "    return qc"
   ]
  },
  {
   "cell_type": "code",
   "execution_count": null,
   "id": "e2ebe04d",
   "metadata": {},
   "outputs": [],
   "source": [
    "a = create_circuit(8, ancillary_mode=\"noancilla\")\n",
    "a.draw()"
   ]
  },
  {
   "cell_type": "code",
   "execution_count": null,
   "id": "7bf34fb0",
   "metadata": {},
   "outputs": [],
   "source": []
  }
 ],
 "metadata": {
  "kernelspec": {
   "display_name": "Python 3 (ipykernel)",
   "language": "python",
   "name": "python3"
  },
  "language_info": {
   "codemirror_mode": {
    "name": "ipython",
    "version": 3
   },
   "file_extension": ".py",
   "mimetype": "text/x-python",
   "name": "python",
   "nbconvert_exporter": "python",
   "pygments_lexer": "ipython3",
   "version": "3.9.7"
  }
 },
 "nbformat": 4,
 "nbformat_minor": 5
}
