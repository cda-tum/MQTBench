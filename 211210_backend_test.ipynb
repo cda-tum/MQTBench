{
 "cells": [
  {
   "cell_type": "code",
   "execution_count": 2,
   "id": "4b19033b",
   "metadata": {},
   "outputs": [],
   "source": [
    "from qiskit import QuantumCircuit, QuantumRegister, ClassicalRegister\n",
    "from qiskit.circuit.library import QFT\n",
    "import pandas as pd\n",
    "import numpy as np\n",
    "import os\n",
    "import re\n"
   ]
  },
  {
   "cell_type": "code",
   "execution_count": 3,
   "id": "e7fb84d7",
   "metadata": {},
   "outputs": [],
   "source": [
    "qasm_path = r\"./qasm_output\"\n",
    "qpy_path = r\"./qpy_output\""
   ]
  },
  {
   "cell_type": "code",
   "execution_count": 46,
   "id": "815f6f1f",
   "metadata": {},
   "outputs": [],
   "source": [
    "test = \"canonical_ae_mapped_ibm_opt2_3.qasm\""
   ]
  },
  {
   "cell_type": "code",
   "execution_count": 1,
   "id": "b675402c",
   "metadata": {},
   "outputs": [
    {
     "ename": "NameError",
     "evalue": "name 'get_opt_level' is not defined",
     "output_type": "error",
     "traceback": [
      "\u001b[1;31m---------------------------------------------------------------------------\u001b[0m",
      "\u001b[1;31mNameError\u001b[0m                                 Traceback (most recent call last)",
      "\u001b[1;32m~\\AppData\\Local\\Temp/ipykernel_13556/898478290.py\u001b[0m in \u001b[0;36m<module>\u001b[1;34m\u001b[0m\n\u001b[1;32m----> 1\u001b[1;33m \u001b[0mget_opt_level\u001b[0m\u001b[1;33m(\u001b[0m\u001b[0mtest\u001b[0m\u001b[1;33m)\u001b[0m\u001b[1;33m\u001b[0m\u001b[1;33m\u001b[0m\u001b[0m\n\u001b[0m",
      "\u001b[1;31mNameError\u001b[0m: name 'get_opt_level' is not defined"
     ]
    }
   ],
   "source": [
    "get_opt_level(test)"
   ]
  },
  {
   "cell_type": "code",
   "execution_count": 4,
   "id": "73044927",
   "metadata": {},
   "outputs": [],
   "source": [
    "def get_opt_level(filename:str):\n",
    "    pat = re.compile(r'\\w[0-9]')\n",
    "    m = pat.search(filename)\n",
    "    if m:\n",
    "        num = m.group()[1:]\n",
    "    return num"
   ]
  },
  {
   "cell_type": "code",
   "execution_count": 5,
   "id": "5d368d0b",
   "metadata": {},
   "outputs": [],
   "source": [
    "def get_num_qubits(filename:str):\n",
    "    pat = re.compile(r'_\\d+.')\n",
    "    m = pat.search(filename)\n",
    "    if m:\n",
    "        num = m.group()[1:-1]\n",
    "    else:\n",
    "        print (filename)\n",
    "    return num"
   ]
  },
  {
   "cell_type": "code",
   "execution_count": 6,
   "id": "a468bd7d",
   "metadata": {},
   "outputs": [],
   "source": [
    "def parse_data(directory: str, filename:str):\n",
    "    benchmark = filename.split(\"_\")[0]\n",
    "    num_qubits = get_num_qubits(filename)\n",
    "    algorithm_flag =  \"algorithm\" in filename\n",
    "    transpiled_flag = \"transpiled\" in filename \n",
    "    mapped_flag = \"mapped\" in filename\n",
    "    opt_level = get_opt_level(filename)\n",
    "    path = os.path.join(directory, filename)\n",
    "    if (\"ibm\" in filename): gate_set=\"ibm\"\n",
    "    elif (\"rigetti\" in filename): gate_set=\"ibm\"\n",
    "    parsed_data = [benchmark, num_qubits, gate_set, algorithm_flag, transpiled_flag, mapped_flag, opt_level, path]\n",
    "    return parsed_data"
   ]
  },
  {
   "cell_type": "code",
   "execution_count": 7,
   "id": "344189b9",
   "metadata": {},
   "outputs": [
    {
     "name": "stdout",
     "output_type": "stream",
     "text": [
      "[['canonical', '3', 'ibm', False, False, True, '2', './qasm_output\\\\canonical_ae_mapped_ibm_opt2_3.qasm'], ['canonical', '3', 'ibm', False, True, False, '2', './qasm_output\\\\canonical_ae_transpiled_ibm_opt2_3.qasm'], ['canonical', '4', 'ibm', False, True, False, '2', './qasm_output\\\\canonical_ae_transpiled_ibm_opt2_4.qasm'], ['canonical', '5', 'ibm', False, True, False, '2', './qasm_output\\\\canonical_ae_transpiled_ibm_opt2_5.qasm'], ['dj', '3', 'ibm', False, False, True, '2', './qasm_output\\\\dj_mapped_ibm_opt2_3.qasm'], ['dj', '3', 'ibm', False, True, False, '2', './qasm_output\\\\dj_transpiled_ibm_opt2_3.qasm'], ['dj', '4', 'ibm', False, True, False, '2', './qasm_output\\\\dj_transpiled_ibm_opt2_4.qasm'], ['dj', '5', 'ibm', False, True, False, '2', './qasm_output\\\\dj_transpiled_ibm_opt2_5.qasm'], ['ghz', '3', 'ibm', False, False, True, '2', './qasm_output\\\\ghz_mapped_ibm_opt2_3.qasm'], ['ghz', '3', 'ibm', False, True, False, '2', './qasm_output\\\\ghz_transpiled_ibm_opt2_3.qasm'], ['ghz', '4', 'ibm', False, True, False, '2', './qasm_output\\\\ghz_transpiled_ibm_opt2_4.qasm'], ['ghz', '5', 'ibm', False, True, False, '2', './qasm_output\\\\ghz_transpiled_ibm_opt2_5.qasm'], ['graph', '3', 'ibm', False, False, True, '2', './qasm_output\\\\graph_state_mapped_ibm_opt2_3.qasm'], ['graph', '3', 'ibm', False, True, False, '2', './qasm_output\\\\graph_state_transpiled_ibm_opt2_3.qasm'], ['graph', '4', 'ibm', False, True, False, '2', './qasm_output\\\\graph_state_transpiled_ibm_opt2_4.qasm'], ['graph', '5', 'ibm', False, True, False, '2', './qasm_output\\\\graph_state_transpiled_ibm_opt2_5.qasm'], ['grover', '3', 'ibm', False, False, True, '2', './qasm_output\\\\grover_mapped_ibm_opt2_3.qasm'], ['grover', '3', 'ibm', False, True, False, '2', './qasm_output\\\\grover_transpiled_ibm_opt2_3.qasm'], ['grover', '4', 'ibm', False, True, False, '2', './qasm_output\\\\grover_transpiled_ibm_opt2_4.qasm'], ['grover', '5', 'ibm', False, True, False, '2', './qasm_output\\\\grover_transpiled_ibm_opt2_5.qasm'], ['QAOA', '3', 'ibm', False, False, True, '2', './qasm_output\\\\QAOA_mapped_ibm_opt2_3.qasm'], ['QAOA', '3', 'ibm', False, True, False, '2', './qasm_output\\\\QAOA_transpiled_ibm_opt2_3.qasm'], ['QAOA', '4', 'ibm', False, True, False, '2', './qasm_output\\\\QAOA_transpiled_ibm_opt2_4.qasm'], ['QAOA', '5', 'ibm', False, True, False, '2', './qasm_output\\\\QAOA_transpiled_ibm_opt2_5.qasm'], ['qft', '3', 'ibm', False, False, True, '2', './qasm_output\\\\qft_mapped_ibm_opt2_3.qasm'], ['qft', '3', 'ibm', False, True, False, '2', './qasm_output\\\\qft_transpiled_ibm_opt2_3.qasm'], ['qft', '4', 'ibm', False, True, False, '2', './qasm_output\\\\qft_transpiled_ibm_opt2_4.qasm'], ['qft', '5', 'ibm', False, True, False, '2', './qasm_output\\\\qft_transpiled_ibm_opt2_5.qasm'], ['qpe', '3', 'ibm', False, False, True, '2', './qasm_output\\\\qpe_exact_mapped_ibm_opt2_3.qasm'], ['qpe', '3', 'ibm', False, True, False, '2', './qasm_output\\\\qpe_exact_transpiled_ibm_opt2_3.qasm'], ['qpe', '4', 'ibm', False, True, False, '2', './qasm_output\\\\qpe_exact_transpiled_ibm_opt2_4.qasm'], ['qpe', '5', 'ibm', False, True, False, '2', './qasm_output\\\\qpe_exact_transpiled_ibm_opt2_5.qasm'], ['qpe', '3', 'ibm', False, False, True, '2', './qasm_output\\\\qpe_inexact_mapped_ibm_opt2_3.qasm'], ['qpe', '3', 'ibm', False, True, False, '2', './qasm_output\\\\qpe_inexact_transpiled_ibm_opt2_3.qasm'], ['qpe', '4', 'ibm', False, True, False, '2', './qasm_output\\\\qpe_inexact_transpiled_ibm_opt2_4.qasm'], ['qpe', '5', 'ibm', False, True, False, '2', './qasm_output\\\\qpe_inexact_transpiled_ibm_opt2_5.qasm'], ['VQE', '3', 'ibm', False, False, True, '2', './qasm_output\\\\VQE_mapped_ibm_opt2_3.qasm'], ['VQE', '3', 'ibm', False, True, False, '2', './qasm_output\\\\VQE_transpiled_ibm_opt2_3.qasm'], ['VQE', '4', 'ibm', False, True, False, '2', './qasm_output\\\\VQE_transpiled_ibm_opt2_4.qasm'], ['VQE', '5', 'ibm', False, True, False, '2', './qasm_output\\\\VQE_transpiled_ibm_opt2_5.qasm'], ['w', '3', 'ibm', False, False, True, '2', './qasm_output\\\\w_state_mapped_ibm_opt2_3.qasm'], ['w', '3', 'ibm', False, True, False, '2', './qasm_output\\\\w_state_transpiled_ibm_opt2_3.qasm'], ['w', '4', 'ibm', False, True, False, '2', './qasm_output\\\\w_state_transpiled_ibm_opt2_4.qasm'], ['w', '5', 'ibm', False, True, False, '2', './qasm_output\\\\w_state_transpiled_ibm_opt2_5.qasm']]\n"
     ]
    }
   ],
   "source": [
    "directory = qasm_path\n",
    "rows_list = []\n",
    "for filename in os.listdir(directory):\n",
    "    if filename.endswith(\".qasm\") or filename.endswith(\".qpy\"):\n",
    "        #print(filename)\n",
    "        parsed_data = parse_data(directory, filename)\n",
    "        rows_list.append(parsed_data)\n",
    "        continue\n",
    "    else:\n",
    "        #print(filename)\n",
    "        continue\n",
    "print(rows_list)"
   ]
  },
  {
   "cell_type": "code",
   "execution_count": 8,
   "id": "1aab81e4",
   "metadata": {},
   "outputs": [],
   "source": [
    "colnames = [\"Benchmark\", \"Num Qubits\", \"Native_gate_set\", \"Algo_layer\", \"Transpiled_layer\", \"Mapped_layer\", \"Opt_level\", \"Path\"]"
   ]
  },
  {
   "cell_type": "code",
   "execution_count": 9,
   "id": "a5db4019",
   "metadata": {},
   "outputs": [
    {
     "name": "stdout",
     "output_type": "stream",
     "text": [
      "    Benchmark Num Qubits Native_gate_set  Algo_layer  Transpiled_layer  \\\n",
      "0   canonical          3             ibm       False             False   \n",
      "1   canonical          3             ibm       False              True   \n",
      "2   canonical          4             ibm       False              True   \n",
      "3   canonical          5             ibm       False              True   \n",
      "4          dj          3             ibm       False             False   \n",
      "5          dj          3             ibm       False              True   \n",
      "6          dj          4             ibm       False              True   \n",
      "7          dj          5             ibm       False              True   \n",
      "8         ghz          3             ibm       False             False   \n",
      "9         ghz          3             ibm       False              True   \n",
      "10        ghz          4             ibm       False              True   \n",
      "11        ghz          5             ibm       False              True   \n",
      "12      graph          3             ibm       False             False   \n",
      "13      graph          3             ibm       False              True   \n",
      "14      graph          4             ibm       False              True   \n",
      "15      graph          5             ibm       False              True   \n",
      "16     grover          3             ibm       False             False   \n",
      "17     grover          3             ibm       False              True   \n",
      "18     grover          4             ibm       False              True   \n",
      "19     grover          5             ibm       False              True   \n",
      "20       QAOA          3             ibm       False             False   \n",
      "21       QAOA          3             ibm       False              True   \n",
      "22       QAOA          4             ibm       False              True   \n",
      "23       QAOA          5             ibm       False              True   \n",
      "24        qft          3             ibm       False             False   \n",
      "25        qft          3             ibm       False              True   \n",
      "26        qft          4             ibm       False              True   \n",
      "27        qft          5             ibm       False              True   \n",
      "28        qpe          3             ibm       False             False   \n",
      "29        qpe          3             ibm       False              True   \n",
      "30        qpe          4             ibm       False              True   \n",
      "31        qpe          5             ibm       False              True   \n",
      "32        qpe          3             ibm       False             False   \n",
      "33        qpe          3             ibm       False              True   \n",
      "34        qpe          4             ibm       False              True   \n",
      "35        qpe          5             ibm       False              True   \n",
      "36        VQE          3             ibm       False             False   \n",
      "37        VQE          3             ibm       False              True   \n",
      "38        VQE          4             ibm       False              True   \n",
      "39        VQE          5             ibm       False              True   \n",
      "40          w          3             ibm       False             False   \n",
      "41          w          3             ibm       False              True   \n",
      "42          w          4             ibm       False              True   \n",
      "43          w          5             ibm       False              True   \n",
      "\n",
      "    Mapped_layer Opt_level                                               Path  \n",
      "0           True         2  ./qasm_output\\canonical_ae_mapped_ibm_opt2_3.qasm  \n",
      "1          False         2  ./qasm_output\\canonical_ae_transpiled_ibm_opt2...  \n",
      "2          False         2  ./qasm_output\\canonical_ae_transpiled_ibm_opt2...  \n",
      "3          False         2  ./qasm_output\\canonical_ae_transpiled_ibm_opt2...  \n",
      "4           True         2            ./qasm_output\\dj_mapped_ibm_opt2_3.qasm  \n",
      "5          False         2        ./qasm_output\\dj_transpiled_ibm_opt2_3.qasm  \n",
      "6          False         2        ./qasm_output\\dj_transpiled_ibm_opt2_4.qasm  \n",
      "7          False         2        ./qasm_output\\dj_transpiled_ibm_opt2_5.qasm  \n",
      "8           True         2           ./qasm_output\\ghz_mapped_ibm_opt2_3.qasm  \n",
      "9          False         2       ./qasm_output\\ghz_transpiled_ibm_opt2_3.qasm  \n",
      "10         False         2       ./qasm_output\\ghz_transpiled_ibm_opt2_4.qasm  \n",
      "11         False         2       ./qasm_output\\ghz_transpiled_ibm_opt2_5.qasm  \n",
      "12          True         2   ./qasm_output\\graph_state_mapped_ibm_opt2_3.qasm  \n",
      "13         False         2  ./qasm_output\\graph_state_transpiled_ibm_opt2_...  \n",
      "14         False         2  ./qasm_output\\graph_state_transpiled_ibm_opt2_...  \n",
      "15         False         2  ./qasm_output\\graph_state_transpiled_ibm_opt2_...  \n",
      "16          True         2        ./qasm_output\\grover_mapped_ibm_opt2_3.qasm  \n",
      "17         False         2    ./qasm_output\\grover_transpiled_ibm_opt2_3.qasm  \n",
      "18         False         2    ./qasm_output\\grover_transpiled_ibm_opt2_4.qasm  \n",
      "19         False         2    ./qasm_output\\grover_transpiled_ibm_opt2_5.qasm  \n",
      "20          True         2          ./qasm_output\\QAOA_mapped_ibm_opt2_3.qasm  \n",
      "21         False         2      ./qasm_output\\QAOA_transpiled_ibm_opt2_3.qasm  \n",
      "22         False         2      ./qasm_output\\QAOA_transpiled_ibm_opt2_4.qasm  \n",
      "23         False         2      ./qasm_output\\QAOA_transpiled_ibm_opt2_5.qasm  \n",
      "24          True         2           ./qasm_output\\qft_mapped_ibm_opt2_3.qasm  \n",
      "25         False         2       ./qasm_output\\qft_transpiled_ibm_opt2_3.qasm  \n",
      "26         False         2       ./qasm_output\\qft_transpiled_ibm_opt2_4.qasm  \n",
      "27         False         2       ./qasm_output\\qft_transpiled_ibm_opt2_5.qasm  \n",
      "28          True         2     ./qasm_output\\qpe_exact_mapped_ibm_opt2_3.qasm  \n",
      "29         False         2  ./qasm_output\\qpe_exact_transpiled_ibm_opt2_3....  \n",
      "30         False         2  ./qasm_output\\qpe_exact_transpiled_ibm_opt2_4....  \n",
      "31         False         2  ./qasm_output\\qpe_exact_transpiled_ibm_opt2_5....  \n",
      "32          True         2   ./qasm_output\\qpe_inexact_mapped_ibm_opt2_3.qasm  \n",
      "33         False         2  ./qasm_output\\qpe_inexact_transpiled_ibm_opt2_...  \n",
      "34         False         2  ./qasm_output\\qpe_inexact_transpiled_ibm_opt2_...  \n",
      "35         False         2  ./qasm_output\\qpe_inexact_transpiled_ibm_opt2_...  \n",
      "36          True         2           ./qasm_output\\VQE_mapped_ibm_opt2_3.qasm  \n",
      "37         False         2       ./qasm_output\\VQE_transpiled_ibm_opt2_3.qasm  \n",
      "38         False         2       ./qasm_output\\VQE_transpiled_ibm_opt2_4.qasm  \n",
      "39         False         2       ./qasm_output\\VQE_transpiled_ibm_opt2_5.qasm  \n",
      "40          True         2       ./qasm_output\\w_state_mapped_ibm_opt2_3.qasm  \n",
      "41         False         2   ./qasm_output\\w_state_transpiled_ibm_opt2_3.qasm  \n",
      "42         False         2   ./qasm_output\\w_state_transpiled_ibm_opt2_4.qasm  \n",
      "43         False         2   ./qasm_output\\w_state_transpiled_ibm_opt2_5.qasm  \n"
     ]
    }
   ],
   "source": [
    "print(pd.DataFrame(rows_list, columns = colnames))"
   ]
  },
  {
   "cell_type": "code",
   "execution_count": null,
   "id": "4ca78a42",
   "metadata": {},
   "outputs": [],
   "source": []
  }
 ],
 "metadata": {
  "kernelspec": {
   "display_name": "Python 3 (ipykernel)",
   "language": "python",
   "name": "python3"
  },
  "language_info": {
   "codemirror_mode": {
    "name": "ipython",
    "version": 3
   },
   "file_extension": ".py",
   "mimetype": "text/x-python",
   "name": "python",
   "nbconvert_exporter": "python",
   "pygments_lexer": "ipython3",
   "version": "3.9.7"
  }
 },
 "nbformat": 4,
 "nbformat_minor": 5
}
