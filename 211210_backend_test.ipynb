{
 "cells": [
  {
   "cell_type": "code",
   "execution_count": 1,
   "id": "4b19033b",
   "metadata": {},
   "outputs": [],
   "source": [
    "from qiskit import QuantumCircuit, QuantumRegister, ClassicalRegister\n",
    "from qiskit.circuit.library import QFT\n",
    "import pandas as pd\n",
    "import numpy as np\n",
    "import os\n",
    "import re\n"
   ]
  },
  {
   "cell_type": "code",
   "execution_count": 2,
   "id": "e7fb84d7",
   "metadata": {},
   "outputs": [],
   "source": [
    "qasm_path = r\"./qasm_output\"\n",
    "qpy_path = r\"./qpy_output\""
   ]
  },
  {
   "cell_type": "code",
   "execution_count": 46,
   "id": "237e98e1",
   "metadata": {},
   "outputs": [],
   "source": [
    "test = \"canonical_ae_mapped_ibm_opt2_3.qasm\""
   ]
  },
  {
   "cell_type": "code",
   "execution_count": 71,
   "id": "e580074e",
   "metadata": {},
   "outputs": [
    {
     "name": "stdout",
     "output_type": "stream",
     "text": [
      "canonical_ae_mapped_ibm_opt2_3.qasm None\n",
      "canonical_ae_mapped_ibm_opt2_3.qasm\n"
     ]
    },
    {
     "ename": "UnboundLocalError",
     "evalue": "local variable 'num' referenced before assignment",
     "output_type": "error",
     "traceback": [
      "\u001b[1;31m---------------------------------------------------------------------------\u001b[0m",
      "\u001b[1;31mUnboundLocalError\u001b[0m                         Traceback (most recent call last)",
      "\u001b[1;32m~\\AppData\\Local\\Temp/ipykernel_13996/898478290.py\u001b[0m in \u001b[0;36m<module>\u001b[1;34m\u001b[0m\n\u001b[1;32m----> 1\u001b[1;33m \u001b[0mget_opt_level\u001b[0m\u001b[1;33m(\u001b[0m\u001b[0mtest\u001b[0m\u001b[1;33m)\u001b[0m\u001b[1;33m\u001b[0m\u001b[1;33m\u001b[0m\u001b[0m\n\u001b[0m",
      "\u001b[1;32m~\\AppData\\Local\\Temp/ipykernel_13996/3431631840.py\u001b[0m in \u001b[0;36mget_opt_level\u001b[1;34m(filename)\u001b[0m\n\u001b[0;32m      7\u001b[0m     \u001b[1;32melse\u001b[0m\u001b[1;33m:\u001b[0m\u001b[1;33m\u001b[0m\u001b[1;33m\u001b[0m\u001b[0m\n\u001b[0;32m      8\u001b[0m         \u001b[0mprint\u001b[0m \u001b[1;33m(\u001b[0m\u001b[0mfilename\u001b[0m\u001b[1;33m)\u001b[0m\u001b[1;33m\u001b[0m\u001b[1;33m\u001b[0m\u001b[0m\n\u001b[1;32m----> 9\u001b[1;33m     \u001b[0mprint\u001b[0m\u001b[1;33m(\u001b[0m\u001b[0mnum\u001b[0m\u001b[1;33m)\u001b[0m\u001b[1;33m\u001b[0m\u001b[1;33m\u001b[0m\u001b[0m\n\u001b[0m\u001b[0;32m     10\u001b[0m     \u001b[1;32mreturn\u001b[0m \u001b[0mnum\u001b[0m\u001b[1;33m\u001b[0m\u001b[1;33m\u001b[0m\u001b[0m\n",
      "\u001b[1;31mUnboundLocalError\u001b[0m: local variable 'num' referenced before assignment"
     ]
    }
   ],
   "source": [
    "get_opt_level(test)"
   ]
  },
  {
   "cell_type": "code",
   "execution_count": 70,
   "id": "275e241c",
   "metadata": {},
   "outputs": [],
   "source": [
    "def get_opt_level(filename:str):\n",
    "    pat = re.compile(r'[0-9]')\n",
    "    m = pat.search(filename)\n",
    "    print (filename, m)\n",
    "    if m:\n",
    "        num = m.group()[1:-1]\n",
    "    else:\n",
    "        print (filename)\n",
    "    print(num)\n",
    "    return num"
   ]
  },
  {
   "cell_type": "code",
   "execution_count": 24,
   "id": "5d368d0b",
   "metadata": {},
   "outputs": [],
   "source": [
    "def get_num_qubits(filename:str):\n",
    "    pat = re.compile(r'_\\d+.')\n",
    "    m = pat.search(filename)\n",
    "    if m:\n",
    "        num = m.group()[1:-1]\n",
    "    else:\n",
    "        print (filename)\n",
    "    return num"
   ]
  },
  {
   "cell_type": "code",
   "execution_count": 25,
   "id": "a468bd7d",
   "metadata": {},
   "outputs": [],
   "source": [
    "def parse_data(directory: str, filename:str):\n",
    "    benchmark = filename.split(\"_\")[0]\n",
    "    num_qubits = get_num_qubits(filename)\n",
    "    algorithm_flag =  \"algorithm\" in filename\n",
    "    transpiled_flag = \"transpiled\" in filename \n",
    "    mapped_flag = \"mapped\" in filename\n",
    "    opt_level = get_opt_level(filename)\n",
    "    path = os.path.join(directory, filename)\n",
    "    if (\"ibm\" in filename): gate_set=\"ibm\"\n",
    "    elif (\"rigetti\" in filename): gate_set=\"ibm\"\n",
    "    parsed_data = [benchmark, num_qubits, gate_set, algorithm_flag, transpiled_flag, mapped_flag, opt_level, path]\n",
    "    return parsed_data"
   ]
  },
  {
   "cell_type": "code",
   "execution_count": 26,
   "id": "344189b9",
   "metadata": {},
   "outputs": [
    {
     "name": "stdout",
     "output_type": "stream",
     "text": [
      "canonical_ae_mapped_ibm_opt2_3.qasm None\n",
      "canonical_ae_mapped_ibm_opt2_3.qasm\n"
     ]
    },
    {
     "ename": "UnboundLocalError",
     "evalue": "local variable 'num' referenced before assignment",
     "output_type": "error",
     "traceback": [
      "\u001b[1;31m---------------------------------------------------------------------------\u001b[0m",
      "\u001b[1;31mUnboundLocalError\u001b[0m                         Traceback (most recent call last)",
      "\u001b[1;32m~\\AppData\\Local\\Temp/ipykernel_13996/3422022944.py\u001b[0m in \u001b[0;36m<module>\u001b[1;34m\u001b[0m\n\u001b[0;32m      4\u001b[0m     \u001b[1;32mif\u001b[0m \u001b[0mfilename\u001b[0m\u001b[1;33m.\u001b[0m\u001b[0mendswith\u001b[0m\u001b[1;33m(\u001b[0m\u001b[1;34m\".qasm\"\u001b[0m\u001b[1;33m)\u001b[0m \u001b[1;32mor\u001b[0m \u001b[0mfilename\u001b[0m\u001b[1;33m.\u001b[0m\u001b[0mendswith\u001b[0m\u001b[1;33m(\u001b[0m\u001b[1;34m\".qpy\"\u001b[0m\u001b[1;33m)\u001b[0m\u001b[1;33m:\u001b[0m\u001b[1;33m\u001b[0m\u001b[1;33m\u001b[0m\u001b[0m\n\u001b[0;32m      5\u001b[0m         \u001b[1;31m#print(filename)\u001b[0m\u001b[1;33m\u001b[0m\u001b[1;33m\u001b[0m\u001b[0m\n\u001b[1;32m----> 6\u001b[1;33m         \u001b[0mparsed_data\u001b[0m \u001b[1;33m=\u001b[0m \u001b[0mparse_data\u001b[0m\u001b[1;33m(\u001b[0m\u001b[0mdirectory\u001b[0m\u001b[1;33m,\u001b[0m \u001b[0mfilename\u001b[0m\u001b[1;33m)\u001b[0m\u001b[1;33m\u001b[0m\u001b[1;33m\u001b[0m\u001b[0m\n\u001b[0m\u001b[0;32m      7\u001b[0m         \u001b[0mrows_list\u001b[0m\u001b[1;33m.\u001b[0m\u001b[0mappend\u001b[0m\u001b[1;33m(\u001b[0m\u001b[0mparsed_data\u001b[0m\u001b[1;33m)\u001b[0m\u001b[1;33m\u001b[0m\u001b[1;33m\u001b[0m\u001b[0m\n\u001b[0;32m      8\u001b[0m         \u001b[1;32mcontinue\u001b[0m\u001b[1;33m\u001b[0m\u001b[1;33m\u001b[0m\u001b[0m\n",
      "\u001b[1;32m~\\AppData\\Local\\Temp/ipykernel_13996/4058707863.py\u001b[0m in \u001b[0;36mparse_data\u001b[1;34m(directory, filename)\u001b[0m\n\u001b[0;32m      5\u001b[0m     \u001b[0mtranspiled_flag\u001b[0m \u001b[1;33m=\u001b[0m \u001b[1;34m\"transpiled\"\u001b[0m \u001b[1;32min\u001b[0m \u001b[0mfilename\u001b[0m\u001b[1;33m\u001b[0m\u001b[1;33m\u001b[0m\u001b[0m\n\u001b[0;32m      6\u001b[0m     \u001b[0mmapped_flag\u001b[0m \u001b[1;33m=\u001b[0m \u001b[1;34m\"mapped\"\u001b[0m \u001b[1;32min\u001b[0m \u001b[0mfilename\u001b[0m\u001b[1;33m\u001b[0m\u001b[1;33m\u001b[0m\u001b[0m\n\u001b[1;32m----> 7\u001b[1;33m     \u001b[0mopt_level\u001b[0m \u001b[1;33m=\u001b[0m \u001b[0mget_opt_level\u001b[0m\u001b[1;33m(\u001b[0m\u001b[0mfilename\u001b[0m\u001b[1;33m)\u001b[0m\u001b[1;33m\u001b[0m\u001b[1;33m\u001b[0m\u001b[0m\n\u001b[0m\u001b[0;32m      8\u001b[0m     \u001b[0mpath\u001b[0m \u001b[1;33m=\u001b[0m \u001b[0mos\u001b[0m\u001b[1;33m.\u001b[0m\u001b[0mpath\u001b[0m\u001b[1;33m.\u001b[0m\u001b[0mjoin\u001b[0m\u001b[1;33m(\u001b[0m\u001b[0mdirectory\u001b[0m\u001b[1;33m,\u001b[0m \u001b[0mfilename\u001b[0m\u001b[1;33m)\u001b[0m\u001b[1;33m\u001b[0m\u001b[1;33m\u001b[0m\u001b[0m\n\u001b[0;32m      9\u001b[0m     \u001b[1;32mif\u001b[0m \u001b[1;33m(\u001b[0m\u001b[1;34m\"ibm\"\u001b[0m \u001b[1;32min\u001b[0m \u001b[0mfilename\u001b[0m\u001b[1;33m)\u001b[0m\u001b[1;33m:\u001b[0m \u001b[0mgate_set\u001b[0m\u001b[1;33m=\u001b[0m\u001b[1;34m\"ibm\"\u001b[0m\u001b[1;33m\u001b[0m\u001b[1;33m\u001b[0m\u001b[0m\n",
      "\u001b[1;32m~\\AppData\\Local\\Temp/ipykernel_13996/1021185529.py\u001b[0m in \u001b[0;36mget_opt_level\u001b[1;34m(filename)\u001b[0m\n\u001b[0;32m      7\u001b[0m     \u001b[1;32melse\u001b[0m\u001b[1;33m:\u001b[0m\u001b[1;33m\u001b[0m\u001b[1;33m\u001b[0m\u001b[0m\n\u001b[0;32m      8\u001b[0m         \u001b[0mprint\u001b[0m \u001b[1;33m(\u001b[0m\u001b[0mfilename\u001b[0m\u001b[1;33m)\u001b[0m\u001b[1;33m\u001b[0m\u001b[1;33m\u001b[0m\u001b[0m\n\u001b[1;32m----> 9\u001b[1;33m     \u001b[1;32mreturn\u001b[0m \u001b[0mnum\u001b[0m\u001b[1;33m\u001b[0m\u001b[1;33m\u001b[0m\u001b[0m\n\u001b[0m",
      "\u001b[1;31mUnboundLocalError\u001b[0m: local variable 'num' referenced before assignment"
     ]
    }
   ],
   "source": [
    "directory = qasm_path\n",
    "rows_list = []\n",
    "for filename in os.listdir(directory):\n",
    "    if filename.endswith(\".qasm\") or filename.endswith(\".qpy\"):\n",
    "        #print(filename)\n",
    "        parsed_data = parse_data(directory, filename)\n",
    "        rows_list.append(parsed_data)\n",
    "        continue\n",
    "    else:\n",
    "        #print(filename)\n",
    "        continue\n",
    "print(rows_list)"
   ]
  },
  {
   "cell_type": "code",
   "execution_count": null,
   "id": "1aab81e4",
   "metadata": {},
   "outputs": [],
   "source": [
    "colnames = [\"Benchmark\", \"Num Qubits\", \"Algo_layer\", \"Transpiled_layer\", \"Mapped_layer\", \"Path\"]"
   ]
  },
  {
   "cell_type": "code",
   "execution_count": null,
   "id": "a5db4019",
   "metadata": {},
   "outputs": [],
   "source": [
    "print(pd.DataFrame(rows_list, columns = colnames))"
   ]
  },
  {
   "cell_type": "code",
   "execution_count": null,
   "id": "4ca78a42",
   "metadata": {},
   "outputs": [],
   "source": []
  }
 ],
 "metadata": {
  "kernelspec": {
   "display_name": "Python 3 (ipykernel)",
   "language": "python",
   "name": "python3"
  },
  "language_info": {
   "codemirror_mode": {
    "name": "ipython",
    "version": 3
   },
   "file_extension": ".py",
   "mimetype": "text/x-python",
   "name": "python",
   "nbconvert_exporter": "python",
   "pygments_lexer": "ipython3",
   "version": "3.9.7"
  }
 },
 "nbformat": 4,
 "nbformat_minor": 5
}
