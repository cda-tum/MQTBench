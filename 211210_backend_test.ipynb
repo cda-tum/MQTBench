{
 "cells": [
  {
   "cell_type": "code",
   "execution_count": 2,
   "id": "4b19033b",
   "metadata": {},
   "outputs": [],
   "source": [
    "from qiskit import QuantumCircuit, QuantumRegister, ClassicalRegister\n",
    "from qiskit.circuit.library import QFT\n",
    "import pandas as pd\n",
    "import numpy as np\n",
    "import os\n",
    "import re\n"
   ]
  },
  {
   "cell_type": "code",
   "execution_count": 3,
   "id": "e7fb84d7",
   "metadata": {},
   "outputs": [],
   "source": [
    "qasm_path = r\"./qasm_output\"\n",
    "qpy_path = r\"./qpy_output\""
   ]
  },
  {
   "cell_type": "code",
   "execution_count": 46,
   "id": "815f6f1f",
   "metadata": {},
   "outputs": [],
   "source": [
    "test = \"canonical_ae_mapped_ibm_opt2_3.qasm\""
   ]
  },
  {
   "cell_type": "code",
   "execution_count": 1,
   "id": "b675402c",
   "metadata": {},
   "outputs": [
    {
     "ename": "NameError",
     "evalue": "name 'get_opt_level' is not defined",
     "output_type": "error",
     "traceback": [
      "\u001b[1;31m---------------------------------------------------------------------------\u001b[0m",
      "\u001b[1;31mNameError\u001b[0m                                 Traceback (most recent call last)",
      "\u001b[1;32m~\\AppData\\Local\\Temp/ipykernel_13556/898478290.py\u001b[0m in \u001b[0;36m<module>\u001b[1;34m\u001b[0m\n\u001b[1;32m----> 1\u001b[1;33m \u001b[0mget_opt_level\u001b[0m\u001b[1;33m(\u001b[0m\u001b[0mtest\u001b[0m\u001b[1;33m)\u001b[0m\u001b[1;33m\u001b[0m\u001b[1;33m\u001b[0m\u001b[0m\n\u001b[0m",
      "\u001b[1;31mNameError\u001b[0m: name 'get_opt_level' is not defined"
     ]
    }
   ],
   "source": [
    "get_opt_level(test)"
   ]
  },
  {
   "cell_type": "code",
   "execution_count": 27,
   "id": "73044927",
   "metadata": {},
   "outputs": [],
   "source": [
    "def get_opt_level(filename:str):\n",
    "    pat = re.compile(r'\\w[0-9]')\n",
    "    m = pat.search(filename)\n",
    "    if m:\n",
    "        num = m.group()[1:]\n",
    "    else: \n",
    "        num = None\n",
    "    return num"
   ]
  },
  {
   "cell_type": "code",
   "execution_count": 28,
   "id": "5d368d0b",
   "metadata": {},
   "outputs": [],
   "source": [
    "def get_num_qubits(filename:str):\n",
    "    pat = re.compile(r'_\\d+.')\n",
    "    m = pat.search(filename)\n",
    "    if m:\n",
    "        num = m.group()[1:-1]\n",
    "    else: \n",
    "        num = None\n",
    "    return num"
   ]
  },
  {
   "cell_type": "code",
   "execution_count": 6,
   "id": "a468bd7d",
   "metadata": {},
   "outputs": [],
   "source": [
    "def parse_data(directory: str, filename:str):\n",
    "    benchmark = filename.split(\"_\")[0]\n",
    "    num_qubits = get_num_qubits(filename)\n",
    "    algorithm_flag =  \"algorithm\" in filename\n",
    "    transpiled_flag = \"transpiled\" in filename \n",
    "    mapped_flag = \"mapped\" in filename\n",
    "    opt_level = get_opt_level(filename)\n",
    "    path = os.path.join(directory, filename)\n",
    "    if (\"ibm\" in filename): gate_set=\"ibm\"\n",
    "    elif (\"rigetti\" in filename): gate_set=\"ibm\"\n",
    "    parsed_data = [benchmark, num_qubits, gate_set, algorithm_flag, transpiled_flag, mapped_flag, opt_level, path]\n",
    "    return parsed_data"
   ]
  },
  {
   "cell_type": "code",
   "execution_count": 10,
   "id": "344189b9",
   "metadata": {},
   "outputs": [
    {
     "name": "stdout",
     "output_type": "stream",
     "text": [
      "[['ae', '3', 'ibm', False, False, True, '2', './qasm_output\\\\ae_mapped_ibm_opt2_3.qasm'], ['ae', '3', 'ibm', False, True, False, '2', './qasm_output\\\\ae_transpiled_ibm_opt2_3.qasm'], ['ae', '4', 'ibm', False, True, False, '2', './qasm_output\\\\ae_transpiled_ibm_opt2_4.qasm'], ['ae', '5', 'ibm', False, True, False, '2', './qasm_output\\\\ae_transpiled_ibm_opt2_5.qasm'], ['dj', '3', 'ibm', False, False, True, '2', './qasm_output\\\\dj_mapped_ibm_opt2_3.qasm'], ['dj', '3', 'ibm', False, True, False, '2', './qasm_output\\\\dj_transpiled_ibm_opt2_3.qasm'], ['dj', '4', 'ibm', False, True, False, '2', './qasm_output\\\\dj_transpiled_ibm_opt2_4.qasm'], ['dj', '5', 'ibm', False, True, False, '2', './qasm_output\\\\dj_transpiled_ibm_opt2_5.qasm'], ['ghz', '3', 'ibm', False, False, True, '2', './qasm_output\\\\ghz_mapped_ibm_opt2_3.qasm'], ['ghz', '3', 'ibm', False, True, False, '2', './qasm_output\\\\ghz_transpiled_ibm_opt2_3.qasm'], ['ghz', '4', 'ibm', False, True, False, '2', './qasm_output\\\\ghz_transpiled_ibm_opt2_4.qasm'], ['ghz', '5', 'ibm', False, True, False, '2', './qasm_output\\\\ghz_transpiled_ibm_opt2_5.qasm'], ['graphstate', '3', 'ibm', False, False, True, '2', './qasm_output\\\\graphstate_mapped_ibm_opt2_3.qasm'], ['graphstate', '3', 'ibm', False, True, False, '2', './qasm_output\\\\graphstate_transpiled_ibm_opt2_3.qasm'], ['graphstate', '4', 'ibm', False, True, False, '2', './qasm_output\\\\graphstate_transpiled_ibm_opt2_4.qasm'], ['graphstate', '5', 'ibm', False, True, False, '2', './qasm_output\\\\graphstate_transpiled_ibm_opt2_5.qasm'], ['grover', '3', 'ibm', False, False, True, '2', './qasm_output\\\\grover_mapped_ibm_opt2_3.qasm'], ['grover', '3', 'ibm', False, True, False, '2', './qasm_output\\\\grover_transpiled_ibm_opt2_3.qasm'], ['grover', '4', 'ibm', False, True, False, '2', './qasm_output\\\\grover_transpiled_ibm_opt2_4.qasm'], ['grover', '5', 'ibm', False, True, False, '2', './qasm_output\\\\grover_transpiled_ibm_opt2_5.qasm'], ['QAOA', '3', 'ibm', False, False, True, '2', './qasm_output\\\\QAOA_mapped_ibm_opt2_3.qasm'], ['QAOA', '3', 'ibm', False, True, False, '2', './qasm_output\\\\QAOA_transpiled_ibm_opt2_3.qasm'], ['QAOA', '4', 'ibm', False, True, False, '2', './qasm_output\\\\QAOA_transpiled_ibm_opt2_4.qasm'], ['QAOA', '5', 'ibm', False, True, False, '2', './qasm_output\\\\QAOA_transpiled_ibm_opt2_5.qasm'], ['qft', '3', 'ibm', False, False, True, '2', './qasm_output\\\\qft_mapped_ibm_opt2_3.qasm'], ['qft', '3', 'ibm', False, True, False, '2', './qasm_output\\\\qft_transpiled_ibm_opt2_3.qasm'], ['qft', '4', 'ibm', False, True, False, '2', './qasm_output\\\\qft_transpiled_ibm_opt2_4.qasm'], ['qft', '5', 'ibm', False, True, False, '2', './qasm_output\\\\qft_transpiled_ibm_opt2_5.qasm'], ['qpeexact', '3', 'ibm', False, False, True, '2', './qasm_output\\\\qpeexact_mapped_ibm_opt2_3.qasm'], ['qpeexact', '3', 'ibm', False, True, False, '2', './qasm_output\\\\qpeexact_transpiled_ibm_opt2_3.qasm'], ['qpeexact', '4', 'ibm', False, True, False, '2', './qasm_output\\\\qpeexact_transpiled_ibm_opt2_4.qasm'], ['qpeexact', '5', 'ibm', False, True, False, '2', './qasm_output\\\\qpeexact_transpiled_ibm_opt2_5.qasm'], ['qpeinexact', '3', 'ibm', False, False, True, '2', './qasm_output\\\\qpeinexact_mapped_ibm_opt2_3.qasm'], ['qpeinexact', '3', 'ibm', False, True, False, '2', './qasm_output\\\\qpeinexact_transpiled_ibm_opt2_3.qasm'], ['qpeinexact', '4', 'ibm', False, True, False, '2', './qasm_output\\\\qpeinexact_transpiled_ibm_opt2_4.qasm'], ['qpeinexact', '5', 'ibm', False, True, False, '2', './qasm_output\\\\qpeinexact_transpiled_ibm_opt2_5.qasm'], ['VQE', '3', 'ibm', False, False, True, '2', './qasm_output\\\\VQE_mapped_ibm_opt2_3.qasm'], ['VQE', '3', 'ibm', False, True, False, '2', './qasm_output\\\\VQE_transpiled_ibm_opt2_3.qasm'], ['VQE', '4', 'ibm', False, True, False, '2', './qasm_output\\\\VQE_transpiled_ibm_opt2_4.qasm'], ['VQE', '5', 'ibm', False, True, False, '2', './qasm_output\\\\VQE_transpiled_ibm_opt2_5.qasm'], ['wstate', '3', 'ibm', False, False, True, '2', './qasm_output\\\\wstate_mapped_ibm_opt2_3.qasm'], ['wstate', '3', 'ibm', False, True, False, '2', './qasm_output\\\\wstate_transpiled_ibm_opt2_3.qasm'], ['wstate', '4', 'ibm', False, True, False, '2', './qasm_output\\\\wstate_transpiled_ibm_opt2_4.qasm'], ['wstate', '5', 'ibm', False, True, False, '2', './qasm_output\\\\wstate_transpiled_ibm_opt2_5.qasm']]\n"
     ]
    }
   ],
   "source": [
    "directory = qasm_path\n",
    "rows_list = []\n",
    "for filename in os.listdir(directory):\n",
    "    if filename.endswith(\".qasm\") or filename.endswith(\".qpy\"):\n",
    "        #print(filename)\n",
    "        parsed_data = parse_data(directory, filename)\n",
    "        rows_list.append(parsed_data)\n",
    "        continue\n",
    "    else:\n",
    "        #print(filename)\n",
    "        continue\n",
    "print(rows_list)"
   ]
  },
  {
   "cell_type": "code",
   "execution_count": 114,
   "id": "1aab81e4",
   "metadata": {},
   "outputs": [],
   "source": [
    "colnames = [\"benchmark\", \"num_qubits\", \"native_gate_set\", \"algo_layer\", \"transpiled_layer\", \"mapped_layer\", \"opt_level\", \"path\"]"
   ]
  },
  {
   "cell_type": "code",
   "execution_count": 115,
   "id": "a5db4019",
   "metadata": {},
   "outputs": [],
   "source": [
    "database = pd.DataFrame(rows_list, columns = colnames)\n",
    "database['num_qubits'] = database['num_qubits'].astype(int)\n",
    "database['opt_level'] = database['opt_level'].astype(int)"
   ]
  },
  {
   "cell_type": "code",
   "execution_count": 62,
   "id": "4ca78a42",
   "metadata": {},
   "outputs": [],
   "source": [
    "input_data ={'1': {'selectBench_1': 'Shor', 'qubitRange_1': '40', 'algorithmLevel_1': 'true', 'transpiledLevel_1': 'true', 'gate_set_1': 'rigetti', 'mappedLevel_1': 'true', 'optlevel_1\"': '2'}, '3': {'selectBench_3': 'QFT', 'qubitRange_3': '62', 'transpiledLevel_3': 'true', 'gate_set_3': 'ibm', 'optlevel_3\"': '1'}}\n"
   ]
  },
  {
   "cell_type": "code",
   "execution_count": 63,
   "id": "e99f914c",
   "metadata": {},
   "outputs": [
    {
     "data": {
      "text/plain": [
       "{'1': {'selectBench_1': 'Shor',\n",
       "  'qubitRange_1': '40',\n",
       "  'algorithmLevel_1': 'true',\n",
       "  'transpiledLevel_1': 'true',\n",
       "  'gate_set_1': 'rigetti',\n",
       "  'mappedLevel_1': 'true',\n",
       "  'optlevel_1\"': '2'},\n",
       " '3': {'selectBench_3': 'QFT',\n",
       "  'qubitRange_3': '62',\n",
       "  'transpiledLevel_3': 'true',\n",
       "  'gate_set_3': 'ibm',\n",
       "  'optlevel_3\"': '1'}}"
      ]
     },
     "execution_count": 63,
     "metadata": {},
     "output_type": "execute_result"
    }
   ],
   "source": [
    "input_data"
   ]
  },
  {
   "cell_type": "code",
   "execution_count": 94,
   "id": "6509a6be",
   "metadata": {},
   "outputs": [
    {
     "name": "stdout",
     "output_type": "stream",
     "text": [
      "name, qubit, gate_set, algorithm_flag, transpiled_flag, mapped_flag, opt_level\n",
      "[['Shor', '40', 'rigetti', True, True, True, '2'], ['QFT', '62', 'ibm', False, True, False, '1']]\n"
     ]
    }
   ],
   "source": [
    "print(\"name, qubit, gate_set, algorithm_flag, transpiled_flag, mapped_flag, opt_level\")\n",
    "\n",
    "filter_list = []\n",
    "\n",
    "for key, value in input_data.items():\n",
    "    algorithm_flag = False\n",
    "    transpiled_flag = False\n",
    "    mapped_flag = False\n",
    "    gate_set = False  \n",
    "    name = list(value.values())[0]\n",
    "    num_qubits = list(value.values())[1]\n",
    "    for key, value in value.items():\n",
    "        if \"algorithmLevel\" in key and value: algorithm_flag =True\n",
    "        elif \"transpiledLevel\" in key and value: transpiled_flag =True \n",
    "        elif \"mappedLevel\" in key and value: mapped_flag =True\n",
    "        \n",
    "        if \"gate_set\" in key: gate_set = value \n",
    "            \n",
    "        if \"optlevel\" in key: opt_level = value\n",
    "    filter_list.append([name, num_qubits, gate_set, algorithm_flag, transpiled_flag, mapped_flag, opt_level])\n",
    "    #print(name, qubit, gate_set, algorithm_flag, transpiled_flag, mapped_flag, opt_level )\n",
    "print(filter_list)"
   ]
  },
  {
   "cell_type": "code",
   "execution_count": 116,
   "id": "4446e7c8",
   "metadata": {
    "scrolled": true
   },
   "outputs": [
    {
     "data": {
      "text/html": [
       "<div>\n",
       "<style scoped>\n",
       "    .dataframe tbody tr th:only-of-type {\n",
       "        vertical-align: middle;\n",
       "    }\n",
       "\n",
       "    .dataframe tbody tr th {\n",
       "        vertical-align: top;\n",
       "    }\n",
       "\n",
       "    .dataframe thead th {\n",
       "        text-align: right;\n",
       "    }\n",
       "</style>\n",
       "<table border=\"1\" class=\"dataframe\">\n",
       "  <thead>\n",
       "    <tr style=\"text-align: right;\">\n",
       "      <th></th>\n",
       "      <th>benchmark</th>\n",
       "      <th>num_qubits</th>\n",
       "      <th>native_gate_set</th>\n",
       "      <th>algo_layer</th>\n",
       "      <th>transpiled_layer</th>\n",
       "      <th>mapped_layer</th>\n",
       "      <th>opt_level</th>\n",
       "    </tr>\n",
       "  </thead>\n",
       "  <tbody>\n",
       "    <tr>\n",
       "      <th>0</th>\n",
       "      <td>Shor</td>\n",
       "      <td>40</td>\n",
       "      <td>rigetti</td>\n",
       "      <td>True</td>\n",
       "      <td>True</td>\n",
       "      <td>True</td>\n",
       "      <td>2</td>\n",
       "    </tr>\n",
       "    <tr>\n",
       "      <th>1</th>\n",
       "      <td>QFT</td>\n",
       "      <td>62</td>\n",
       "      <td>ibm</td>\n",
       "      <td>False</td>\n",
       "      <td>True</td>\n",
       "      <td>False</td>\n",
       "      <td>1</td>\n",
       "    </tr>\n",
       "  </tbody>\n",
       "</table>\n",
       "</div>"
      ],
      "text/plain": [
       "  benchmark  num_qubits native_gate_set  algo_layer  transpiled_layer  \\\n",
       "0      Shor          40         rigetti        True              True   \n",
       "1       QFT          62             ibm       False              True   \n",
       "\n",
       "   mapped_layer  opt_level  \n",
       "0          True          2  \n",
       "1         False          1  "
      ]
     },
     "execution_count": 116,
     "metadata": {},
     "output_type": "execute_result"
    }
   ],
   "source": [
    "colnames = [\"benchmark\", \"num_qubits\", \"native_gate_set\", \"algo_layer\", \"transpiled_layer\", \"mapped_layer\", \"opt_level\"]\n",
    "filter_df = pd.DataFrame(filter_list, columns=colnames)\n",
    "filter_df['num_qubits'] = filter_df['num_qubits'].astype(int)\n",
    "filter_df['opt_level'] = filter_df['opt_level'].astype(int)\n",
    "filter_df"
   ]
  },
  {
   "cell_type": "code",
   "execution_count": 120,
   "id": "d226e744",
   "metadata": {},
   "outputs": [],
   "source": [
    "filtered_res = database.loc[(database[\"benchmark\"] == name.lower()) & (database[\"num_qubits\"] < int(num_qubits)) & (database[\"transpiled_layer\"])]"
   ]
  },
  {
   "cell_type": "code",
   "execution_count": 122,
   "id": "3465603b",
   "metadata": {},
   "outputs": [
    {
     "data": {
      "text/plain": [
       "['./qasm_output\\\\qft_transpiled_ibm_opt2_3.qasm',\n",
       " './qasm_output\\\\qft_transpiled_ibm_opt2_4.qasm',\n",
       " './qasm_output\\\\qft_transpiled_ibm_opt2_5.qasm']"
      ]
     },
     "execution_count": 122,
     "metadata": {},
     "output_type": "execute_result"
    }
   ],
   "source": [
    "paths = list(filtered_res.path)\n",
    "paths"
   ]
  },
  {
   "cell_type": "code",
   "execution_count": 129,
   "id": "2b6a6323",
   "metadata": {},
   "outputs": [],
   "source": [
    "from zipfile import ZipFile"
   ]
  },
  {
   "cell_type": "code",
   "execution_count": 130,
   "id": "d85d5dca",
   "metadata": {},
   "outputs": [],
   "source": [
    "with ZipFile('test.zip', 'w') as zipobj:\n",
    "    for path in paths:\n",
    "        zipobj.write(path)\n",
    "zipobj.close()"
   ]
  },
  {
   "cell_type": "code",
   "execution_count": null,
   "id": "36f87e71",
   "metadata": {},
   "outputs": [],
   "source": []
  }
 ],
 "metadata": {
  "kernelspec": {
   "display_name": "Python 3 (ipykernel)",
   "language": "python",
   "name": "python3"
  },
  "language_info": {
   "codemirror_mode": {
    "name": "ipython",
    "version": 3
   },
   "file_extension": ".py",
   "mimetype": "text/x-python",
   "name": "python",
   "nbconvert_exporter": "python",
   "pygments_lexer": "ipython3",
   "version": "3.9.7"
  }
 },
 "nbformat": 4,
 "nbformat_minor": 5
}
