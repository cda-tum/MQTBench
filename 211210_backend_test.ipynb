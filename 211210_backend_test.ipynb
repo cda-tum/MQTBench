{
 "cells": [
  {
   "cell_type": "code",
   "execution_count": 1,
   "id": "4b19033b",
   "metadata": {},
   "outputs": [],
   "source": [
    "from qiskit import QuantumCircuit, QuantumRegister, ClassicalRegister\n",
    "from qiskit.circuit.library import QFT\n",
    "import pandas as pd\n",
    "import numpy as np\n",
    "import os\n",
    "import re\n"
   ]
  },
  {
   "cell_type": "code",
   "execution_count": 2,
   "id": "e7fb84d7",
   "metadata": {},
   "outputs": [],
   "source": [
    "qasm_path = r\"./qasm_output\"\n",
    "qpy_path = r\"./qpy_output\""
   ]
  },
  {
   "cell_type": "code",
   "execution_count": 34,
   "id": "5d368d0b",
   "metadata": {},
   "outputs": [],
   "source": [
    "def get_num_qubits(filename:str):\n",
    "    pat = re.compile(r'_\\d+.')\n",
    "    m = pat.search(filename)\n",
    "    if m:\n",
    "        num = m.group()\n",
    "    else:\n",
    "        print (filename)\n",
    "    return num"
   ]
  },
  {
   "cell_type": "code",
   "execution_count": 35,
   "id": "a468bd7d",
   "metadata": {},
   "outputs": [],
   "source": [
    "def parse_data(directory: str, filename:str):\n",
    "    benchmark = filename.split(\"_\")[0]\n",
    "    num_qubits = get_num_qubits(filename)\n",
    "    algorithm_flag =  \"algorithm\" in filename\n",
    "    transpiled_flag = \"transpiled\" in filename \n",
    "    mapped_flag = \"mapped\" in filename\n",
    "    path = os.path.join(directory, filename)\n",
    "    parsed_data = [benchmark, num_qubits, algorithm_flag, transpiled_flag, mapped_flag, path]\n",
    "    return parsed_data"
   ]
  },
  {
   "cell_type": "code",
   "execution_count": 36,
   "id": "344189b9",
   "metadata": {},
   "outputs": [
    {
     "name": "stdout",
     "output_type": "stream",
     "text": [
      "[['canonical', '_3.', False, True, False, './qasm_output\\\\canonical_ae_transpiled_3.qasm'], ['canonical', '_4.', False, True, False, './qasm_output\\\\canonical_ae_transpiled_4.qasm'], ['canonical', '_5.', False, True, False, './qasm_output\\\\canonical_ae_transpiled_5.qasm'], ['canonical', '_3.', False, True, True, './qasm_output\\\\canonical_ae_transpiled_mapped_3.qasm'], ['dj', '_3.', False, True, False, './qasm_output\\\\dj_transpiled_3.qasm'], ['dj', '_4.', False, True, False, './qasm_output\\\\dj_transpiled_4.qasm'], ['dj', '_5.', False, True, False, './qasm_output\\\\dj_transpiled_5.qasm'], ['dj', '_3.', False, True, True, './qasm_output\\\\dj_transpiled_mapped_3.qasm'], ['ghz', '_3.', False, True, False, './qasm_output\\\\ghz_transpiled_3.qasm'], ['ghz', '_4.', False, True, False, './qasm_output\\\\ghz_transpiled_4.qasm'], ['ghz', '_5.', False, True, False, './qasm_output\\\\ghz_transpiled_5.qasm'], ['ghz', '_3.', False, True, True, './qasm_output\\\\ghz_transpiled_mapped_3.qasm'], ['ghz', '_5.', False, True, True, './qasm_output\\\\ghz_transpiled_mapped_5.qasm'], ['graph', '_3.', False, True, False, './qasm_output\\\\graph_state_transpiled_3.qasm'], ['graph', '_4.', False, True, False, './qasm_output\\\\graph_state_transpiled_4.qasm'], ['graph', '_5.', False, True, False, './qasm_output\\\\graph_state_transpiled_5.qasm'], ['graph', '_3.', False, True, True, './qasm_output\\\\graph_state_transpiled_mapped_3.qasm'], ['graph', '_5.', False, True, True, './qasm_output\\\\graph_state_transpiled_mapped_5.qasm'], ['grover', '_3.', False, True, False, './qasm_output\\\\grover_transpiled_3.qasm'], ['grover', '_4.', False, True, False, './qasm_output\\\\grover_transpiled_4.qasm'], ['grover', '_5.', False, True, False, './qasm_output\\\\grover_transpiled_5.qasm'], ['grover', '_3.', False, True, True, './qasm_output\\\\grover_transpiled_mapped_3.qasm'], ['grover', '_5.', False, True, True, './qasm_output\\\\grover_transpiled_mapped_5.qasm'], ['QAOA', '_3.', False, True, False, './qasm_output\\\\QAOA_transpiled_3.qasm'], ['QAOA', '_4.', False, True, False, './qasm_output\\\\QAOA_transpiled_4.qasm'], ['QAOA', '_5.', False, True, False, './qasm_output\\\\QAOA_transpiled_5.qasm'], ['QAOA', '_3.', False, True, True, './qasm_output\\\\QAOA_transpiled_mapped_3.qasm'], ['QAOA', '_5.', False, True, True, './qasm_output\\\\QAOA_transpiled_mapped_5.qasm'], ['qft', '_5.', False, True, False, './qasm_output\\\\qft_entangled_transpiled_5.qasm'], ['qft', '_5.', False, True, True, './qasm_output\\\\qft_entangled_transpiled_mapped_5.qasm'], ['qft', '_3.', False, True, False, './qasm_output\\\\qft_transpiled_3.qasm'], ['qft', '_4.', False, True, False, './qasm_output\\\\qft_transpiled_4.qasm'], ['qft', '_5.', False, True, False, './qasm_output\\\\qft_transpiled_5.qasm'], ['qft', '_3.', False, True, True, './qasm_output\\\\qft_transpiled_mapped_3.qasm'], ['qft', '_5.', False, True, True, './qasm_output\\\\qft_transpiled_mapped_5.qasm'], ['qpe', '_3.', False, True, False, './qasm_output\\\\qpe_exact_transpiled_3.qasm'], ['qpe', '_4.', False, True, False, './qasm_output\\\\qpe_exact_transpiled_4.qasm'], ['qpe', '_5.', False, True, False, './qasm_output\\\\qpe_exact_transpiled_5.qasm'], ['qpe', '_3.', False, True, True, './qasm_output\\\\qpe_exact_transpiled_mapped_3.qasm'], ['qpe', '_5.', False, True, True, './qasm_output\\\\qpe_exact_transpiled_mapped_5.qasm'], ['qpe', '_3.', False, True, False, './qasm_output\\\\qpe_inexact_transpiled_3.qasm'], ['qpe', '_4.', False, True, False, './qasm_output\\\\qpe_inexact_transpiled_4.qasm'], ['qpe', '_5.', False, True, False, './qasm_output\\\\qpe_inexact_transpiled_5.qasm'], ['qpe', '_3.', False, True, True, './qasm_output\\\\qpe_inexact_transpiled_mapped_3.qasm'], ['qpe', '_5.', False, True, True, './qasm_output\\\\qpe_inexact_transpiled_mapped_5.qasm'], ['shor', '_15_', False, True, False, './qasm_output\\\\shor_15_2_transpiled_.qasm'], ['VQE', '_3.', False, True, False, './qasm_output\\\\VQE_transpiled_3.qasm'], ['VQE', '_4.', False, True, False, './qasm_output\\\\VQE_transpiled_4.qasm'], ['VQE', '_5.', False, True, False, './qasm_output\\\\VQE_transpiled_5.qasm'], ['VQE', '_3.', False, True, True, './qasm_output\\\\VQE_transpiled_mapped_3.qasm'], ['w', '_3.', False, True, False, './qasm_output\\\\w_state_transpiled_3.qasm'], ['w', '_4.', False, True, False, './qasm_output\\\\w_state_transpiled_4.qasm'], ['w', '_5.', False, True, False, './qasm_output\\\\w_state_transpiled_5.qasm'], ['w', '_3.', False, True, True, './qasm_output\\\\w_state_transpiled_mapped_3.qasm'], ['w', '_5.', False, True, True, './qasm_output\\\\w_state_transpiled_mapped_5.qasm']]\n"
     ]
    }
   ],
   "source": [
    "directory = qasm_path\n",
    "rows_list = []\n",
    "for filename in os.listdir(directory):\n",
    "    if filename.endswith(\".qasm\") or filename.endswith(\".qpy\"):\n",
    "        #print(filename)\n",
    "        parsed_data = parse_data(directory, filename)\n",
    "        rows_list.append(parsed_data)\n",
    "        continue\n",
    "    else:\n",
    "        #print(filename)\n",
    "        continue\n",
    "print(rows_list)"
   ]
  },
  {
   "cell_type": "code",
   "execution_count": 37,
   "id": "1aab81e4",
   "metadata": {},
   "outputs": [],
   "source": [
    "colnames = [\"Benchmark\", \"Num Qubits\", \"Algo_layer\", \"Transpiled_layer\", \"Mapped_layer\", \"Path\"]"
   ]
  },
  {
   "cell_type": "code",
   "execution_count": 38,
   "id": "a5db4019",
   "metadata": {},
   "outputs": [
    {
     "name": "stdout",
     "output_type": "stream",
     "text": [
      "    Benchmark Num Qubits  Algo_layer  Transpiled_layer  Mapped_layer  \\\n",
      "0   canonical        _3.       False              True         False   \n",
      "1   canonical        _4.       False              True         False   \n",
      "2   canonical        _5.       False              True         False   \n",
      "3   canonical        _3.       False              True          True   \n",
      "4          dj        _3.       False              True         False   \n",
      "5          dj        _4.       False              True         False   \n",
      "6          dj        _5.       False              True         False   \n",
      "7          dj        _3.       False              True          True   \n",
      "8         ghz        _3.       False              True         False   \n",
      "9         ghz        _4.       False              True         False   \n",
      "10        ghz        _5.       False              True         False   \n",
      "11        ghz        _3.       False              True          True   \n",
      "12        ghz        _5.       False              True          True   \n",
      "13      graph        _3.       False              True         False   \n",
      "14      graph        _4.       False              True         False   \n",
      "15      graph        _5.       False              True         False   \n",
      "16      graph        _3.       False              True          True   \n",
      "17      graph        _5.       False              True          True   \n",
      "18     grover        _3.       False              True         False   \n",
      "19     grover        _4.       False              True         False   \n",
      "20     grover        _5.       False              True         False   \n",
      "21     grover        _3.       False              True          True   \n",
      "22     grover        _5.       False              True          True   \n",
      "23       QAOA        _3.       False              True         False   \n",
      "24       QAOA        _4.       False              True         False   \n",
      "25       QAOA        _5.       False              True         False   \n",
      "26       QAOA        _3.       False              True          True   \n",
      "27       QAOA        _5.       False              True          True   \n",
      "28        qft        _5.       False              True         False   \n",
      "29        qft        _5.       False              True          True   \n",
      "30        qft        _3.       False              True         False   \n",
      "31        qft        _4.       False              True         False   \n",
      "32        qft        _5.       False              True         False   \n",
      "33        qft        _3.       False              True          True   \n",
      "34        qft        _5.       False              True          True   \n",
      "35        qpe        _3.       False              True         False   \n",
      "36        qpe        _4.       False              True         False   \n",
      "37        qpe        _5.       False              True         False   \n",
      "38        qpe        _3.       False              True          True   \n",
      "39        qpe        _5.       False              True          True   \n",
      "40        qpe        _3.       False              True         False   \n",
      "41        qpe        _4.       False              True         False   \n",
      "42        qpe        _5.       False              True         False   \n",
      "43        qpe        _3.       False              True          True   \n",
      "44        qpe        _5.       False              True          True   \n",
      "45       shor       _15_       False              True         False   \n",
      "46        VQE        _3.       False              True         False   \n",
      "47        VQE        _4.       False              True         False   \n",
      "48        VQE        _5.       False              True         False   \n",
      "49        VQE        _3.       False              True          True   \n",
      "50          w        _3.       False              True         False   \n",
      "51          w        _4.       False              True         False   \n",
      "52          w        _5.       False              True         False   \n",
      "53          w        _3.       False              True          True   \n",
      "54          w        _5.       False              True          True   \n",
      "\n",
      "                                                 Path  \n",
      "0        ./qasm_output\\canonical_ae_transpiled_3.qasm  \n",
      "1        ./qasm_output\\canonical_ae_transpiled_4.qasm  \n",
      "2        ./qasm_output\\canonical_ae_transpiled_5.qasm  \n",
      "3   ./qasm_output\\canonical_ae_transpiled_mapped_3...  \n",
      "4                  ./qasm_output\\dj_transpiled_3.qasm  \n",
      "5                  ./qasm_output\\dj_transpiled_4.qasm  \n",
      "6                  ./qasm_output\\dj_transpiled_5.qasm  \n",
      "7           ./qasm_output\\dj_transpiled_mapped_3.qasm  \n",
      "8                 ./qasm_output\\ghz_transpiled_3.qasm  \n",
      "9                 ./qasm_output\\ghz_transpiled_4.qasm  \n",
      "10                ./qasm_output\\ghz_transpiled_5.qasm  \n",
      "11         ./qasm_output\\ghz_transpiled_mapped_3.qasm  \n",
      "12         ./qasm_output\\ghz_transpiled_mapped_5.qasm  \n",
      "13        ./qasm_output\\graph_state_transpiled_3.qasm  \n",
      "14        ./qasm_output\\graph_state_transpiled_4.qasm  \n",
      "15        ./qasm_output\\graph_state_transpiled_5.qasm  \n",
      "16  ./qasm_output\\graph_state_transpiled_mapped_3....  \n",
      "17  ./qasm_output\\graph_state_transpiled_mapped_5....  \n",
      "18             ./qasm_output\\grover_transpiled_3.qasm  \n",
      "19             ./qasm_output\\grover_transpiled_4.qasm  \n",
      "20             ./qasm_output\\grover_transpiled_5.qasm  \n",
      "21      ./qasm_output\\grover_transpiled_mapped_3.qasm  \n",
      "22      ./qasm_output\\grover_transpiled_mapped_5.qasm  \n",
      "23               ./qasm_output\\QAOA_transpiled_3.qasm  \n",
      "24               ./qasm_output\\QAOA_transpiled_4.qasm  \n",
      "25               ./qasm_output\\QAOA_transpiled_5.qasm  \n",
      "26        ./qasm_output\\QAOA_transpiled_mapped_3.qasm  \n",
      "27        ./qasm_output\\QAOA_transpiled_mapped_5.qasm  \n",
      "28      ./qasm_output\\qft_entangled_transpiled_5.qasm  \n",
      "29  ./qasm_output\\qft_entangled_transpiled_mapped_...  \n",
      "30                ./qasm_output\\qft_transpiled_3.qasm  \n",
      "31                ./qasm_output\\qft_transpiled_4.qasm  \n",
      "32                ./qasm_output\\qft_transpiled_5.qasm  \n",
      "33         ./qasm_output\\qft_transpiled_mapped_3.qasm  \n",
      "34         ./qasm_output\\qft_transpiled_mapped_5.qasm  \n",
      "35          ./qasm_output\\qpe_exact_transpiled_3.qasm  \n",
      "36          ./qasm_output\\qpe_exact_transpiled_4.qasm  \n",
      "37          ./qasm_output\\qpe_exact_transpiled_5.qasm  \n",
      "38   ./qasm_output\\qpe_exact_transpiled_mapped_3.qasm  \n",
      "39   ./qasm_output\\qpe_exact_transpiled_mapped_5.qasm  \n",
      "40        ./qasm_output\\qpe_inexact_transpiled_3.qasm  \n",
      "41        ./qasm_output\\qpe_inexact_transpiled_4.qasm  \n",
      "42        ./qasm_output\\qpe_inexact_transpiled_5.qasm  \n",
      "43  ./qasm_output\\qpe_inexact_transpiled_mapped_3....  \n",
      "44  ./qasm_output\\qpe_inexact_transpiled_mapped_5....  \n",
      "45           ./qasm_output\\shor_15_2_transpiled_.qasm  \n",
      "46                ./qasm_output\\VQE_transpiled_3.qasm  \n",
      "47                ./qasm_output\\VQE_transpiled_4.qasm  \n",
      "48                ./qasm_output\\VQE_transpiled_5.qasm  \n",
      "49         ./qasm_output\\VQE_transpiled_mapped_3.qasm  \n",
      "50            ./qasm_output\\w_state_transpiled_3.qasm  \n",
      "51            ./qasm_output\\w_state_transpiled_4.qasm  \n",
      "52            ./qasm_output\\w_state_transpiled_5.qasm  \n",
      "53     ./qasm_output\\w_state_transpiled_mapped_3.qasm  \n",
      "54     ./qasm_output\\w_state_transpiled_mapped_5.qasm  \n"
     ]
    }
   ],
   "source": [
    "print(pd.DataFrame(rows_list, columns = colnames))"
   ]
  },
  {
   "cell_type": "code",
   "execution_count": null,
   "id": "4ca78a42",
   "metadata": {},
   "outputs": [],
   "source": []
  }
 ],
 "metadata": {
  "kernelspec": {
   "display_name": "Python 3 (ipykernel)",
   "language": "python",
   "name": "python3"
  },
  "language_info": {
   "codemirror_mode": {
    "name": "ipython",
    "version": 3
   },
   "file_extension": ".py",
   "mimetype": "text/x-python",
   "name": "python",
   "nbconvert_exporter": "python",
   "pygments_lexer": "ipython3",
   "version": "3.9.7"
  }
 },
 "nbformat": 4,
 "nbformat_minor": 5
}
