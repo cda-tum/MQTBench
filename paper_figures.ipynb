{
 "cells": [
  {
   "cell_type": "code",
   "execution_count": null,
   "id": "1f991f9d",
   "metadata": {},
   "outputs": [],
   "source": [
    "from qiskit import (\n",
    "    QuantumCircuit,\n",
    "    QuantumRegister,\n",
    "    ClassicalRegister,\n",
    "    AncillaRegister,\n",
    "    IBMQ,\n",
    "    Aer,\n",
    "    __qiskit_version__,\n",
    ")\n",
    "from qiskit.circuit.library import QFT, GraphState, GroverOperator\n",
    "from qiskit.qasm import pi\n",
    "import numpy as np\n",
    "\n",
    "from src.utils import *\n",
    "from qiskit_nature.drivers import Molecule\n",
    "\n",
    "from src.utils import get_examplary_max_cut_qp\n",
    "from qiskit.algorithms import VQE\n",
    "from qiskit.algorithms.optimizers import SLSQP\n",
    "from qiskit_optimization.algorithms import MinimumEigenOptimizer\n",
    "from qiskit.circuit.library import RealAmplitudes, TwoLocal\n",
    "from qiskit import Aer\n",
    "from qiskit.utils import QuantumInstance\n",
    "from qiskit.compiler import transpile"
   ]
  },
  {
   "cell_type": "code",
   "execution_count": null,
   "id": "43d34dd1",
   "metadata": {},
   "outputs": [],
   "source": [
    "qp = get_examplary_max_cut_qp(3)\n",
    "sim = QuantumInstance(\n",
    "    backend=Aer.get_backend(\"qasm_simulator\"), shots=1024, seed_simulator=123\n",
    ")"
   ]
  },
  {
   "cell_type": "code",
   "execution_count": null,
   "id": "93f6edc1",
   "metadata": {},
   "outputs": [],
   "source": [
    "ansatz = TwoLocal(3, \"ry\", \"cx\", \"full\", reps=1)\n",
    "# ansatz = RealAmplitudes(3, reps=2)\n",
    "ansatz.decompose().draw(output=\"mpl\", filename=\"flow_0\")"
   ]
  },
  {
   "cell_type": "code",
   "execution_count": null,
   "id": "c88aeb0b",
   "metadata": {},
   "outputs": [],
   "source": [
    "qc = ansatz.assign_parameters([np.pi, np.pi, np.pi, np.pi, np.pi, np.pi])\n",
    "qc.decompose().draw(output=\"mpl\", filename=\"flow_1\")"
   ]
  },
  {
   "cell_type": "code",
   "execution_count": null,
   "id": "f73bea70",
   "metadata": {},
   "outputs": [],
   "source": [
    "qc_2 = transpile(\n",
    "    qc, basis_gates=[\"id\", \"rz\", \"sx\", \"x\", \"cx\", \"reset\"], optimization_level=1\n",
    ")\n",
    "qc_2.draw(output=\"mpl\", filename=\"flow_2\")"
   ]
  },
  {
   "cell_type": "code",
   "execution_count": null,
   "id": "fae98212",
   "metadata": {},
   "outputs": [],
   "source": [
    "c_map = select_c_map(\"ibm\", True, 3)\n",
    "qc_3 = get_compiled_circuit(qc, opt_level=1, c_map=c_map)\n",
    "qc_3.draw(output=\"mpl\", filename=\"flow_3\")"
   ]
  },
  {
   "cell_type": "code",
   "execution_count": null,
   "id": "675826bf",
   "metadata": {},
   "outputs": [],
   "source": [
    "ibm_native_gates = FakeMontreal().configuration().basis_gates\n",
    "ibm_native_gates"
   ]
  },
  {
   "cell_type": "code",
   "execution_count": null,
   "id": "c70cce5c",
   "metadata": {},
   "outputs": [],
   "source": []
  },
  {
   "cell_type": "code",
   "execution_count": null,
   "id": "4ee50708",
   "metadata": {},
   "outputs": [],
   "source": [
    "vqe = VQE(ansatz, optimizer=SLSQP(), quantum_instance=sim)\n",
    "vqe_optimizer = MinimumEigenOptimizer(vqe)\n",
    "vqe_result = vqe_optimizer.solve(qp)\n",
    "qc = vqe.get_optimal_circuit()\n",
    "\n",
    "qc.name = \"VQE\""
   ]
  },
  {
   "cell_type": "code",
   "execution_count": null,
   "id": "dac83af1",
   "metadata": {
    "scrolled": true
   },
   "outputs": [],
   "source": [
    "vqe.get_optimal_vector()"
   ]
  }
 ],
 "metadata": {
  "kernelspec": {
   "display_name": "Python 3 (ipykernel)",
   "language": "python",
   "name": "python3"
  },
  "language_info": {
   "codemirror_mode": {
    "name": "ipython",
    "version": 3
   },
   "file_extension": ".py",
   "mimetype": "text/x-python",
   "name": "python",
   "nbconvert_exporter": "python",
   "pygments_lexer": "ipython3",
   "version": "3.9.7"
  }
 },
 "nbformat": 4,
 "nbformat_minor": 5
}