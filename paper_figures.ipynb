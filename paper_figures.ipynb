{
 "cells": [
  {
   "cell_type": "code",
   "execution_count": 1,
   "id": "1f991f9d",
   "metadata": {},
   "outputs": [],
   "source": [
    "from qiskit import (\n",
    "    QuantumCircuit,\n",
    "    QuantumRegister,\n",
    "    ClassicalRegister,\n",
    "    AncillaRegister,\n",
    "    IBMQ,\n",
    "    Aer,\n",
    "    __qiskit_version__,\n",
    ")\n",
    "from qiskit.circuit.library import QFT, GraphState, GroverOperator\n",
    "from qiskit.qasm import pi\n",
    "import numpy as np\n",
    "\n",
    "from mqt.bench.utils.utils import *\n",
    "from qiskit_nature.drivers import Molecule\n",
    "\n",
    "from qiskit.algorithms import VQE\n",
    "from qiskit.algorithms.optimizers import SLSQP\n",
    "from qiskit_optimization.algorithms import MinimumEigenOptimizer\n",
    "from qiskit.circuit.library import RealAmplitudes, TwoLocal\n",
    "from qiskit import Aer\n",
    "from qiskit.utils import QuantumInstance\n",
    "from qiskit.compiler import transpile"
   ]
  },
  {
   "cell_type": "code",
   "execution_count": 10,
   "id": "43d34dd1",
   "metadata": {},
   "outputs": [],
   "source": [
    "qp = get_examplary_max_cut_qp(3)\n",
    "sim = QuantumInstance(\n",
    "    backend=Aer.get_backend(\"qasm_simulator\"), shots=1024, seed_simulator=123\n",
    ")"
   ]
  },
  {
   "cell_type": "code",
   "execution_count": 11,
   "id": "93f6edc1",
   "metadata": {},
   "outputs": [
    {
     "data": {
      "image/png": "[encoded data removed]",
      "text/plain": [
       "<Figure size 387.597x204.68 with 1 Axes>"
      ]
     },
     "execution_count": 11,
     "metadata": {},
     "output_type": "execute_result"
    }
   ],
   "source": [
    "ansatz = TwoLocal(3, \"ry\", \"cx\", \"full\", reps=1)\n",
    "# ansatz = RealAmplitudes(3, reps=2)\n",
    "ansatz.decompose().draw(output=\"mpl\", filename=\"flow_0\")"
   ]
  },
  {
   "cell_type": "code",
   "execution_count": 12,
   "id": "c88aeb0b",
   "metadata": {},
   "outputs": [
    {
     "data": {
      "image/png": "[encoded data removed]",
      "text/plain": [
       "<Figure size 387.597x204.68 with 1 Axes>"
      ]
     },
     "execution_count": 12,
     "metadata": {},
     "output_type": "execute_result"
    }
   ],
   "source": [
    "qc = ansatz.assign_parameters([np.pi, np.pi, np.pi, np.pi, np.pi, np.pi])\n",
    "qc.decompose().draw(output=\"mpl\", filename=\"flow_1\")"
   ]
  },
  {
   "cell_type": "code",
   "execution_count": 13,
   "id": "f73bea70",
   "metadata": {},
   "outputs": [
    {
     "data": {
      "image/png": "[encoded data removed]",
      "text/plain": [
       "<Figure size 507.997x204.68 with 1 Axes>"
      ]
     },
     "execution_count": 13,
     "metadata": {},
     "output_type": "execute_result"
    }
   ],
   "source": [
    "qc_2 = transpile(\n",
    "    qc, basis_gates=[\"id\", \"rz\", \"sx\", \"x\", \"cx\", \"reset\"], optimization_level=1\n",
    ")\n",
    "qc_2.draw(output=\"mpl\", filename=\"flow_2\")"
   ]
  },
  {
   "cell_type": "code",
   "execution_count": 17,
   "id": "fae98212",
   "metadata": {},
   "outputs": [
    {
     "ename": "NameError",
     "evalue": "name 'get_compiled_circuit' is not defined",
     "output_type": "error",
     "traceback": [
      "\u001b[0;31m---------------------------------------------------------------------------\u001b[0m",
      "\u001b[0;31mNameError\u001b[0m                                 Traceback (most recent call last)",
      "\u001b[0;32m/var/folders/f4/n3_mnvbd6q50h0gtzy84vyn40000gn/T/ipykernel_22119/2116163222.py\u001b[0m in \u001b[0;36m<module>\u001b[0;34m\u001b[0m\n\u001b[1;32m      1\u001b[0m \u001b[0mc_map\u001b[0m \u001b[0;34m=\u001b[0m \u001b[0mselect_c_map\u001b[0m\u001b[0;34m(\u001b[0m\u001b[0;34m\"ibm\"\u001b[0m\u001b[0;34m,\u001b[0m \u001b[0;32mTrue\u001b[0m\u001b[0;34m,\u001b[0m \u001b[0;36m3\u001b[0m\u001b[0;34m)\u001b[0m\u001b[0;34m\u001b[0m\u001b[0;34m\u001b[0m\u001b[0m\n\u001b[0;32m----> 2\u001b[0;31m \u001b[0mqc_3\u001b[0m \u001b[0;34m=\u001b[0m \u001b[0mget_compiled_circuit\u001b[0m\u001b[0;34m(\u001b[0m\u001b[0mqc\u001b[0m\u001b[0;34m,\u001b[0m \u001b[0mopt_level\u001b[0m\u001b[0;34m=\u001b[0m\u001b[0;36m1\u001b[0m\u001b[0;34m,\u001b[0m \u001b[0mc_map\u001b[0m\u001b[0;34m=\u001b[0m\u001b[0mc_map\u001b[0m\u001b[0;34m)\u001b[0m\u001b[0;34m\u001b[0m\u001b[0;34m\u001b[0m\u001b[0m\n\u001b[0m\u001b[1;32m      3\u001b[0m \u001b[0mqc_3\u001b[0m\u001b[0;34m.\u001b[0m\u001b[0mdraw\u001b[0m\u001b[0;34m(\u001b[0m\u001b[0moutput\u001b[0m\u001b[0;34m=\u001b[0m\u001b[0;34m\"mpl\"\u001b[0m\u001b[0;34m,\u001b[0m \u001b[0mfilename\u001b[0m\u001b[0;34m=\u001b[0m\u001b[0;34m\"flow_3\"\u001b[0m\u001b[0;34m)\u001b[0m\u001b[0;34m\u001b[0m\u001b[0;34m\u001b[0m\u001b[0m\n",
      "\u001b[0;31mNameError\u001b[0m: name 'get_compiled_circuit' is not defined"
     ]
    }
   ],
   "source": [
    "c_map = select_c_map(\"ibm\", True, 3)\n",
    "qc_3 = get_compiled_circuit(qc, opt_level=1, c_map=c_map)\n",
    "qc_3.draw(output=\"mpl\", filename=\"flow_3\")"
   ]
  },
  {
   "cell_type": "code",
   "execution_count": 1,
   "id": "4ec09ad8",
   "metadata": {},
   "outputs": [],
   "source": [
    "from mqt.bench import get_one_benchmark"
   ]
  },
  {
   "cell_type": "code",
   "execution_count": 4,
   "id": "43eb95a0",
   "metadata": {},
   "outputs": [],
   "source": [
    "qc = get_one_benchmark(\"groundstate\", 0, benchmark_instance_name=\"small\")"
   ]
  },
  {
   "cell_type": "code",
   "execution_count": 2,
   "id": "5a0382e1",
   "metadata": {},
   "outputs": [],
   "source": [
    "qc = get_one_benchmark(\"tsp\", 0, 2)"
   ]
  },
  {
   "cell_type": "code",
   "execution_count": 5,
   "id": "fb67f155",
   "metadata": {},
   "outputs": [
    {
     "data": {
      "text/html": [
       "<pre style=\"word-wrap: normal;white-space: pre;background: #fff0;line-height: 1.1;font-family: &quot;Courier New&quot;,Courier,monospace\">         »\n",
       "    q_0: »\n",
       "         »\n",
       "    q_1: »\n",
       "         »\n",
       "    q_2: »\n",
       "         »\n",
       "    q_3: »\n",
       "         »\n",
       "    q_4: »\n",
       "         »\n",
       "    q_5: »\n",
       "         »\n",
       "    q_6: »\n",
       "         »\n",
       "    q_7: »\n",
       "         »\n",
       "    q_8: »\n",
       "         »\n",
       "    q_9: »\n",
       "         »\n",
       "   q_10: »\n",
       "         »\n",
       "   q_11: »\n",
       "         »\n",
       "meas: 12/»\n",
       "         »\n",
       "«         ┌────────────────────────────────────────────────────────────────────────────────────────────────────────────────────────────────────────────────────────────────────────────────────────────────────────────────────────────────────────────────────────────────────────────────────────────────────────────────────────────────────────────────────────────────────────────────────────────────────────────────────────────────────────────────────────────────────────────────────────────────────────────────────────────────────────────────────────────────────────────────────────────────────────────────────────────────────────────────────────────────┐»\n",
       "«    q_0: ┤0                                                                                                                                                                                                                                                                                                                                                                                                                                                                                                                                                                                                                                                               ├»\n",
       "«         │                                                                                                                                                                                                                                                                                                                                                                                                                                                                                                                                                                                                                                                                │»\n",
       "«    q_1: ┤1                                                                                                                                                                                                                                                                                                                                                                                                                                                                                                                                                                                                                                                               ├»\n",
       "«         │                                                                                                                                                                                                                                                                                                                                                                                                                                                                                                                                                                                                                                                                │»\n",
       "«    q_2: ┤2                                                                                                                                                                                                                                                                                                                                                                                                                                                                                                                                                                                                                                                               ├»\n",
       "«         │                                                                                                                                                                                                                                                                                                                                                                                                                                                                                                                                                                                                                                                                │»\n",
       "«    q_3: ┤3                                                                                                                                                                                                                                                                                                                                                                                                                                                                                                                                                                                                                                                               ├»\n",
       "«         │                                                                                                                                                                                                                                                                                                                                                                                                                                                                                                                                                                                                                                                                │»\n",
       "«    q_4: ┤4                                                                                                                                                                                                                                                                                                                                                                                                                                                                                                                                                                                                                                                               ├»\n",
       "«         │                                                                                                                                                                                                                                                                                                                                                                                                                                                                                                                                                                                                                                                                │»\n",
       "«    q_5: ┤5                                                                                                                                                                                                                                                                                                                                                                                                                                                                                                                                                                                                                                                               ├»\n",
       "«         │   TwoLocal(5.5934749700537,-3.57062543551904,-0.845796226550561,-3.88416723979726,-6.21175760036525,-2.54226974318191,1.55066278910466,1.35195458648073,5.39633717674662,-5.5451562731307,2.64251433787649,5.35895405401991,-1.21596393399761,-0.946957264335787,-0.74846175176014,-4.48171344289299,2.9977624577516,5.88172570449034,5.4073137839798,2.97028468011028,6.27918444618946,1.73516651280526,-0.842573319089349,-2.63414388656945,-5.5698413634574,-1.75716927555644,0.294691859401737,5.4345792982173,2.81068297138624,-0.644574556651802,4.6018822369524,5.53165307681955,-3.63099632340402,5.89776858845772,3.31463047328873,-2.06399504891808) │»\n",
       "«    q_6: ┤6                                                                                                                                                                                                                                                                                                                                                                                                                                                                                                                                                                                                                                                               ├»\n",
       "«         │                                                                                                                                                                                                                                                                                                                                                                                                                                                                                                                                                                                                                                                                │»\n",
       "«    q_7: ┤7                                                                                                                                                                                                                                                                                                                                                                                                                                                                                                                                                                                                                                                               ├»\n",
       "«         │                                                                                                                                                                                                                                                                                                                                                                                                                                                                                                                                                                                                                                                                │»\n",
       "«    q_8: ┤8                                                                                                                                                                                                                                                                                                                                                                                                                                                                                                                                                                                                                                                               ├»\n",
       "«         │                                                                                                                                                                                                                                                                                                                                                                                                                                                                                                                                                                                                                                                                │»\n",
       "«    q_9: ┤9                                                                                                                                                                                                                                                                                                                                                                                                                                                                                                                                                                                                                                                               ├»\n",
       "«         │                                                                                                                                                                                                                                                                                                                                                                                                                                                                                                                                                                                                                                                                │»\n",
       "«   q_10: ┤10                                                                                                                                                                                                                                                                                                                                                                                                                                                                                                                                                                                                                                                              ├»\n",
       "«         │                                                                                                                                                                                                                                                                                                                                                                                                                                                                                                                                                                                                                                                                │»\n",
       "«   q_11: ┤11                                                                                                                                                                                                                                                                                                                                                                                                                                                                                                                                                                                                                                                              ├»\n",
       "«         └────────────────────────────────────────────────────────────────────────────────────────────────────────────────────────────────────────────────────────────────────────────────────────────────────────────────────────────────────────────────────────────────────────────────────────────────────────────────────────────────────────────────────────────────────────────────────────────────────────────────────────────────────────────────────────────────────────────────────────────────────────────────────────────────────────────────────────────────────────────────────────────────────────────────────────────────────────────────────────────────┘»\n",
       "«meas: 12/══════════════════════════════════════════════════════════════════════════════════════════════════════════════════════════════════════════════════════════════════════════════════════════════════════════════════════════════════════════════════════════════════════════════════════════════════════════════════════════════════════════════════════════════════════════════════════════════════════════════════════════════════════════════════════════════════════════════════════════════════════════════════════════════════════════════════════════════════════════════════════════════════════════════════════════════════════════════════════════════════»\n",
       "«                                                                                                                                                                                                                                                                                                                                                                                                                                                                                                                                                                                                                                                                           »\n",
       "«          ░ ┌─┐                                 \n",
       "«    q_0: ─░─┤M├─────────────────────────────────\n",
       "«          ░ └╥┘┌─┐                              \n",
       "«    q_1: ─░──╫─┤M├──────────────────────────────\n",
       "«          ░  ║ └╥┘┌─┐                           \n",
       "«    q_2: ─░──╫──╫─┤M├───────────────────────────\n",
       "«          ░  ║  ║ └╥┘┌─┐                        \n",
       "«    q_3: ─░──╫──╫──╫─┤M├────────────────────────\n",
       "«          ░  ║  ║  ║ └╥┘┌─┐                     \n",
       "«    q_4: ─░──╫──╫──╫──╫─┤M├─────────────────────\n",
       "«          ░  ║  ║  ║  ║ └╥┘┌─┐                  \n",
       "«    q_5: ─░──╫──╫──╫──╫──╫─┤M├──────────────────\n",
       "«          ░  ║  ║  ║  ║  ║ └╥┘┌─┐               \n",
       "«    q_6: ─░──╫──╫──╫──╫──╫──╫─┤M├───────────────\n",
       "«          ░  ║  ║  ║  ║  ║  ║ └╥┘┌─┐            \n",
       "«    q_7: ─░──╫──╫──╫──╫──╫──╫──╫─┤M├────────────\n",
       "«          ░  ║  ║  ║  ║  ║  ║  ║ └╥┘┌─┐         \n",
       "«    q_8: ─░──╫──╫──╫──╫──╫──╫──╫──╫─┤M├─────────\n",
       "«          ░  ║  ║  ║  ║  ║  ║  ║  ║ └╥┘┌─┐      \n",
       "«    q_9: ─░──╫──╫──╫──╫──╫──╫──╫──╫──╫─┤M├──────\n",
       "«          ░  ║  ║  ║  ║  ║  ║  ║  ║  ║ └╥┘┌─┐   \n",
       "«   q_10: ─░──╫──╫──╫──╫──╫──╫──╫──╫──╫──╫─┤M├───\n",
       "«          ░  ║  ║  ║  ║  ║  ║  ║  ║  ║  ║ └╥┘┌─┐\n",
       "«   q_11: ─░──╫──╫──╫──╫──╫──╫──╫──╫──╫──╫──╫─┤M├\n",
       "«          ░  ║  ║  ║  ║  ║  ║  ║  ║  ║  ║  ║ └╥┘\n",
       "«meas: 12/════╩══╩══╩══╩══╩══╩══╩══╩══╩══╩══╩══╩═\n",
       "«             0  1  2  3  4  5  6  7  8  9  10 11</pre>"
      ],
      "text/plain": [
       "         »\n",
       "    q_0: »\n",
       "         »\n",
       "    q_1: »\n",
       "         »\n",
       "    q_2: »\n",
       "         »\n",
       "    q_3: »\n",
       "         »\n",
       "    q_4: »\n",
       "         »\n",
       "    q_5: »\n",
       "         »\n",
       "    q_6: »\n",
       "         »\n",
       "    q_7: »\n",
       "         »\n",
       "    q_8: »\n",
       "         »\n",
       "    q_9: »\n",
       "         »\n",
       "   q_10: »\n",
       "         »\n",
       "   q_11: »\n",
       "         »\n",
       "meas: 12/»\n",
       "         »\n",
       "«         ┌────────────────────────────────────────────────────────────────────────────────────────────────────────────────────────────────────────────────────────────────────────────────────────────────────────────────────────────────────────────────────────────────────────────────────────────────────────────────────────────────────────────────────────────────────────────────────────────────────────────────────────────────────────────────────────────────────────────────────────────────────────────────────────────────────────────────────────────────────────────────────────────────────────────────────────────────────────────────────────────────┐»\n",
       "«    q_0: ┤0                                                                                                                                                                                                                                                                                                                                                                                                                                                                                                                                                                                                                                                               ├»\n",
       "«         │                                                                                                                                                                                                                                                                                                                                                                                                                                                                                                                                                                                                                                                                │»\n",
       "«    q_1: ┤1                                                                                                                                                                                                                                                                                                                                                                                                                                                                                                                                                                                                                                                               ├»\n",
       "«         │                                                                                                                                                                                                                                                                                                                                                                                                                                                                                                                                                                                                                                                                │»\n",
       "«    q_2: ┤2                                                                                                                                                                                                                                                                                                                                                                                                                                                                                                                                                                                                                                                               ├»\n",
       "«         │                                                                                                                                                                                                                                                                                                                                                                                                                                                                                                                                                                                                                                                                │»\n",
       "«    q_3: ┤3                                                                                                                                                                                                                                                                                                                                                                                                                                                                                                                                                                                                                                                               ├»\n",
       "«         │                                                                                                                                                                                                                                                                                                                                                                                                                                                                                                                                                                                                                                                                │»\n",
       "«    q_4: ┤4                                                                                                                                                                                                                                                                                                                                                                                                                                                                                                                                                                                                                                                               ├»\n",
       "«         │                                                                                                                                                                                                                                                                                                                                                                                                                                                                                                                                                                                                                                                                │»\n",
       "«    q_5: ┤5                                                                                                                                                                                                                                                                                                                                                                                                                                                                                                                                                                                                                                                               ├»\n",
       "«         │   TwoLocal(5.5934749700537,-3.57062543551904,-0.845796226550561,-3.88416723979726,-6.21175760036525,-2.54226974318191,1.55066278910466,1.35195458648073,5.39633717674662,-5.5451562731307,2.64251433787649,5.35895405401991,-1.21596393399761,-0.946957264335787,-0.74846175176014,-4.48171344289299,2.9977624577516,5.88172570449034,5.4073137839798,2.97028468011028,6.27918444618946,1.73516651280526,-0.842573319089349,-2.63414388656945,-5.5698413634574,-1.75716927555644,0.294691859401737,5.4345792982173,2.81068297138624,-0.644574556651802,4.6018822369524,5.53165307681955,-3.63099632340402,5.89776858845772,3.31463047328873,-2.06399504891808) │»\n",
       "«    q_6: ┤6                                                                                                                                                                                                                                                                                                                                                                                                                                                                                                                                                                                                                                                               ├»\n",
       "«         │                                                                                                                                                                                                                                                                                                                                                                                                                                                                                                                                                                                                                                                                │»\n",
       "«    q_7: ┤7                                                                                                                                                                                                                                                                                                                                                                                                                                                                                                                                                                                                                                                               ├»\n",
       "«         │                                                                                                                                                                                                                                                                                                                                                                                                                                                                                                                                                                                                                                                                │»\n",
       "«    q_8: ┤8                                                                                                                                                                                                                                                                                                                                                                                                                                                                                                                                                                                                                                                               ├»\n",
       "«         │                                                                                                                                                                                                                                                                                                                                                                                                                                                                                                                                                                                                                                                                │»\n",
       "«    q_9: ┤9                                                                                                                                                                                                                                                                                                                                                                                                                                                                                                                                                                                                                                                               ├»\n",
       "«         │                                                                                                                                                                                                                                                                                                                                                                                                                                                                                                                                                                                                                                                                │»\n",
       "«   q_10: ┤10                                                                                                                                                                                                                                                                                                                                                                                                                                                                                                                                                                                                                                                              ├»\n",
       "«         │                                                                                                                                                                                                                                                                                                                                                                                                                                                                                                                                                                                                                                                                │»\n",
       "«   q_11: ┤11                                                                                                                                                                                                                                                                                                                                                                                                                                                                                                                                                                                                                                                              ├»\n",
       "«         └────────────────────────────────────────────────────────────────────────────────────────────────────────────────────────────────────────────────────────────────────────────────────────────────────────────────────────────────────────────────────────────────────────────────────────────────────────────────────────────────────────────────────────────────────────────────────────────────────────────────────────────────────────────────────────────────────────────────────────────────────────────────────────────────────────────────────────────────────────────────────────────────────────────────────────────────────────────────────────────────┘»\n",
       "«meas: 12/══════════════════════════════════════════════════════════════════════════════════════════════════════════════════════════════════════════════════════════════════════════════════════════════════════════════════════════════════════════════════════════════════════════════════════════════════════════════════════════════════════════════════════════════════════════════════════════════════════════════════════════════════════════════════════════════════════════════════════════════════════════════════════════════════════════════════════════════════════════════════════════════════════════════════════════════════════════════════════════════════»\n",
       "«                                                                                                                                                                                                                                                                                                                                                                                                                                                                                                                                                                                                                                                                           »\n",
       "«          ░ ┌─┐                                 \n",
       "«    q_0: ─░─┤M├─────────────────────────────────\n",
       "«          ░ └╥┘┌─┐                              \n",
       "«    q_1: ─░──╫─┤M├──────────────────────────────\n",
       "«          ░  ║ └╥┘┌─┐                           \n",
       "«    q_2: ─░──╫──╫─┤M├───────────────────────────\n",
       "«          ░  ║  ║ └╥┘┌─┐                        \n",
       "«    q_3: ─░──╫──╫──╫─┤M├────────────────────────\n",
       "«          ░  ║  ║  ║ └╥┘┌─┐                     \n",
       "«    q_4: ─░──╫──╫──╫──╫─┤M├─────────────────────\n",
       "«          ░  ║  ║  ║  ║ └╥┘┌─┐                  \n",
       "«    q_5: ─░──╫──╫──╫──╫──╫─┤M├──────────────────\n",
       "«          ░  ║  ║  ║  ║  ║ └╥┘┌─┐               \n",
       "«    q_6: ─░──╫──╫──╫──╫──╫──╫─┤M├───────────────\n",
       "«          ░  ║  ║  ║  ║  ║  ║ └╥┘┌─┐            \n",
       "«    q_7: ─░──╫──╫──╫──╫──╫──╫──╫─┤M├────────────\n",
       "«          ░  ║  ║  ║  ║  ║  ║  ║ └╥┘┌─┐         \n",
       "«    q_8: ─░──╫──╫──╫──╫──╫──╫──╫──╫─┤M├─────────\n",
       "«          ░  ║  ║  ║  ║  ║  ║  ║  ║ └╥┘┌─┐      \n",
       "«    q_9: ─░──╫──╫──╫──╫──╫──╫──╫──╫──╫─┤M├──────\n",
       "«          ░  ║  ║  ║  ║  ║  ║  ║  ║  ║ └╥┘┌─┐   \n",
       "«   q_10: ─░──╫──╫──╫──╫──╫──╫──╫──╫──╫──╫─┤M├───\n",
       "«          ░  ║  ║  ║  ║  ║  ║  ║  ║  ║  ║ └╥┘┌─┐\n",
       "«   q_11: ─░──╫──╫──╫──╫──╫──╫──╫──╫──╫──╫──╫─┤M├\n",
       "«          ░  ║  ║  ║  ║  ║  ║  ║  ║  ║  ║  ║ └╥┘\n",
       "«meas: 12/════╩══╩══╩══╩══╩══╩══╩══╩══╩══╩══╩══╩═\n",
       "«             0  1  2  3  4  5  6  7  8  9  10 11"
      ]
     },
     "execution_count": 5,
     "metadata": {},
     "output_type": "execute_result"
    }
   ],
   "source": [
    "qc.draw()"
   ]
  },
  {
   "cell_type": "code",
   "execution_count": null,
   "id": "e629dc98",
   "metadata": {},
   "outputs": [],
   "source": []
  }
 ],
 "metadata": {
  "kernelspec": {
   "display_name": "Python 3 (ipykernel)",
   "language": "python",
   "name": "python3"
  },
  "language_info": {
   "codemirror_mode": {
    "name": "ipython",
    "version": 3
   },
   "file_extension": ".py",
   "mimetype": "text/x-python",
   "name": "python",
   "nbconvert_exporter": "python",
   "pygments_lexer": "ipython3",
   "version": "3.9.7"
  }
 },
 "nbformat": 4,
 "nbformat_minor": 5
}
