{
 "cells": [
  {
   "cell_type": "markdown",
   "id": "8baef7d5",
   "metadata": {},
   "source": [
    "# Adding URL information to all already created files"
   ]
  },
  {
   "cell_type": "code",
   "execution_count": 17,
   "id": "12a6b364",
   "metadata": {},
   "outputs": [],
   "source": [
    "# read and store first line\n",
    "# delete first line\n",
    "# add first line + new text\n",
    "url_info = (\n",
    "    \"// For more information about MQT Bench, please visit https://www.cda.cit.tum.de/mqtbench/\"\n",
    "    + \"\\n\"\n",
    ")\n",
    "\n",
    "import os\n",
    "\n",
    "# assign directory\n",
    "directory = \"/Users/nils/Desktop/qasm_with_url\"\n",
    "\n",
    "# iterate over files in\n",
    "# that directory\n",
    "for filename in os.listdir(directory):\n",
    "    path = os.path.join(directory, filename)\n",
    "    # print(path)\n",
    "    # checking if it is a file\n",
    "    if \".qasm\" in path:\n",
    "        with open(path, \"r\") as f:\n",
    "            lines = f.readlines()\n",
    "        with open(path, \"w\") as f:\n",
    "            for line in lines:\n",
    "                if \"Benchmark was created by MQT Bench\" in line.strip(\"\\n\"):\n",
    "                    first_line = line.strip(\"\\n\")\n",
    "                else:\n",
    "                    f.write(line)\n",
    "        with open(path, \"r\") as original:\n",
    "            data = original.read()\n",
    "        with open(path, \"w\") as modified:\n",
    "            modified.write(first_line + \"\\n\" + url_info + data)"
   ]
  }
 ],
 "metadata": {
  "kernelspec": {
   "display_name": "Python 3 (ipykernel)",
   "language": "python",
   "name": "python3"
  },
  "language_info": {
   "codemirror_mode": {
    "name": "ipython",
    "version": 3
   },
   "file_extension": ".py",
   "mimetype": "text/x-python",
   "name": "python",
   "nbconvert_exporter": "python",
   "pygments_lexer": "ipython3",
   "version": "3.9.7"
  }
 },
 "nbformat": 4,
 "nbformat_minor": 5
}
